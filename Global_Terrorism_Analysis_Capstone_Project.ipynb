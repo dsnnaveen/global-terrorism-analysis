{
  "nbformat": 4,
  "nbformat_minor": 0,
  "metadata": {
    "kernelspec": {
      "display_name": "Python 3",
      "language": "python",
      "name": "python3"
    },
    "language_info": {
      "codemirror_mode": {
        "name": "ipython",
        "version": 3
      },
      "file_extension": ".py",
      "mimetype": "text/x-python",
      "name": "python",
      "nbconvert_exporter": "python",
      "pygments_lexer": "ipython3",
      "version": "3.6.6"
    },
    "colab": {
      "name": "Global Terrorism Analysis - Capstone Project.ipynb",
      "provenance": [],
      "include_colab_link": true
    }
  },
  "cells": [
    {
      "cell_type": "markdown",
      "metadata": {
        "id": "view-in-github",
        "colab_type": "text"
      },
      "source": [
        "<a href=\"https://colab.research.google.com/github/dsnnaveen/global-terrorism-analysis/blob/main/Global_Terrorism_Analysis_Capstone_Project.ipynb\" target=\"_parent\"><img src=\"https://colab.research.google.com/assets/colab-badge.svg\" alt=\"Open In Colab\"/></a>"
      ]
    },
    {
      "cell_type": "markdown",
      "metadata": {
        "id": "Y06xIdG26kRF"
      },
      "source": [
        "## <b> The Global Terrorism Database (GTD) is an open-source database including information on terrorist attacks around the world from 1970 through 2017. The GTD includes systematic data on domestic as well as international terrorist incidents that have occurred during this time period and now includes more than 180,000 attacks. The database is maintained by researchers at the National Consortium for the Study of Terrorism and Responses to Terrorism (START), headquartered at the University of Maryland.</b>\n",
        "\n",
        "# <b> Explore and analyze the data to discover key findings pertaining to terrorist activities. </b>"
      ]
    },
    {
      "cell_type": "code",
      "metadata": {
        "id": "dByMsuzT8Tnw"
      },
      "source": [
        "# This Python 3 environment comes with many helpful analytics libraries installed\n",
        "# For example, here's several helpful packages to load in \n",
        "import subprocess\n",
        "import numpy as np # linear algebra\n",
        "import pandas as pd # data processing, CSV file I/O (e.g. pd.read_csv)\n",
        "import seaborn as sns\n",
        "import matplotlib.pyplot as plt\n"
      ],
      "execution_count": 4,
      "outputs": []
    },
    {
      "cell_type": "code",
      "metadata": {
        "colab": {
          "base_uri": "https://localhost:8080/"
        },
        "id": "HBCiktyyOolW",
        "outputId": "4f953082-60d2-48d3-f669-e696a6820c18"
      },
      "source": [
        "terror_df = pd.read_csv('/content/drive/MyDrive/capstone project/eda/ Global Terrorism Data.csv',encoding='ISO-8859-1')\n",
        "terror_df.rename(columns={'iyear':'Year','imonth':'Month','iday':'Day','country_txt':'Country','provstate':'state','region_txt':'Region','attacktype1_txt':'AttackType','target1':'Target','nkill':'Killed','nwound':'Wounded','summary':'Summary','gname':'Group','targtype1_txt':'Target_type','weaptype1_txt':'Weapon_type','motive':'Motive'},inplace=True)"
      ],
      "execution_count": 5,
      "outputs": [
        {
          "output_type": "stream",
          "text": [
            "/usr/local/lib/python3.7/dist-packages/IPython/core/interactiveshell.py:2718: DtypeWarning: Columns (4,6,31,33,61,62,63,76,79,90,92,94,96,114,115,121) have mixed types.Specify dtype option on import or set low_memory=False.\n",
            "  interactivity=interactivity, compiler=compiler, result=result)\n"
          ],
          "name": "stderr"
        }
      ]
    },
    {
      "cell_type": "code",
      "metadata": {
        "colab": {
          "base_uri": "https://localhost:8080/"
        },
        "id": "qu4N8AtuOviQ",
        "outputId": "5b64cb13-d4ae-4053-8d56-b4c1d4a3f322"
      },
      "source": [
        "from google.colab import drive\n",
        "drive.mount('/content/drive')"
      ],
      "execution_count": 6,
      "outputs": [
        {
          "output_type": "stream",
          "text": [
            "Drive already mounted at /content/drive; to attempt to forcibly remount, call drive.mount(\"/content/drive\", force_remount=True).\n"
          ],
          "name": "stdout"
        }
      ]
    },
    {
      "cell_type": "code",
      "metadata": {
        "colab": {
          "base_uri": "https://localhost:8080/",
          "height": 356
        },
        "id": "t1Q7c4MuPsbF",
        "outputId": "c8082a2b-12bc-45ea-83a0-e016cb26c6f7"
      },
      "source": [
        "terror_df=terror_df[['Year','Month','Day','Country','state','Region','city','latitude','longitude','AttackType','Killed','Wounded','Target','Summary','Group','Target_type','Weapon_type','Motive']]\n",
        "terror_df.head()"
      ],
      "execution_count": 7,
      "outputs": [
        {
          "output_type": "execute_result",
          "data": {
            "text/html": [
              "<div>\n",
              "<style scoped>\n",
              "    .dataframe tbody tr th:only-of-type {\n",
              "        vertical-align: middle;\n",
              "    }\n",
              "\n",
              "    .dataframe tbody tr th {\n",
              "        vertical-align: top;\n",
              "    }\n",
              "\n",
              "    .dataframe thead th {\n",
              "        text-align: right;\n",
              "    }\n",
              "</style>\n",
              "<table border=\"1\" class=\"dataframe\">\n",
              "  <thead>\n",
              "    <tr style=\"text-align: right;\">\n",
              "      <th></th>\n",
              "      <th>Year</th>\n",
              "      <th>Month</th>\n",
              "      <th>Day</th>\n",
              "      <th>Country</th>\n",
              "      <th>state</th>\n",
              "      <th>Region</th>\n",
              "      <th>city</th>\n",
              "      <th>latitude</th>\n",
              "      <th>longitude</th>\n",
              "      <th>AttackType</th>\n",
              "      <th>Killed</th>\n",
              "      <th>Wounded</th>\n",
              "      <th>Target</th>\n",
              "      <th>Summary</th>\n",
              "      <th>Group</th>\n",
              "      <th>Target_type</th>\n",
              "      <th>Weapon_type</th>\n",
              "      <th>Motive</th>\n",
              "    </tr>\n",
              "  </thead>\n",
              "  <tbody>\n",
              "    <tr>\n",
              "      <th>0</th>\n",
              "      <td>1970</td>\n",
              "      <td>7</td>\n",
              "      <td>2</td>\n",
              "      <td>Dominican Republic</td>\n",
              "      <td>NaN</td>\n",
              "      <td>Central America &amp; Caribbean</td>\n",
              "      <td>Santo Domingo</td>\n",
              "      <td>18.456792</td>\n",
              "      <td>-69.951164</td>\n",
              "      <td>Assassination</td>\n",
              "      <td>1.0</td>\n",
              "      <td>0.0</td>\n",
              "      <td>Julio Guzman</td>\n",
              "      <td>NaN</td>\n",
              "      <td>MANO-D</td>\n",
              "      <td>Private Citizens &amp; Property</td>\n",
              "      <td>Unknown</td>\n",
              "      <td>NaN</td>\n",
              "    </tr>\n",
              "    <tr>\n",
              "      <th>1</th>\n",
              "      <td>1970</td>\n",
              "      <td>0</td>\n",
              "      <td>0</td>\n",
              "      <td>Mexico</td>\n",
              "      <td>Federal</td>\n",
              "      <td>North America</td>\n",
              "      <td>Mexico city</td>\n",
              "      <td>19.371887</td>\n",
              "      <td>-99.086624</td>\n",
              "      <td>Hostage Taking (Kidnapping)</td>\n",
              "      <td>0.0</td>\n",
              "      <td>0.0</td>\n",
              "      <td>Nadine Chaval, daughter</td>\n",
              "      <td>NaN</td>\n",
              "      <td>23rd of September Communist League</td>\n",
              "      <td>Government (Diplomatic)</td>\n",
              "      <td>Unknown</td>\n",
              "      <td>NaN</td>\n",
              "    </tr>\n",
              "    <tr>\n",
              "      <th>2</th>\n",
              "      <td>1970</td>\n",
              "      <td>1</td>\n",
              "      <td>0</td>\n",
              "      <td>Philippines</td>\n",
              "      <td>Tarlac</td>\n",
              "      <td>Southeast Asia</td>\n",
              "      <td>Unknown</td>\n",
              "      <td>15.478598</td>\n",
              "      <td>120.599741</td>\n",
              "      <td>Assassination</td>\n",
              "      <td>1.0</td>\n",
              "      <td>0.0</td>\n",
              "      <td>Employee</td>\n",
              "      <td>NaN</td>\n",
              "      <td>Unknown</td>\n",
              "      <td>Journalists &amp; Media</td>\n",
              "      <td>Unknown</td>\n",
              "      <td>NaN</td>\n",
              "    </tr>\n",
              "    <tr>\n",
              "      <th>3</th>\n",
              "      <td>1970</td>\n",
              "      <td>1</td>\n",
              "      <td>0</td>\n",
              "      <td>Greece</td>\n",
              "      <td>Attica</td>\n",
              "      <td>Western Europe</td>\n",
              "      <td>Athens</td>\n",
              "      <td>37.997490</td>\n",
              "      <td>23.762728</td>\n",
              "      <td>Bombing/Explosion</td>\n",
              "      <td>NaN</td>\n",
              "      <td>NaN</td>\n",
              "      <td>U.S. Embassy</td>\n",
              "      <td>NaN</td>\n",
              "      <td>Unknown</td>\n",
              "      <td>Government (Diplomatic)</td>\n",
              "      <td>Explosives</td>\n",
              "      <td>NaN</td>\n",
              "    </tr>\n",
              "    <tr>\n",
              "      <th>4</th>\n",
              "      <td>1970</td>\n",
              "      <td>1</td>\n",
              "      <td>0</td>\n",
              "      <td>Japan</td>\n",
              "      <td>Fukouka</td>\n",
              "      <td>East Asia</td>\n",
              "      <td>Fukouka</td>\n",
              "      <td>33.580412</td>\n",
              "      <td>130.396361</td>\n",
              "      <td>Facility/Infrastructure Attack</td>\n",
              "      <td>NaN</td>\n",
              "      <td>NaN</td>\n",
              "      <td>U.S. Consulate</td>\n",
              "      <td>NaN</td>\n",
              "      <td>Unknown</td>\n",
              "      <td>Government (Diplomatic)</td>\n",
              "      <td>Incendiary</td>\n",
              "      <td>NaN</td>\n",
              "    </tr>\n",
              "  </tbody>\n",
              "</table>\n",
              "</div>"
            ],
            "text/plain": [
              "   Year  Month  Day  ...                  Target_type Weapon_type Motive\n",
              "0  1970      7    2  ...  Private Citizens & Property     Unknown    NaN\n",
              "1  1970      0    0  ...      Government (Diplomatic)     Unknown    NaN\n",
              "2  1970      1    0  ...          Journalists & Media     Unknown    NaN\n",
              "3  1970      1    0  ...      Government (Diplomatic)  Explosives    NaN\n",
              "4  1970      1    0  ...      Government (Diplomatic)  Incendiary    NaN\n",
              "\n",
              "[5 rows x 18 columns]"
            ]
          },
          "metadata": {},
          "execution_count": 7
        }
      ]
    },
    {
      "cell_type": "code",
      "metadata": {
        "colab": {
          "base_uri": "https://localhost:8080/"
        },
        "id": "4QVAR71dQD6W",
        "outputId": "d8a9a2c5-988b-4438-87de-d5952defe988"
      },
      "source": [
        "terror_df.isnull().sum()"
      ],
      "execution_count": 8,
      "outputs": [
        {
          "output_type": "execute_result",
          "data": {
            "text/plain": [
              "Year                0\n",
              "Month               0\n",
              "Day                 0\n",
              "Country             0\n",
              "state             421\n",
              "Region              0\n",
              "city              434\n",
              "latitude         4556\n",
              "longitude        4557\n",
              "AttackType          0\n",
              "Killed          10313\n",
              "Wounded         16311\n",
              "Target            636\n",
              "Summary         66129\n",
              "Group               0\n",
              "Target_type         0\n",
              "Weapon_type         0\n",
              "Motive         131130\n",
              "dtype: int64"
            ]
          },
          "metadata": {},
          "execution_count": 8
        }
      ]
    },
    {
      "cell_type": "code",
      "metadata": {
        "colab": {
          "base_uri": "https://localhost:8080/"
        },
        "id": "P74o7LrfQHV9",
        "outputId": "4a93cea6-93f7-46a1-dee5-34a8cab684ab"
      },
      "source": [
        "terror_df.info()"
      ],
      "execution_count": 9,
      "outputs": [
        {
          "output_type": "stream",
          "text": [
            "<class 'pandas.core.frame.DataFrame'>\n",
            "RangeIndex: 181691 entries, 0 to 181690\n",
            "Data columns (total 18 columns):\n",
            " #   Column       Non-Null Count   Dtype  \n",
            "---  ------       --------------   -----  \n",
            " 0   Year         181691 non-null  int64  \n",
            " 1   Month        181691 non-null  int64  \n",
            " 2   Day          181691 non-null  int64  \n",
            " 3   Country      181691 non-null  object \n",
            " 4   state        181270 non-null  object \n",
            " 5   Region       181691 non-null  object \n",
            " 6   city         181257 non-null  object \n",
            " 7   latitude     177135 non-null  float64\n",
            " 8   longitude    177134 non-null  float64\n",
            " 9   AttackType   181691 non-null  object \n",
            " 10  Killed       171378 non-null  float64\n",
            " 11  Wounded      165380 non-null  float64\n",
            " 12  Target       181055 non-null  object \n",
            " 13  Summary      115562 non-null  object \n",
            " 14  Group        181691 non-null  object \n",
            " 15  Target_type  181691 non-null  object \n",
            " 16  Weapon_type  181691 non-null  object \n",
            " 17  Motive       50561 non-null   object \n",
            "dtypes: float64(4), int64(3), object(11)\n",
            "memory usage: 25.0+ MB\n"
          ],
          "name": "stdout"
        }
      ]
    },
    {
      "cell_type": "markdown",
      "metadata": {
        "id": "ZeaLoJwGQK4l"
      },
      "source": [
        "#Destrucive Features"
      ]
    },
    {
      "cell_type": "code",
      "metadata": {
        "colab": {
          "base_uri": "https://localhost:8080/"
        },
        "id": "mlNYP4nTQYdv",
        "outputId": "433afce2-bcbc-42a9-dc5b-f13e8b011f6c"
      },
      "source": [
        "print(\"Country with the most attacks:\",terror_df['Country'].value_counts().idxmax())\n",
        "print(\"City with the most attacks:\",terror_df['city'].value_counts().index[1]) #as first entry is 'unknown'\n",
        "print(\"Region with the most attacks:\",terror_df['Region'].value_counts().idxmax())\n",
        "print(\"Year with the most attacks:\",terror_df['Year'].value_counts().idxmax())\n",
        "print(\"Month with the most attacks:\",terror_df['Month'].value_counts().idxmax())\n",
        "print(\"Group with the most attacks:\",terror_df['Group'].value_counts().index[1])\n",
        "print(\"Most Attack Types:\",terror_df['AttackType'].value_counts().idxmax())"
      ],
      "execution_count": 10,
      "outputs": [
        {
          "output_type": "stream",
          "text": [
            "Country with the most attacks: Iraq\n",
            "City with the most attacks: Baghdad\n",
            "Region with the most attacks: Middle East & North Africa\n",
            "Year with the most attacks: 2014\n",
            "Month with the most attacks: 5\n",
            "Group with the most attacks: Taliban\n",
            "Most Attack Types: Bombing/Explosion\n"
          ],
          "name": "stdout"
        }
      ]
    },
    {
      "cell_type": "code",
      "metadata": {
        "colab": {
          "base_uri": "https://localhost:8080/",
          "height": 287
        },
        "id": "9Ra7IQMoQdmJ",
        "outputId": "c966395a-e5ab-4052-e58f-742c21c85303"
      },
      "source": [
        "pd.crosstab(terror_df.Year, terror_df.Region).plot(kind='area',figsize=(15,6))\n",
        "plt.title('Terrorist Activities by Region in each Year')\n",
        "plt.ylabel('Number of Attacks')\n",
        "plt.show()"
      ],
      "execution_count": 11,
      "outputs": [
        {
          "output_type": "display_data",
          "data": {
            "image/png": "[encoded data removed]",
            "text/plain": [
              "<Figure size 1080x432 with 1 Axes>"
            ]
          },
          "metadata": {
            "needs_background": "light"
          }
        }
      ]
    },
    {
      "cell_type": "code",
      "metadata": {
        "colab": {
          "base_uri": "https://localhost:8080/",
          "height": 352
        },
        "id": "-g6EYG6eQs9l",
        "outputId": "eeff6c2a-441a-4942-d44a-6de58bbbaa0e"
      },
      "source": [
        "plt.subplots(figsize=(15,6))\n",
        "sns.countplot('Year',data=terror_df,palette='RdYlGn_r',edgecolor=sns.color_palette(\"YlOrBr\", 10))\n",
        "plt.xticks(rotation=90)\n",
        "plt.title('Number Of Terrorist Activities Each Year')\n",
        "plt.show()"
      ],
      "execution_count": 12,
      "outputs": [
        {
          "output_type": "stream",
          "text": [
            "/usr/local/lib/python3.7/dist-packages/seaborn/_decorators.py:43: FutureWarning: Pass the following variable as a keyword arg: x. From version 0.12, the only valid positional argument will be `data`, and passing other arguments without an explicit keyword will result in an error or misinterpretation.\n",
            "  FutureWarning\n"
          ],
          "name": "stderr"
        },
        {
          "output_type": "display_data",
          "data": {
            "image/png": "[encoded data removed]",
            "text/plain": [
              "<Figure size 1080x432 with 1 Axes>"
            ]
          },
          "metadata": {
            "needs_background": "light"
          }
        }
      ]
    },
    {
      "cell_type": "markdown",
      "metadata": {
        "id": "do7X7zqFQ1rY"
      },
      "source": [
        "#History of the Worst Terror Attacks in Heatmap using ploty"
      ]
    },
    {
      "cell_type": "code",
      "metadata": {
        "id": "T2RFOwV4RHZv"
      },
      "source": [
        "terror_df['Wounded'] = terror_df['Wounded'].fillna(0).astype(int)\n",
        "terror_df['Killed'] = terror_df['Killed'].fillna(0).astype(int)\n",
        "terror_df['casualities'] = terror_df['Killed'] + terror_df['Wounded']"
      ],
      "execution_count": 13,
      "outputs": []
    },
    {
      "cell_type": "markdown",
      "metadata": {
        "id": "w8EDEblFRTno"
      },
      "source": [
        "## **Values are sorted by the top 40 worst terror attacks as to keep the heatmap simple and easy to visualize**\n"
      ]
    },
    {
      "cell_type": "code",
      "metadata": {
        "id": "9C9MvDBDRZb4"
      },
      "source": [
        "terror_df1 = terror_df.sort_values(by='casualities',ascending=False)[:40]"
      ],
      "execution_count": 14,
      "outputs": []
    },
    {
      "cell_type": "code",
      "metadata": {
        "id": "NxpQ3MPYRd4F"
      },
      "source": [
        "heat=terror_df1.pivot_table(index='Country',columns='Year',values='casualities')\n",
        "heat.fillna(0,inplace=True)"
      ],
      "execution_count": 15,
      "outputs": []
    },
    {
      "cell_type": "code",
      "metadata": {
        "colab": {
          "base_uri": "https://localhost:8080/",
          "height": 542
        },
        "id": "VaaSJceBRm3e",
        "outputId": "6e21cb74-9a47-48d5-b676-09070cf10c1f"
      },
      "source": [
        "import plotly.offline as py\n",
        "py.init_notebook_mode(connected=True)\n",
        "import plotly.graph_objs as go\n",
        "colorscale = [[0, '#edf8fb'], [.3, '#00BFFF'],  [.6, '#8856a7'],  [1, '#810f7c']]\n",
        "heatmap = go.Heatmap(z=heat.values, x=heat.columns, y=heat.index, colorscale=colorscale)\n",
        "data = [heatmap]\n",
        "layout = go.Layout(\n",
        "    title='Top 40 Worst Terror Attacks in History from 1982 to 2016',\n",
        "    xaxis = dict(ticks='', nticks=20),\n",
        "    yaxis = dict(ticks='')\n",
        ")\n",
        "fig = go.Figure(data=data, layout=layout)\n",
        "py.iplot(fig, filename='heatmap',show_link=False)"
      ],
      "execution_count": 16,
      "outputs": [
        {
          "output_type": "display_data",
          "data": {
            "text/html": [
              "        <script type=\"text/javascript\">\n",
              "        window.PlotlyConfig = {MathJaxConfig: 'local'};\n",
              "        if (window.MathJax) {MathJax.Hub.Config({SVG: {font: \"STIX-Web\"}});}\n",
              "        if (typeof require !== 'undefined') {\n",
              "        require.undef(\"plotly\");\n",
              "        requirejs.config({\n",
              "            paths: {\n",
              "                'plotly': ['https://cdn.plot.ly/plotly-latest.min']\n",
              "            }\n",
              "        });\n",
              "        require(['plotly'], function(Plotly) {\n",
              "            window._Plotly = Plotly;\n",
              "        });\n",
              "        }\n",
              "        </script>\n",
              "        "
            ]
          },
          "metadata": {}
        },
        {
          "output_type": "display_data",
          "data": {
            "text/html": [
              "<div>\n",
              "        \n",
              "        \n",
              "            <div id=\"e92db3f3-a520-4a40-ac0b-7136fe32a9e3\" class=\"plotly-graph-div\" style=\"height:525px; width:100%;\"></div>\n",
              "            <script type=\"text/javascript\">\n",
              "                require([\"plotly\"], function(Plotly) {\n",
              "                    window.PLOTLYENV=window.PLOTLYENV || {};\n",
              "                    \n",
              "                if (document.getElementById(\"e92db3f3-a520-4a40-ac0b-7136fe32a9e3\")) {\n",
              "                    Plotly.newPlot(\n",
              "                        'e92db3f3-a520-4a40-ac0b-7136fe32a9e3',\n",
              "                        [{\"colorscale\": [[0, \"#edf8fb\"], [0.3, \"#00BFFF\"], [0.6, \"#8856a7\"], [1, \"#810f7c\"]], \"type\": \"heatmap\", \"x\": [1982, 1984, 1992, 1994, 1995, 1996, 1997, 1998, 2001, 2004, 2005, 2006, 2007, 2008, 2009, 2014, 2015, 2016, 2017], \"y\": [\"Afghanistan\", \"Chad\", \"Ethiopia\", \"France\", \"India\", \"Iran\", \"Iraq\", \"Japan\", \"Kenya\", \"Nepal\", \"Russia\", \"Rwanda\", \"Somalia\", \"South Sudan\", \"Spain\", \"Sri Lanka\", \"Syria\", \"Tajikistan\", \"United States\"], \"z\": [[0.0, 0.0, 0.0, 0.0, 0.0, 0.0, 0.0, 0.0, 0.0, 0.0, 0.0, 0.0, 0.0, 0.0, 0.0, 0.0, 536.0, 0.0, 584.0], [0.0, 0.0, 0.0, 0.0, 0.0, 0.0, 0.0, 0.0, 0.0, 0.0, 0.0, 0.0, 0.0, 1161.0, 0.0, 0.0, 0.0, 0.0, 0.0], [0.0, 0.0, 500.0, 0.0, 0.0, 0.0, 0.0, 0.0, 0.0, 0.0, 0.0, 0.0, 0.0, 0.0, 0.0, 0.0, 0.0, 0.0, 0.0], [0.0, 0.0, 0.0, 0.0, 0.0, 0.0, 0.0, 0.0, 0.0, 0.0, 0.0, 0.0, 0.0, 0.0, 0.0, 0.0, 0.0, 520.0, 0.0], [0.0, 0.0, 0.0, 0.0, 0.0, 0.0, 0.0, 0.0, 0.0, 0.0, 0.0, 1005.0, 0.0, 0.0, 0.0, 0.0, 0.0, 0.0, 0.0], [760.0, 0.0, 0.0, 0.0, 0.0, 0.0, 0.0, 0.0, 0.0, 0.0, 0.0, 0.0, 0.0, 0.0, 0.0, 0.0, 0.0, 0.0, 0.0], [0.0, 0.0, 0.0, 0.0, 0.0, 0.0, 0.0, 0.0, 0.0, 0.0, 702.0, 0.0, 833.3333333333334, 0.0, 654.0, 1064.3333333333333, 0.0, 911.6666666666666, 0.0], [0.0, 0.0, 0.0, 507.0, 3092.0, 0.0, 0.0, 0.0, 0.0, 0.0, 0.0, 0.0, 0.0, 0.0, 0.0, 0.0, 0.0, 0.0, 0.0], [0.0, 0.0, 0.0, 0.0, 0.0, 0.0, 0.0, 4224.0, 0.0, 0.0, 0.0, 0.0, 0.0, 0.0, 0.0, 0.0, 0.0, 0.0, 0.0], [0.0, 0.0, 0.0, 0.0, 0.0, 0.0, 0.0, 0.0, 0.0, 734.0, 0.0, 0.0, 0.0, 0.0, 0.0, 0.0, 0.0, 0.0, 0.0], [0.0, 0.0, 0.0, 0.0, 0.0, 0.0, 0.0, 0.0, 0.0, 1071.0, 0.0, 0.0, 0.0, 0.0, 0.0, 0.0, 0.0, 0.0, 0.0], [0.0, 0.0, 0.0, 1180.0, 0.0, 0.0, 498.0, 0.0, 0.0, 0.0, 0.0, 0.0, 0.0, 0.0, 0.0, 0.0, 0.0, 0.0, 0.0], [0.0, 0.0, 0.0, 0.0, 0.0, 0.0, 0.0, 0.0, 0.0, 0.0, 0.0, 0.0, 0.0, 0.0, 0.0, 0.0, 0.0, 0.0, 904.0], [0.0, 0.0, 0.0, 0.0, 0.0, 0.0, 0.0, 0.0, 0.0, 0.0, 0.0, 0.0, 0.0, 0.0, 0.0, 687.0, 0.0, 0.0, 0.0], [0.0, 0.0, 0.0, 0.0, 0.0, 0.0, 0.0, 0.0, 0.0, 497.75, 0.0, 0.0, 0.0, 0.0, 0.0, 0.0, 0.0, 0.0, 0.0], [0.0, 0.0, 0.0, 0.0, 0.0, 1362.0, 0.0, 0.0, 0.0, 0.0, 0.0, 0.0, 0.0, 0.0, 0.0, 0.0, 0.0, 0.0, 0.0], [0.0, 0.0, 0.0, 0.0, 0.0, 0.0, 0.0, 0.0, 0.0, 0.0, 0.0, 0.0, 0.0, 0.0, 0.0, 517.0, 0.0, 0.0, 0.0], [0.0, 0.0, 800.0, 0.0, 0.0, 0.0, 0.0, 0.0, 0.0, 0.0, 0.0, 0.0, 0.0, 0.0, 0.0, 0.0, 0.0, 0.0, 0.0], [0.0, 751.0, 0.0, 0.0, 818.0, 0.0, 0.0, 0.0, 9574.0, 0.0, 0.0, 0.0, 0.0, 0.0, 0.0, 0.0, 0.0, 0.0, 910.0]]}],\n",
              "                        {\"template\": {\"data\": {\"bar\": [{\"error_x\": {\"color\": \"#2a3f5f\"}, \"error_y\": {\"color\": \"#2a3f5f\"}, \"marker\": {\"line\": {\"color\": \"#E5ECF6\", \"width\": 0.5}}, \"type\": \"bar\"}], \"barpolar\": [{\"marker\": {\"line\": {\"color\": \"#E5ECF6\", \"width\": 0.5}}, \"type\": \"barpolar\"}], \"carpet\": [{\"aaxis\": {\"endlinecolor\": \"#2a3f5f\", \"gridcolor\": \"white\", \"linecolor\": \"white\", \"minorgridcolor\": \"white\", \"startlinecolor\": \"#2a3f5f\"}, \"baxis\": {\"endlinecolor\": \"#2a3f5f\", \"gridcolor\": \"white\", \"linecolor\": \"white\", \"minorgridcolor\": \"white\", \"startlinecolor\": \"#2a3f5f\"}, \"type\": \"carpet\"}], \"choropleth\": [{\"colorbar\": {\"outlinewidth\": 0, \"ticks\": \"\"}, \"type\": \"choropleth\"}], \"contour\": [{\"colorbar\": {\"outlinewidth\": 0, \"ticks\": \"\"}, \"colorscale\": [[0.0, \"#0d0887\"], [0.1111111111111111, \"#46039f\"], [0.2222222222222222, \"#7201a8\"], [0.3333333333333333, \"#9c179e\"], [0.4444444444444444, \"#bd3786\"], [0.5555555555555556, \"#d8576b\"], [0.6666666666666666, \"#ed7953\"], [0.7777777777777778, \"#fb9f3a\"], [0.8888888888888888, \"#fdca26\"], [1.0, \"#f0f921\"]], \"type\": \"contour\"}], \"contourcarpet\": [{\"colorbar\": {\"outlinewidth\": 0, \"ticks\": \"\"}, \"type\": \"contourcarpet\"}], \"heatmap\": [{\"colorbar\": {\"outlinewidth\": 0, \"ticks\": \"\"}, \"colorscale\": [[0.0, \"#0d0887\"], [0.1111111111111111, \"#46039f\"], [0.2222222222222222, \"#7201a8\"], [0.3333333333333333, \"#9c179e\"], [0.4444444444444444, \"#bd3786\"], [0.5555555555555556, \"#d8576b\"], [0.6666666666666666, \"#ed7953\"], [0.7777777777777778, \"#fb9f3a\"], [0.8888888888888888, \"#fdca26\"], [1.0, \"#f0f921\"]], \"type\": \"heatmap\"}], \"heatmapgl\": [{\"colorbar\": {\"outlinewidth\": 0, \"ticks\": \"\"}, \"colorscale\": [[0.0, \"#0d0887\"], [0.1111111111111111, \"#46039f\"], [0.2222222222222222, \"#7201a8\"], [0.3333333333333333, \"#9c179e\"], [0.4444444444444444, \"#bd3786\"], [0.5555555555555556, \"#d8576b\"], [0.6666666666666666, \"#ed7953\"], [0.7777777777777778, \"#fb9f3a\"], [0.8888888888888888, \"#fdca26\"], [1.0, \"#f0f921\"]], \"type\": \"heatmapgl\"}], \"histogram\": [{\"marker\": {\"colorbar\": {\"outlinewidth\": 0, \"ticks\": \"\"}}, \"type\": \"histogram\"}], \"histogram2d\": [{\"colorbar\": {\"outlinewidth\": 0, \"ticks\": \"\"}, \"colorscale\": [[0.0, \"#0d0887\"], [0.1111111111111111, \"#46039f\"], [0.2222222222222222, \"#7201a8\"], [0.3333333333333333, \"#9c179e\"], [0.4444444444444444, \"#bd3786\"], [0.5555555555555556, \"#d8576b\"], [0.6666666666666666, \"#ed7953\"], [0.7777777777777778, \"#fb9f3a\"], [0.8888888888888888, \"#fdca26\"], [1.0, \"#f0f921\"]], \"type\": \"histogram2d\"}], \"histogram2dcontour\": [{\"colorbar\": {\"outlinewidth\": 0, \"ticks\": \"\"}, \"colorscale\": [[0.0, \"#0d0887\"], [0.1111111111111111, \"#46039f\"], [0.2222222222222222, \"#7201a8\"], [0.3333333333333333, \"#9c179e\"], [0.4444444444444444, \"#bd3786\"], [0.5555555555555556, \"#d8576b\"], [0.6666666666666666, \"#ed7953\"], [0.7777777777777778, \"#fb9f3a\"], [0.8888888888888888, \"#fdca26\"], [1.0, \"#f0f921\"]], \"type\": \"histogram2dcontour\"}], \"mesh3d\": [{\"colorbar\": {\"outlinewidth\": 0, \"ticks\": \"\"}, \"type\": \"mesh3d\"}], \"parcoords\": [{\"line\": {\"colorbar\": {\"outlinewidth\": 0, \"ticks\": \"\"}}, \"type\": \"parcoords\"}], \"pie\": [{\"automargin\": true, \"type\": \"pie\"}], \"scatter\": [{\"marker\": {\"colorbar\": {\"outlinewidth\": 0, \"ticks\": \"\"}}, \"type\": \"scatter\"}], \"scatter3d\": [{\"line\": {\"colorbar\": {\"outlinewidth\": 0, \"ticks\": \"\"}}, \"marker\": {\"colorbar\": {\"outlinewidth\": 0, \"ticks\": \"\"}}, \"type\": \"scatter3d\"}], \"scattercarpet\": [{\"marker\": {\"colorbar\": {\"outlinewidth\": 0, \"ticks\": \"\"}}, \"type\": \"scattercarpet\"}], \"scattergeo\": [{\"marker\": {\"colorbar\": {\"outlinewidth\": 0, \"ticks\": \"\"}}, \"type\": \"scattergeo\"}], \"scattergl\": [{\"marker\": {\"colorbar\": {\"outlinewidth\": 0, \"ticks\": \"\"}}, \"type\": \"scattergl\"}], \"scattermapbox\": [{\"marker\": {\"colorbar\": {\"outlinewidth\": 0, \"ticks\": \"\"}}, \"type\": \"scattermapbox\"}], \"scatterpolar\": [{\"marker\": {\"colorbar\": {\"outlinewidth\": 0, \"ticks\": \"\"}}, \"type\": \"scatterpolar\"}], \"scatterpolargl\": [{\"marker\": {\"colorbar\": {\"outlinewidth\": 0, \"ticks\": \"\"}}, \"type\": \"scatterpolargl\"}], \"scatterternary\": [{\"marker\": {\"colorbar\": {\"outlinewidth\": 0, \"ticks\": \"\"}}, \"type\": \"scatterternary\"}], \"surface\": [{\"colorbar\": {\"outlinewidth\": 0, \"ticks\": \"\"}, \"colorscale\": [[0.0, \"#0d0887\"], [0.1111111111111111, \"#46039f\"], [0.2222222222222222, \"#7201a8\"], [0.3333333333333333, \"#9c179e\"], [0.4444444444444444, \"#bd3786\"], [0.5555555555555556, \"#d8576b\"], [0.6666666666666666, \"#ed7953\"], [0.7777777777777778, \"#fb9f3a\"], [0.8888888888888888, \"#fdca26\"], [1.0, \"#f0f921\"]], \"type\": \"surface\"}], \"table\": [{\"cells\": {\"fill\": {\"color\": \"#EBF0F8\"}, \"line\": {\"color\": \"white\"}}, \"header\": {\"fill\": {\"color\": \"#C8D4E3\"}, \"line\": {\"color\": \"white\"}}, \"type\": \"table\"}]}, \"layout\": {\"annotationdefaults\": {\"arrowcolor\": \"#2a3f5f\", \"arrowhead\": 0, \"arrowwidth\": 1}, \"coloraxis\": {\"colorbar\": {\"outlinewidth\": 0, \"ticks\": \"\"}}, \"colorscale\": {\"diverging\": [[0, \"#8e0152\"], [0.1, \"#c51b7d\"], [0.2, \"#de77ae\"], [0.3, \"#f1b6da\"], [0.4, \"#fde0ef\"], [0.5, \"#f7f7f7\"], [0.6, \"#e6f5d0\"], [0.7, \"#b8e186\"], [0.8, \"#7fbc41\"], [0.9, \"#4d9221\"], [1, \"#276419\"]], \"sequential\": [[0.0, \"#0d0887\"], [0.1111111111111111, \"#46039f\"], [0.2222222222222222, \"#7201a8\"], [0.3333333333333333, \"#9c179e\"], [0.4444444444444444, \"#bd3786\"], [0.5555555555555556, \"#d8576b\"], [0.6666666666666666, \"#ed7953\"], [0.7777777777777778, \"#fb9f3a\"], [0.8888888888888888, \"#fdca26\"], [1.0, \"#f0f921\"]], \"sequentialminus\": [[0.0, \"#0d0887\"], [0.1111111111111111, \"#46039f\"], [0.2222222222222222, \"#7201a8\"], [0.3333333333333333, \"#9c179e\"], [0.4444444444444444, \"#bd3786\"], [0.5555555555555556, \"#d8576b\"], [0.6666666666666666, \"#ed7953\"], [0.7777777777777778, \"#fb9f3a\"], [0.8888888888888888, \"#fdca26\"], [1.0, \"#f0f921\"]]}, \"colorway\": [\"#636efa\", \"#EF553B\", \"#00cc96\", \"#ab63fa\", \"#FFA15A\", \"#19d3f3\", \"#FF6692\", \"#B6E880\", \"#FF97FF\", \"#FECB52\"], \"font\": {\"color\": \"#2a3f5f\"}, \"geo\": {\"bgcolor\": \"white\", \"lakecolor\": \"white\", \"landcolor\": \"#E5ECF6\", \"showlakes\": true, \"showland\": true, \"subunitcolor\": \"white\"}, \"hoverlabel\": {\"align\": \"left\"}, \"hovermode\": \"closest\", \"mapbox\": {\"style\": \"light\"}, \"paper_bgcolor\": \"white\", \"plot_bgcolor\": \"#E5ECF6\", \"polar\": {\"angularaxis\": {\"gridcolor\": \"white\", \"linecolor\": \"white\", \"ticks\": \"\"}, \"bgcolor\": \"#E5ECF6\", \"radialaxis\": {\"gridcolor\": \"white\", \"linecolor\": \"white\", \"ticks\": \"\"}}, \"scene\": {\"xaxis\": {\"backgroundcolor\": \"#E5ECF6\", \"gridcolor\": \"white\", \"gridwidth\": 2, \"linecolor\": \"white\", \"showbackground\": true, \"ticks\": \"\", \"zerolinecolor\": \"white\"}, \"yaxis\": {\"backgroundcolor\": \"#E5ECF6\", \"gridcolor\": \"white\", \"gridwidth\": 2, \"linecolor\": \"white\", \"showbackground\": true, \"ticks\": \"\", \"zerolinecolor\": \"white\"}, \"zaxis\": {\"backgroundcolor\": \"#E5ECF6\", \"gridcolor\": \"white\", \"gridwidth\": 2, \"linecolor\": \"white\", \"showbackground\": true, \"ticks\": \"\", \"zerolinecolor\": \"white\"}}, \"shapedefaults\": {\"line\": {\"color\": \"#2a3f5f\"}}, \"ternary\": {\"aaxis\": {\"gridcolor\": \"white\", \"linecolor\": \"white\", \"ticks\": \"\"}, \"baxis\": {\"gridcolor\": \"white\", \"linecolor\": \"white\", \"ticks\": \"\"}, \"bgcolor\": \"#E5ECF6\", \"caxis\": {\"gridcolor\": \"white\", \"linecolor\": \"white\", \"ticks\": \"\"}}, \"title\": {\"x\": 0.05}, \"xaxis\": {\"automargin\": true, \"gridcolor\": \"white\", \"linecolor\": \"white\", \"ticks\": \"\", \"title\": {\"standoff\": 15}, \"zerolinecolor\": \"white\", \"zerolinewidth\": 2}, \"yaxis\": {\"automargin\": true, \"gridcolor\": \"white\", \"linecolor\": \"white\", \"ticks\": \"\", \"title\": {\"standoff\": 15}, \"zerolinecolor\": \"white\", \"zerolinewidth\": 2}}}, \"title\": {\"text\": \"Top 40 Worst Terror Attacks in History from 1982 to 2016\"}, \"xaxis\": {\"nticks\": 20, \"ticks\": \"\"}, \"yaxis\": {\"ticks\": \"\"}},\n",
              "                        {\"responsive\": true}\n",
              "                    ).then(function(){\n",
              "                            \n",
              "var gd = document.getElementById('e92db3f3-a520-4a40-ac0b-7136fe32a9e3');\n",
              "var x = new MutationObserver(function (mutations, observer) {{\n",
              "        var display = window.getComputedStyle(gd).display;\n",
              "        if (!display || display === 'none') {{\n",
              "            console.log([gd, 'removed!']);\n",
              "            Plotly.purge(gd);\n",
              "            observer.disconnect();\n",
              "        }}\n",
              "}});\n",
              "\n",
              "// Listen for the removal of the full notebook cells\n",
              "var notebookContainer = gd.closest('#notebook-container');\n",
              "if (notebookContainer) {{\n",
              "    x.observe(notebookContainer, {childList: true});\n",
              "}}\n",
              "\n",
              "// Listen for the clearing of the current output cell\n",
              "var outputEl = gd.closest('.output');\n",
              "if (outputEl) {{\n",
              "    x.observe(outputEl, {childList: true});\n",
              "}}\n",
              "\n",
              "                        })\n",
              "                };\n",
              "                });\n",
              "            </script>\n",
              "        </div>"
            ],
            "application/vnd.plotly.v1+json": {
              "data": [
                {
                  "y": [
                    "Afghanistan",
                    "Chad",
                    "Ethiopia",
                    "France",
                    "India",
                    "Iran",
                    "Iraq",
                    "Japan",
                    "Kenya",
                    "Nepal",
                    "Russia",
                    "Rwanda",
                    "Somalia",
                    "South Sudan",
                    "Spain",
                    "Sri Lanka",
                    "Syria",
                    "Tajikistan",
                    "United States"
                  ],
                  "x": [
                    1982,
                    1984,
                    1992,
                    1994,
                    1995,
                    1996,
                    1997,
                    1998,
                    2001,
                    2004,
                    2005,
                    2006,
                    2007,
                    2008,
                    2009,
                    2014,
                    2015,
                    2016,
                    2017
                  ],
                  "z": [
                    [
                      0,
                      0,
                      0,
                      0,
                      0,
                      0,
                      0,
                      0,
                      0,
                      0,
                      0,
                      0,
                      0,
                      0,
                      0,
                      0,
                      536,
                      0,
                      584
                    ],
                    [
                      0,
                      0,
                      0,
                      0,
                      0,
                      0,
                      0,
                      0,
                      0,
                      0,
                      0,
                      0,
                      0,
                      1161,
                      0,
                      0,
                      0,
                      0,
                      0
                    ],
                    [
                      0,
                      0,
                      500,
                      0,
                      0,
                      0,
                      0,
                      0,
                      0,
                      0,
                      0,
                      0,
                      0,
                      0,
                      0,
                      0,
                      0,
                      0,
                      0
                    ],
                    [
                      0,
                      0,
                      0,
                      0,
                      0,
                      0,
                      0,
                      0,
                      0,
                      0,
                      0,
                      0,
                      0,
                      0,
                      0,
                      0,
                      0,
                      520,
                      0
                    ],
                    [
                      0,
                      0,
                      0,
                      0,
                      0,
                      0,
                      0,
                      0,
                      0,
                      0,
                      0,
                      1005,
                      0,
                      0,
                      0,
                      0,
                      0,
                      0,
                      0
                    ],
                    [
                      760,
                      0,
                      0,
                      0,
                      0,
                      0,
                      0,
                      0,
                      0,
                      0,
                      0,
                      0,
                      0,
                      0,
                      0,
                      0,
                      0,
                      0,
                      0
                    ],
                    [
                      0,
                      0,
                      0,
                      0,
                      0,
                      0,
                      0,
                      0,
                      0,
                      0,
                      702,
                      0,
                      833.3333333333334,
                      0,
                      654,
                      1064.3333333333333,
                      0,
                      911.6666666666666,
                      0
                    ],
                    [
                      0,
                      0,
                      0,
                      507,
                      3092,
                      0,
                      0,
                      0,
                      0,
                      0,
                      0,
                      0,
                      0,
                      0,
                      0,
                      0,
                      0,
                      0,
                      0
                    ],
                    [
                      0,
                      0,
                      0,
                      0,
                      0,
                      0,
                      0,
                      4224,
                      0,
                      0,
                      0,
                      0,
                      0,
                      0,
                      0,
                      0,
                      0,
                      0,
                      0
                    ],
                    [
                      0,
                      0,
                      0,
                      0,
                      0,
                      0,
                      0,
                      0,
                      0,
                      734,
                      0,
                      0,
                      0,
                      0,
                      0,
                      0,
                      0,
                      0,
                      0
                    ],
                    [
                      0,
                      0,
                      0,
                      0,
                      0,
                      0,
                      0,
                      0,
                      0,
                      1071,
                      0,
                      0,
                      0,
                      0,
                      0,
                      0,
                      0,
                      0,
                      0
                    ],
                    [
                      0,
                      0,
                      0,
                      1180,
                      0,
                      0,
                      498,
                      0,
                      0,
                      0,
                      0,
                      0,
                      0,
                      0,
                      0,
                      0,
                      0,
                      0,
                      0
                    ],
                    [
                      0,
                      0,
                      0,
                      0,
                      0,
                      0,
                      0,
                      0,
                      0,
                      0,
                      0,
                      0,
                      0,
                      0,
                      0,
                      0,
                      0,
                      0,
                      904
                    ],
                    [
                      0,
                      0,
                      0,
                      0,
                      0,
                      0,
                      0,
                      0,
                      0,
                      0,
                      0,
                      0,
                      0,
                      0,
                      0,
                      687,
                      0,
                      0,
                      0
                    ],
                    [
                      0,
                      0,
                      0,
                      0,
                      0,
                      0,
                      0,
                      0,
                      0,
                      497.75,
                      0,
                      0,
                      0,
                      0,
                      0,
                      0,
                      0,
                      0,
                      0
                    ],
                    [
                      0,
                      0,
                      0,
                      0,
                      0,
                      1362,
                      0,
                      0,
                      0,
                      0,
                      0,
                      0,
                      0,
                      0,
                      0,
                      0,
                      0,
                      0,
                      0
                    ],
                    [
                      0,
                      0,
                      0,
                      0,
                      0,
                      0,
                      0,
                      0,
                      0,
                      0,
                      0,
                      0,
                      0,
                      0,
                      0,
                      517,
                      0,
                      0,
                      0
                    ],
                    [
                      0,
                      0,
                      800,
                      0,
                      0,
                      0,
                      0,
                      0,
                      0,
                      0,
                      0,
                      0,
                      0,
                      0,
                      0,
                      0,
                      0,
                      0,
                      0
                    ],
                    [
                      0,
                      751,
                      0,
                      0,
                      818,
                      0,
                      0,
                      0,
                      9574,
                      0,
                      0,
                      0,
                      0,
                      0,
                      0,
                      0,
                      0,
                      0,
                      910
                    ]
                  ],
                  "type": "heatmap",
                  "colorscale": [
                    [
                      0,
                      "#edf8fb"
                    ],
                    [
                      0.3,
                      "#00BFFF"
                    ],
                    [
                      0.6,
                      "#8856a7"
                    ],
                    [
                      1,
                      "#810f7c"
                    ]
                  ]
                }
              ],
              "config": {
                "plotlyServerURL": "https://plot.ly",
                "linkText": "Export to plot.ly",
                "showLink": false
              },
              "layout": {
                "yaxis": {
                  "ticks": ""
                },
                "xaxis": {
                  "nticks": 20,
                  "ticks": ""
                },
                "template": {
                  "layout": {
                    "shapedefaults": {
                      "line": {
                        "color": "#2a3f5f"
                      }
                    },
                    "polar": {
                      "radialaxis": {
                        "ticks": "",
                        "gridcolor": "white",
                        "linecolor": "white"
                      },
                      "bgcolor": "#E5ECF6",
                      "angularaxis": {
                        "ticks": "",
                        "gridcolor": "white",
                        "linecolor": "white"
                      }
                    },
                    "colorway": [
                      "#636efa",
                      "#EF553B",
                      "#00cc96",
                      "#ab63fa",
                      "#FFA15A",
                      "#19d3f3",
                      "#FF6692",
                      "#B6E880",
                      "#FF97FF",
                      "#FECB52"
                    ],
                    "xaxis": {
                      "automargin": true,
                      "title": {
                        "standoff": 15
                      },
                      "zerolinewidth": 2,
                      "ticks": "",
                      "zerolinecolor": "white",
                      "gridcolor": "white",
                      "linecolor": "white"
                    },
                    "colorscale": {
                      "diverging": [
                        [
                          0,
                          "#8e0152"
                        ],
                        [
                          0.1,
                          "#c51b7d"
                        ],
                        [
                          0.2,
                          "#de77ae"
                        ],
                        [
                          0.3,
                          "#f1b6da"
                        ],
                        [
                          0.4,
                          "#fde0ef"
                        ],
                        [
                          0.5,
                          "#f7f7f7"
                        ],
                        [
                          0.6,
                          "#e6f5d0"
                        ],
                        [
                          0.7,
                          "#b8e186"
                        ],
                        [
                          0.8,
                          "#7fbc41"
                        ],
                        [
                          0.9,
                          "#4d9221"
                        ],
                        [
                          1,
                          "#276419"
                        ]
                      ],
                      "sequential": [
                        [
                          0,
                          "#0d0887"
                        ],
                        [
                          0.1111111111111111,
                          "#46039f"
                        ],
                        [
                          0.2222222222222222,
                          "#7201a8"
                        ],
                        [
                          0.3333333333333333,
                          "#9c179e"
                        ],
                        [
                          0.4444444444444444,
                          "#bd3786"
                        ],
                        [
                          0.5555555555555556,
                          "#d8576b"
                        ],
                        [
                          0.6666666666666666,
                          "#ed7953"
                        ],
                        [
                          0.7777777777777778,
                          "#fb9f3a"
                        ],
                        [
                          0.8888888888888888,
                          "#fdca26"
                        ],
                        [
                          1,
                          "#f0f921"
                        ]
                      ],
                      "sequentialminus": [
                        [
                          0,
                          "#0d0887"
                        ],
                        [
                          0.1111111111111111,
                          "#46039f"
                        ],
                        [
                          0.2222222222222222,
                          "#7201a8"
                        ],
                        [
                          0.3333333333333333,
                          "#9c179e"
                        ],
                        [
                          0.4444444444444444,
                          "#bd3786"
                        ],
                        [
                          0.5555555555555556,
                          "#d8576b"
                        ],
                        [
                          0.6666666666666666,
                          "#ed7953"
                        ],
                        [
                          0.7777777777777778,
                          "#fb9f3a"
                        ],
                        [
                          0.8888888888888888,
                          "#fdca26"
                        ],
                        [
                          1,
                          "#f0f921"
                        ]
                      ]
                    },
                    "paper_bgcolor": "white",
                    "plot_bgcolor": "#E5ECF6",
                    "title": {
                      "x": 0.05
                    },
                    "scene": {
                      "zaxis": {
                        "backgroundcolor": "#E5ECF6",
                        "ticks": "",
                        "gridwidth": 2,
                        "showbackground": true,
                        "zerolinecolor": "white",
                        "gridcolor": "white",
                        "linecolor": "white"
                      },
                      "xaxis": {
                        "backgroundcolor": "#E5ECF6",
                        "ticks": "",
                        "gridwidth": 2,
                        "showbackground": true,
                        "zerolinecolor": "white",
                        "gridcolor": "white",
                        "linecolor": "white"
                      },
                      "yaxis": {
                        "backgroundcolor": "#E5ECF6",
                        "ticks": "",
                        "gridwidth": 2,
                        "showbackground": true,
                        "zerolinecolor": "white",
                        "gridcolor": "white",
                        "linecolor": "white"
                      }
                    },
                    "yaxis": {
                      "automargin": true,
                      "title": {
                        "standoff": 15
                      },
                      "zerolinewidth": 2,
                      "ticks": "",
                      "zerolinecolor": "white",
                      "gridcolor": "white",
                      "linecolor": "white"
                    },
                    "annotationdefaults": {
                      "arrowwidth": 1,
                      "arrowhead": 0,
                      "arrowcolor": "#2a3f5f"
                    },
                    "hoverlabel": {
                      "align": "left"
                    },
                    "ternary": {
                      "bgcolor": "#E5ECF6",
                      "baxis": {
                        "ticks": "",
                        "gridcolor": "white",
                        "linecolor": "white"
                      },
                      "caxis": {
                        "ticks": "",
                        "gridcolor": "white",
                        "linecolor": "white"
                      },
                      "aaxis": {
                        "ticks": "",
                        "gridcolor": "white",
                        "linecolor": "white"
                      }
                    },
                    "mapbox": {
                      "style": "light"
                    },
                    "hovermode": "closest",
                    "font": {
                      "color": "#2a3f5f"
                    },
                    "geo": {
                      "showland": true,
                      "landcolor": "#E5ECF6",
                      "showlakes": true,
                      "bgcolor": "white",
                      "subunitcolor": "white",
                      "lakecolor": "white"
                    },
                    "coloraxis": {
                      "colorbar": {
                        "outlinewidth": 0,
                        "ticks": ""
                      }
                    }
                  },
                  "data": {
                    "mesh3d": [
                      {
                        "colorbar": {
                          "outlinewidth": 0,
                          "ticks": ""
                        },
                        "type": "mesh3d"
                      }
                    ],
                    "scattercarpet": [
                      {
                        "marker": {
                          "colorbar": {
                            "outlinewidth": 0,
                            "ticks": ""
                          }
                        },
                        "type": "scattercarpet"
                      }
                    ],
                    "pie": [
                      {
                        "automargin": true,
                        "type": "pie"
                      }
                    ],
                    "surface": [
                      {
                        "colorbar": {
                          "outlinewidth": 0,
                          "ticks": ""
                        },
                        "type": "surface",
                        "colorscale": [
                          [
                            0,
                            "#0d0887"
                          ],
                          [
                            0.1111111111111111,
                            "#46039f"
                          ],
                          [
                            0.2222222222222222,
                            "#7201a8"
                          ],
                          [
                            0.3333333333333333,
                            "#9c179e"
                          ],
                          [
                            0.4444444444444444,
                            "#bd3786"
                          ],
                          [
                            0.5555555555555556,
                            "#d8576b"
                          ],
                          [
                            0.6666666666666666,
                            "#ed7953"
                          ],
                          [
                            0.7777777777777778,
                            "#fb9f3a"
                          ],
                          [
                            0.8888888888888888,
                            "#fdca26"
                          ],
                          [
                            1,
                            "#f0f921"
                          ]
                        ]
                      }
                    ],
                    "table": [
                      {
                        "header": {
                          "line": {
                            "color": "white"
                          },
                          "fill": {
                            "color": "#C8D4E3"
                          }
                        },
                        "cells": {
                          "line": {
                            "color": "white"
                          },
                          "fill": {
                            "color": "#EBF0F8"
                          }
                        },
                        "type": "table"
                      }
                    ],
                    "scatterpolargl": [
                      {
                        "marker": {
                          "colorbar": {
                            "outlinewidth": 0,
                            "ticks": ""
                          }
                        },
                        "type": "scatterpolargl"
                      }
                    ],
                    "contour": [
                      {
                        "colorbar": {
                          "outlinewidth": 0,
                          "ticks": ""
                        },
                        "type": "contour",
                        "colorscale": [
                          [
                            0,
                            "#0d0887"
                          ],
                          [
                            0.1111111111111111,
                            "#46039f"
                          ],
                          [
                            0.2222222222222222,
                            "#7201a8"
                          ],
                          [
                            0.3333333333333333,
                            "#9c179e"
                          ],
                          [
                            0.4444444444444444,
                            "#bd3786"
                          ],
                          [
                            0.5555555555555556,
                            "#d8576b"
                          ],
                          [
                            0.6666666666666666,
                            "#ed7953"
                          ],
                          [
                            0.7777777777777778,
                            "#fb9f3a"
                          ],
                          [
                            0.8888888888888888,
                            "#fdca26"
                          ],
                          [
                            1,
                            "#f0f921"
                          ]
                        ]
                      }
                    ],
                    "carpet": [
                      {
                        "type": "carpet",
                        "baxis": {
                          "minorgridcolor": "white",
                          "gridcolor": "white",
                          "linecolor": "white",
                          "endlinecolor": "#2a3f5f",
                          "startlinecolor": "#2a3f5f"
                        },
                        "aaxis": {
                          "minorgridcolor": "white",
                          "gridcolor": "white",
                          "linecolor": "white",
                          "endlinecolor": "#2a3f5f",
                          "startlinecolor": "#2a3f5f"
                        }
                      }
                    ],
                    "contourcarpet": [
                      {
                        "colorbar": {
                          "outlinewidth": 0,
                          "ticks": ""
                        },
                        "type": "contourcarpet"
                      }
                    ],
                    "heatmap": [
                      {
                        "colorbar": {
                          "outlinewidth": 0,
                          "ticks": ""
                        },
                        "type": "heatmap",
                        "colorscale": [
                          [
                            0,
                            "#0d0887"
                          ],
                          [
                            0.1111111111111111,
                            "#46039f"
                          ],
                          [
                            0.2222222222222222,
                            "#7201a8"
                          ],
                          [
                            0.3333333333333333,
                            "#9c179e"
                          ],
                          [
                            0.4444444444444444,
                            "#bd3786"
                          ],
                          [
                            0.5555555555555556,
                            "#d8576b"
                          ],
                          [
                            0.6666666666666666,
                            "#ed7953"
                          ],
                          [
                            0.7777777777777778,
                            "#fb9f3a"
                          ],
                          [
                            0.8888888888888888,
                            "#fdca26"
                          ],
                          [
                            1,
                            "#f0f921"
                          ]
                        ]
                      }
                    ],
                    "scattermapbox": [
                      {
                        "marker": {
                          "colorbar": {
                            "outlinewidth": 0,
                            "ticks": ""
                          }
                        },
                        "type": "scattermapbox"
                      }
                    ],
                    "scatter3d": [
                      {
                        "marker": {
                          "colorbar": {
                            "outlinewidth": 0,
                            "ticks": ""
                          }
                        },
                        "line": {
                          "colorbar": {
                            "outlinewidth": 0,
                            "ticks": ""
                          }
                        },
                        "type": "scatter3d"
                      }
                    ],
                    "scattergl": [
                      {
                        "marker": {
                          "colorbar": {
                            "outlinewidth": 0,
                            "ticks": ""
                          }
                        },
                        "type": "scattergl"
                      }
                    ],
                    "scatterternary": [
                      {
                        "marker": {
                          "colorbar": {
                            "outlinewidth": 0,
                            "ticks": ""
                          }
                        },
                        "type": "scatterternary"
                      }
                    ],
                    "histogram": [
                      {
                        "marker": {
                          "colorbar": {
                            "outlinewidth": 0,
                            "ticks": ""
                          }
                        },
                        "type": "histogram"
                      }
                    ],
                    "heatmapgl": [
                      {
                        "colorbar": {
                          "outlinewidth": 0,
                          "ticks": ""
                        },
                        "type": "heatmapgl",
                        "colorscale": [
                          [
                            0,
                            "#0d0887"
                          ],
                          [
                            0.1111111111111111,
                            "#46039f"
                          ],
                          [
                            0.2222222222222222,
                            "#7201a8"
                          ],
                          [
                            0.3333333333333333,
                            "#9c179e"
                          ],
                          [
                            0.4444444444444444,
                            "#bd3786"
                          ],
                          [
                            0.5555555555555556,
                            "#d8576b"
                          ],
                          [
                            0.6666666666666666,
                            "#ed7953"
                          ],
                          [
                            0.7777777777777778,
                            "#fb9f3a"
                          ],
                          [
                            0.8888888888888888,
                            "#fdca26"
                          ],
                          [
                            1,
                            "#f0f921"
                          ]
                        ]
                      }
                    ],
                    "scatterpolar": [
                      {
                        "marker": {
                          "colorbar": {
                            "outlinewidth": 0,
                            "ticks": ""
                          }
                        },
                        "type": "scatterpolar"
                      }
                    ],
                    "histogram2d": [
                      {
                        "colorbar": {
                          "outlinewidth": 0,
                          "ticks": ""
                        },
                        "type": "histogram2d",
                        "colorscale": [
                          [
                            0,
                            "#0d0887"
                          ],
                          [
                            0.1111111111111111,
                            "#46039f"
                          ],
                          [
                            0.2222222222222222,
                            "#7201a8"
                          ],
                          [
                            0.3333333333333333,
                            "#9c179e"
                          ],
                          [
                            0.4444444444444444,
                            "#bd3786"
                          ],
                          [
                            0.5555555555555556,
                            "#d8576b"
                          ],
                          [
                            0.6666666666666666,
                            "#ed7953"
                          ],
                          [
                            0.7777777777777778,
                            "#fb9f3a"
                          ],
                          [
                            0.8888888888888888,
                            "#fdca26"
                          ],
                          [
                            1,
                            "#f0f921"
                          ]
                        ]
                      }
                    ],
                    "scattergeo": [
                      {
                        "marker": {
                          "colorbar": {
                            "outlinewidth": 0,
                            "ticks": ""
                          }
                        },
                        "type": "scattergeo"
                      }
                    ],
                    "bar": [
                      {
                        "marker": {
                          "line": {
                            "color": "#E5ECF6",
                            "width": 0.5
                          }
                        },
                        "type": "bar",
                        "error_x": {
                          "color": "#2a3f5f"
                        },
                        "error_y": {
                          "color": "#2a3f5f"
                        }
                      }
                    ],
                    "choropleth": [
                      {
                        "colorbar": {
                          "outlinewidth": 0,
                          "ticks": ""
                        },
                        "type": "choropleth"
                      }
                    ],
                    "parcoords": [
                      {
                        "line": {
                          "colorbar": {
                            "outlinewidth": 0,
                            "ticks": ""
                          }
                        },
                        "type": "parcoords"
                      }
                    ],
                    "barpolar": [
                      {
                        "marker": {
                          "line": {
                            "color": "#E5ECF6",
                            "width": 0.5
                          }
                        },
                        "type": "barpolar"
                      }
                    ],
                    "histogram2dcontour": [
                      {
                        "colorbar": {
                          "outlinewidth": 0,
                          "ticks": ""
                        },
                        "type": "histogram2dcontour",
                        "colorscale": [
                          [
                            0,
                            "#0d0887"
                          ],
                          [
                            0.1111111111111111,
                            "#46039f"
                          ],
                          [
                            0.2222222222222222,
                            "#7201a8"
                          ],
                          [
                            0.3333333333333333,
                            "#9c179e"
                          ],
                          [
                            0.4444444444444444,
                            "#bd3786"
                          ],
                          [
                            0.5555555555555556,
                            "#d8576b"
                          ],
                          [
                            0.6666666666666666,
                            "#ed7953"
                          ],
                          [
                            0.7777777777777778,
                            "#fb9f3a"
                          ],
                          [
                            0.8888888888888888,
                            "#fdca26"
                          ],
                          [
                            1,
                            "#f0f921"
                          ]
                        ]
                      }
                    ],
                    "scatter": [
                      {
                        "marker": {
                          "colorbar": {
                            "outlinewidth": 0,
                            "ticks": ""
                          }
                        },
                        "type": "scatter"
                      }
                    ]
                  }
                },
                "title": {
                  "text": "Top 40 Worst Terror Attacks in History from 1982 to 2016"
                }
              }
            }
          },
          "metadata": {}
        }
      ]
    },
    {
      "cell_type": "code",
      "metadata": {
        "colab": {
          "base_uri": "https://localhost:8080/"
        },
        "id": "zobTpOJESsQQ",
        "outputId": "f97b9ce7-f97b-4f0a-a37b-ab4fefabe6fb"
      },
      "source": [
        "terror_df.Country.value_counts()[:15]"
      ],
      "execution_count": 17,
      "outputs": [
        {
          "output_type": "execute_result",
          "data": {
            "text/plain": [
              "Iraq              24636\n",
              "Pakistan          14368\n",
              "Afghanistan       12731\n",
              "India             11960\n",
              "Colombia           8306\n",
              "Philippines        6908\n",
              "Peru               6096\n",
              "El Salvador        5320\n",
              "United Kingdom     5235\n",
              "Turkey             4292\n",
              "Somalia            4142\n",
              "Nigeria            3907\n",
              "Thailand           3849\n",
              "Yemen              3347\n",
              "Spain              3249\n",
              "Name: Country, dtype: int64"
            ]
          },
          "metadata": {},
          "execution_count": 17
        }
      ]
    },
    {
      "cell_type": "markdown",
      "metadata": {
        "id": "itw7xLdbxaLf"
      },
      "source": [
        "# **Top Countries affected by Terror Attacks**"
      ]
    },
    {
      "cell_type": "code",
      "metadata": {
        "colab": {
          "base_uri": "https://localhost:8080/",
          "height": 423
        },
        "id": "8vzkR1a-xtVy",
        "outputId": "fc22228d-110d-499b-b358-457657d4171b"
      },
      "source": [
        "plt.subplots(figsize=(15,6))\n",
        "sns.barplot(terror_df['Country'].value_counts()[:15].index,terror_df['Country'].value_counts()[:15].values,palette='Blues_d')\n",
        "plt.title('Top Countries Affected')\n",
        "plt.xlabel('Countries')\n",
        "plt.ylabel('Count')\n",
        "plt.xticks(rotation= 90)\n",
        "plt.show()"
      ],
      "execution_count": 18,
      "outputs": [
        {
          "output_type": "stream",
          "text": [
            "/usr/local/lib/python3.7/dist-packages/seaborn/_decorators.py:43: FutureWarning:\n",
            "\n",
            "Pass the following variables as keyword args: x, y. From version 0.12, the only valid positional argument will be `data`, and passing other arguments without an explicit keyword will result in an error or misinterpretation.\n",
            "\n"
          ],
          "name": "stderr"
        },
        {
          "output_type": "display_data",
          "data": {
            "image/png": "[encoded data removed]",
            "text/plain": [
              "<Figure size 1080x432 with 1 Axes>"
            ]
          },
          "metadata": {
            "needs_background": "light"
          }
        }
      ]
    },
    {
      "cell_type": "markdown",
      "metadata": {
        "id": "5vez1bRLxxzN"
      },
      "source": [
        "# **The Big Four**\n",
        "## **Now to visualize the top four countries that have suffered the most using bubble charts in Plotly**"
      ]
    },
    {
      "cell_type": "code",
      "metadata": {
        "colab": {
          "base_uri": "https://localhost:8080/",
          "height": 506
        },
        "id": "MMB8DwTYx6Pv",
        "outputId": "a79b07ce-6079-40f0-f4e7-76e264a5ef79"
      },
      "source": [
        "terror_bubble_df = terror_df[(terror_df['Group'] != 'Unknown') & (terror_df['casualities'] > 50)]\n",
        "terror_bubble_df.head()"
      ],
      "execution_count": 19,
      "outputs": [
        {
          "output_type": "execute_result",
          "data": {
            "text/html": [
              "<div>\n",
              "<style scoped>\n",
              "    .dataframe tbody tr th:only-of-type {\n",
              "        vertical-align: middle;\n",
              "    }\n",
              "\n",
              "    .dataframe tbody tr th {\n",
              "        vertical-align: top;\n",
              "    }\n",
              "\n",
              "    .dataframe thead th {\n",
              "        text-align: right;\n",
              "    }\n",
              "</style>\n",
              "<table border=\"1\" class=\"dataframe\">\n",
              "  <thead>\n",
              "    <tr style=\"text-align: right;\">\n",
              "      <th></th>\n",
              "      <th>Year</th>\n",
              "      <th>Month</th>\n",
              "      <th>Day</th>\n",
              "      <th>Country</th>\n",
              "      <th>state</th>\n",
              "      <th>Region</th>\n",
              "      <th>city</th>\n",
              "      <th>latitude</th>\n",
              "      <th>longitude</th>\n",
              "      <th>AttackType</th>\n",
              "      <th>Killed</th>\n",
              "      <th>Wounded</th>\n",
              "      <th>Target</th>\n",
              "      <th>Summary</th>\n",
              "      <th>Group</th>\n",
              "      <th>Target_type</th>\n",
              "      <th>Weapon_type</th>\n",
              "      <th>Motive</th>\n",
              "      <th>casualities</th>\n",
              "    </tr>\n",
              "  </thead>\n",
              "  <tbody>\n",
              "    <tr>\n",
              "      <th>1200</th>\n",
              "      <td>1972</td>\n",
              "      <td>3</td>\n",
              "      <td>4</td>\n",
              "      <td>United Kingdom</td>\n",
              "      <td>Northern Ireland</td>\n",
              "      <td>Western Europe</td>\n",
              "      <td>Belfast</td>\n",
              "      <td>54.607712</td>\n",
              "      <td>-5.956210</td>\n",
              "      <td>Bombing/Explosion</td>\n",
              "      <td>2</td>\n",
              "      <td>130</td>\n",
              "      <td>Janet Bereen, 21 and Anne Owens, 22, Catholics</td>\n",
              "      <td>NaN</td>\n",
              "      <td>Irish Republican Army (IRA)</td>\n",
              "      <td>Business</td>\n",
              "      <td>Explosives</td>\n",
              "      <td>NaN</td>\n",
              "      <td>132</td>\n",
              "    </tr>\n",
              "    <tr>\n",
              "      <th>1314</th>\n",
              "      <td>1972</td>\n",
              "      <td>5</td>\n",
              "      <td>30</td>\n",
              "      <td>Israel</td>\n",
              "      <td>Central</td>\n",
              "      <td>Middle East &amp; North Africa</td>\n",
              "      <td>Lod</td>\n",
              "      <td>32.004361</td>\n",
              "      <td>34.888229</td>\n",
              "      <td>Bombing/Explosion</td>\n",
              "      <td>26</td>\n",
              "      <td>72</td>\n",
              "      <td>Aircraft Terminal</td>\n",
              "      <td>NaN</td>\n",
              "      <td>Japanese Red Army (JRA)</td>\n",
              "      <td>Airports &amp; Aircraft</td>\n",
              "      <td>Firearms</td>\n",
              "      <td>NaN</td>\n",
              "      <td>98</td>\n",
              "    </tr>\n",
              "    <tr>\n",
              "      <th>1789</th>\n",
              "      <td>1973</td>\n",
              "      <td>3</td>\n",
              "      <td>8</td>\n",
              "      <td>United Kingdom</td>\n",
              "      <td>England</td>\n",
              "      <td>Western Europe</td>\n",
              "      <td>London</td>\n",
              "      <td>51.504387</td>\n",
              "      <td>-0.140041</td>\n",
              "      <td>Bombing/Explosion</td>\n",
              "      <td>1</td>\n",
              "      <td>238</td>\n",
              "      <td>Court Building</td>\n",
              "      <td>NaN</td>\n",
              "      <td>Irish Republican Army (IRA)</td>\n",
              "      <td>Government (General)</td>\n",
              "      <td>Explosives</td>\n",
              "      <td>NaN</td>\n",
              "      <td>239</td>\n",
              "    </tr>\n",
              "    <tr>\n",
              "      <th>1972</th>\n",
              "      <td>1973</td>\n",
              "      <td>8</td>\n",
              "      <td>5</td>\n",
              "      <td>Greece</td>\n",
              "      <td>Attica</td>\n",
              "      <td>Western Europe</td>\n",
              "      <td>Athens</td>\n",
              "      <td>37.997490</td>\n",
              "      <td>23.762728</td>\n",
              "      <td>Bombing/Explosion</td>\n",
              "      <td>5</td>\n",
              "      <td>55</td>\n",
              "      <td>TWA Lounge</td>\n",
              "      <td>NaN</td>\n",
              "      <td>Black September</td>\n",
              "      <td>Airports &amp; Aircraft</td>\n",
              "      <td>Firearms</td>\n",
              "      <td>NaN</td>\n",
              "      <td>60</td>\n",
              "    </tr>\n",
              "    <tr>\n",
              "      <th>2138</th>\n",
              "      <td>1973</td>\n",
              "      <td>12</td>\n",
              "      <td>17</td>\n",
              "      <td>Italy</td>\n",
              "      <td>Lazio</td>\n",
              "      <td>Western Europe</td>\n",
              "      <td>Rome</td>\n",
              "      <td>41.890961</td>\n",
              "      <td>12.490069</td>\n",
              "      <td>Hostage Taking (Barricade Incident)</td>\n",
              "      <td>30</td>\n",
              "      <td>50</td>\n",
              "      <td>Pan Am Lounge and Loading Pan Am 707</td>\n",
              "      <td>NaN</td>\n",
              "      <td>Black September</td>\n",
              "      <td>Airports &amp; Aircraft</td>\n",
              "      <td>Firearms</td>\n",
              "      <td>NaN</td>\n",
              "      <td>80</td>\n",
              "    </tr>\n",
              "  </tbody>\n",
              "</table>\n",
              "</div>"
            ],
            "text/plain": [
              "      Year  Month  Day  ... Weapon_type Motive casualities\n",
              "1200  1972      3    4  ...  Explosives    NaN         132\n",
              "1314  1972      5   30  ...    Firearms    NaN          98\n",
              "1789  1973      3    8  ...  Explosives    NaN         239\n",
              "1972  1973      8    5  ...    Firearms    NaN          60\n",
              "2138  1973     12   17  ...    Firearms    NaN          80\n",
              "\n",
              "[5 rows x 19 columns]"
            ]
          },
          "metadata": {},
          "execution_count": 19
        }
      ]
    },
    {
      "cell_type": "code",
      "metadata": {
        "id": "r8fFqL8wyCri"
      },
      "source": [
        "terror_bubble_df = terror_bubble_df.sort_values(['Region', 'Country'])"
      ],
      "execution_count": 20,
      "outputs": []
    },
    {
      "cell_type": "markdown",
      "metadata": {
        "id": "_nVoID8syN_Y"
      },
      "source": [
        "# **It is best to always check for null values and drop the features that are not needed. Atleast it can execute much faster.** "
      ]
    },
    {
      "cell_type": "code",
      "metadata": {
        "colab": {
          "base_uri": "https://localhost:8080/"
        },
        "id": "wjvB8ycDyWJE",
        "outputId": "a2c87417-108d-401e-8e79-94754d56ab00"
      },
      "source": [
        "terror_bubble_df.isnull().sum()"
      ],
      "execution_count": 21,
      "outputs": [
        {
          "output_type": "execute_result",
          "data": {
            "text/plain": [
              "Year              0\n",
              "Month             0\n",
              "Day               0\n",
              "Country           0\n",
              "state             3\n",
              "Region            0\n",
              "city              1\n",
              "latitude         62\n",
              "longitude        62\n",
              "AttackType        0\n",
              "Killed            0\n",
              "Wounded           0\n",
              "Target            9\n",
              "Summary         517\n",
              "Group             0\n",
              "Target_type       0\n",
              "Weapon_type       0\n",
              "Motive         1059\n",
              "casualities       0\n",
              "dtype: int64"
            ]
          },
          "metadata": {},
          "execution_count": 21
        }
      ]
    },
    {
      "cell_type": "code",
      "metadata": {
        "id": "9McuGRk6yZan"
      },
      "source": [
        "terror_bubble_df = terror_bubble_df.drop(['latitude','longitude','Summary','Motive','Target'],axis=1)"
      ],
      "execution_count": 22,
      "outputs": []
    },
    {
      "cell_type": "code",
      "metadata": {
        "id": "MvbqK6HvycZF"
      },
      "source": [
        "terror_bubble_df = terror_bubble_df.dropna(subset=['city'])"
      ],
      "execution_count": 23,
      "outputs": []
    },
    {
      "cell_type": "code",
      "metadata": {
        "colab": {
          "base_uri": "https://localhost:8080/"
        },
        "id": "cNPk-UyMyhUQ",
        "outputId": "fb20cfcc-3d56-4af7-d4ac-15f8bbd2be77"
      },
      "source": [
        "terror_bubble_df.isnull().sum()"
      ],
      "execution_count": 24,
      "outputs": [
        {
          "output_type": "execute_result",
          "data": {
            "text/plain": [
              "Year           0\n",
              "Month          0\n",
              "Day            0\n",
              "Country        0\n",
              "state          3\n",
              "Region         0\n",
              "city           0\n",
              "AttackType     0\n",
              "Killed         0\n",
              "Wounded        0\n",
              "Group          0\n",
              "Target_type    0\n",
              "Weapon_type    0\n",
              "casualities    0\n",
              "dtype: int64"
            ]
          },
          "metadata": {},
          "execution_count": 24
        }
      ]
    },
    {
      "cell_type": "markdown",
      "metadata": {
        "id": "g5SFxPmKzHND"
      },
      "source": [
        "# **Iraq, Pakistan, Afghanistan and India have suffered the most number of terror attacks. So here I have used an Interactive Bubble chart to highlight their timeline with details like City, Terrorist Group, Number of Casualities and Year. And ofcourse, I have used the bubble size according to the casualities suffered** "
      ]
    },
    {
      "cell_type": "code",
      "metadata": {
        "id": "7qqGwTJvzRsO"
      },
      "source": [
        "hover_text = []\n",
        "for index, row in terror_bubble_df.iterrows():\n",
        "    hover_text.append(('City: {city}<br>'+\n",
        "                      'Group: {group}<br>'+\n",
        "                      'casualities: {casualities}<br>'+\n",
        "                      'Year: {year}').format(city=row['city'],\n",
        "                                            group=row['Group'],\n",
        "                                            casualities=row['casualities'],\n",
        "                                            year=row['Year']))\n",
        "terror_bubble_df['text'] = hover_text"
      ],
      "execution_count": 25,
      "outputs": []
    },
    {
      "cell_type": "code",
      "metadata": {
        "id": "DJ2D0ZgAzYXu"
      },
      "source": [
        "trace0 = go.Scatter(\n",
        "    x=terror_bubble_df['Year'][terror_bubble_df['Country'] == 'Iraq'],\n",
        "    y=terror_bubble_df['casualities'][terror_bubble_df['Country'] == 'Iraq'],\n",
        "    mode='markers',\n",
        "    name='Iraq',\n",
        "    text=terror_bubble_df['text'][terror_bubble_df['Country'] == 'Iraq'],\n",
        "    marker=dict(\n",
        "        symbol='circle',\n",
        "        sizemode='area',\n",
        "        size=terror_bubble_df['casualities'][terror_bubble_df['Country'] == 'Iraq'],\n",
        "        line=dict(\n",
        "            width=2\n",
        "        ),\n",
        "    )\n",
        ")\n",
        "trace1 = go.Scatter(\n",
        "    x=terror_bubble_df['Year'][terror_bubble_df['Country'] == 'Pakistan'],\n",
        "    y=terror_bubble_df['casualities'][terror_bubble_df['Country'] == 'Pakistan'],\n",
        "    mode='markers',\n",
        "    name='Pakistan',\n",
        "    text=terror_bubble_df['text'][terror_bubble_df['Country'] == 'Pakistan'],\n",
        "    marker=dict(\n",
        "        symbol='circle',\n",
        "        sizemode='area',\n",
        "        size=terror_bubble_df['casualities'][terror_bubble_df['Country'] == 'Pakistan'],\n",
        "        line=dict(\n",
        "            width=2\n",
        "        ),\n",
        "    )\n",
        ")\n",
        "trace2 = go.Scatter(\n",
        "    x=terror_bubble_df['Year'][terror_bubble_df['Country'] == 'Afghanistan'],\n",
        "    y=terror_bubble_df['casualities'][terror_bubble_df['Country'] == 'Afghanistan'],\n",
        "    mode='markers',\n",
        "    name='Afghanistan',\n",
        "    text=terror_bubble_df['text'][terror_bubble_df['Country'] == 'Afghanistan'],\n",
        "    marker=dict(\n",
        "        symbol='circle',\n",
        "        sizemode='area',\n",
        "        size=terror_bubble_df['casualities'][terror_bubble_df['Country'] == 'Afghanistan'],\n",
        "        line=dict(\n",
        "            width=2\n",
        "        ),\n",
        "    )\n",
        ")\n",
        "trace3 = go.Scatter(\n",
        "    x=terror_bubble_df['Year'][terror_bubble_df['Country'] == 'India'],\n",
        "    y=terror_bubble_df['casualities'][terror_bubble_df['Country'] == 'India'],\n",
        "    mode='markers',\n",
        "    name='India',\n",
        "    text=terror_bubble_df['text'][terror_bubble_df['Country'] == 'India'],\n",
        "    marker=dict(\n",
        "        symbol='circle',\n",
        "        sizemode='area',\n",
        "        size=terror_bubble_df['casualities'][terror_bubble_df['Country'] == 'India'],\n",
        "        line=dict(\n",
        "            width=2\n",
        "        ),\n",
        "    )\n",
        ")"
      ],
      "execution_count": 26,
      "outputs": []
    },
    {
      "cell_type": "code",
      "metadata": {
        "id": "gTdvBC5yzxFb"
      },
      "source": [
        "data = [trace0, trace1, trace2, trace3]\n",
        "layout = go.Layout(\n",
        "         title = 'The Big Four',\n",
        "         xaxis = dict(\n",
        "             title = 'Year',\n",
        "             #type = 'log',\n",
        "             range = [1976,2016],\n",
        "             tickmode = 'auto',\n",
        "             nticks = 30,\n",
        "             showline = True,\n",
        "             showgrid = False\n",
        "             ),\n",
        "         yaxis = dict(\n",
        "             title = 'Casualities',\n",
        "             type = 'log',\n",
        "             range = [1.8,3.6],\n",
        "             tickmode = 'auto',\n",
        "             nticks = 40,\n",
        "             showline = True,\n",
        "             showgrid = False),\n",
        "         paper_bgcolor='rgb(243, 243, 243)',\n",
        "         plot_bgcolor='rgb(243, 243, 243)',\n",
        "         )"
      ],
      "execution_count": 27,
      "outputs": []
    },
    {
      "cell_type": "code",
      "metadata": {
        "colab": {
          "base_uri": "https://localhost:8080/",
          "height": 542
        },
        "id": "VWFfgo9rz21E",
        "outputId": "c89f0cc1-35b7-4aaf-a542-d66af825366d"
      },
      "source": [
        "fig = go.Figure(data=data, layout=layout)\n",
        "py.iplot(fig, filename='Terrorism Bubble')"
      ],
      "execution_count": 28,
      "outputs": [
        {
          "output_type": "display_data",
          "data": {
            "text/html": [
              "<div>\n",
              "        \n",
              "        \n",
              "            <div id=\"034f09d5-347a-4d67-82b7-b57d42443ea2\" class=\"plotly-graph-div\" style=\"height:525px; width:100%;\"></div>\n",
              "            <script type=\"text/javascript\">\n",
              "                require([\"plotly\"], function(Plotly) {\n",
              "                    window.PLOTLYENV=window.PLOTLYENV || {};\n",
              "                    \n",
              "                if (document.getElementById(\"034f09d5-347a-4d67-82b7-b57d42443ea2\")) {\n",
              "                    Plotly.newPlot(\n",
              "                        '034f09d5-347a-4d67-82b7-b57d42443ea2',\n",
              "                        [{\"marker\": {\"line\": {\"width\": 2}, \"size\": [158, 76, 140, 60, 91, 217, 57, 68, 124, 300, 57, 62, 60, 68, 221, 112, 343, 225, 73, 68, 174, 280, 52, 126, 56, 161, 61, 51, 89, 210, 57, 88, 100, 142, 155, 85, 72, 101, 702, 68, 60, 108, 90, 65, 173, 191, 71, 85, 292, 102, 251, 275, 118, 96, 84, 1000, 1000, 220, 186, 122, 102, 88, 85, 73, 66, 103, 63, 176, 140, 121, 87, 80, 75, 123, 124, 73, 294, 130, 96, 131, 95, 654, 436, 437, 126, 126, 126, 127, 127, 80, 148, 181, 91, 133, 112, 68, 67, 200, 55, 81, 84, 181, 58, 91, 133, 211, 163, 92, 57, 93, 62, 115, 61, 91, 58, 54, 56, 57, 65, 65, 74, 69, 108, 118, 106, 55, 64, 83, 78, 64, 51, 85, 91, 118, 86, 56, 53, 61, 74, 57, 204, 81, 53, 68, 66, 109, 107, 670, 69, 53, 63, 1570, 69, 80, 61, 76, 86, 114, 67, 953, 91, 400, 70, 150, 187, 58, 77, 150, 75, 71, 150, 107, 61, 85, 71, 77, 71, 97, 53, 55, 66, 300, 57, 54, 64, 53, 52, 81, 251, 52, 66, 132, 220, 56, 70, 99, 65, 83, 142, 71, 138, 300, 57, 60, 94, 93, 89, 157, 1503, 91, 51, 250, 51, 68, 60, 52, 61, 152, 65, 52, 649, 53, 583, 72, 130, 56, 97, 100, 70, 69, 182, 284, 190, 70, 112, 61, 118, 100, 130, 56, 93, 60, 97, 75, 93, 95, 51, 72, 230, 151, 61, 78, 57, 64, 59, 53, 163, 55, 100, 200, 111, 93, 90, 122], \"sizemode\": \"area\", \"symbol\": \"circle\"}, \"mode\": \"markers\", \"name\": \"Iraq\", \"text\": [\"City: Baghdad<br>Group: Iraqi Mujahideen<br>casualities: 158<br>Year: 1982\", \"City: Baghdad<br>Group: Martyr Abu Ja'far Group<br>casualities: 76<br>Year: 1982\", \"City: Nero-Soto<br>Group: Kurdish Democratic Party-Iraq (KDP)<br>casualities: 140<br>Year: 1988\", \"City: Hakurk<br>Group: Anti Kurdish Workers Party Iraq nationals<br>casualities: 60<br>Year: 1992\", \"City: Sulaymaniyah<br>Group: Patriotic Union of Kurdistan (PUK)<br>casualities: 91<br>Year: 1994\", \"City: Zakho<br>Group: Patriotic Union of Kurdistan (PUK)<br>casualities: 217<br>Year: 1995\", \"City: Sidakan<br>Group: Kurdistan Workers' Party (PKK)<br>casualities: 57<br>Year: 1997\", \"City: Baghdad<br>Group: Ansar al-Islam<br>casualities: 68<br>Year: 2003\", \"City: Baghdad<br>Group: Armed Vanguards of a Second Mohammed Army<br>casualities: 124<br>Year: 2003\", \"City: Najaf<br>Group: Tawhid and Jihad<br>casualities: 300<br>Year: 2003\", \"City: Arbil<br>Group: Tawhid and Jihad<br>casualities: 57<br>Year: 2003\", \"City: Karbala<br>Group: Baathist extremists<br>casualities: 62<br>Year: 2003\", \"City: Karbala<br>Group: Baathist extremists<br>casualities: 60<br>Year: 2003\", \"City: Karbala<br>Group: Baathist extremists<br>casualities: 68<br>Year: 2003\", \"City: Iskandariyah<br>Group: Tawhid and Jihad<br>casualities: 221<br>Year: 2004\", \"City: Hillah<br>Group: Tawhid and Jihad<br>casualities: 112<br>Year: 2004\", \"City: Karbala<br>Group: Tawhid and Jihad<br>casualities: 343<br>Year: 2004\", \"City: Baghdad<br>Group: Tawhid and Jihad<br>casualities: 225<br>Year: 2004\", \"City: Baghdad<br>Group: Tawhid and Jihad<br>casualities: 73<br>Year: 2004\", \"City: Baghdad<br>Group: Mahdi Army<br>casualities: 68<br>Year: 2004\", \"City: Basra<br>Group: Tawhid and Jihad<br>casualities: 174<br>Year: 2004\", \"City: Mosul<br>Group: Tawhid and Jihad<br>casualities: 280<br>Year: 2004\", \"City: Mahmudiyah<br>Group: Tawhid and Jihad<br>casualities: 52<br>Year: 2004\", \"City: Baqubah<br>Group: Tawhid and Jihad<br>casualities: 126<br>Year: 2004\", \"City: Kirkuk<br>Group: Tawhid and Jihad<br>casualities: 56<br>Year: 2004\", \"City: Baghdad<br>Group: Tawhid and Jihad<br>casualities: 161<br>Year: 2004\", \"City: Baghdad<br>Group: Tawhid and Jihad<br>casualities: 61<br>Year: 2004\", \"City: Baghdad<br>Group: Tawhid and Jihad<br>casualities: 51<br>Year: 2004\", \"City: Mosul<br>Group: Ansar al-Sunna<br>casualities: 89<br>Year: 2004\", \"City: Arbil<br>Group: Ansar al-Sunna<br>casualities: 210<br>Year: 2005\", \"City: Baghdad<br>Group: Al-Qaida in Iraq<br>casualities: 57<br>Year: 2005\", \"City: Tikrit<br>Group: Ansar al-Sunna<br>casualities: 88<br>Year: 2005\", \"City: Baghdad<br>Group: Al-Qaida in Iraq<br>casualities: 100<br>Year: 2005\", \"City: Hillah<br>Group: Al-Qaida in Iraq<br>casualities: 142<br>Year: 2005\", \"City: Hillah<br>Group: Al-Qaida in Iraq<br>casualities: 155<br>Year: 2005\", \"City: Kirkuk<br>Group: Ansar al-Islam<br>casualities: 85<br>Year: 2005\", \"City: Baghdad<br>Group: Al-Qaida in Iraq<br>casualities: 72<br>Year: 2005\", \"City: Rabiaa<br>Group: Al-Qaida in Iraq<br>casualities: 101<br>Year: 2005\", \"City: Baghdad<br>Group: Al-Qaida in Iraq<br>casualities: 702<br>Year: 2005\", \"City: Nahrwan<br>Group: Al-Qaida in Iraq<br>casualities: 68<br>Year: 2005\", \"City: Baghdad<br>Group: Al-Qaida in Iraq<br>casualities: 60<br>Year: 2005\", \"City: Baghdad<br>Group: Al-Qaida in Iraq<br>casualities: 108<br>Year: 2005\", \"City: Baghdad<br>Group: Al-Qaida in Iraq<br>casualities: 90<br>Year: 2006\", \"City: Baghdad<br>Group: Al-Qaida in Iraq<br>casualities: 65<br>Year: 2006\", \"City: Baghdad<br>Group: Sunni Supporters<br>casualities: 173<br>Year: 2006\", \"City: Kufa<br>Group: Mujahedeen Shura Council<br>casualities: 191<br>Year: 2006\", \"City: Baghdad<br>Group: Jund al-Sahabah Group<br>casualities: 71<br>Year: 2006\", \"City: Mahmudiyah<br>Group: Jihadist Soldiers<br>casualities: 85<br>Year: 2006\", \"City: Hillah<br>Group: Islamic State of Iraq (ISI)<br>casualities: 292<br>Year: 2007\", \"City: Amriyat al-Fallujah<br>Group: Al-Qaida in Iraq<br>casualities: 102<br>Year: 2007\", \"City: Albu Issa<br>Group: Al-Qaida in Iraq<br>casualities: 251<br>Year: 2007\", \"City: Baghdad<br>Group: Al-Qaida in Iraq<br>casualities: 275<br>Year: 2007\", \"City: Baghdad<br>Group: Sunni Muslim extremists<br>casualities: 118<br>Year: 2007\", \"City: Khalis<br>Group: Islamic State of Iraq (ISI)<br>casualities: 96<br>Year: 2007\", \"City: Sulayman Beg<br>Group: Al-Qaida in Iraq<br>casualities: 84<br>Year: 2007\", \"City: Qahtaniya<br>Group: Al-Qaida in Iraq<br>casualities: 1000<br>Year: 2007\", \"City: Jazeera<br>Group: Al-Qaida in Iraq<br>casualities: 1000<br>Year: 2007\", \"City: Baghdad<br>Group: Al-Qaida in Iraq<br>casualities: 220<br>Year: 2008\", \"City: Baghdad<br>Group: Al-Qaida in Iraq<br>casualities: 186<br>Year: 2008\", \"City: Baqubah<br>Group: Al-Qaida in Iraq<br>casualities: 122<br>Year: 2008\", \"City: Balad Ruz<br>Group: Al-Qaida in Iraq<br>casualities: 102<br>Year: 2008\", \"City: Baqubah<br>Group: Islamic State of Iraq (ISI)<br>casualities: 88<br>Year: 2008\", \"City: Baghdad<br>Group: Al-Qaida in Iraq<br>casualities: 85<br>Year: 2008\", \"City: Zaydan<br>Group: Islamic State of Iraq (ISI)<br>casualities: 73<br>Year: 2008\", \"City: Jalawlah<br>Group: Islamic State of Iraq (ISI)<br>casualities: 66<br>Year: 2008\", \"City: Baghdad<br>Group: Al-Qaida in Iraq<br>casualities: 103<br>Year: 2008\", \"City: Baghdad<br>Group: Islamic State of Iraq (ISI)<br>casualities: 63<br>Year: 2008\", \"City: Kirkuk<br>Group: Islamic State of Iraq (ISI)<br>casualities: 176<br>Year: 2008\", \"City: Yusufiyah<br>Group: Islamic State of Iraq (ISI)<br>casualities: 140<br>Year: 2009\", \"City: Musayib<br>Group: Islamic State of Iraq (ISI)<br>casualities: 121<br>Year: 2009\", \"City: Baghdad<br>Group: Islamic State of Iraq (ISI)<br>casualities: 87<br>Year: 2009\", \"City: Abu Ghraib<br>Group: Al-Qaida in Iraq<br>casualities: 80<br>Year: 2009\", \"City: Baghdad<br>Group: Al-Qaida in Iraq<br>casualities: 75<br>Year: 2009\", \"City: Baghdad<br>Group: Islamic State of Iraq (ISI)<br>casualities: 123<br>Year: 2009\", \"City: Baghdad<br>Group: Islamic State of Iraq (ISI)<br>casualities: 124<br>Year: 2009\", \"City: Batha<br>Group: Islamic State of Iraq (ISI)<br>casualities: 73<br>Year: 2009\", \"City: Taza Khurmatu<br>Group: Islamic State of Iraq (ISI)<br>casualities: 294<br>Year: 2009\", \"City: Kirkuk<br>Group: Islamic State of Iraq (ISI)<br>casualities: 130<br>Year: 2009\", \"City: Tal Afar<br>Group: Islamic State of Iraq (ISI)<br>casualities: 96<br>Year: 2009\", \"City: Baghdad<br>Group: Islamic State of Iraq (ISI)<br>casualities: 131<br>Year: 2009\", \"City: Khazna<br>Group: Islamic State of Iraq (ISI)<br>casualities: 95<br>Year: 2009\", \"City: Baghdad<br>Group: Islamic State of Iraq (ISI)<br>casualities: 654<br>Year: 2009\", \"City: Baghdad<br>Group: Islamic State of Iraq (ISI)<br>casualities: 436<br>Year: 2009\", \"City: Baghdad<br>Group: Islamic State of Iraq (ISI)<br>casualities: 437<br>Year: 2009\", \"City: Baghdad<br>Group: Al-Qaida in Iraq<br>casualities: 126<br>Year: 2009\", \"City: Baghdad<br>Group: Al-Qaida in Iraq<br>casualities: 126<br>Year: 2009\", \"City: Baghdad<br>Group: Al-Qaida in Iraq<br>casualities: 126<br>Year: 2009\", \"City: Baghdad<br>Group: Al-Qaida in Iraq<br>casualities: 127<br>Year: 2009\", \"City: Baghdad<br>Group: Al-Qaida in Iraq<br>casualities: 127<br>Year: 2009\", \"City: Ramadi<br>Group: Islamic State of Iraq (ISI)<br>casualities: 80<br>Year: 2009\", \"City: Bab al-Sham<br>Group: Islamic State of Iraq (ISI)<br>casualities: 148<br>Year: 2010\", \"City: Karbala<br>Group: Islamic State of Iraq (ISI)<br>casualities: 181<br>Year: 2010\", \"City: Baqubah<br>Group: Islamic State of Iraq (ISI)<br>casualities: 91<br>Year: 2010\", \"City: Khalis<br>Group: Islamic State of Iraq (ISI)<br>casualities: 133<br>Year: 2010\", \"City: Basra<br>Group: Al-Qaida in Iraq<br>casualities: 112<br>Year: 2010\", \"City: Basra<br>Group: Al-Qaida in Iraq<br>casualities: 68<br>Year: 2010\", \"City: Basra<br>Group: Islamic State of Iraq (ISI)<br>casualities: 67<br>Year: 2010\", \"City: Hillah<br>Group: Al-Qaida in Iraq<br>casualities: 200<br>Year: 2010\", \"City: Baghdad<br>Group: Islamic State of Iraq (ISI)<br>casualities: 55<br>Year: 2010\", \"City: Baghdad<br>Group: Islamic State of Iraq (ISI)<br>casualities: 81<br>Year: 2010\", \"City: Baghdad<br>Group: Al-Qaida in Iraq<br>casualities: 84<br>Year: 2010\", \"City: Baghdad<br>Group: Islamic State of Iraq (ISI)<br>casualities: 181<br>Year: 2010\", \"City: Baghdad<br>Group: Islamic State of Iraq (ISI)<br>casualities: 58<br>Year: 2010\", \"City: Baghdad<br>Group: Islamic State of Iraq (ISI)<br>casualities: 91<br>Year: 2010\", \"City: Baghdad<br>Group: Islamic State of Iraq (ISI)<br>casualities: 133<br>Year: 2010\", \"City: Tikrit<br>Group: Al-Qaida in Iraq<br>casualities: 211<br>Year: 2011\", \"City: Tikrit<br>Group: Al-Qaida in Iraq<br>casualities: 163<br>Year: 2011\", \"City: Tikrit<br>Group: Islamic State of Iraq (ISI)<br>casualities: 92<br>Year: 2011\", \"City: Diwaniyah<br>Group: Arab Socialist Baath Party of Iraq<br>casualities: 57<br>Year: 2011\", \"City: Taji<br>Group: Islamic State of Iraq (ISI)<br>casualities: 93<br>Year: 2011\", \"City: Baghdad<br>Group: Al-Qaida in Iraq<br>casualities: 62<br>Year: 2011\", \"City: Al-Batha<br>Group: Muslim extremists<br>casualities: 115<br>Year: 2012\", \"City: Musayyib<br>Group: Al-Qaida in Iraq<br>casualities: 61<br>Year: 2012\", \"City: Baghdad<br>Group: Al-Qaida in Iraq<br>casualities: 91<br>Year: 2012\", \"City: Hillah<br>Group: Al-Qaida in Iraq<br>casualities: 58<br>Year: 2012\", \"City: Baghdad<br>Group: Al-Qaida in Iraq<br>casualities: 54<br>Year: 2012\", \"City: Baqubah<br>Group: Al-Qaida in Iraq<br>casualities: 56<br>Year: 2012\", \"City: Baqubah<br>Group: Al-Qaida in Iraq<br>casualities: 57<br>Year: 2012\", \"City: Diwaniyah<br>Group: Al-Qaida in Iraq<br>casualities: 65<br>Year: 2012\", \"City: Baghdad<br>Group: Al-Qaida in Iraq<br>casualities: 65<br>Year: 2012\", \"City: Amarah<br>Group: Al-Qaida in Iraq<br>casualities: 74<br>Year: 2012\", \"City: Taji<br>Group: Al-Qaida in Iraq<br>casualities: 69<br>Year: 2012\", \"City: Kirkuk<br>Group: Al-Qaida in Iraq<br>casualities: 108<br>Year: 2013\", \"City: Tuz Khormato<br>Group: Al-Qaida in Iraq<br>casualities: 118<br>Year: 2013\", \"City: Kirkuk<br>Group: Al-Qaida in Iraq<br>casualities: 106<br>Year: 2013\", \"City: Diwaniyah<br>Group: Al-Qaida in Iraq<br>casualities: 55<br>Year: 2013\", \"City: Rutbah<br>Group: Al-Qaida in Iraq<br>casualities: 64<br>Year: 2013\", \"City: Baqubah<br>Group: Al-Qaida in Iraq<br>casualities: 83<br>Year: 2013\", \"City: Baghdad<br>Group: Islamic State of Iraq and the Levant (ISIL)<br>casualities: 78<br>Year: 2013\", \"City: Al-Jadidah<br>Group: Islamic State of Iraq and the Levant (ISIL)<br>casualities: 64<br>Year: 2013\", \"City: Muqdadiyah<br>Group: Islamic State of Iraq and the Levant (ISIL)<br>casualities: 51<br>Year: 2013\", \"City: Saba al-Bor<br>Group: Islamic State of Iraq and the Levant (ISIL)<br>casualities: 85<br>Year: 2013\", \"City: Musayyib<br>Group: Islamic State of Iraq and the Levant (ISIL)<br>casualities: 91<br>Year: 2013\", \"City: Baghdad<br>Group: Islamic State of Iraq and the Levant (ISIL)<br>casualities: 118<br>Year: 2013\", \"City: Kirkuk<br>Group: Islamic State of Iraq and the Levant (ISIL)<br>casualities: 86<br>Year: 2013\", \"City: Baghdad<br>Group: Islamic State of Iraq and the Levant (ISIL)<br>casualities: 56<br>Year: 2013\", \"City: Baghdad<br>Group: Mukhtar Army<br>casualities: 53<br>Year: 2013\", \"City: Kirkuk<br>Group: Islamic State of Iraq and the Levant (ISIL)<br>casualities: 61<br>Year: 2014\", \"City: Baghdad<br>Group: Islamic State of Iraq and the Levant (ISIL)<br>casualities: 74<br>Year: 2014\", \"City: Samarra<br>Group: Islamic State of Iraq and the Levant (ISIL)<br>casualities: 57<br>Year: 2014\", \"City: Hillah<br>Group: Islamic State of Iraq and the Levant (ISIL)<br>casualities: 204<br>Year: 2014\", \"City: Khanaqin<br>Group: Islamic State of Iraq and the Levant (ISIL)<br>casualities: 81<br>Year: 2014\", \"City: Baghdad<br>Group: Islamic State of Iraq and the Levant (ISIL)<br>casualities: 53<br>Year: 2014\", \"City: Baghdad<br>Group: Islamic State of Iraq and the Levant (ISIL)<br>casualities: 68<br>Year: 2014\", \"City: Hillah<br>Group: Islamic State of Iraq and the Levant (ISIL)<br>casualities: 66<br>Year: 2014\", \"City: Tuz Khormato<br>Group: Islamic State of Iraq and the Levant (ISIL)<br>casualities: 109<br>Year: 2014\", \"City: Tuz Khormato<br>Group: Islamic State of Iraq and the Levant (ISIL)<br>casualities: 107<br>Year: 2014\", \"City: Badush<br>Group: Islamic State of Iraq and the Levant (ISIL)<br>casualities: 670<br>Year: 2014\", \"City: Baghdad<br>Group: Islamic State of Iraq and the Levant (ISIL)<br>casualities: 69<br>Year: 2014\", \"City: Hillah<br>Group: Asa'ib Ahl al-Haqq<br>casualities: 53<br>Year: 2014\", \"City: Tal Afar<br>Group: Islamic State of Iraq and the Levant (ISIL)<br>casualities: 63<br>Year: 2014\", \"City: Tikrit<br>Group: Islamic State of Iraq and the Levant (ISIL)<br>casualities: 1570<br>Year: 2014\", \"City: Baqubah<br>Group: Islamic State of Iraq and the Levant (ISIL)<br>casualities: 69<br>Year: 2014\", \"City: Hashimiyah<br>Group: Islamic State of Iraq and the Levant (ISIL)<br>casualities: 80<br>Year: 2014\", \"City: Baghdad<br>Group: Islamic State of Iraq and the Levant (ISIL)<br>casualities: 61<br>Year: 2014\", \"City: Jurf al-Sakhar<br>Group: Islamic State of Iraq and the Levant (ISIL)<br>casualities: 76<br>Year: 2014\", \"City: Baghdad<br>Group: Islamic State of Iraq and the Levant (ISIL)<br>casualities: 86<br>Year: 2014\", \"City: Zummar<br>Group: Islamic State of Iraq and the Levant (ISIL)<br>casualities: 114<br>Year: 2014\", \"City: Sinjar<br>Group: Islamic State of Iraq and the Levant (ISIL)<br>casualities: 67<br>Year: 2014\", \"City: Sinjar<br>Group: Islamic State of Iraq and the Levant (ISIL)<br>casualities: 953<br>Year: 2014\", \"City: Jalawla<br>Group: Islamic State of Iraq and the Levant (ISIL)<br>casualities: 91<br>Year: 2014\", \"City: Kojo<br>Group: Islamic State of Iraq and the Levant (ISIL)<br>casualities: 400<br>Year: 2014\", \"City: Imam Weis<br>Group: Asa'ib Ahl al-Haqq<br>casualities: 70<br>Year: 2014\", \"City: Mosul<br>Group: Islamic State of Iraq and the Levant (ISIL)<br>casualities: 150<br>Year: 2014\", \"City: Dhuluiya<br>Group: Islamic State of Iraq and the Levant (ISIL)<br>casualities: 187<br>Year: 2014\", \"City: Babilan<br>Group: Islamic State of Iraq and the Levant (ISIL)<br>casualities: 58<br>Year: 2014\", \"City: Baghdad<br>Group: Islamic State of Iraq and the Levant (ISIL)<br>casualities: 77<br>Year: 2014\", \"City: Ramadi<br>Group: Islamic State of Iraq and the Levant (ISIL)<br>casualities: 150<br>Year: 2014\", \"City: Hit<br>Group: Islamic State of Iraq and the Levant (ISIL)<br>casualities: 75<br>Year: 2014\", \"City: Hit district<br>Group: Islamic State of Iraq and the Levant (ISIL)<br>casualities: 71<br>Year: 2014\", \"City: Fallujah<br>Group: Islamic State of Iraq and the Levant (ISIL)<br>casualities: 150<br>Year: 2014\", \"City: Madain<br>Group: Islamic State of Iraq and the Levant (ISIL)<br>casualities: 107<br>Year: 2014\", \"City: Unknown<br>Group: Islamic State of Iraq and the Levant (ISIL)<br>casualities: 61<br>Year: 2014\", \"City: Taji<br>Group: Islamic State of Iraq and the Levant (ISIL)<br>casualities: 85<br>Year: 2014\", \"City: Kuwayr<br>Group: Islamic State of Iraq and the Levant (ISIL)<br>casualities: 71<br>Year: 2015\", \"City: Sultan Abdullah<br>Group: Islamic State of Iraq and the Levant (ISIL)<br>casualities: 77<br>Year: 2015\", \"City: Barwanat al-Kabira<br>Group: Islamic State of Iraq and the Levant (ISIL)<br>casualities: 71<br>Year: 2015\", \"City: Baghdad<br>Group: Islamic State of Iraq and the Levant (ISIL)<br>casualities: 97<br>Year: 2015\", \"City: Balad Ruz district<br>Group: Islamic State of Iraq and the Levant (ISIL)<br>casualities: 53<br>Year: 2015\", \"City: Ramadi<br>Group: Islamic State of Iraq and the Levant (ISIL)<br>casualities: 55<br>Year: 2015\", \"City: Tal Saquf<br>Group: Islamic State of Iraq and the Levant (ISIL)<br>casualities: 66<br>Year: 2015\", \"City: Qaim<br>Group: Islamic State of Iraq and the Levant (ISIL)<br>casualities: 300<br>Year: 2015\", \"City: Fallujah<br>Group: Islamic State of Iraq and the Levant (ISIL)<br>casualities: 57<br>Year: 2015\", \"City: Khalidiyah<br>Group: Islamic State of Iraq and the Levant (ISIL)<br>casualities: 54<br>Year: 2015\", \"City: Tharthar<br>Group: Islamic State of Iraq and the Levant (ISIL)<br>casualities: 64<br>Year: 2015\", \"City: Samarra district<br>Group: Islamic State of Iraq and the Levant (ISIL)<br>casualities: 53<br>Year: 2015\", \"City: Balad Ruz district<br>Group: Islamic State of Iraq and the Levant (ISIL)<br>casualities: 52<br>Year: 2015\", \"City: Gavara<br>Group: Islamic State of Iraq and the Levant (ISIL)<br>casualities: 81<br>Year: 2015\", \"City: Bani Saad<br>Group: Islamic State of Iraq and the Levant (ISIL)<br>casualities: 251<br>Year: 2015\", \"City: Fallujah<br>Group: Islamic State of Iraq and the Levant (ISIL)<br>casualities: 52<br>Year: 2015\", \"City: Baghdad<br>Group: Islamic State of Iraq and the Levant (ISIL)<br>casualities: 66<br>Year: 2015\", \"City: Huwaydir<br>Group: Islamic State of Iraq and the Levant (ISIL)<br>casualities: 132<br>Year: 2015\", \"City: Baghdad<br>Group: Islamic State of Iraq and the Levant (ISIL)<br>casualities: 220<br>Year: 2015\", \"City: Bashiqah<br>Group: Islamic State of Iraq and the Levant (ISIL)<br>casualities: 56<br>Year: 2015\", \"City: Tharthar<br>Group: Islamic State of Iraq and the Levant (ISIL)<br>casualities: 70<br>Year: 2015\", \"City: Khalis<br>Group: Islamic State of Iraq and the Levant (ISIL)<br>casualities: 99<br>Year: 2015\", \"City: Kuwayr<br>Group: Islamic State of Iraq and the Levant (ISIL)<br>casualities: 65<br>Year: 2015\", \"City: Qayyarah<br>Group: Islamic State of Iraq and the Levant (ISIL)<br>casualities: 83<br>Year: 2016\", \"City: Hadithah<br>Group: Islamic State of Iraq and the Levant (ISIL)<br>casualities: 142<br>Year: 2016\", \"City: Baghdad<br>Group: Islamic State of Iraq and the Levant (ISIL)<br>casualities: 71<br>Year: 2016\", \"City: Tharthar<br>Group: Islamic State of Iraq and the Levant (ISIL)<br>casualities: 138<br>Year: 2016\", \"City: Mosul<br>Group: Islamic State of Iraq and the Levant (ISIL)<br>casualities: 300<br>Year: 2016\", \"City: Hamidhiyah<br>Group: Islamic State of Iraq and the Levant (ISIL)<br>casualities: 57<br>Year: 2016\", \"City: Bashir<br>Group: Islamic State of Iraq and the Levant (ISIL)<br>casualities: 60<br>Year: 2016\", \"City: Baghdad<br>Group: Islamic State of Iraq and the Levant (ISIL)<br>casualities: 94<br>Year: 2016\", \"City: Baghdad<br>Group: Islamic State of Iraq and the Levant (ISIL)<br>casualities: 93<br>Year: 2016\", \"City: Muqdadiyah<br>Group: Islamic State of Iraq and the Levant (ISIL)<br>casualities: 89<br>Year: 2016\", \"City: Hillah<br>Group: Islamic State of Iraq and the Levant (ISIL)<br>casualities: 157<br>Year: 2016\", \"City: Taza Khurmatu<br>Group: Islamic State of Iraq and the Levant (ISIL)<br>casualities: 1503<br>Year: 2016\", \"City: Iskandariyah<br>Group: Islamic State of Iraq and the Levant (ISIL)<br>casualities: 91<br>Year: 2016\", \"City: Saqlawiyah<br>Group: Islamic State of Iraq and the Levant (ISIL)<br>casualities: 51<br>Year: 2016\", \"City: Mosul<br>Group: Islamic State of Iraq and the Levant (ISIL)<br>casualities: 250<br>Year: 2016\", \"City: Baghdad<br>Group: Islamic State of Iraq and the Levant (ISIL)<br>casualities: 51<br>Year: 2016\", \"City: Nahrawan<br>Group: Islamic State of Iraq and the Levant (ISIL)<br>casualities: 68<br>Year: 2016\", \"City: Mosul<br>Group: Islamic State of Iraq and the Levant (ISIL)<br>casualities: 60<br>Year: 2016\", \"City: Baqubah<br>Group: Islamic State of Iraq and the Levant (ISIL)<br>casualities: 52<br>Year: 2016\", \"City: Baghdad<br>Group: Islamic State of Iraq and the Levant (ISIL)<br>casualities: 61<br>Year: 2016\", \"City: Baghdad<br>Group: Islamic State of Iraq and the Levant (ISIL)<br>casualities: 152<br>Year: 2016\", \"City: Makhmur<br>Group: Islamic State of Iraq and the Levant (ISIL)<br>casualities: 65<br>Year: 2016\", \"City: Baghdad<br>Group: Islamic State of Iraq and the Levant (ISIL)<br>casualities: 52<br>Year: 2016\", \"City: Saqlawiyah<br>Group: Kata'ib Hezbollah<br>casualities: 649<br>Year: 2016\", \"City: Albu Hawah<br>Group: Islamic State of Iraq and the Levant (ISIL)<br>casualities: 53<br>Year: 2016\", \"City: Baghdad<br>Group: Islamic State of Iraq and the Levant (ISIL)<br>casualities: 583<br>Year: 2016\", \"City: Baiji district<br>Group: Islamic State of Iraq and the Levant (ISIL)<br>casualities: 72<br>Year: 2016\", \"City: Balad<br>Group: Islamic State of Iraq and the Levant (ISIL)<br>casualities: 130<br>Year: 2016\", \"City: Khalis district<br>Group: Islamic State of Iraq and the Levant (ISIL)<br>casualities: 56<br>Year: 2016\", \"City: Hawijah district<br>Group: Islamic State of Iraq and the Levant (ISIL)<br>casualities: 97<br>Year: 2016\", \"City: Barari<br>Group: Islamic State of Iraq and the Levant (ISIL)<br>casualities: 100<br>Year: 2016\", \"City: Hatra district<br>Group: Islamic State of Iraq and the Levant (ISIL)<br>casualities: 70<br>Year: 2016\", \"City: Baghdad<br>Group: Islamic State of Iraq and the Levant (ISIL)<br>casualities: 69<br>Year: 2016\", \"City: Kirkuk<br>Group: Islamic State of Iraq and the Levant (ISIL)<br>casualities: 182<br>Year: 2016\", \"City: Mosul<br>Group: Islamic State of Iraq and the Levant (ISIL)<br>casualities: 284<br>Year: 2016\", \"City: Hammam al-Alil<br>Group: Islamic State of Iraq and the Levant (ISIL)<br>casualities: 190<br>Year: 2016\", \"City: Nasr<br>Group: Islamic State of Iraq and the Levant (ISIL)<br>casualities: 70<br>Year: 2016\", \"City: Samarra<br>Group: Islamic State of Iraq and the Levant (ISIL)<br>casualities: 112<br>Year: 2016\", \"City: Amiriyat al-Fallujah<br>Group: Islamic State of Iraq and the Levant (ISIL)<br>casualities: 61<br>Year: 2016\", \"City: Shomali<br>Group: Islamic State of Iraq and the Levant (ISIL)<br>casualities: 118<br>Year: 2016\", \"City: Hammam al-Alil<br>Group: Islamic State of Iraq and the Levant (ISIL)<br>casualities: 100<br>Year: 2016\", \"City: Hammam al-Alil<br>Group: Islamic State of Iraq and the Levant (ISIL)<br>casualities: 130<br>Year: 2016\", \"City: Mosul<br>Group: Islamic State of Iraq and the Levant (ISIL)<br>casualities: 56<br>Year: 2016\", \"City: Mosul<br>Group: Islamic State of Iraq and the Levant (ISIL)<br>casualities: 93<br>Year: 2016\", \"City: Bawizah<br>Group: Islamic State of Iraq and the Levant (ISIL)<br>casualities: 60<br>Year: 2016\", \"City: Baghdad<br>Group: Islamic State of Iraq and the Levant (ISIL)<br>casualities: 97<br>Year: 2017\", \"City: Mosul<br>Group: Islamic State of Iraq and the Levant (ISIL)<br>casualities: 75<br>Year: 2017\", \"City: Mosul<br>Group: Islamic State of Iraq and the Levant (ISIL)<br>casualities: 93<br>Year: 2017\", \"City: Baghdad<br>Group: Islamic State of Iraq and the Levant (ISIL)<br>casualities: 95<br>Year: 2017\", \"City: Tikrit<br>Group: Islamic State of Iraq and the Levant (ISIL)<br>casualities: 51<br>Year: 2017\", \"City: Baghdad<br>Group: Islamic State of Iraq and the Levant (ISIL)<br>casualities: 72<br>Year: 2017\", \"City: Mosul<br>Group: Islamic State of Iraq and the Levant (ISIL)<br>casualities: 230<br>Year: 2017\", \"City: Unknown<br>Group: Islamic State of Iraq and the Levant (ISIL)<br>casualities: 151<br>Year: 2017\", \"City: Baghdad<br>Group: Islamic State of Iraq and the Levant (ISIL)<br>casualities: 61<br>Year: 2017\", \"City: Tikrit<br>Group: Islamic State of Iraq and the Levant (ISIL)<br>casualities: 78<br>Year: 2017\", \"City: Mosul<br>Group: Islamic State of Iraq and the Levant (ISIL)<br>casualities: 57<br>Year: 2017\", \"City: Mosul<br>Group: Islamic State of Iraq and the Levant (ISIL)<br>casualities: 64<br>Year: 2017\", \"City: Baghdad<br>Group: Islamic State of Iraq and the Levant (ISIL)<br>casualities: 59<br>Year: 2017\", \"City: Hit<br>Group: Islamic State of Iraq and the Levant (ISIL)<br>casualities: 53<br>Year: 2017\", \"City: Mosul<br>Group: Islamic State of Iraq and the Levant (ISIL)<br>casualities: 163<br>Year: 2017\", \"City: Musayyib<br>Group: Islamic State of Iraq and the Levant (ISIL)<br>casualities: 55<br>Year: 2017\", \"City: Mosul<br>Group: Islamic State of Iraq and the Levant (ISIL)<br>casualities: 100<br>Year: 2017\", \"City: Tal Afar<br>Group: Islamic State of Iraq and the Levant (ISIL)<br>casualities: 200<br>Year: 2017\", \"City: Akashat<br>Group: Islamic State of Iraq and the Levant (ISIL)<br>casualities: 111<br>Year: 2017\", \"City: Nasiriyah<br>Group: Islamic State of Iraq and the Levant (ISIL)<br>casualities: 93<br>Year: 2017\", \"City: Nasiriyah<br>Group: Islamic State of Iraq and the Levant (ISIL)<br>casualities: 90<br>Year: 2017\", \"City: Tuz Khormato<br>Group: Islamic State of Iraq and the Levant (ISIL)<br>casualities: 122<br>Year: 2017\"], \"type\": \"scatter\", \"x\": [1982, 1982, 1988, 1992, 1994, 1995, 1997, 2003, 2003, 2003, 2003, 2003, 2003, 2003, 2004, 2004, 2004, 2004, 2004, 2004, 2004, 2004, 2004, 2004, 2004, 2004, 2004, 2004, 2004, 2005, 2005, 2005, 2005, 2005, 2005, 2005, 2005, 2005, 2005, 2005, 2005, 2005, 2006, 2006, 2006, 2006, 2006, 2006, 2007, 2007, 2007, 2007, 2007, 2007, 2007, 2007, 2007, 2008, 2008, 2008, 2008, 2008, 2008, 2008, 2008, 2008, 2008, 2008, 2009, 2009, 2009, 2009, 2009, 2009, 2009, 2009, 2009, 2009, 2009, 2009, 2009, 2009, 2009, 2009, 2009, 2009, 2009, 2009, 2009, 2009, 2010, 2010, 2010, 2010, 2010, 2010, 2010, 2010, 2010, 2010, 2010, 2010, 2010, 2010, 2010, 2011, 2011, 2011, 2011, 2011, 2011, 2012, 2012, 2012, 2012, 2012, 2012, 2012, 2012, 2012, 2012, 2012, 2013, 2013, 2013, 2013, 2013, 2013, 2013, 2013, 2013, 2013, 2013, 2013, 2013, 2013, 2013, 2014, 2014, 2014, 2014, 2014, 2014, 2014, 2014, 2014, 2014, 2014, 2014, 2014, 2014, 2014, 2014, 2014, 2014, 2014, 2014, 2014, 2014, 2014, 2014, 2014, 2014, 2014, 2014, 2014, 2014, 2014, 2014, 2014, 2014, 2014, 2014, 2014, 2015, 2015, 2015, 2015, 2015, 2015, 2015, 2015, 2015, 2015, 2015, 2015, 2015, 2015, 2015, 2015, 2015, 2015, 2015, 2015, 2015, 2015, 2015, 2016, 2016, 2016, 2016, 2016, 2016, 2016, 2016, 2016, 2016, 2016, 2016, 2016, 2016, 2016, 2016, 2016, 2016, 2016, 2016, 2016, 2016, 2016, 2016, 2016, 2016, 2016, 2016, 2016, 2016, 2016, 2016, 2016, 2016, 2016, 2016, 2016, 2016, 2016, 2016, 2016, 2016, 2016, 2016, 2016, 2017, 2017, 2017, 2017, 2017, 2017, 2017, 2017, 2017, 2017, 2017, 2017, 2017, 2017, 2017, 2017, 2017, 2017, 2017, 2017, 2017, 2017], \"y\": [158, 76, 140, 60, 91, 217, 57, 68, 124, 300, 57, 62, 60, 68, 221, 112, 343, 225, 73, 68, 174, 280, 52, 126, 56, 161, 61, 51, 89, 210, 57, 88, 100, 142, 155, 85, 72, 101, 702, 68, 60, 108, 90, 65, 173, 191, 71, 85, 292, 102, 251, 275, 118, 96, 84, 1000, 1000, 220, 186, 122, 102, 88, 85, 73, 66, 103, 63, 176, 140, 121, 87, 80, 75, 123, 124, 73, 294, 130, 96, 131, 95, 654, 436, 437, 126, 126, 126, 127, 127, 80, 148, 181, 91, 133, 112, 68, 67, 200, 55, 81, 84, 181, 58, 91, 133, 211, 163, 92, 57, 93, 62, 115, 61, 91, 58, 54, 56, 57, 65, 65, 74, 69, 108, 118, 106, 55, 64, 83, 78, 64, 51, 85, 91, 118, 86, 56, 53, 61, 74, 57, 204, 81, 53, 68, 66, 109, 107, 670, 69, 53, 63, 1570, 69, 80, 61, 76, 86, 114, 67, 953, 91, 400, 70, 150, 187, 58, 77, 150, 75, 71, 150, 107, 61, 85, 71, 77, 71, 97, 53, 55, 66, 300, 57, 54, 64, 53, 52, 81, 251, 52, 66, 132, 220, 56, 70, 99, 65, 83, 142, 71, 138, 300, 57, 60, 94, 93, 89, 157, 1503, 91, 51, 250, 51, 68, 60, 52, 61, 152, 65, 52, 649, 53, 583, 72, 130, 56, 97, 100, 70, 69, 182, 284, 190, 70, 112, 61, 118, 100, 130, 56, 93, 60, 97, 75, 93, 95, 51, 72, 230, 151, 61, 78, 57, 64, 59, 53, 163, 55, 100, 200, 111, 93, 90, 122]}, {\"marker\": {\"line\": {\"width\": 2}, \"size\": [170, 56, 104, 70, 76, 142, 87, 186, 54, 51, 63, 106, 61, 118, 59, 141, 182, 214, 131, 51, 53, 391, 120, 227, 51, 58, 164, 63, 215, 102, 165, 230, 77, 91, 76, 70, 61, 60, 320, 145, 187, 61, 131, 127, 147, 107, 60, 58, 58, 221, 240, 216, 73, 123, 115, 112, 120, 81, 72, 126, 76, 154, 222, 85, 58, 58, 180, 53, 104, 56, 95, 105, 104, 53, 61, 64, 59, 58, 84, 87, 88, 54, 139, 137, 62, 101, 80, 260, 196, 51, 78, 51, 93, 87, 70, 87, 55, 99, 107, 105, 89, 218, 52, 61, 60, 63, 52, 67, 60, 172, 279, 108, 74, 58, 70, 64, 166, 92, 78, 66, 430, 200, 58, 69, 228, 153, 91, 72, 442, 160, 59, 180, 181, 78, 67], \"sizemode\": \"area\", \"symbol\": \"circle\"}, \"mode\": \"markers\", \"name\": \"Pakistan\", \"text\": [\"City: Karachi<br>Group: Abu Nidal Organization (ANO)<br>casualities: 170<br>Year: 1986\", \"City: Karachi<br>Group: Muttahida Qami Movement (MQM)<br>casualities: 56<br>Year: 1990\", \"City: Karachi<br>Group: Jamaat-E-Islami (India/Pakistan)<br>casualities: 104<br>Year: 1992\", \"City: Mingora<br>Group: Islamist extremists<br>casualities: 70<br>Year: 1994\", \"City: Islamabad<br>Group: Egyptian Islamic Jihad (Al-Jihad)<br>casualities: 76<br>Year: 1995\", \"City: Peshawar<br>Group: Afghans<br>casualities: 142<br>Year: 1995\", \"City: Chak 205<br>Group: Lashkar-e-Jhangvi<br>casualities: 87<br>Year: 1996\", \"City: Parachinar<br>Group: Shia Muslim extremists<br>casualities: 186<br>Year: 1996\", \"City: Multan<br>Group: Shia Muslim extremists<br>casualities: 54<br>Year: 1996\", \"City: Islamabad<br>Group: Al-Qaida<br>casualities: 51<br>Year: 2002\", \"City: Karachi<br>Group: Lashkar-e-Omar<br>casualities: 63<br>Year: 2002\", \"City: Quetta<br>Group: Lashkar-e-Jhangvi<br>casualities: 106<br>Year: 2003\", \"City: Rawalpindi<br>Group: Al-Qaida<br>casualities: 61<br>Year: 2003\", \"City: Karachi<br>Group: Lashkar-e-Jhangvi<br>casualities: 118<br>Year: 2004\", \"City: Fateh Jang<br>Group: Islambouli Brigades of al-Qaida<br>casualities: 59<br>Year: 2004\", \"City: Multan<br>Group: Sipah-I-Mohammed<br>casualities: 141<br>Year: 2004\", \"City: Karachi<br>Group: Lashkar-e-Jhangvi<br>casualities: 182<br>Year: 2006\", \"City: Islamabad<br>Group: Muslim extremists<br>casualities: 214<br>Year: 2007\", \"City: Islamabad<br>Group: Muslim extremists<br>casualities: 131<br>Year: 2007\", \"City: Miran Shah<br>Group: Al-Qaida<br>casualities: 51<br>Year: 2007\", \"City: Rawalpindi<br>Group: Al-Qaida<br>casualities: 53<br>Year: 2007\", \"City: Karachi<br>Group: Harkatul Jihad-e-Islami<br>casualities: 391<br>Year: 2007\", \"City: Rawalpindi<br>Group: Al-Qaida<br>casualities: 120<br>Year: 2007\", \"City: Lahore<br>Group: Al-Qaida<br>casualities: 227<br>Year: 2008\", \"City: Lahore<br>Group: Tehrik-i-Taliban Pakistan (TTP)<br>casualities: 51<br>Year: 2008\", \"City: Dera Ismail Khan<br>Group: Tehrik-i-Taliban Pakistan (TTP)<br>casualities: 58<br>Year: 2008\", \"City: Islamabad<br>Group: Tehrik-i-Taliban Pakistan (TTP)<br>casualities: 164<br>Year: 2008\", \"City: Bajaur district<br>Group: Tehrik-i-Taliban Pakistan (TTP)<br>casualities: 63<br>Year: 2008\", \"City: Jamrud<br>Group: Tehrik-i-Taliban Pakistan (TTP)<br>casualities: 215<br>Year: 2009\", \"City: Manawan<br>Group: Tehrik-i-Taliban Pakistan (TTP)<br>casualities: 102<br>Year: 2009\", \"City: Chakwal<br>Group: Tehrik-i-Taliban Pakistan (TTP)<br>casualities: 165<br>Year: 2009\", \"City: Lahore<br>Group: Tehrik-i-Taliban Pakistan (TTP)<br>casualities: 230<br>Year: 2009\", \"City: Peshawar<br>Group: Tehrik-i-Taliban Pakistan (TTP)<br>casualities: 77<br>Year: 2009\", \"City: Dir<br>Group: Tehrik-i-Taliban Pakistan (TTP)<br>casualities: 91<br>Year: 2009\", \"City: Peshawar<br>Group: Tehrik-i-Taliban Pakistan (TTP)<br>casualities: 76<br>Year: 2009\", \"City: South Waziristan district<br>Group: Tehrik-i-Taliban Pakistan (TTP)<br>casualities: 70<br>Year: 2009\", \"City: Kohat<br>Group: Lashkar-e-Jhangvi<br>casualities: 61<br>Year: 2009\", \"City: Lahore<br>Group: Tehrik-i-Taliban Pakistan (TTP)<br>casualities: 60<br>Year: 2009\", \"City: Peshawar<br>Group: Tehrik-i-Taliban Pakistan (TTP)<br>casualities: 320<br>Year: 2009\", \"City: Karachi<br>Group: Tehrik-i-Taliban Pakistan (TTP)<br>casualities: 145<br>Year: 2009\", \"City: Shah Hassan Khel<br>Group: Tehrik-i-Taliban Pakistan (TTP)<br>casualities: 187<br>Year: 2010\", \"City: Karachi<br>Group: Jundallah (Pakistan)<br>casualities: 61<br>Year: 2010\", \"City: Khyber district<br>Group: Ansarul Islam (Pakistan)<br>casualities: 131<br>Year: 2010\", \"City: Lahore<br>Group: Tehrik-i-Taliban Pakistan (TTP)<br>casualities: 127<br>Year: 2010\", \"City: Lahore<br>Group: Tehrik-i-Taliban Pakistan (TTP)<br>casualities: 147<br>Year: 2010\", \"City: Kohat<br>Group: Lashkar-e-Jhangvi<br>casualities: 107<br>Year: 2010\", \"City: Lahore<br>Group: Tehrik-i-Taliban Pakistan (TTP)<br>casualities: 60<br>Year: 2010\", \"City: Lahore<br>Group: Tehrik-i-Taliban Pakistan (TTP)<br>casualities: 58<br>Year: 2010\", \"City: Lahore<br>Group: Tehrik-i-Taliban Pakistan (TTP)<br>casualities: 58<br>Year: 2010\", \"City: Mohmand district<br>Group: Tehrik-i-Taliban Pakistan (TTP)<br>casualities: 221<br>Year: 2010\", \"City: Lahore<br>Group: Tehrik-i-Taliban Pakistan (TTP)<br>casualities: 240<br>Year: 2010\", \"City: Quetta<br>Group: Tehrik-i-Taliban Pakistan (TTP)<br>casualities: 216<br>Year: 2010\", \"City: Karachi<br>Group: Tehrik-i-Taliban Pakistan (TTP)<br>casualities: 73<br>Year: 2010\", \"City: Darra Adam Khel<br>Group: Tehrik-i-Taliban Pakistan (TTP)<br>casualities: 123<br>Year: 2010\", \"City: Islamabad<br>Group: Tehrik-i-Taliban Pakistan (TTP)<br>casualities: 115<br>Year: 2010\", \"City: Mohmand district<br>Group: Tehrik-i-Taliban Pakistan (TTP)<br>casualities: 112<br>Year: 2010\", \"City: Bajaur district<br>Group: Tehrik-i-Taliban Pakistan (TTP)<br>casualities: 120<br>Year: 2010\", \"City: Lahore<br>Group: Tehrik-i-Taliban Pakistan (TTP)<br>casualities: 81<br>Year: 2011\", \"City: Mardan<br>Group: Tehrik-i-Taliban Pakistan (TTP)<br>casualities: 72<br>Year: 2011\", \"City: Faisalabad<br>Group: Tehrik-i-Taliban Pakistan (TTP)<br>casualities: 126<br>Year: 2011\", \"City: Peshawar<br>Group: Tehrik-i-Taliban Pakistan (TTP)<br>casualities: 76<br>Year: 2011\", \"City: Dera Ghazi Khan<br>Group: Tehrik-i-Taliban Pakistan (TTP)<br>casualities: 154<br>Year: 2011\", \"City: Shabqadar<br>Group: Tehrik-i-Taliban Pakistan (TTP)<br>casualities: 222<br>Year: 2011\", \"City: Hangu<br>Group: Tehrik-i-Taliban Pakistan (TTP)<br>casualities: 85<br>Year: 2011\", \"City: Peshawar<br>Group: Tehrik-i-Taliban Pakistan (TTP)<br>casualities: 58<br>Year: 2011\", \"City: Peshawar<br>Group: Tehrik-i-Taliban Pakistan (TTP)<br>casualities: 58<br>Year: 2011\", \"City: Jamrud<br>Group: Tehrik-i-Taliban Pakistan (TTP)<br>casualities: 180<br>Year: 2011\", \"City: Quetta<br>Group: Tehrik-i-Taliban Pakistan (TTP)<br>casualities: 53<br>Year: 2011\", \"City: Dir<br>Group: Tehrik-i-Taliban Pakistan (TTP)<br>casualities: 104<br>Year: 2011\", \"City: Quetta<br>Group: Lashkar-e-Jhangvi<br>casualities: 56<br>Year: 2011\", \"City: Jamrud<br>Group: Tehrik-i-Taliban Pakistan (TTP)<br>casualities: 95<br>Year: 2012\", \"City: Jogi<br>Group: Tehrik-i-Taliban Pakistan (TTP)<br>casualities: 105<br>Year: 2012\", \"City: Parachinar<br>Group: Tehrik-e-Taliban Islami (TTI)<br>casualities: 104<br>Year: 2012\", \"City: Badaber<br>Group: Tehrik-i-Taliban Pakistan (TTP)<br>casualities: 53<br>Year: 2012\", \"City: Khar<br>Group: Tehrik-i-Taliban Pakistan (TTP)<br>casualities: 61<br>Year: 2012\", \"City: Quetta<br>Group: Baloch Republican Army (BRA)<br>casualities: 64<br>Year: 2012\", \"City: Gulbela<br>Group: Tehrik-i-Taliban Pakistan (TTP)<br>casualities: 59<br>Year: 2012\", \"City: Ghaljo<br>Group: Tehrik-i-Taliban Pakistan (TTP)<br>casualities: 58<br>Year: 2012\", \"City: Parachinar<br>Group: Tehrik-i-Taliban Pakistan (TTP)<br>casualities: 84<br>Year: 2012\", \"City: Rawalpindi<br>Group: Tehrik-i-Taliban Pakistan (TTP)<br>casualities: 87<br>Year: 2012\", \"City: Dera Ismail Khan<br>Group: Tehrik-i-Taliban Pakistan (TTP)<br>casualities: 88<br>Year: 2012\", \"City: Peshawar<br>Group: Tehrik-i-Taliban Pakistan (TTP)<br>casualities: 54<br>Year: 2012\", \"City: Quetta<br>Group: Lashkar-e-Jhangvi<br>casualities: 139<br>Year: 2013\", \"City: Quetta<br>Group: Lashkar-e-Jhangvi<br>casualities: 137<br>Year: 2013\", \"City: Quetta<br>Group: United Baloch Army (UBA)<br>casualities: 62<br>Year: 2013\", \"City: Mingora<br>Group: Lashkar-e-Jhangvi<br>casualities: 101<br>Year: 2013\", \"City: Hangu<br>Group: Tehrik-i-Taliban Pakistan (TTP)<br>casualities: 80<br>Year: 2013\", \"City: Quetta<br>Group: Lashkar-e-Jhangvi<br>casualities: 260<br>Year: 2013\", \"City: Karachi<br>Group: Tehrik-i-Taliban Pakistan (TTP)<br>casualities: 196<br>Year: 2013\", \"City: Peshawar<br>Group: Tehrik-i-Taliban Pakistan (TTP)<br>casualities: 51<br>Year: 2013\", \"City: Peshawar<br>Group: Tehrik-i-Taliban Pakistan (TTP)<br>casualities: 78<br>Year: 2013\", \"City: Karachi<br>Group: Tehrik-i-Taliban Pakistan (TTP)<br>casualities: 51<br>Year: 2013\", \"City: Parachinar<br>Group: Tehrik-i-Taliban Pakistan (TTP)<br>casualities: 93<br>Year: 2013\", \"City: Quetta<br>Group: Lashkar-e-Jhangvi<br>casualities: 87<br>Year: 2013\", \"City: Badaber<br>Group: Tehrik-i-Taliban Pakistan (TTP)<br>casualities: 70<br>Year: 2013\", \"City: Quetta<br>Group: Lashkar-e-Jhangvi<br>casualities: 87<br>Year: 2013\", \"City: Lahore<br>Group: Baloch Liberation Tigers (BLT)<br>casualities: 55<br>Year: 2013\", \"City: Quetta<br>Group: Lashkar-e-Jhangvi<br>casualities: 99<br>Year: 2013\", \"City: Parachinar<br>Group: Mujahideen Ansar<br>casualities: 107<br>Year: 2013\", \"City: Parachinar<br>Group: Mujahideen Ansar<br>casualities: 105<br>Year: 2013\", \"City: Quetta<br>Group: Tehrik-i-Taliban Pakistan (TTP)<br>casualities: 89<br>Year: 2013\", \"City: Peshawar<br>Group: Jundallah (Pakistan)<br>casualities: 218<br>Year: 2013\", \"City: Bannu<br>Group: Tehrik-i-Taliban Pakistan (TTP)<br>casualities: 52<br>Year: 2014\", \"City: Mastung district<br>Group: Lashkar-e-Jhangvi<br>casualities: 61<br>Year: 2014\", \"City: Peshawar<br>Group: Tehrik-i-Taliban Pakistan (TTP)<br>casualities: 60<br>Year: 2014\", \"City: Saraband<br>Group: Tehrik-i-Taliban Pakistan (TTP)<br>casualities: 63<br>Year: 2014\", \"City: Sibi<br>Group: United Baloch Army (UBA)<br>casualities: 52<br>Year: 2014\", \"City: Islamabad<br>Group: United Baloch Army (UBA)<br>casualities: 67<br>Year: 2014\", \"City: Karachi<br>Group: Tehrik-i-Taliban Pakistan (TTP)<br>casualities: 60<br>Year: 2014\", \"City: Wagah<br>Group: Tehrik-i-Taliban Pakistan (TTP)<br>casualities: 172<br>Year: 2014\", \"City: Peshawar<br>Group: Tehrik-i-Taliban Pakistan (TTP)<br>casualities: 279<br>Year: 2014\", \"City: Shikarpur district<br>Group: Jundallah (Pakistan)<br>casualities: 108<br>Year: 2015\", \"City: Hayatabad<br>Group: Jundallah (Pakistan)<br>casualities: 74<br>Year: 2015\", \"City: Karachi<br>Group: Khorasan Chapter of the Islamic State<br>casualities: 58<br>Year: 2015\", \"City: Multan<br>Group: United Baloch Army (UBA)<br>casualities: 70<br>Year: 2015\", \"City: Badaber<br>Group: Tehrik-i-Taliban Pakistan (TTP)<br>casualities: 64<br>Year: 2015\", \"City: Abi Gum<br>Group: Baloch Young Tigers (BYT)<br>casualities: 166<br>Year: 2015\", \"City: Parachinar<br>Group: Lashkar-e-Jhangvi<br>casualities: 92<br>Year: 2015\", \"City: Mardan<br>Group: Tehrik-i-Taliban Pakistan (TTP)<br>casualities: 78<br>Year: 2015\", \"City: Peshawar<br>Group: Lashkar-e-Islam (Pakistan)<br>casualities: 66<br>Year: 2016\", \"City: Lahore<br>Group: Tehrik-i-Taliban Pakistan (TTP)<br>casualities: 430<br>Year: 2016\", \"City: Quetta<br>Group: Khorasan Chapter of the Islamic State<br>casualities: 200<br>Year: 2016\", \"City: Mardan<br>Group: Tehrik-i-Taliban Pakistan (TTP)<br>casualities: 58<br>Year: 2016\", \"City: Pai Khan<br>Group: Tehrik-i-Taliban Pakistan (TTP)<br>casualities: 69<br>Year: 2016\", \"City: Quetta<br>Group: Lashkar-e-Jhangvi<br>casualities: 228<br>Year: 2016\", \"City: Khuzdar district<br>Group: Khorasan Chapter of the Islamic State<br>casualities: 153<br>Year: 2016\", \"City: Parachinar<br>Group: Lashkar-e-Jhangvi<br>casualities: 91<br>Year: 2017\", \"City: Lahore<br>Group: Tehrik-i-Taliban Pakistan (TTP)<br>casualities: 72<br>Year: 2017\", \"City: Sehwan<br>Group: Khorasan Chapter of the Islamic State<br>casualities: 442<br>Year: 2017\", \"City: Parachinar<br>Group: Tehrik-i-Taliban Pakistan (TTP)<br>casualities: 160<br>Year: 2017\", \"City: Mastung<br>Group: Khorasan Chapter of the Islamic State<br>casualities: 59<br>Year: 2017\", \"City: Parachinar<br>Group: Lashkar-e-Jhangvi<br>casualities: 180<br>Year: 2017\", \"City: Parachinar<br>Group: Lashkar-e-Jhangvi<br>casualities: 181<br>Year: 2017\", \"City: Lahore<br>Group: Tehrik-i-Taliban Pakistan (TTP)<br>casualities: 78<br>Year: 2017\", \"City: Quetta<br>Group: Khorasan Chapter of the Islamic State<br>casualities: 67<br>Year: 2017\"], \"type\": \"scatter\", \"x\": [1986, 1990, 1992, 1994, 1995, 1995, 1996, 1996, 1996, 2002, 2002, 2003, 2003, 2004, 2004, 2004, 2006, 2007, 2007, 2007, 2007, 2007, 2007, 2008, 2008, 2008, 2008, 2008, 2009, 2009, 2009, 2009, 2009, 2009, 2009, 2009, 2009, 2009, 2009, 2009, 2010, 2010, 2010, 2010, 2010, 2010, 2010, 2010, 2010, 2010, 2010, 2010, 2010, 2010, 2010, 2010, 2010, 2011, 2011, 2011, 2011, 2011, 2011, 2011, 2011, 2011, 2011, 2011, 2011, 2011, 2012, 2012, 2012, 2012, 2012, 2012, 2012, 2012, 2012, 2012, 2012, 2012, 2013, 2013, 2013, 2013, 2013, 2013, 2013, 2013, 2013, 2013, 2013, 2013, 2013, 2013, 2013, 2013, 2013, 2013, 2013, 2013, 2014, 2014, 2014, 2014, 2014, 2014, 2014, 2014, 2014, 2015, 2015, 2015, 2015, 2015, 2015, 2015, 2015, 2016, 2016, 2016, 2016, 2016, 2016, 2016, 2017, 2017, 2017, 2017, 2017, 2017, 2017, 2017, 2017], \"y\": [170, 56, 104, 70, 76, 142, 87, 186, 54, 51, 63, 106, 61, 118, 59, 141, 182, 214, 131, 51, 53, 391, 120, 227, 51, 58, 164, 63, 215, 102, 165, 230, 77, 91, 76, 70, 61, 60, 320, 145, 187, 61, 131, 127, 147, 107, 60, 58, 58, 221, 240, 216, 73, 123, 115, 112, 120, 81, 72, 126, 76, 154, 222, 85, 58, 58, 180, 53, 104, 56, 95, 105, 104, 53, 61, 64, 59, 58, 84, 87, 88, 54, 139, 137, 62, 101, 80, 260, 196, 51, 78, 51, 93, 87, 70, 87, 55, 99, 107, 105, 89, 218, 52, 61, 60, 63, 52, 67, 60, 172, 279, 108, 74, 58, 70, 64, 166, 92, 78, 66, 430, 200, 58, 69, 228, 153, 91, 72, 442, 160, 59, 180, 181, 78, 67]}, {\"marker\": {\"line\": {\"width\": 2}, \"size\": [81, 111, 150, 90, 75, 63, 73, 62, 63, 51, 88, 88, 201, 80, 199, 60, 63, 98, 52, 100, 54, 69, 96, 53, 96, 66, 128, 85, 119, 72, 79, 84, 59, 65, 61, 99, 60, 72, 190, 60, 55, 140, 120, 160, 53, 90, 84, 56, 83, 76, 78, 92, 94, 148, 150, 56, 55, 82, 104, 70, 53, 160, 66, 120, 110, 54, 56, 75, 70, 57, 130, 130, 129, 53, 63, 124, 56, 85, 74, 67, 134, 71, 70, 78, 67, 92, 55, 416, 51, 74, 65, 101, 68, 100, 59, 74, 55, 536, 151, 54, 110, 52, 80, 62, 51, 101, 53, 418, 63, 54, 52, 58, 57, 99, 90, 313, 89, 52, 57, 72, 196, 77, 76, 58, 57, 56, 56, 56, 274, 51, 90, 54, 90, 133, 63, 56, 56, 84, 63, 63, 69, 68, 54, 104, 68, 330, 70, 52, 88, 56, 584, 96, 93, 52, 77, 158, 100, 62, 77, 72, 82, 59, 74, 67, 310, 62, 112, 59, 58, 58, 112, 132], \"sizemode\": \"area\", \"symbol\": \"circle\"}, \"mode\": \"markers\", \"name\": \"Afghanistan\", \"text\": [\"City: Kabul<br>Group: Guerrillas<br>casualities: 81<br>Year: 1992\", \"City: Kabul<br>Group: Hizb-I-Islami<br>casualities: 111<br>Year: 1992\", \"City: Yakawlang<br>Group: Taliban<br>casualities: 150<br>Year: 2001\", \"City: Jalalabad<br>Group: Al-Qaida<br>casualities: 90<br>Year: 2002\", \"City: Kabul<br>Group: Al-Qaida<br>casualities: 75<br>Year: 2002\", \"City: Kandahar<br>Group: Taliban<br>casualities: 63<br>Year: 2003\", \"City: Kandahar<br>Group: Al-Qaida<br>casualities: 73<br>Year: 2005\", \"City: Lashkar Gah<br>Group: Taliban<br>casualities: 62<br>Year: 2006\", \"City: Kabul<br>Group: Taliban<br>casualities: 63<br>Year: 2006\", \"City: Bagram Air Field<br>Group: Taliban<br>casualities: 51<br>Year: 2007\", \"City: Kabul<br>Group: Haqqani Network<br>casualities: 88<br>Year: 2007\", \"City: Gereshk<br>Group: Taliban<br>casualities: 88<br>Year: 2007\", \"City: Kandahar<br>Group: Taliban<br>casualities: 201<br>Year: 2008\", \"City: Spin Boldak<br>Group: Taliban<br>casualities: 80<br>Year: 2008\", \"City: Kabul<br>Group: Haqqani Network<br>casualities: 199<br>Year: 2008\", \"City: Dihrawud<br>Group: Taliban<br>casualities: 60<br>Year: 2008\", \"City: Chaharikar<br>Group: Taliban<br>casualities: 63<br>Year: 2009\", \"City: Mahmud Raqi<br>Group: Taliban<br>casualities: 98<br>Year: 2009\", \"City: Khost<br>Group: Taliban<br>casualities: 52<br>Year: 2009\", \"City: Kandahar<br>Group: Taliban<br>casualities: 100<br>Year: 2009\", \"City: Mihtarlam<br>Group: Taliban<br>casualities: 54<br>Year: 2009\", \"City: Maywand<br>Group: Taliban<br>casualities: 69<br>Year: 2009\", \"City: Kabul<br>Group: Taliban<br>casualities: 96<br>Year: 2009\", \"City: Kabul<br>Group: Haqqani Network<br>casualities: 53<br>Year: 2010\", \"City: Kandahar<br>Group: Taliban<br>casualities: 96<br>Year: 2010\", \"City: Kabul<br>Group: Haqqani Network<br>casualities: 66<br>Year: 2010\", \"City: Arghandab<br>Group: Taliban<br>casualities: 128<br>Year: 2010\", \"City: Barmal district<br>Group: Taliban<br>casualities: 85<br>Year: 2010\", \"City: Jalalabad<br>Group: Haqqani Network<br>casualities: 119<br>Year: 2011\", \"City: Imam Sahib<br>Group: Taliban<br>casualities: 72<br>Year: 2011\", \"City: Kunduz<br>Group: Taliban<br>casualities: 79<br>Year: 2011\", \"City: Barmal<br>Group: Taliban<br>casualities: 84<br>Year: 2011\", \"City: Kandahar<br>Group: Taliban<br>casualities: 59<br>Year: 2011\", \"City: Jadran district<br>Group: Haqqani Network<br>casualities: 65<br>Year: 2011\", \"City: Chaharikar<br>Group: Taliban<br>casualities: 61<br>Year: 2011\", \"City: Unknown<br>Group: Haqqani Network<br>casualities: 99<br>Year: 2011\", \"City: Unknown<br>Group: Taliban<br>casualities: 60<br>Year: 2011\", \"City: Muhammad Agha<br>Group: Haqqani Network<br>casualities: 72<br>Year: 2011\", \"City: Kabul<br>Group: Lashkar-e-Jhangvi<br>casualities: 190<br>Year: 2011\", \"City: Taloqan<br>Group: Islamic Movement of Uzbekistan (IMU)<br>casualities: 60<br>Year: 2011\", \"City: Tooto-Char<br>Group: Taliban<br>casualities: 55<br>Year: 2012\", \"City: Rostaq<br>Group: Taliban<br>casualities: 140<br>Year: 2012\", \"City: Taluqan<br>Group: Taliban<br>casualities: 120<br>Year: 2012\", \"City: Taloqan<br>Group: Taliban<br>casualities: 160<br>Year: 2012\", \"City: Spin Jumat<br>Group: Taliban<br>casualities: 53<br>Year: 2012\", \"City: Sari Pul<br>Group: Taliban<br>casualities: 90<br>Year: 2012\", \"City: Aybak<br>Group: Taliban<br>casualities: 84<br>Year: 2012\", \"City: Gomal<br>Group: Taliban<br>casualities: 56<br>Year: 2012\", \"City: Saydabad<br>Group: Taliban<br>casualities: 83<br>Year: 2012\", \"City: Dur Baba<br>Group: Taliban<br>casualities: 76<br>Year: 2012\", \"City: Khost<br>Group: Taliban<br>casualities: 78<br>Year: 2012\", \"City: Maymana<br>Group: Taliban<br>casualities: 92<br>Year: 2012\", \"City: Maydan Shahr<br>Group: Taliban<br>casualities: 94<br>Year: 2012\", \"City: Farah<br>Group: Taliban<br>casualities: 148<br>Year: 2013\", \"City: Mazari Sharif<br>Group: Taliban<br>casualities: 150<br>Year: 2013\", \"City: Kabul<br>Group: Hizb-I-Islami<br>casualities: 56<br>Year: 2013\", \"City: Kabul<br>Group: Taliban<br>casualities: 55<br>Year: 2013\", \"City: Sherzad district<br>Group: Taliban<br>casualities: 82<br>Year: 2013\", \"City: Gulistan district<br>Group: Taliban<br>casualities: 104<br>Year: 2013\", \"City: Unknown<br>Group: Taliban<br>casualities: 70<br>Year: 2013\", \"City: Qarluq<br>Group: Taliban<br>casualities: 53<br>Year: 2013\", \"City: Maydan Shahr<br>Group: Taliban<br>casualities: 160<br>Year: 2013\", \"City: Maymana<br>Group: Taliban<br>casualities: 66<br>Year: 2014\", \"City: Red district<br>Group: Taliban<br>casualities: 120<br>Year: 2014\", \"City: Urgun<br>Group: Taliban<br>casualities: 110<br>Year: 2014\", \"City: Khost<br>Group: Taliban<br>casualities: 54<br>Year: 2014\", \"City: Qaysar district<br>Group: Taliban<br>casualities: 56<br>Year: 2014\", \"City: Hisarak district<br>Group: Taliban<br>casualities: 75<br>Year: 2014\", \"City: Hisarak district<br>Group: Taliban<br>casualities: 70<br>Year: 2014\", \"City: Jalalabad<br>Group: Taliban<br>casualities: 57<br>Year: 2014\", \"City: Ghazni<br>Group: Taliban<br>casualities: 130<br>Year: 2014\", \"City: Ghazni<br>Group: Taliban<br>casualities: 130<br>Year: 2014\", \"City: Ghazni<br>Group: Taliban<br>casualities: 129<br>Year: 2014\", \"City: Sari Pul<br>Group: Taliban<br>casualities: 53<br>Year: 2014\", \"City: Bala Buluk district<br>Group: Taliban<br>casualities: 63<br>Year: 2014\", \"City: Yahya Khel district<br>Group: Taliban<br>casualities: 124<br>Year: 2014\", \"City: Mihtarlam<br>Group: Taliban<br>casualities: 56<br>Year: 2015\", \"City: Khost<br>Group: Haqqani Network<br>casualities: 85<br>Year: 2015\", \"City: Mazari Sharif<br>Group: Taliban<br>casualities: 74<br>Year: 2015\", \"City: Dara-e Khistak<br>Group: Taliban<br>casualities: 67<br>Year: 2015\", \"City: Jalalabad<br>Group: Khorasan Chapter of the Islamic State<br>casualities: 134<br>Year: 2015\", \"City: Charsada district<br>Group: Taliban<br>casualities: 71<br>Year: 2015\", \"City: Pasaband district<br>Group: Taliban<br>casualities: 70<br>Year: 2015\", \"City: Qalat<br>Group: Taliban<br>casualities: 78<br>Year: 2015\", \"City: Chahar Dara district<br>Group: Taliban<br>casualities: 67<br>Year: 2015\", \"City: Waygal district<br>Group: Taliban<br>casualities: 92<br>Year: 2015\", \"City: Lashkar Gah<br>Group: Taliban<br>casualities: 55<br>Year: 2015\", \"City: Kabul<br>Group: Taliban<br>casualities: 416<br>Year: 2015\", \"City: Kabul<br>Group: Taliban<br>casualities: 51<br>Year: 2015\", \"City: Kabul<br>Group: Taliban<br>casualities: 74<br>Year: 2015\", \"City: Musa Qala<br>Group: Taliban<br>casualities: 65<br>Year: 2015\", \"City: Herat<br>Group: Taliban<br>casualities: 101<br>Year: 2015\", \"City: Herat<br>Group: Taliban<br>casualities: 68<br>Year: 2015\", \"City: Herat<br>Group: Taliban<br>casualities: 100<br>Year: 2015\", \"City: Maqbal<br>Group: Taliban<br>casualities: 59<br>Year: 2015\", \"City: Kolagu<br>Group: Taliban<br>casualities: 74<br>Year: 2015\", \"City: Kajaki district<br>Group: Taliban<br>casualities: 55<br>Year: 2015\", \"City: Kunduz<br>Group: Taliban<br>casualities: 536<br>Year: 2015\", \"City: Ghazni<br>Group: Taliban<br>casualities: 151<br>Year: 2015\", \"City: Alasay district<br>Group: Taliban<br>casualities: 54<br>Year: 2015\", \"City: Kandahar<br>Group: Taliban<br>casualities: 110<br>Year: 2015\", \"City: Asadabad<br>Group: Taliban<br>casualities: 52<br>Year: 2016\", \"City: Sangin district<br>Group: Taliban<br>casualities: 80<br>Year: 2016\", \"City: Shaheed Mohsin<br>Group: Taliban<br>casualities: 62<br>Year: 2016\", \"City: Surkh Rod district<br>Group: Taliban<br>casualities: 51<br>Year: 2016\", \"City: Kunduz<br>Group: Taliban<br>casualities: 101<br>Year: 2016\", \"City: Darqad district<br>Group: Taliban<br>casualities: 53<br>Year: 2016\", \"City: Kabul<br>Group: Taliban<br>casualities: 418<br>Year: 2016\", \"City: Ghaziabad district<br>Group: Taliban<br>casualities: 63<br>Year: 2016\", \"City: Band Taimor<br>Group: Taliban<br>casualities: 54<br>Year: 2016\", \"City: Gurziwan district<br>Group: Taliban<br>casualities: 52<br>Year: 2016\", \"City: Kabul<br>Group: Taliban<br>casualities: 58<br>Year: 2016\", \"City: Kabul<br>Group: Taliban<br>casualities: 57<br>Year: 2016\", \"City: Kamdesh district<br>Group: Taliban<br>casualities: 99<br>Year: 2016\", \"City: Mosa Khail district<br>Group: Taliban<br>casualities: 90<br>Year: 2016\", \"City: Kabul<br>Group: Khorasan Chapter of the Islamic State<br>casualities: 313<br>Year: 2016\", \"City: Nad Ali district<br>Group: Taliban<br>casualities: 89<br>Year: 2016\", \"City: Asadabad<br>Group: Taliban<br>casualities: 52<br>Year: 2016\", \"City: Sangcharak district<br>Group: Taliban<br>casualities: 57<br>Year: 2016\", \"City: Kabul<br>Group: Taliban<br>casualities: 72<br>Year: 2016\", \"City: Giro district<br>Group: Taliban<br>casualities: 196<br>Year: 2016\", \"City: Kabul<br>Group: Taliban<br>casualities: 77<br>Year: 2016\", \"City: Kabul<br>Group: Taliban<br>casualities: 76<br>Year: 2016\", \"City: Tarin Kot<br>Group: Taliban<br>casualities: 58<br>Year: 2016\", \"City: Tarin Kot<br>Group: Taliban<br>casualities: 57<br>Year: 2016\", \"City: Tarin Kot<br>Group: Taliban<br>casualities: 56<br>Year: 2016\", \"City: Tarin Kot<br>Group: Taliban<br>casualities: 56<br>Year: 2016\", \"City: Tarin Kot<br>Group: Taliban<br>casualities: 56<br>Year: 2016\", \"City: Kunduz<br>Group: Taliban<br>casualities: 274<br>Year: 2016\", \"City: Kabul<br>Group: Khorasan Chapter of the Islamic State<br>casualities: 51<br>Year: 2016\", \"City: Chah Anjeer<br>Group: Taliban<br>casualities: 90<br>Year: 2016\", \"City: Azikheel<br>Group: Khorasan Chapter of the Islamic State<br>casualities: 54<br>Year: 2016\", \"City: Wor Mayi district<br>Group: Taliban<br>casualities: 90<br>Year: 2016\", \"City: Mazari Sharif<br>Group: Taliban<br>casualities: 133<br>Year: 2016\", \"City: Kabul<br>Group: Khorasan Chapter of the Islamic State<br>casualities: 63<br>Year: 2016\", \"City: Kabul<br>Group: Taliban<br>casualities: 56<br>Year: 2017\", \"City: Kabul<br>Group: Taliban<br>casualities: 56<br>Year: 2017\", \"City: Sangin district<br>Group: Taliban<br>casualities: 84<br>Year: 2017\", \"City: Kabul<br>Group: Khorasan Chapter of the Islamic State<br>casualities: 63<br>Year: 2017\", \"City: Kanjak<br>Group: Taliban<br>casualities: 63<br>Year: 2017\", \"City: Kabul<br>Group: Taliban<br>casualities: 69<br>Year: 2017\", \"City: Arzan Qimat<br>Group: Taliban<br>casualities: 68<br>Year: 2017\", \"City: Nesh district<br>Group: Taliban<br>casualities: 54<br>Year: 2017\", \"City: Kabul<br>Group: Khorasan Chapter of the Islamic State<br>casualities: 104<br>Year: 2017\", \"City: Arghawan<br>Group: Taliban<br>casualities: 68<br>Year: 2017\", \"City: Mazari Sharif<br>Group: Taliban<br>casualities: 330<br>Year: 2017\", \"City: Nawabad<br>Group: Taliban<br>casualities: 70<br>Year: 2017\", \"City: Jagram<br>Group: Taliban<br>casualities: 52<br>Year: 2017\", \"City: Qadis district<br>Group: Taliban<br>casualities: 88<br>Year: 2017\", \"City: Zangitan<br>Group: Taliban<br>casualities: 56<br>Year: 2017\", \"City: Kabul<br>Group: Khorasan Chapter of the Islamic State<br>casualities: 584<br>Year: 2017\", \"City: Kabul<br>Group: Taliban<br>casualities: 96<br>Year: 2017\", \"City: Lashkar Gah<br>Group: Taliban<br>casualities: 93<br>Year: 2017\", \"City: Baghlani Jadid district<br>Group: Taliban<br>casualities: 52<br>Year: 2017\", \"City: Kabul<br>Group: Taliban<br>casualities: 77<br>Year: 2017\", \"City: Waygal<br>Group: Taliban<br>casualities: 158<br>Year: 2017\", \"City: Herat<br>Group: Khorasan Chapter of the Islamic State<br>casualities: 100<br>Year: 2017\", \"City: Unknown<br>Group: Taliban<br>casualities: 62<br>Year: 2017\", \"City: Gomal district<br>Group: Taliban<br>casualities: 77<br>Year: 2017\", \"City: Mirza Wulang<br>Group: Taliban<br>casualities: 72<br>Year: 2017\", \"City: Kabul<br>Group: Khorasan Chapter of the Islamic State<br>casualities: 82<br>Year: 2017\", \"City: Bargi Matal district<br>Group: Taliban<br>casualities: 59<br>Year: 2017\", \"City: Chora district<br>Group: Taliban<br>casualities: 74<br>Year: 2017\", \"City: Andar district<br>Group: Taliban<br>casualities: 67<br>Year: 2017\", \"City: Gardez<br>Group: Taliban<br>casualities: 310<br>Year: 2017\", \"City: Chashmah<br>Group: Taliban<br>casualities: 62<br>Year: 2017\", \"City: Kabul<br>Group: Khorasan Chapter of the Islamic State<br>casualities: 112<br>Year: 2017\", \"City: Maywand district<br>Group: Taliban<br>casualities: 59<br>Year: 2017\", \"City: Zhari district<br>Group: Taliban<br>casualities: 58<br>Year: 2017\", \"City: Giro district<br>Group: Taliban<br>casualities: 58<br>Year: 2017\", \"City: Sangcharak district<br>Group: Taliban<br>casualities: 112<br>Year: 2017\", \"City: Kabul<br>Group: Khorasan Chapter of the Islamic State<br>casualities: 132<br>Year: 2017\"], \"type\": \"scatter\", \"x\": [1992, 1992, 2001, 2002, 2002, 2003, 2005, 2006, 2006, 2007, 2007, 2007, 2008, 2008, 2008, 2008, 2009, 2009, 2009, 2009, 2009, 2009, 2009, 2010, 2010, 2010, 2010, 2010, 2011, 2011, 2011, 2011, 2011, 2011, 2011, 2011, 2011, 2011, 2011, 2011, 2012, 2012, 2012, 2012, 2012, 2012, 2012, 2012, 2012, 2012, 2012, 2012, 2012, 2013, 2013, 2013, 2013, 2013, 2013, 2013, 2013, 2013, 2014, 2014, 2014, 2014, 2014, 2014, 2014, 2014, 2014, 2014, 2014, 2014, 2014, 2014, 2015, 2015, 2015, 2015, 2015, 2015, 2015, 2015, 2015, 2015, 2015, 2015, 2015, 2015, 2015, 2015, 2015, 2015, 2015, 2015, 2015, 2015, 2015, 2015, 2015, 2016, 2016, 2016, 2016, 2016, 2016, 2016, 2016, 2016, 2016, 2016, 2016, 2016, 2016, 2016, 2016, 2016, 2016, 2016, 2016, 2016, 2016, 2016, 2016, 2016, 2016, 2016, 2016, 2016, 2016, 2016, 2016, 2016, 2016, 2017, 2017, 2017, 2017, 2017, 2017, 2017, 2017, 2017, 2017, 2017, 2017, 2017, 2017, 2017, 2017, 2017, 2017, 2017, 2017, 2017, 2017, 2017, 2017, 2017, 2017, 2017, 2017, 2017, 2017, 2017, 2017, 2017, 2017, 2017, 2017, 2017], \"y\": [81, 111, 150, 90, 75, 63, 73, 62, 63, 51, 88, 88, 201, 80, 199, 60, 63, 98, 52, 100, 54, 69, 96, 53, 96, 66, 128, 85, 119, 72, 79, 84, 59, 65, 61, 99, 60, 72, 190, 60, 55, 140, 120, 160, 53, 90, 84, 56, 83, 76, 78, 92, 94, 148, 150, 56, 55, 82, 104, 70, 53, 160, 66, 120, 110, 54, 56, 75, 70, 57, 130, 130, 129, 53, 63, 124, 56, 85, 74, 67, 134, 71, 70, 78, 67, 92, 55, 416, 51, 74, 65, 101, 68, 100, 59, 74, 55, 536, 151, 54, 110, 52, 80, 62, 51, 101, 53, 418, 63, 54, 52, 58, 57, 99, 90, 313, 89, 52, 57, 72, 196, 77, 76, 58, 57, 56, 56, 56, 274, 51, 90, 54, 90, 133, 63, 56, 56, 84, 63, 63, 69, 68, 54, 104, 68, 330, 70, 52, 88, 56, 584, 96, 93, 52, 77, 158, 100, 62, 77, 72, 82, 59, 74, 67, 310, 62, 112, 59, 58, 58, 112, 132]}, {\"marker\": {\"line\": {\"width\": 2}, \"size\": [74, 54, 232, 90, 74, 67, 64, 62, 67, 58, 53, 82, 54, 55, 56, 61, 109, 78, 102, 67, 111, 87, 89, 59, 72, 58, 127, 115, 61, 170, 68, 52, 62, 51, 51, 61, 87, 71, 60, 90, 100, 91, 79, 62, 64, 103, 65, 75, 61, 202, 52, 115, 108, 210, 75, 1005, 55, 65, 67, 67, 77, 65, 57, 53, 272, 84, 60, 134, 144, 85, 54, 66, 62, 66, 82, 255, 51, 100, 52, 52, 52, 60, 67, 66, 67, 95], \"sizemode\": \"area\", \"symbol\": \"circle\"}, \"mode\": \"markers\", \"name\": \"India\", \"text\": [\"City: Unknown<br>Group: Anti-Immigrant extremists<br>casualities: 74<br>Year: 1983\", \"City: Imphal<br>Group: People's Liberation Army (India)<br>casualities: 54<br>Year: 1984\", \"City: Chennai<br>Group: Tamils<br>casualities: 232<br>Year: 1987\", \"City: Amritsar<br>Group: Khalistan Liberation Force<br>casualities: 90<br>Year: 1988\", \"City: Amritsar<br>Group: Sikh Extremists<br>casualities: 74<br>Year: 1988\", \"City: Barpeta<br>Group: United Liberation Front of Assam (ULFA)<br>casualities: 67<br>Year: 1988\", \"City: Jammu<br>Group: Babbar Khalsa International (BKI)<br>casualities: 64<br>Year: 1988\", \"City: Batala<br>Group: Babbar Khalsa International (BKI)<br>casualities: 62<br>Year: 1988\", \"City: Bongaigaon<br>Group: Bodo Militants<br>casualities: 67<br>Year: 1989\", \"City: Karnal<br>Group: Sikh Extremists<br>casualities: 58<br>Year: 1989\", \"City: Unknown<br>Group: Khalistan Commando Force<br>casualities: 53<br>Year: 1989\", \"City: Batala<br>Group: Khalistan Commando Force<br>casualities: 82<br>Year: 1990\", \"City: Sepalpani<br>Group: Bodo Militants<br>casualities: 54<br>Year: 1990\", \"City: Pathankot<br>Group: Babbar Khalsa International (BKI)<br>casualities: 55<br>Year: 1990\", \"City: Rangia<br>Group: Bodo Militants<br>casualities: 56<br>Year: 1990\", \"City: Hyderabad<br>Group: People's War Group (PWG)<br>casualities: 61<br>Year: 1990\", \"City: New Delhi<br>Group: Sikh Extremists<br>casualities: 109<br>Year: 1991\", \"City: Kila Raipur<br>Group: Sikh Extremists<br>casualities: 78<br>Year: 1991\", \"City: Baddowal<br>Group: Sikh Extremists<br>casualities: 102<br>Year: 1991\", \"City: Sopore<br>Group: Muslim Militants<br>casualities: 67<br>Year: 1991\", \"City: Bajpur<br>Group: Sikh Extremists<br>casualities: 111<br>Year: 1991\", \"City: Sohian<br>Group: Sikh Extremists<br>casualities: 87<br>Year: 1991\", \"City: New Delhi<br>Group: Muslim Militants<br>casualities: 89<br>Year: 1992\", \"City: Pathankot<br>Group: Sikh Extremists<br>casualities: 59<br>Year: 1992\", \"City: Delhi<br>Group: Muslim Separatists<br>casualities: 72<br>Year: 1992\", \"City: Guwahati<br>Group: National Democratic Front of Bodoland (NDFB)<br>casualities: 58<br>Year: 1992\", \"City: Unknown<br>Group: Muslim Militants<br>casualities: 127<br>Year: 1992\", \"City: Bombay<br>Group: Muslim Militants<br>casualities: 115<br>Year: 1992\", \"City: Unknown<br>Group: Muslims<br>casualities: 61<br>Year: 1992\", \"City: Banabari<br>Group: Bodo Militants<br>casualities: 170<br>Year: 1994\", \"City: Jammu<br>Group: Kashmiri extremists<br>casualities: 68<br>Year: 1995\", \"City: Lailalong<br>Group: National Socialist Council of Nagaland<br>casualities: 52<br>Year: 1995\", \"City: Jammu<br>Group: Harkat ul Ansar<br>casualities: 62<br>Year: 1995\", \"City: New Delhi<br>Group: Jammu and Kashmir Islamic Front<br>casualities: 51<br>Year: 1996\", \"City: New Delhi<br>Group: Jammu and Kashmir Liberation Front<br>casualities: 51<br>Year: 1996\", \"City: Maiamnala<br>Group: National Socialist Council of Nagaland<br>casualities: 61<br>Year: 1996\", \"City: Sansapani<br>Group: Bodo Liberation Tigers (BLT)<br>casualities: 87<br>Year: 1996\", \"City: Unknown<br>Group: Muslim Rebels<br>casualities: 71<br>Year: 1997\", \"City: Bathe-Lakshmanpur<br>Group: Ranbir Sena<br>casualities: 60<br>Year: 1997\", \"City: Shiliguri<br>Group: United Liberation Front of Assam (ULFA)<br>casualities: 90<br>Year: 1999\", \"City: Baghmara<br>Group: National Democratic Front of Bodoland (NDFB)<br>casualities: 100<br>Year: 2001\", \"City: Srinagar<br>Group: Jaish-e-Mohammad (JeM)<br>casualities: 91<br>Year: 2001\", \"City: Jammu<br>Group: Lashkar-e-Taiba (LeT)<br>casualities: 79<br>Year: 2002\", \"City: Jammu<br>Group: Lashkar-e-Taiba (LeT)<br>casualities: 62<br>Year: 2002\", \"City: Jammu<br>Group: Lashkar-e-Taiba (LeT)<br>casualities: 64<br>Year: 2002\", \"City: Gandhinagar<br>Group: Gunmen<br>casualities: 103<br>Year: 2002\", \"City: Jammu<br>Group: Lashkar-e-Taiba (LeT)<br>casualities: 65<br>Year: 2002\", \"City: Mumbai<br>Group: Students Islamic Movement of India (SIMI)<br>casualities: 75<br>Year: 2003\", \"City: Bamungopha<br>Group: United Liberation Front of Assam (ULFA)<br>casualities: 61<br>Year: 2003\", \"City: Mumbai<br>Group: Students Islamic Movement of India (SIMI)<br>casualities: 202<br>Year: 2003\", \"City: Dimapur<br>Group: United Liberation Front of Assam (ULFA)<br>casualities: 52<br>Year: 2004\", \"City: Pulwama<br>Group: United Jihad Council<br>casualities: 115<br>Year: 2005\", \"City: Kotrapali<br>Group: Communist Party of India - Maoist (CPI-Maoist)<br>casualities: 108<br>Year: 2005\", \"City: New Delhi<br>Group: Lashkar-e-Taiba (LeT)<br>casualities: 210<br>Year: 2005\", \"City: Dantewada district<br>Group: Communist Party of India - Maoist (CPI-Maoist)<br>casualities: 75<br>Year: 2006\", \"City: Mumbai<br>Group: Lashkar-e-Taiba (LeT)<br>casualities: 1005<br>Year: 2006\", \"City: Imphal<br>Group: Kanglei Yawol Kanna Lup (KYKL)<br>casualities: 55<br>Year: 2006\", \"City: Guwahati<br>Group: United Liberation Front of Assam (ULFA)<br>casualities: 65<br>Year: 2006\", \"City: Sadiya<br>Group: United Liberation Front of Assam (ULFA)<br>casualities: 67<br>Year: 2007\", \"City: Ranibodli<br>Group: Naxalites<br>casualities: 67<br>Year: 2007\", \"City: Hyderabad<br>Group: Harkatul Jihad-e-Islami<br>casualities: 77<br>Year: 2007\", \"City: Doom Dooma<br>Group: United Liberation Front of Assam (ULFA)<br>casualities: 65<br>Year: 2007\", \"City: Murkongselek<br>Group: United Liberation Front of Assam (ULFA)<br>casualities: 57<br>Year: 2008\", \"City: New Delhi<br>Group: Indian Mujahideen<br>casualities: 53<br>Year: 2008\", \"City: Dispur<br>Group: United Liberation Front of Assam (ULFA)<br>casualities: 272<br>Year: 2008\", \"City: Kokrajhar<br>Group: United Liberation Front of Assam (ULFA)<br>casualities: 84<br>Year: 2008\", \"City: Barpeta Road<br>Group: United Liberation Front of Assam (ULFA)<br>casualities: 60<br>Year: 2008\", \"City: Mumbai<br>Group: Deccan Mujahideen<br>casualities: 134<br>Year: 2008\", \"City: Mumbai<br>Group: Deccan Mujahideen<br>casualities: 144<br>Year: 2008\", \"City: Mumbai<br>Group: Deccan Mujahideen<br>casualities: 85<br>Year: 2008\", \"City: Mumbai<br>Group: Deccan Mujahideen<br>casualities: 54<br>Year: 2008\", \"City: Guwahati<br>Group: United Liberation Front of Assam (ULFA)<br>casualities: 66<br>Year: 2009\", \"City: Nalbari<br>Group: United Liberation Front of Assam (ULFA)<br>casualities: 62<br>Year: 2009\", \"City: Pune<br>Group: Indian Mujahideen<br>casualities: 66<br>Year: 2010\", \"City: Dantewada district<br>Group: Communist Party of India - Maoist (CPI-Maoist)<br>casualities: 82<br>Year: 2010\", \"City: Jhargam<br>Group: Communist Party of India - Maoist (CPI-Maoist)<br>casualities: 255<br>Year: 2010\", \"City: Lohardaga district<br>Group: Communist Party of India - Maoist (CPI-Maoist)<br>casualities: 51<br>Year: 2011\", \"City: Guwahati<br>Group: Adivasi People's Army (APA)<br>casualities: 100<br>Year: 2011\", \"City: Mumbai<br>Group: Indian Mujahideen<br>casualities: 52<br>Year: 2011\", \"City: Mumbai<br>Group: Indian Mujahideen<br>casualities: 52<br>Year: 2011\", \"City: Mumbai<br>Group: Indian Mujahideen<br>casualities: 52<br>Year: 2011\", \"City: New Delhi<br>Group: Harkatul Jihad-e-Islami<br>casualities: 60<br>Year: 2011\", \"City: Hyderabad<br>Group: Lashkar-e-Taiba (LeT)<br>casualities: 67<br>Year: 2013\", \"City: Hyderabad<br>Group: Lashkar-e-Taiba (LeT)<br>casualities: 66<br>Year: 2013\", \"City: Sukma district<br>Group: Communist Party of India - Maoist (CPI-Maoist)<br>casualities: 67<br>Year: 2015\", \"City: Kuneru<br>Group: Maoists<br>casualities: 95<br>Year: 2017\"], \"type\": \"scatter\", \"x\": [1983, 1984, 1987, 1988, 1988, 1988, 1988, 1988, 1989, 1989, 1989, 1990, 1990, 1990, 1990, 1990, 1991, 1991, 1991, 1991, 1991, 1991, 1992, 1992, 1992, 1992, 1992, 1992, 1992, 1994, 1995, 1995, 1995, 1996, 1996, 1996, 1996, 1997, 1997, 1999, 2001, 2001, 2002, 2002, 2002, 2002, 2002, 2003, 2003, 2003, 2004, 2005, 2005, 2005, 2006, 2006, 2006, 2006, 2007, 2007, 2007, 2007, 2008, 2008, 2008, 2008, 2008, 2008, 2008, 2008, 2008, 2009, 2009, 2010, 2010, 2010, 2011, 2011, 2011, 2011, 2011, 2011, 2013, 2013, 2015, 2017], \"y\": [74, 54, 232, 90, 74, 67, 64, 62, 67, 58, 53, 82, 54, 55, 56, 61, 109, 78, 102, 67, 111, 87, 89, 59, 72, 58, 127, 115, 61, 170, 68, 52, 62, 51, 51, 61, 87, 71, 60, 90, 100, 91, 79, 62, 64, 103, 65, 75, 61, 202, 52, 115, 108, 210, 75, 1005, 55, 65, 67, 67, 77, 65, 57, 53, 272, 84, 60, 134, 144, 85, 54, 66, 62, 66, 82, 255, 51, 100, 52, 52, 52, 60, 67, 66, 67, 95]}],\n",
              "                        {\"paper_bgcolor\": \"rgb(243, 243, 243)\", \"plot_bgcolor\": \"rgb(243, 243, 243)\", \"template\": {\"data\": {\"bar\": [{\"error_x\": {\"color\": \"#2a3f5f\"}, \"error_y\": {\"color\": \"#2a3f5f\"}, \"marker\": {\"line\": {\"color\": \"#E5ECF6\", \"width\": 0.5}}, \"type\": \"bar\"}], \"barpolar\": [{\"marker\": {\"line\": {\"color\": \"#E5ECF6\", \"width\": 0.5}}, \"type\": \"barpolar\"}], \"carpet\": [{\"aaxis\": {\"endlinecolor\": \"#2a3f5f\", \"gridcolor\": \"white\", \"linecolor\": \"white\", \"minorgridcolor\": \"white\", \"startlinecolor\": \"#2a3f5f\"}, \"baxis\": {\"endlinecolor\": \"#2a3f5f\", \"gridcolor\": \"white\", \"linecolor\": \"white\", \"minorgridcolor\": \"white\", \"startlinecolor\": \"#2a3f5f\"}, \"type\": \"carpet\"}], \"choropleth\": [{\"colorbar\": {\"outlinewidth\": 0, \"ticks\": \"\"}, \"type\": \"choropleth\"}], \"contour\": [{\"colorbar\": {\"outlinewidth\": 0, \"ticks\": \"\"}, \"colorscale\": [[0.0, \"#0d0887\"], [0.1111111111111111, \"#46039f\"], [0.2222222222222222, \"#7201a8\"], [0.3333333333333333, \"#9c179e\"], [0.4444444444444444, \"#bd3786\"], [0.5555555555555556, \"#d8576b\"], [0.6666666666666666, \"#ed7953\"], [0.7777777777777778, \"#fb9f3a\"], [0.8888888888888888, \"#fdca26\"], [1.0, \"#f0f921\"]], \"type\": \"contour\"}], \"contourcarpet\": [{\"colorbar\": {\"outlinewidth\": 0, \"ticks\": \"\"}, \"type\": \"contourcarpet\"}], \"heatmap\": [{\"colorbar\": {\"outlinewidth\": 0, \"ticks\": \"\"}, \"colorscale\": [[0.0, \"#0d0887\"], [0.1111111111111111, \"#46039f\"], [0.2222222222222222, \"#7201a8\"], [0.3333333333333333, \"#9c179e\"], [0.4444444444444444, \"#bd3786\"], [0.5555555555555556, \"#d8576b\"], [0.6666666666666666, \"#ed7953\"], [0.7777777777777778, \"#fb9f3a\"], [0.8888888888888888, \"#fdca26\"], [1.0, \"#f0f921\"]], \"type\": \"heatmap\"}], \"heatmapgl\": [{\"colorbar\": {\"outlinewidth\": 0, \"ticks\": \"\"}, \"colorscale\": [[0.0, \"#0d0887\"], [0.1111111111111111, \"#46039f\"], [0.2222222222222222, \"#7201a8\"], [0.3333333333333333, \"#9c179e\"], [0.4444444444444444, \"#bd3786\"], [0.5555555555555556, \"#d8576b\"], [0.6666666666666666, \"#ed7953\"], [0.7777777777777778, \"#fb9f3a\"], [0.8888888888888888, \"#fdca26\"], [1.0, \"#f0f921\"]], \"type\": \"heatmapgl\"}], \"histogram\": [{\"marker\": {\"colorbar\": {\"outlinewidth\": 0, \"ticks\": \"\"}}, \"type\": \"histogram\"}], \"histogram2d\": [{\"colorbar\": {\"outlinewidth\": 0, \"ticks\": \"\"}, \"colorscale\": [[0.0, \"#0d0887\"], [0.1111111111111111, \"#46039f\"], [0.2222222222222222, \"#7201a8\"], [0.3333333333333333, \"#9c179e\"], [0.4444444444444444, \"#bd3786\"], [0.5555555555555556, \"#d8576b\"], [0.6666666666666666, \"#ed7953\"], [0.7777777777777778, \"#fb9f3a\"], [0.8888888888888888, \"#fdca26\"], [1.0, \"#f0f921\"]], \"type\": \"histogram2d\"}], \"histogram2dcontour\": [{\"colorbar\": {\"outlinewidth\": 0, \"ticks\": \"\"}, \"colorscale\": [[0.0, \"#0d0887\"], [0.1111111111111111, \"#46039f\"], [0.2222222222222222, \"#7201a8\"], [0.3333333333333333, \"#9c179e\"], [0.4444444444444444, \"#bd3786\"], [0.5555555555555556, \"#d8576b\"], [0.6666666666666666, \"#ed7953\"], [0.7777777777777778, \"#fb9f3a\"], [0.8888888888888888, \"#fdca26\"], [1.0, \"#f0f921\"]], \"type\": \"histogram2dcontour\"}], \"mesh3d\": [{\"colorbar\": {\"outlinewidth\": 0, \"ticks\": \"\"}, \"type\": \"mesh3d\"}], \"parcoords\": [{\"line\": {\"colorbar\": {\"outlinewidth\": 0, \"ticks\": \"\"}}, \"type\": \"parcoords\"}], \"pie\": [{\"automargin\": true, \"type\": \"pie\"}], \"scatter\": [{\"marker\": {\"colorbar\": {\"outlinewidth\": 0, \"ticks\": \"\"}}, \"type\": \"scatter\"}], \"scatter3d\": [{\"line\": {\"colorbar\": {\"outlinewidth\": 0, \"ticks\": \"\"}}, \"marker\": {\"colorbar\": {\"outlinewidth\": 0, \"ticks\": \"\"}}, \"type\": \"scatter3d\"}], \"scattercarpet\": [{\"marker\": {\"colorbar\": {\"outlinewidth\": 0, \"ticks\": \"\"}}, \"type\": \"scattercarpet\"}], \"scattergeo\": [{\"marker\": {\"colorbar\": {\"outlinewidth\": 0, \"ticks\": \"\"}}, \"type\": \"scattergeo\"}], \"scattergl\": [{\"marker\": {\"colorbar\": {\"outlinewidth\": 0, \"ticks\": \"\"}}, \"type\": \"scattergl\"}], \"scattermapbox\": [{\"marker\": {\"colorbar\": {\"outlinewidth\": 0, \"ticks\": \"\"}}, \"type\": \"scattermapbox\"}], \"scatterpolar\": [{\"marker\": {\"colorbar\": {\"outlinewidth\": 0, \"ticks\": \"\"}}, \"type\": \"scatterpolar\"}], \"scatterpolargl\": [{\"marker\": {\"colorbar\": {\"outlinewidth\": 0, \"ticks\": \"\"}}, \"type\": \"scatterpolargl\"}], \"scatterternary\": [{\"marker\": {\"colorbar\": {\"outlinewidth\": 0, \"ticks\": \"\"}}, \"type\": \"scatterternary\"}], \"surface\": [{\"colorbar\": {\"outlinewidth\": 0, \"ticks\": \"\"}, \"colorscale\": [[0.0, \"#0d0887\"], [0.1111111111111111, \"#46039f\"], [0.2222222222222222, \"#7201a8\"], [0.3333333333333333, \"#9c179e\"], [0.4444444444444444, \"#bd3786\"], [0.5555555555555556, \"#d8576b\"], [0.6666666666666666, \"#ed7953\"], [0.7777777777777778, \"#fb9f3a\"], [0.8888888888888888, \"#fdca26\"], [1.0, \"#f0f921\"]], \"type\": \"surface\"}], \"table\": [{\"cells\": {\"fill\": {\"color\": \"#EBF0F8\"}, \"line\": {\"color\": \"white\"}}, \"header\": {\"fill\": {\"color\": \"#C8D4E3\"}, \"line\": {\"color\": \"white\"}}, \"type\": \"table\"}]}, \"layout\": {\"annotationdefaults\": {\"arrowcolor\": \"#2a3f5f\", \"arrowhead\": 0, \"arrowwidth\": 1}, \"coloraxis\": {\"colorbar\": {\"outlinewidth\": 0, \"ticks\": \"\"}}, \"colorscale\": {\"diverging\": [[0, \"#8e0152\"], [0.1, \"#c51b7d\"], [0.2, \"#de77ae\"], [0.3, \"#f1b6da\"], [0.4, \"#fde0ef\"], [0.5, \"#f7f7f7\"], [0.6, \"#e6f5d0\"], [0.7, \"#b8e186\"], [0.8, \"#7fbc41\"], [0.9, \"#4d9221\"], [1, \"#276419\"]], \"sequential\": [[0.0, \"#0d0887\"], [0.1111111111111111, \"#46039f\"], [0.2222222222222222, \"#7201a8\"], [0.3333333333333333, \"#9c179e\"], [0.4444444444444444, \"#bd3786\"], [0.5555555555555556, \"#d8576b\"], [0.6666666666666666, \"#ed7953\"], [0.7777777777777778, \"#fb9f3a\"], [0.8888888888888888, \"#fdca26\"], [1.0, \"#f0f921\"]], \"sequentialminus\": [[0.0, \"#0d0887\"], [0.1111111111111111, \"#46039f\"], [0.2222222222222222, \"#7201a8\"], [0.3333333333333333, \"#9c179e\"], [0.4444444444444444, \"#bd3786\"], [0.5555555555555556, \"#d8576b\"], [0.6666666666666666, \"#ed7953\"], [0.7777777777777778, \"#fb9f3a\"], [0.8888888888888888, \"#fdca26\"], [1.0, \"#f0f921\"]]}, \"colorway\": [\"#636efa\", \"#EF553B\", \"#00cc96\", \"#ab63fa\", \"#FFA15A\", \"#19d3f3\", \"#FF6692\", \"#B6E880\", \"#FF97FF\", \"#FECB52\"], \"font\": {\"color\": \"#2a3f5f\"}, \"geo\": {\"bgcolor\": \"white\", \"lakecolor\": \"white\", \"landcolor\": \"#E5ECF6\", \"showlakes\": true, \"showland\": true, \"subunitcolor\": \"white\"}, \"hoverlabel\": {\"align\": \"left\"}, \"hovermode\": \"closest\", \"mapbox\": {\"style\": \"light\"}, \"paper_bgcolor\": \"white\", \"plot_bgcolor\": \"#E5ECF6\", \"polar\": {\"angularaxis\": {\"gridcolor\": \"white\", \"linecolor\": \"white\", \"ticks\": \"\"}, \"bgcolor\": \"#E5ECF6\", \"radialaxis\": {\"gridcolor\": \"white\", \"linecolor\": \"white\", \"ticks\": \"\"}}, \"scene\": {\"xaxis\": {\"backgroundcolor\": \"#E5ECF6\", \"gridcolor\": \"white\", \"gridwidth\": 2, \"linecolor\": \"white\", \"showbackground\": true, \"ticks\": \"\", \"zerolinecolor\": \"white\"}, \"yaxis\": {\"backgroundcolor\": \"#E5ECF6\", \"gridcolor\": \"white\", \"gridwidth\": 2, \"linecolor\": \"white\", \"showbackground\": true, \"ticks\": \"\", \"zerolinecolor\": \"white\"}, \"zaxis\": {\"backgroundcolor\": \"#E5ECF6\", \"gridcolor\": \"white\", \"gridwidth\": 2, \"linecolor\": \"white\", \"showbackground\": true, \"ticks\": \"\", \"zerolinecolor\": \"white\"}}, \"shapedefaults\": {\"line\": {\"color\": \"#2a3f5f\"}}, \"ternary\": {\"aaxis\": {\"gridcolor\": \"white\", \"linecolor\": \"white\", \"ticks\": \"\"}, \"baxis\": {\"gridcolor\": \"white\", \"linecolor\": \"white\", \"ticks\": \"\"}, \"bgcolor\": \"#E5ECF6\", \"caxis\": {\"gridcolor\": \"white\", \"linecolor\": \"white\", \"ticks\": \"\"}}, \"title\": {\"x\": 0.05}, \"xaxis\": {\"automargin\": true, \"gridcolor\": \"white\", \"linecolor\": \"white\", \"ticks\": \"\", \"title\": {\"standoff\": 15}, \"zerolinecolor\": \"white\", \"zerolinewidth\": 2}, \"yaxis\": {\"automargin\": true, \"gridcolor\": \"white\", \"linecolor\": \"white\", \"ticks\": \"\", \"title\": {\"standoff\": 15}, \"zerolinecolor\": \"white\", \"zerolinewidth\": 2}}}, \"title\": {\"text\": \"The Big Four\"}, \"xaxis\": {\"nticks\": 30, \"range\": [1976, 2016], \"showgrid\": false, \"showline\": true, \"tickmode\": \"auto\", \"title\": {\"text\": \"Year\"}}, \"yaxis\": {\"nticks\": 40, \"range\": [1.8, 3.6], \"showgrid\": false, \"showline\": true, \"tickmode\": \"auto\", \"title\": {\"text\": \"Casualities\"}, \"type\": \"log\"}},\n",
              "                        {\"responsive\": true}\n",
              "                    ).then(function(){\n",
              "                            \n",
              "var gd = document.getElementById('034f09d5-347a-4d67-82b7-b57d42443ea2');\n",
              "var x = new MutationObserver(function (mutations, observer) {{\n",
              "        var display = window.getComputedStyle(gd).display;\n",
              "        if (!display || display === 'none') {{\n",
              "            console.log([gd, 'removed!']);\n",
              "            Plotly.purge(gd);\n",
              "            observer.disconnect();\n",
              "        }}\n",
              "}});\n",
              "\n",
              "// Listen for the removal of the full notebook cells\n",
              "var notebookContainer = gd.closest('#notebook-container');\n",
              "if (notebookContainer) {{\n",
              "    x.observe(notebookContainer, {childList: true});\n",
              "}}\n",
              "\n",
              "// Listen for the clearing of the current output cell\n",
              "var outputEl = gd.closest('.output');\n",
              "if (outputEl) {{\n",
              "    x.observe(outputEl, {childList: true});\n",
              "}}\n",
              "\n",
              "                        })\n",
              "                };\n",
              "                });\n",
              "            </script>\n",
              "        </div>"
            ],
            "application/vnd.plotly.v1+json": {
              "data": [
                {
                  "name": "Iraq",
                  "text": [
                    "City: Baghdad<br>Group: Iraqi Mujahideen<br>casualities: 158<br>Year: 1982",
                    "City: Baghdad<br>Group: Martyr Abu Ja'far Group<br>casualities: 76<br>Year: 1982",
                    "City: Nero-Soto<br>Group: Kurdish Democratic Party-Iraq (KDP)<br>casualities: 140<br>Year: 1988",
                    "City: Hakurk<br>Group: Anti Kurdish Workers Party Iraq nationals<br>casualities: 60<br>Year: 1992",
                    "City: Sulaymaniyah<br>Group: Patriotic Union of Kurdistan (PUK)<br>casualities: 91<br>Year: 1994",
                    "City: Zakho<br>Group: Patriotic Union of Kurdistan (PUK)<br>casualities: 217<br>Year: 1995",
                    "City: Sidakan<br>Group: Kurdistan Workers' Party (PKK)<br>casualities: 57<br>Year: 1997",
                    "City: Baghdad<br>Group: Ansar al-Islam<br>casualities: 68<br>Year: 2003",
                    "City: Baghdad<br>Group: Armed Vanguards of a Second Mohammed Army<br>casualities: 124<br>Year: 2003",
                    "City: Najaf<br>Group: Tawhid and Jihad<br>casualities: 300<br>Year: 2003",
                    "City: Arbil<br>Group: Tawhid and Jihad<br>casualities: 57<br>Year: 2003",
                    "City: Karbala<br>Group: Baathist extremists<br>casualities: 62<br>Year: 2003",
                    "City: Karbala<br>Group: Baathist extremists<br>casualities: 60<br>Year: 2003",
                    "City: Karbala<br>Group: Baathist extremists<br>casualities: 68<br>Year: 2003",
                    "City: Iskandariyah<br>Group: Tawhid and Jihad<br>casualities: 221<br>Year: 2004",
                    "City: Hillah<br>Group: Tawhid and Jihad<br>casualities: 112<br>Year: 2004",
                    "City: Karbala<br>Group: Tawhid and Jihad<br>casualities: 343<br>Year: 2004",
                    "City: Baghdad<br>Group: Tawhid and Jihad<br>casualities: 225<br>Year: 2004",
                    "City: Baghdad<br>Group: Tawhid and Jihad<br>casualities: 73<br>Year: 2004",
                    "City: Baghdad<br>Group: Mahdi Army<br>casualities: 68<br>Year: 2004",
                    "City: Basra<br>Group: Tawhid and Jihad<br>casualities: 174<br>Year: 2004",
                    "City: Mosul<br>Group: Tawhid and Jihad<br>casualities: 280<br>Year: 2004",
                    "City: Mahmudiyah<br>Group: Tawhid and Jihad<br>casualities: 52<br>Year: 2004",
                    "City: Baqubah<br>Group: Tawhid and Jihad<br>casualities: 126<br>Year: 2004",
                    "City: Kirkuk<br>Group: Tawhid and Jihad<br>casualities: 56<br>Year: 2004",
                    "City: Baghdad<br>Group: Tawhid and Jihad<br>casualities: 161<br>Year: 2004",
                    "City: Baghdad<br>Group: Tawhid and Jihad<br>casualities: 61<br>Year: 2004",
                    "City: Baghdad<br>Group: Tawhid and Jihad<br>casualities: 51<br>Year: 2004",
                    "City: Mosul<br>Group: Ansar al-Sunna<br>casualities: 89<br>Year: 2004",
                    "City: Arbil<br>Group: Ansar al-Sunna<br>casualities: 210<br>Year: 2005",
                    "City: Baghdad<br>Group: Al-Qaida in Iraq<br>casualities: 57<br>Year: 2005",
                    "City: Tikrit<br>Group: Ansar al-Sunna<br>casualities: 88<br>Year: 2005",
                    "City: Baghdad<br>Group: Al-Qaida in Iraq<br>casualities: 100<br>Year: 2005",
                    "City: Hillah<br>Group: Al-Qaida in Iraq<br>casualities: 142<br>Year: 2005",
                    "City: Hillah<br>Group: Al-Qaida in Iraq<br>casualities: 155<br>Year: 2005",
                    "City: Kirkuk<br>Group: Ansar al-Islam<br>casualities: 85<br>Year: 2005",
                    "City: Baghdad<br>Group: Al-Qaida in Iraq<br>casualities: 72<br>Year: 2005",
                    "City: Rabiaa<br>Group: Al-Qaida in Iraq<br>casualities: 101<br>Year: 2005",
                    "City: Baghdad<br>Group: Al-Qaida in Iraq<br>casualities: 702<br>Year: 2005",
                    "City: Nahrwan<br>Group: Al-Qaida in Iraq<br>casualities: 68<br>Year: 2005",
                    "City: Baghdad<br>Group: Al-Qaida in Iraq<br>casualities: 60<br>Year: 2005",
                    "City: Baghdad<br>Group: Al-Qaida in Iraq<br>casualities: 108<br>Year: 2005",
                    "City: Baghdad<br>Group: Al-Qaida in Iraq<br>casualities: 90<br>Year: 2006",
                    "City: Baghdad<br>Group: Al-Qaida in Iraq<br>casualities: 65<br>Year: 2006",
                    "City: Baghdad<br>Group: Sunni Supporters<br>casualities: 173<br>Year: 2006",
                    "City: Kufa<br>Group: Mujahedeen Shura Council<br>casualities: 191<br>Year: 2006",
                    "City: Baghdad<br>Group: Jund al-Sahabah Group<br>casualities: 71<br>Year: 2006",
                    "City: Mahmudiyah<br>Group: Jihadist Soldiers<br>casualities: 85<br>Year: 2006",
                    "City: Hillah<br>Group: Islamic State of Iraq (ISI)<br>casualities: 292<br>Year: 2007",
                    "City: Amriyat al-Fallujah<br>Group: Al-Qaida in Iraq<br>casualities: 102<br>Year: 2007",
                    "City: Albu Issa<br>Group: Al-Qaida in Iraq<br>casualities: 251<br>Year: 2007",
                    "City: Baghdad<br>Group: Al-Qaida in Iraq<br>casualities: 275<br>Year: 2007",
                    "City: Baghdad<br>Group: Sunni Muslim extremists<br>casualities: 118<br>Year: 2007",
                    "City: Khalis<br>Group: Islamic State of Iraq (ISI)<br>casualities: 96<br>Year: 2007",
                    "City: Sulayman Beg<br>Group: Al-Qaida in Iraq<br>casualities: 84<br>Year: 2007",
                    "City: Qahtaniya<br>Group: Al-Qaida in Iraq<br>casualities: 1000<br>Year: 2007",
                    "City: Jazeera<br>Group: Al-Qaida in Iraq<br>casualities: 1000<br>Year: 2007",
                    "City: Baghdad<br>Group: Al-Qaida in Iraq<br>casualities: 220<br>Year: 2008",
                    "City: Baghdad<br>Group: Al-Qaida in Iraq<br>casualities: 186<br>Year: 2008",
                    "City: Baqubah<br>Group: Al-Qaida in Iraq<br>casualities: 122<br>Year: 2008",
                    "City: Balad Ruz<br>Group: Al-Qaida in Iraq<br>casualities: 102<br>Year: 2008",
                    "City: Baqubah<br>Group: Islamic State of Iraq (ISI)<br>casualities: 88<br>Year: 2008",
                    "City: Baghdad<br>Group: Al-Qaida in Iraq<br>casualities: 85<br>Year: 2008",
                    "City: Zaydan<br>Group: Islamic State of Iraq (ISI)<br>casualities: 73<br>Year: 2008",
                    "City: Jalawlah<br>Group: Islamic State of Iraq (ISI)<br>casualities: 66<br>Year: 2008",
                    "City: Baghdad<br>Group: Al-Qaida in Iraq<br>casualities: 103<br>Year: 2008",
                    "City: Baghdad<br>Group: Islamic State of Iraq (ISI)<br>casualities: 63<br>Year: 2008",
                    "City: Kirkuk<br>Group: Islamic State of Iraq (ISI)<br>casualities: 176<br>Year: 2008",
                    "City: Yusufiyah<br>Group: Islamic State of Iraq (ISI)<br>casualities: 140<br>Year: 2009",
                    "City: Musayib<br>Group: Islamic State of Iraq (ISI)<br>casualities: 121<br>Year: 2009",
                    "City: Baghdad<br>Group: Islamic State of Iraq (ISI)<br>casualities: 87<br>Year: 2009",
                    "City: Abu Ghraib<br>Group: Al-Qaida in Iraq<br>casualities: 80<br>Year: 2009",
                    "City: Baghdad<br>Group: Al-Qaida in Iraq<br>casualities: 75<br>Year: 2009",
                    "City: Baghdad<br>Group: Islamic State of Iraq (ISI)<br>casualities: 123<br>Year: 2009",
                    "City: Baghdad<br>Group: Islamic State of Iraq (ISI)<br>casualities: 124<br>Year: 2009",
                    "City: Batha<br>Group: Islamic State of Iraq (ISI)<br>casualities: 73<br>Year: 2009",
                    "City: Taza Khurmatu<br>Group: Islamic State of Iraq (ISI)<br>casualities: 294<br>Year: 2009",
                    "City: Kirkuk<br>Group: Islamic State of Iraq (ISI)<br>casualities: 130<br>Year: 2009",
                    "City: Tal Afar<br>Group: Islamic State of Iraq (ISI)<br>casualities: 96<br>Year: 2009",
                    "City: Baghdad<br>Group: Islamic State of Iraq (ISI)<br>casualities: 131<br>Year: 2009",
                    "City: Khazna<br>Group: Islamic State of Iraq (ISI)<br>casualities: 95<br>Year: 2009",
                    "City: Baghdad<br>Group: Islamic State of Iraq (ISI)<br>casualities: 654<br>Year: 2009",
                    "City: Baghdad<br>Group: Islamic State of Iraq (ISI)<br>casualities: 436<br>Year: 2009",
                    "City: Baghdad<br>Group: Islamic State of Iraq (ISI)<br>casualities: 437<br>Year: 2009",
                    "City: Baghdad<br>Group: Al-Qaida in Iraq<br>casualities: 126<br>Year: 2009",
                    "City: Baghdad<br>Group: Al-Qaida in Iraq<br>casualities: 126<br>Year: 2009",
                    "City: Baghdad<br>Group: Al-Qaida in Iraq<br>casualities: 126<br>Year: 2009",
                    "City: Baghdad<br>Group: Al-Qaida in Iraq<br>casualities: 127<br>Year: 2009",
                    "City: Baghdad<br>Group: Al-Qaida in Iraq<br>casualities: 127<br>Year: 2009",
                    "City: Ramadi<br>Group: Islamic State of Iraq (ISI)<br>casualities: 80<br>Year: 2009",
                    "City: Bab al-Sham<br>Group: Islamic State of Iraq (ISI)<br>casualities: 148<br>Year: 2010",
                    "City: Karbala<br>Group: Islamic State of Iraq (ISI)<br>casualities: 181<br>Year: 2010",
                    "City: Baqubah<br>Group: Islamic State of Iraq (ISI)<br>casualities: 91<br>Year: 2010",
                    "City: Khalis<br>Group: Islamic State of Iraq (ISI)<br>casualities: 133<br>Year: 2010",
                    "City: Basra<br>Group: Al-Qaida in Iraq<br>casualities: 112<br>Year: 2010",
                    "City: Basra<br>Group: Al-Qaida in Iraq<br>casualities: 68<br>Year: 2010",
                    "City: Basra<br>Group: Islamic State of Iraq (ISI)<br>casualities: 67<br>Year: 2010",
                    "City: Hillah<br>Group: Al-Qaida in Iraq<br>casualities: 200<br>Year: 2010",
                    "City: Baghdad<br>Group: Islamic State of Iraq (ISI)<br>casualities: 55<br>Year: 2010",
                    "City: Baghdad<br>Group: Islamic State of Iraq (ISI)<br>casualities: 81<br>Year: 2010",
                    "City: Baghdad<br>Group: Al-Qaida in Iraq<br>casualities: 84<br>Year: 2010",
                    "City: Baghdad<br>Group: Islamic State of Iraq (ISI)<br>casualities: 181<br>Year: 2010",
                    "City: Baghdad<br>Group: Islamic State of Iraq (ISI)<br>casualities: 58<br>Year: 2010",
                    "City: Baghdad<br>Group: Islamic State of Iraq (ISI)<br>casualities: 91<br>Year: 2010",
                    "City: Baghdad<br>Group: Islamic State of Iraq (ISI)<br>casualities: 133<br>Year: 2010",
                    "City: Tikrit<br>Group: Al-Qaida in Iraq<br>casualities: 211<br>Year: 2011",
                    "City: Tikrit<br>Group: Al-Qaida in Iraq<br>casualities: 163<br>Year: 2011",
                    "City: Tikrit<br>Group: Islamic State of Iraq (ISI)<br>casualities: 92<br>Year: 2011",
                    "City: Diwaniyah<br>Group: Arab Socialist Baath Party of Iraq<br>casualities: 57<br>Year: 2011",
                    "City: Taji<br>Group: Islamic State of Iraq (ISI)<br>casualities: 93<br>Year: 2011",
                    "City: Baghdad<br>Group: Al-Qaida in Iraq<br>casualities: 62<br>Year: 2011",
                    "City: Al-Batha<br>Group: Muslim extremists<br>casualities: 115<br>Year: 2012",
                    "City: Musayyib<br>Group: Al-Qaida in Iraq<br>casualities: 61<br>Year: 2012",
                    "City: Baghdad<br>Group: Al-Qaida in Iraq<br>casualities: 91<br>Year: 2012",
                    "City: Hillah<br>Group: Al-Qaida in Iraq<br>casualities: 58<br>Year: 2012",
                    "City: Baghdad<br>Group: Al-Qaida in Iraq<br>casualities: 54<br>Year: 2012",
                    "City: Baqubah<br>Group: Al-Qaida in Iraq<br>casualities: 56<br>Year: 2012",
                    "City: Baqubah<br>Group: Al-Qaida in Iraq<br>casualities: 57<br>Year: 2012",
                    "City: Diwaniyah<br>Group: Al-Qaida in Iraq<br>casualities: 65<br>Year: 2012",
                    "City: Baghdad<br>Group: Al-Qaida in Iraq<br>casualities: 65<br>Year: 2012",
                    "City: Amarah<br>Group: Al-Qaida in Iraq<br>casualities: 74<br>Year: 2012",
                    "City: Taji<br>Group: Al-Qaida in Iraq<br>casualities: 69<br>Year: 2012",
                    "City: Kirkuk<br>Group: Al-Qaida in Iraq<br>casualities: 108<br>Year: 2013",
                    "City: Tuz Khormato<br>Group: Al-Qaida in Iraq<br>casualities: 118<br>Year: 2013",
                    "City: Kirkuk<br>Group: Al-Qaida in Iraq<br>casualities: 106<br>Year: 2013",
                    "City: Diwaniyah<br>Group: Al-Qaida in Iraq<br>casualities: 55<br>Year: 2013",
                    "City: Rutbah<br>Group: Al-Qaida in Iraq<br>casualities: 64<br>Year: 2013",
                    "City: Baqubah<br>Group: Al-Qaida in Iraq<br>casualities: 83<br>Year: 2013",
                    "City: Baghdad<br>Group: Islamic State of Iraq and the Levant (ISIL)<br>casualities: 78<br>Year: 2013",
                    "City: Al-Jadidah<br>Group: Islamic State of Iraq and the Levant (ISIL)<br>casualities: 64<br>Year: 2013",
                    "City: Muqdadiyah<br>Group: Islamic State of Iraq and the Levant (ISIL)<br>casualities: 51<br>Year: 2013",
                    "City: Saba al-Bor<br>Group: Islamic State of Iraq and the Levant (ISIL)<br>casualities: 85<br>Year: 2013",
                    "City: Musayyib<br>Group: Islamic State of Iraq and the Levant (ISIL)<br>casualities: 91<br>Year: 2013",
                    "City: Baghdad<br>Group: Islamic State of Iraq and the Levant (ISIL)<br>casualities: 118<br>Year: 2013",
                    "City: Kirkuk<br>Group: Islamic State of Iraq and the Levant (ISIL)<br>casualities: 86<br>Year: 2013",
                    "City: Baghdad<br>Group: Islamic State of Iraq and the Levant (ISIL)<br>casualities: 56<br>Year: 2013",
                    "City: Baghdad<br>Group: Mukhtar Army<br>casualities: 53<br>Year: 2013",
                    "City: Kirkuk<br>Group: Islamic State of Iraq and the Levant (ISIL)<br>casualities: 61<br>Year: 2014",
                    "City: Baghdad<br>Group: Islamic State of Iraq and the Levant (ISIL)<br>casualities: 74<br>Year: 2014",
                    "City: Samarra<br>Group: Islamic State of Iraq and the Levant (ISIL)<br>casualities: 57<br>Year: 2014",
                    "City: Hillah<br>Group: Islamic State of Iraq and the Levant (ISIL)<br>casualities: 204<br>Year: 2014",
                    "City: Khanaqin<br>Group: Islamic State of Iraq and the Levant (ISIL)<br>casualities: 81<br>Year: 2014",
                    "City: Baghdad<br>Group: Islamic State of Iraq and the Levant (ISIL)<br>casualities: 53<br>Year: 2014",
                    "City: Baghdad<br>Group: Islamic State of Iraq and the Levant (ISIL)<br>casualities: 68<br>Year: 2014",
                    "City: Hillah<br>Group: Islamic State of Iraq and the Levant (ISIL)<br>casualities: 66<br>Year: 2014",
                    "City: Tuz Khormato<br>Group: Islamic State of Iraq and the Levant (ISIL)<br>casualities: 109<br>Year: 2014",
                    "City: Tuz Khormato<br>Group: Islamic State of Iraq and the Levant (ISIL)<br>casualities: 107<br>Year: 2014",
                    "City: Badush<br>Group: Islamic State of Iraq and the Levant (ISIL)<br>casualities: 670<br>Year: 2014",
                    "City: Baghdad<br>Group: Islamic State of Iraq and the Levant (ISIL)<br>casualities: 69<br>Year: 2014",
                    "City: Hillah<br>Group: Asa'ib Ahl al-Haqq<br>casualities: 53<br>Year: 2014",
                    "City: Tal Afar<br>Group: Islamic State of Iraq and the Levant (ISIL)<br>casualities: 63<br>Year: 2014",
                    "City: Tikrit<br>Group: Islamic State of Iraq and the Levant (ISIL)<br>casualities: 1570<br>Year: 2014",
                    "City: Baqubah<br>Group: Islamic State of Iraq and the Levant (ISIL)<br>casualities: 69<br>Year: 2014",
                    "City: Hashimiyah<br>Group: Islamic State of Iraq and the Levant (ISIL)<br>casualities: 80<br>Year: 2014",
                    "City: Baghdad<br>Group: Islamic State of Iraq and the Levant (ISIL)<br>casualities: 61<br>Year: 2014",
                    "City: Jurf al-Sakhar<br>Group: Islamic State of Iraq and the Levant (ISIL)<br>casualities: 76<br>Year: 2014",
                    "City: Baghdad<br>Group: Islamic State of Iraq and the Levant (ISIL)<br>casualities: 86<br>Year: 2014",
                    "City: Zummar<br>Group: Islamic State of Iraq and the Levant (ISIL)<br>casualities: 114<br>Year: 2014",
                    "City: Sinjar<br>Group: Islamic State of Iraq and the Levant (ISIL)<br>casualities: 67<br>Year: 2014",
                    "City: Sinjar<br>Group: Islamic State of Iraq and the Levant (ISIL)<br>casualities: 953<br>Year: 2014",
                    "City: Jalawla<br>Group: Islamic State of Iraq and the Levant (ISIL)<br>casualities: 91<br>Year: 2014",
                    "City: Kojo<br>Group: Islamic State of Iraq and the Levant (ISIL)<br>casualities: 400<br>Year: 2014",
                    "City: Imam Weis<br>Group: Asa'ib Ahl al-Haqq<br>casualities: 70<br>Year: 2014",
                    "City: Mosul<br>Group: Islamic State of Iraq and the Levant (ISIL)<br>casualities: 150<br>Year: 2014",
                    "City: Dhuluiya<br>Group: Islamic State of Iraq and the Levant (ISIL)<br>casualities: 187<br>Year: 2014",
                    "City: Babilan<br>Group: Islamic State of Iraq and the Levant (ISIL)<br>casualities: 58<br>Year: 2014",
                    "City: Baghdad<br>Group: Islamic State of Iraq and the Levant (ISIL)<br>casualities: 77<br>Year: 2014",
                    "City: Ramadi<br>Group: Islamic State of Iraq and the Levant (ISIL)<br>casualities: 150<br>Year: 2014",
                    "City: Hit<br>Group: Islamic State of Iraq and the Levant (ISIL)<br>casualities: 75<br>Year: 2014",
                    "City: Hit district<br>Group: Islamic State of Iraq and the Levant (ISIL)<br>casualities: 71<br>Year: 2014",
                    "City: Fallujah<br>Group: Islamic State of Iraq and the Levant (ISIL)<br>casualities: 150<br>Year: 2014",
                    "City: Madain<br>Group: Islamic State of Iraq and the Levant (ISIL)<br>casualities: 107<br>Year: 2014",
                    "City: Unknown<br>Group: Islamic State of Iraq and the Levant (ISIL)<br>casualities: 61<br>Year: 2014",
                    "City: Taji<br>Group: Islamic State of Iraq and the Levant (ISIL)<br>casualities: 85<br>Year: 2014",
                    "City: Kuwayr<br>Group: Islamic State of Iraq and the Levant (ISIL)<br>casualities: 71<br>Year: 2015",
                    "City: Sultan Abdullah<br>Group: Islamic State of Iraq and the Levant (ISIL)<br>casualities: 77<br>Year: 2015",
                    "City: Barwanat al-Kabira<br>Group: Islamic State of Iraq and the Levant (ISIL)<br>casualities: 71<br>Year: 2015",
                    "City: Baghdad<br>Group: Islamic State of Iraq and the Levant (ISIL)<br>casualities: 97<br>Year: 2015",
                    "City: Balad Ruz district<br>Group: Islamic State of Iraq and the Levant (ISIL)<br>casualities: 53<br>Year: 2015",
                    "City: Ramadi<br>Group: Islamic State of Iraq and the Levant (ISIL)<br>casualities: 55<br>Year: 2015",
                    "City: Tal Saquf<br>Group: Islamic State of Iraq and the Levant (ISIL)<br>casualities: 66<br>Year: 2015",
                    "City: Qaim<br>Group: Islamic State of Iraq and the Levant (ISIL)<br>casualities: 300<br>Year: 2015",
                    "City: Fallujah<br>Group: Islamic State of Iraq and the Levant (ISIL)<br>casualities: 57<br>Year: 2015",
                    "City: Khalidiyah<br>Group: Islamic State of Iraq and the Levant (ISIL)<br>casualities: 54<br>Year: 2015",
                    "City: Tharthar<br>Group: Islamic State of Iraq and the Levant (ISIL)<br>casualities: 64<br>Year: 2015",
                    "City: Samarra district<br>Group: Islamic State of Iraq and the Levant (ISIL)<br>casualities: 53<br>Year: 2015",
                    "City: Balad Ruz district<br>Group: Islamic State of Iraq and the Levant (ISIL)<br>casualities: 52<br>Year: 2015",
                    "City: Gavara<br>Group: Islamic State of Iraq and the Levant (ISIL)<br>casualities: 81<br>Year: 2015",
                    "City: Bani Saad<br>Group: Islamic State of Iraq and the Levant (ISIL)<br>casualities: 251<br>Year: 2015",
                    "City: Fallujah<br>Group: Islamic State of Iraq and the Levant (ISIL)<br>casualities: 52<br>Year: 2015",
                    "City: Baghdad<br>Group: Islamic State of Iraq and the Levant (ISIL)<br>casualities: 66<br>Year: 2015",
                    "City: Huwaydir<br>Group: Islamic State of Iraq and the Levant (ISIL)<br>casualities: 132<br>Year: 2015",
                    "City: Baghdad<br>Group: Islamic State of Iraq and the Levant (ISIL)<br>casualities: 220<br>Year: 2015",
                    "City: Bashiqah<br>Group: Islamic State of Iraq and the Levant (ISIL)<br>casualities: 56<br>Year: 2015",
                    "City: Tharthar<br>Group: Islamic State of Iraq and the Levant (ISIL)<br>casualities: 70<br>Year: 2015",
                    "City: Khalis<br>Group: Islamic State of Iraq and the Levant (ISIL)<br>casualities: 99<br>Year: 2015",
                    "City: Kuwayr<br>Group: Islamic State of Iraq and the Levant (ISIL)<br>casualities: 65<br>Year: 2015",
                    "City: Qayyarah<br>Group: Islamic State of Iraq and the Levant (ISIL)<br>casualities: 83<br>Year: 2016",
                    "City: Hadithah<br>Group: Islamic State of Iraq and the Levant (ISIL)<br>casualities: 142<br>Year: 2016",
                    "City: Baghdad<br>Group: Islamic State of Iraq and the Levant (ISIL)<br>casualities: 71<br>Year: 2016",
                    "City: Tharthar<br>Group: Islamic State of Iraq and the Levant (ISIL)<br>casualities: 138<br>Year: 2016",
                    "City: Mosul<br>Group: Islamic State of Iraq and the Levant (ISIL)<br>casualities: 300<br>Year: 2016",
                    "City: Hamidhiyah<br>Group: Islamic State of Iraq and the Levant (ISIL)<br>casualities: 57<br>Year: 2016",
                    "City: Bashir<br>Group: Islamic State of Iraq and the Levant (ISIL)<br>casualities: 60<br>Year: 2016",
                    "City: Baghdad<br>Group: Islamic State of Iraq and the Levant (ISIL)<br>casualities: 94<br>Year: 2016",
                    "City: Baghdad<br>Group: Islamic State of Iraq and the Levant (ISIL)<br>casualities: 93<br>Year: 2016",
                    "City: Muqdadiyah<br>Group: Islamic State of Iraq and the Levant (ISIL)<br>casualities: 89<br>Year: 2016",
                    "City: Hillah<br>Group: Islamic State of Iraq and the Levant (ISIL)<br>casualities: 157<br>Year: 2016",
                    "City: Taza Khurmatu<br>Group: Islamic State of Iraq and the Levant (ISIL)<br>casualities: 1503<br>Year: 2016",
                    "City: Iskandariyah<br>Group: Islamic State of Iraq and the Levant (ISIL)<br>casualities: 91<br>Year: 2016",
                    "City: Saqlawiyah<br>Group: Islamic State of Iraq and the Levant (ISIL)<br>casualities: 51<br>Year: 2016",
                    "City: Mosul<br>Group: Islamic State of Iraq and the Levant (ISIL)<br>casualities: 250<br>Year: 2016",
                    "City: Baghdad<br>Group: Islamic State of Iraq and the Levant (ISIL)<br>casualities: 51<br>Year: 2016",
                    "City: Nahrawan<br>Group: Islamic State of Iraq and the Levant (ISIL)<br>casualities: 68<br>Year: 2016",
                    "City: Mosul<br>Group: Islamic State of Iraq and the Levant (ISIL)<br>casualities: 60<br>Year: 2016",
                    "City: Baqubah<br>Group: Islamic State of Iraq and the Levant (ISIL)<br>casualities: 52<br>Year: 2016",
                    "City: Baghdad<br>Group: Islamic State of Iraq and the Levant (ISIL)<br>casualities: 61<br>Year: 2016",
                    "City: Baghdad<br>Group: Islamic State of Iraq and the Levant (ISIL)<br>casualities: 152<br>Year: 2016",
                    "City: Makhmur<br>Group: Islamic State of Iraq and the Levant (ISIL)<br>casualities: 65<br>Year: 2016",
                    "City: Baghdad<br>Group: Islamic State of Iraq and the Levant (ISIL)<br>casualities: 52<br>Year: 2016",
                    "City: Saqlawiyah<br>Group: Kata'ib Hezbollah<br>casualities: 649<br>Year: 2016",
                    "City: Albu Hawah<br>Group: Islamic State of Iraq and the Levant (ISIL)<br>casualities: 53<br>Year: 2016",
                    "City: Baghdad<br>Group: Islamic State of Iraq and the Levant (ISIL)<br>casualities: 583<br>Year: 2016",
                    "City: Baiji district<br>Group: Islamic State of Iraq and the Levant (ISIL)<br>casualities: 72<br>Year: 2016",
                    "City: Balad<br>Group: Islamic State of Iraq and the Levant (ISIL)<br>casualities: 130<br>Year: 2016",
                    "City: Khalis district<br>Group: Islamic State of Iraq and the Levant (ISIL)<br>casualities: 56<br>Year: 2016",
                    "City: Hawijah district<br>Group: Islamic State of Iraq and the Levant (ISIL)<br>casualities: 97<br>Year: 2016",
                    "City: Barari<br>Group: Islamic State of Iraq and the Levant (ISIL)<br>casualities: 100<br>Year: 2016",
                    "City: Hatra district<br>Group: Islamic State of Iraq and the Levant (ISIL)<br>casualities: 70<br>Year: 2016",
                    "City: Baghdad<br>Group: Islamic State of Iraq and the Levant (ISIL)<br>casualities: 69<br>Year: 2016",
                    "City: Kirkuk<br>Group: Islamic State of Iraq and the Levant (ISIL)<br>casualities: 182<br>Year: 2016",
                    "City: Mosul<br>Group: Islamic State of Iraq and the Levant (ISIL)<br>casualities: 284<br>Year: 2016",
                    "City: Hammam al-Alil<br>Group: Islamic State of Iraq and the Levant (ISIL)<br>casualities: 190<br>Year: 2016",
                    "City: Nasr<br>Group: Islamic State of Iraq and the Levant (ISIL)<br>casualities: 70<br>Year: 2016",
                    "City: Samarra<br>Group: Islamic State of Iraq and the Levant (ISIL)<br>casualities: 112<br>Year: 2016",
                    "City: Amiriyat al-Fallujah<br>Group: Islamic State of Iraq and the Levant (ISIL)<br>casualities: 61<br>Year: 2016",
                    "City: Shomali<br>Group: Islamic State of Iraq and the Levant (ISIL)<br>casualities: 118<br>Year: 2016",
                    "City: Hammam al-Alil<br>Group: Islamic State of Iraq and the Levant (ISIL)<br>casualities: 100<br>Year: 2016",
                    "City: Hammam al-Alil<br>Group: Islamic State of Iraq and the Levant (ISIL)<br>casualities: 130<br>Year: 2016",
                    "City: Mosul<br>Group: Islamic State of Iraq and the Levant (ISIL)<br>casualities: 56<br>Year: 2016",
                    "City: Mosul<br>Group: Islamic State of Iraq and the Levant (ISIL)<br>casualities: 93<br>Year: 2016",
                    "City: Bawizah<br>Group: Islamic State of Iraq and the Levant (ISIL)<br>casualities: 60<br>Year: 2016",
                    "City: Baghdad<br>Group: Islamic State of Iraq and the Levant (ISIL)<br>casualities: 97<br>Year: 2017",
                    "City: Mosul<br>Group: Islamic State of Iraq and the Levant (ISIL)<br>casualities: 75<br>Year: 2017",
                    "City: Mosul<br>Group: Islamic State of Iraq and the Levant (ISIL)<br>casualities: 93<br>Year: 2017",
                    "City: Baghdad<br>Group: Islamic State of Iraq and the Levant (ISIL)<br>casualities: 95<br>Year: 2017",
                    "City: Tikrit<br>Group: Islamic State of Iraq and the Levant (ISIL)<br>casualities: 51<br>Year: 2017",
                    "City: Baghdad<br>Group: Islamic State of Iraq and the Levant (ISIL)<br>casualities: 72<br>Year: 2017",
                    "City: Mosul<br>Group: Islamic State of Iraq and the Levant (ISIL)<br>casualities: 230<br>Year: 2017",
                    "City: Unknown<br>Group: Islamic State of Iraq and the Levant (ISIL)<br>casualities: 151<br>Year: 2017",
                    "City: Baghdad<br>Group: Islamic State of Iraq and the Levant (ISIL)<br>casualities: 61<br>Year: 2017",
                    "City: Tikrit<br>Group: Islamic State of Iraq and the Levant (ISIL)<br>casualities: 78<br>Year: 2017",
                    "City: Mosul<br>Group: Islamic State of Iraq and the Levant (ISIL)<br>casualities: 57<br>Year: 2017",
                    "City: Mosul<br>Group: Islamic State of Iraq and the Levant (ISIL)<br>casualities: 64<br>Year: 2017",
                    "City: Baghdad<br>Group: Islamic State of Iraq and the Levant (ISIL)<br>casualities: 59<br>Year: 2017",
                    "City: Hit<br>Group: Islamic State of Iraq and the Levant (ISIL)<br>casualities: 53<br>Year: 2017",
                    "City: Mosul<br>Group: Islamic State of Iraq and the Levant (ISIL)<br>casualities: 163<br>Year: 2017",
                    "City: Musayyib<br>Group: Islamic State of Iraq and the Levant (ISIL)<br>casualities: 55<br>Year: 2017",
                    "City: Mosul<br>Group: Islamic State of Iraq and the Levant (ISIL)<br>casualities: 100<br>Year: 2017",
                    "City: Tal Afar<br>Group: Islamic State of Iraq and the Levant (ISIL)<br>casualities: 200<br>Year: 2017",
                    "City: Akashat<br>Group: Islamic State of Iraq and the Levant (ISIL)<br>casualities: 111<br>Year: 2017",
                    "City: Nasiriyah<br>Group: Islamic State of Iraq and the Levant (ISIL)<br>casualities: 93<br>Year: 2017",
                    "City: Nasiriyah<br>Group: Islamic State of Iraq and the Levant (ISIL)<br>casualities: 90<br>Year: 2017",
                    "City: Tuz Khormato<br>Group: Islamic State of Iraq and the Levant (ISIL)<br>casualities: 122<br>Year: 2017"
                  ],
                  "y": [
                    158,
                    76,
                    140,
                    60,
                    91,
                    217,
                    57,
                    68,
                    124,
                    300,
                    57,
                    62,
                    60,
                    68,
                    221,
                    112,
                    343,
                    225,
                    73,
                    68,
                    174,
                    280,
                    52,
                    126,
                    56,
                    161,
                    61,
                    51,
                    89,
                    210,
                    57,
                    88,
                    100,
                    142,
                    155,
                    85,
                    72,
                    101,
                    702,
                    68,
                    60,
                    108,
                    90,
                    65,
                    173,
                    191,
                    71,
                    85,
                    292,
                    102,
                    251,
                    275,
                    118,
                    96,
                    84,
                    1000,
                    1000,
                    220,
                    186,
                    122,
                    102,
                    88,
                    85,
                    73,
                    66,
                    103,
                    63,
                    176,
                    140,
                    121,
                    87,
                    80,
                    75,
                    123,
                    124,
                    73,
                    294,
                    130,
                    96,
                    131,
                    95,
                    654,
                    436,
                    437,
                    126,
                    126,
                    126,
                    127,
                    127,
                    80,
                    148,
                    181,
                    91,
                    133,
                    112,
                    68,
                    67,
                    200,
                    55,
                    81,
                    84,
                    181,
                    58,
                    91,
                    133,
                    211,
                    163,
                    92,
                    57,
                    93,
                    62,
                    115,
                    61,
                    91,
                    58,
                    54,
                    56,
                    57,
                    65,
                    65,
                    74,
                    69,
                    108,
                    118,
                    106,
                    55,
                    64,
                    83,
                    78,
                    64,
                    51,
                    85,
                    91,
                    118,
                    86,
                    56,
                    53,
                    61,
                    74,
                    57,
                    204,
                    81,
                    53,
                    68,
                    66,
                    109,
                    107,
                    670,
                    69,
                    53,
                    63,
                    1570,
                    69,
                    80,
                    61,
                    76,
                    86,
                    114,
                    67,
                    953,
                    91,
                    400,
                    70,
                    150,
                    187,
                    58,
                    77,
                    150,
                    75,
                    71,
                    150,
                    107,
                    61,
                    85,
                    71,
                    77,
                    71,
                    97,
                    53,
                    55,
                    66,
                    300,
                    57,
                    54,
                    64,
                    53,
                    52,
                    81,
                    251,
                    52,
                    66,
                    132,
                    220,
                    56,
                    70,
                    99,
                    65,
                    83,
                    142,
                    71,
                    138,
                    300,
                    57,
                    60,
                    94,
                    93,
                    89,
                    157,
                    1503,
                    91,
                    51,
                    250,
                    51,
                    68,
                    60,
                    52,
                    61,
                    152,
                    65,
                    52,
                    649,
                    53,
                    583,
                    72,
                    130,
                    56,
                    97,
                    100,
                    70,
                    69,
                    182,
                    284,
                    190,
                    70,
                    112,
                    61,
                    118,
                    100,
                    130,
                    56,
                    93,
                    60,
                    97,
                    75,
                    93,
                    95,
                    51,
                    72,
                    230,
                    151,
                    61,
                    78,
                    57,
                    64,
                    59,
                    53,
                    163,
                    55,
                    100,
                    200,
                    111,
                    93,
                    90,
                    122
                  ],
                  "mode": "markers",
                  "marker": {
                    "symbol": "circle",
                    "line": {
                      "width": 2
                    },
                    "sizemode": "area",
                    "size": [
                      158,
                      76,
                      140,
                      60,
                      91,
                      217,
                      57,
                      68,
                      124,
                      300,
                      57,
                      62,
                      60,
                      68,
                      221,
                      112,
                      343,
                      225,
                      73,
                      68,
                      174,
                      280,
                      52,
                      126,
                      56,
                      161,
                      61,
                      51,
                      89,
                      210,
                      57,
                      88,
                      100,
                      142,
                      155,
                      85,
                      72,
                      101,
                      702,
                      68,
                      60,
                      108,
                      90,
                      65,
                      173,
                      191,
                      71,
                      85,
                      292,
                      102,
                      251,
                      275,
                      118,
                      96,
                      84,
                      1000,
                      1000,
                      220,
                      186,
                      122,
                      102,
                      88,
                      85,
                      73,
                      66,
                      103,
                      63,
                      176,
                      140,
                      121,
                      87,
                      80,
                      75,
                      123,
                      124,
                      73,
                      294,
                      130,
                      96,
                      131,
                      95,
                      654,
                      436,
                      437,
                      126,
                      126,
                      126,
                      127,
                      127,
                      80,
                      148,
                      181,
                      91,
                      133,
                      112,
                      68,
                      67,
                      200,
                      55,
                      81,
                      84,
                      181,
                      58,
                      91,
                      133,
                      211,
                      163,
                      92,
                      57,
                      93,
                      62,
                      115,
                      61,
                      91,
                      58,
                      54,
                      56,
                      57,
                      65,
                      65,
                      74,
                      69,
                      108,
                      118,
                      106,
                      55,
                      64,
                      83,
                      78,
                      64,
                      51,
                      85,
                      91,
                      118,
                      86,
                      56,
                      53,
                      61,
                      74,
                      57,
                      204,
                      81,
                      53,
                      68,
                      66,
                      109,
                      107,
                      670,
                      69,
                      53,
                      63,
                      1570,
                      69,
                      80,
                      61,
                      76,
                      86,
                      114,
                      67,
                      953,
                      91,
                      400,
                      70,
                      150,
                      187,
                      58,
                      77,
                      150,
                      75,
                      71,
                      150,
                      107,
                      61,
                      85,
                      71,
                      77,
                      71,
                      97,
                      53,
                      55,
                      66,
                      300,
                      57,
                      54,
                      64,
                      53,
                      52,
                      81,
                      251,
                      52,
                      66,
                      132,
                      220,
                      56,
                      70,
                      99,
                      65,
                      83,
                      142,
                      71,
                      138,
                      300,
                      57,
                      60,
                      94,
                      93,
                      89,
                      157,
                      1503,
                      91,
                      51,
                      250,
                      51,
                      68,
                      60,
                      52,
                      61,
                      152,
                      65,
                      52,
                      649,
                      53,
                      583,
                      72,
                      130,
                      56,
                      97,
                      100,
                      70,
                      69,
                      182,
                      284,
                      190,
                      70,
                      112,
                      61,
                      118,
                      100,
                      130,
                      56,
                      93,
                      60,
                      97,
                      75,
                      93,
                      95,
                      51,
                      72,
                      230,
                      151,
                      61,
                      78,
                      57,
                      64,
                      59,
                      53,
                      163,
                      55,
                      100,
                      200,
                      111,
                      93,
                      90,
                      122
                    ]
                  },
                  "x": [
                    1982,
                    1982,
                    1988,
                    1992,
                    1994,
                    1995,
                    1997,
                    2003,
                    2003,
                    2003,
                    2003,
                    2003,
                    2003,
                    2003,
                    2004,
                    2004,
                    2004,
                    2004,
                    2004,
                    2004,
                    2004,
                    2004,
                    2004,
                    2004,
                    2004,
                    2004,
                    2004,
                    2004,
                    2004,
                    2005,
                    2005,
                    2005,
                    2005,
                    2005,
                    2005,
                    2005,
                    2005,
                    2005,
                    2005,
                    2005,
                    2005,
                    2005,
                    2006,
                    2006,
                    2006,
                    2006,
                    2006,
                    2006,
                    2007,
                    2007,
                    2007,
                    2007,
                    2007,
                    2007,
                    2007,
                    2007,
                    2007,
                    2008,
                    2008,
                    2008,
                    2008,
                    2008,
                    2008,
                    2008,
                    2008,
                    2008,
                    2008,
                    2008,
                    2009,
                    2009,
                    2009,
                    2009,
                    2009,
                    2009,
                    2009,
                    2009,
                    2009,
                    2009,
                    2009,
                    2009,
                    2009,
                    2009,
                    2009,
                    2009,
                    2009,
                    2009,
                    2009,
                    2009,
                    2009,
                    2009,
                    2010,
                    2010,
                    2010,
                    2010,
                    2010,
                    2010,
                    2010,
                    2010,
                    2010,
                    2010,
                    2010,
                    2010,
                    2010,
                    2010,
                    2010,
                    2011,
                    2011,
                    2011,
                    2011,
                    2011,
                    2011,
                    2012,
                    2012,
                    2012,
                    2012,
                    2012,
                    2012,
                    2012,
                    2012,
                    2012,
                    2012,
                    2012,
                    2013,
                    2013,
                    2013,
                    2013,
                    2013,
                    2013,
                    2013,
                    2013,
                    2013,
                    2013,
                    2013,
                    2013,
                    2013,
                    2013,
                    2013,
                    2014,
                    2014,
                    2014,
                    2014,
                    2014,
                    2014,
                    2014,
                    2014,
                    2014,
                    2014,
                    2014,
                    2014,
                    2014,
                    2014,
                    2014,
                    2014,
                    2014,
                    2014,
                    2014,
                    2014,
                    2014,
                    2014,
                    2014,
                    2014,
                    2014,
                    2014,
                    2014,
                    2014,
                    2014,
                    2014,
                    2014,
                    2014,
                    2014,
                    2014,
                    2014,
                    2014,
                    2014,
                    2015,
                    2015,
                    2015,
                    2015,
                    2015,
                    2015,
                    2015,
                    2015,
                    2015,
                    2015,
                    2015,
                    2015,
                    2015,
                    2015,
                    2015,
                    2015,
                    2015,
                    2015,
                    2015,
                    2015,
                    2015,
                    2015,
                    2015,
                    2016,
                    2016,
                    2016,
                    2016,
                    2016,
                    2016,
                    2016,
                    2016,
                    2016,
                    2016,
                    2016,
                    2016,
                    2016,
                    2016,
                    2016,
                    2016,
                    2016,
                    2016,
                    2016,
                    2016,
                    2016,
                    2016,
                    2016,
                    2016,
                    2016,
                    2016,
                    2016,
                    2016,
                    2016,
                    2016,
                    2016,
                    2016,
                    2016,
                    2016,
                    2016,
                    2016,
                    2016,
                    2016,
                    2016,
                    2016,
                    2016,
                    2016,
                    2016,
                    2016,
                    2016,
                    2017,
                    2017,
                    2017,
                    2017,
                    2017,
                    2017,
                    2017,
                    2017,
                    2017,
                    2017,
                    2017,
                    2017,
                    2017,
                    2017,
                    2017,
                    2017,
                    2017,
                    2017,
                    2017,
                    2017,
                    2017,
                    2017
                  ],
                  "type": "scatter"
                },
                {
                  "name": "Pakistan",
                  "text": [
                    "City: Karachi<br>Group: Abu Nidal Organization (ANO)<br>casualities: 170<br>Year: 1986",
                    "City: Karachi<br>Group: Muttahida Qami Movement (MQM)<br>casualities: 56<br>Year: 1990",
                    "City: Karachi<br>Group: Jamaat-E-Islami (India/Pakistan)<br>casualities: 104<br>Year: 1992",
                    "City: Mingora<br>Group: Islamist extremists<br>casualities: 70<br>Year: 1994",
                    "City: Islamabad<br>Group: Egyptian Islamic Jihad (Al-Jihad)<br>casualities: 76<br>Year: 1995",
                    "City: Peshawar<br>Group: Afghans<br>casualities: 142<br>Year: 1995",
                    "City: Chak 205<br>Group: Lashkar-e-Jhangvi<br>casualities: 87<br>Year: 1996",
                    "City: Parachinar<br>Group: Shia Muslim extremists<br>casualities: 186<br>Year: 1996",
                    "City: Multan<br>Group: Shia Muslim extremists<br>casualities: 54<br>Year: 1996",
                    "City: Islamabad<br>Group: Al-Qaida<br>casualities: 51<br>Year: 2002",
                    "City: Karachi<br>Group: Lashkar-e-Omar<br>casualities: 63<br>Year: 2002",
                    "City: Quetta<br>Group: Lashkar-e-Jhangvi<br>casualities: 106<br>Year: 2003",
                    "City: Rawalpindi<br>Group: Al-Qaida<br>casualities: 61<br>Year: 2003",
                    "City: Karachi<br>Group: Lashkar-e-Jhangvi<br>casualities: 118<br>Year: 2004",
                    "City: Fateh Jang<br>Group: Islambouli Brigades of al-Qaida<br>casualities: 59<br>Year: 2004",
                    "City: Multan<br>Group: Sipah-I-Mohammed<br>casualities: 141<br>Year: 2004",
                    "City: Karachi<br>Group: Lashkar-e-Jhangvi<br>casualities: 182<br>Year: 2006",
                    "City: Islamabad<br>Group: Muslim extremists<br>casualities: 214<br>Year: 2007",
                    "City: Islamabad<br>Group: Muslim extremists<br>casualities: 131<br>Year: 2007",
                    "City: Miran Shah<br>Group: Al-Qaida<br>casualities: 51<br>Year: 2007",
                    "City: Rawalpindi<br>Group: Al-Qaida<br>casualities: 53<br>Year: 2007",
                    "City: Karachi<br>Group: Harkatul Jihad-e-Islami<br>casualities: 391<br>Year: 2007",
                    "City: Rawalpindi<br>Group: Al-Qaida<br>casualities: 120<br>Year: 2007",
                    "City: Lahore<br>Group: Al-Qaida<br>casualities: 227<br>Year: 2008",
                    "City: Lahore<br>Group: Tehrik-i-Taliban Pakistan (TTP)<br>casualities: 51<br>Year: 2008",
                    "City: Dera Ismail Khan<br>Group: Tehrik-i-Taliban Pakistan (TTP)<br>casualities: 58<br>Year: 2008",
                    "City: Islamabad<br>Group: Tehrik-i-Taliban Pakistan (TTP)<br>casualities: 164<br>Year: 2008",
                    "City: Bajaur district<br>Group: Tehrik-i-Taliban Pakistan (TTP)<br>casualities: 63<br>Year: 2008",
                    "City: Jamrud<br>Group: Tehrik-i-Taliban Pakistan (TTP)<br>casualities: 215<br>Year: 2009",
                    "City: Manawan<br>Group: Tehrik-i-Taliban Pakistan (TTP)<br>casualities: 102<br>Year: 2009",
                    "City: Chakwal<br>Group: Tehrik-i-Taliban Pakistan (TTP)<br>casualities: 165<br>Year: 2009",
                    "City: Lahore<br>Group: Tehrik-i-Taliban Pakistan (TTP)<br>casualities: 230<br>Year: 2009",
                    "City: Peshawar<br>Group: Tehrik-i-Taliban Pakistan (TTP)<br>casualities: 77<br>Year: 2009",
                    "City: Dir<br>Group: Tehrik-i-Taliban Pakistan (TTP)<br>casualities: 91<br>Year: 2009",
                    "City: Peshawar<br>Group: Tehrik-i-Taliban Pakistan (TTP)<br>casualities: 76<br>Year: 2009",
                    "City: South Waziristan district<br>Group: Tehrik-i-Taliban Pakistan (TTP)<br>casualities: 70<br>Year: 2009",
                    "City: Kohat<br>Group: Lashkar-e-Jhangvi<br>casualities: 61<br>Year: 2009",
                    "City: Lahore<br>Group: Tehrik-i-Taliban Pakistan (TTP)<br>casualities: 60<br>Year: 2009",
                    "City: Peshawar<br>Group: Tehrik-i-Taliban Pakistan (TTP)<br>casualities: 320<br>Year: 2009",
                    "City: Karachi<br>Group: Tehrik-i-Taliban Pakistan (TTP)<br>casualities: 145<br>Year: 2009",
                    "City: Shah Hassan Khel<br>Group: Tehrik-i-Taliban Pakistan (TTP)<br>casualities: 187<br>Year: 2010",
                    "City: Karachi<br>Group: Jundallah (Pakistan)<br>casualities: 61<br>Year: 2010",
                    "City: Khyber district<br>Group: Ansarul Islam (Pakistan)<br>casualities: 131<br>Year: 2010",
                    "City: Lahore<br>Group: Tehrik-i-Taliban Pakistan (TTP)<br>casualities: 127<br>Year: 2010",
                    "City: Lahore<br>Group: Tehrik-i-Taliban Pakistan (TTP)<br>casualities: 147<br>Year: 2010",
                    "City: Kohat<br>Group: Lashkar-e-Jhangvi<br>casualities: 107<br>Year: 2010",
                    "City: Lahore<br>Group: Tehrik-i-Taliban Pakistan (TTP)<br>casualities: 60<br>Year: 2010",
                    "City: Lahore<br>Group: Tehrik-i-Taliban Pakistan (TTP)<br>casualities: 58<br>Year: 2010",
                    "City: Lahore<br>Group: Tehrik-i-Taliban Pakistan (TTP)<br>casualities: 58<br>Year: 2010",
                    "City: Mohmand district<br>Group: Tehrik-i-Taliban Pakistan (TTP)<br>casualities: 221<br>Year: 2010",
                    "City: Lahore<br>Group: Tehrik-i-Taliban Pakistan (TTP)<br>casualities: 240<br>Year: 2010",
                    "City: Quetta<br>Group: Tehrik-i-Taliban Pakistan (TTP)<br>casualities: 216<br>Year: 2010",
                    "City: Karachi<br>Group: Tehrik-i-Taliban Pakistan (TTP)<br>casualities: 73<br>Year: 2010",
                    "City: Darra Adam Khel<br>Group: Tehrik-i-Taliban Pakistan (TTP)<br>casualities: 123<br>Year: 2010",
                    "City: Islamabad<br>Group: Tehrik-i-Taliban Pakistan (TTP)<br>casualities: 115<br>Year: 2010",
                    "City: Mohmand district<br>Group: Tehrik-i-Taliban Pakistan (TTP)<br>casualities: 112<br>Year: 2010",
                    "City: Bajaur district<br>Group: Tehrik-i-Taliban Pakistan (TTP)<br>casualities: 120<br>Year: 2010",
                    "City: Lahore<br>Group: Tehrik-i-Taliban Pakistan (TTP)<br>casualities: 81<br>Year: 2011",
                    "City: Mardan<br>Group: Tehrik-i-Taliban Pakistan (TTP)<br>casualities: 72<br>Year: 2011",
                    "City: Faisalabad<br>Group: Tehrik-i-Taliban Pakistan (TTP)<br>casualities: 126<br>Year: 2011",
                    "City: Peshawar<br>Group: Tehrik-i-Taliban Pakistan (TTP)<br>casualities: 76<br>Year: 2011",
                    "City: Dera Ghazi Khan<br>Group: Tehrik-i-Taliban Pakistan (TTP)<br>casualities: 154<br>Year: 2011",
                    "City: Shabqadar<br>Group: Tehrik-i-Taliban Pakistan (TTP)<br>casualities: 222<br>Year: 2011",
                    "City: Hangu<br>Group: Tehrik-i-Taliban Pakistan (TTP)<br>casualities: 85<br>Year: 2011",
                    "City: Peshawar<br>Group: Tehrik-i-Taliban Pakistan (TTP)<br>casualities: 58<br>Year: 2011",
                    "City: Peshawar<br>Group: Tehrik-i-Taliban Pakistan (TTP)<br>casualities: 58<br>Year: 2011",
                    "City: Jamrud<br>Group: Tehrik-i-Taliban Pakistan (TTP)<br>casualities: 180<br>Year: 2011",
                    "City: Quetta<br>Group: Tehrik-i-Taliban Pakistan (TTP)<br>casualities: 53<br>Year: 2011",
                    "City: Dir<br>Group: Tehrik-i-Taliban Pakistan (TTP)<br>casualities: 104<br>Year: 2011",
                    "City: Quetta<br>Group: Lashkar-e-Jhangvi<br>casualities: 56<br>Year: 2011",
                    "City: Jamrud<br>Group: Tehrik-i-Taliban Pakistan (TTP)<br>casualities: 95<br>Year: 2012",
                    "City: Jogi<br>Group: Tehrik-i-Taliban Pakistan (TTP)<br>casualities: 105<br>Year: 2012",
                    "City: Parachinar<br>Group: Tehrik-e-Taliban Islami (TTI)<br>casualities: 104<br>Year: 2012",
                    "City: Badaber<br>Group: Tehrik-i-Taliban Pakistan (TTP)<br>casualities: 53<br>Year: 2012",
                    "City: Khar<br>Group: Tehrik-i-Taliban Pakistan (TTP)<br>casualities: 61<br>Year: 2012",
                    "City: Quetta<br>Group: Baloch Republican Army (BRA)<br>casualities: 64<br>Year: 2012",
                    "City: Gulbela<br>Group: Tehrik-i-Taliban Pakistan (TTP)<br>casualities: 59<br>Year: 2012",
                    "City: Ghaljo<br>Group: Tehrik-i-Taliban Pakistan (TTP)<br>casualities: 58<br>Year: 2012",
                    "City: Parachinar<br>Group: Tehrik-i-Taliban Pakistan (TTP)<br>casualities: 84<br>Year: 2012",
                    "City: Rawalpindi<br>Group: Tehrik-i-Taliban Pakistan (TTP)<br>casualities: 87<br>Year: 2012",
                    "City: Dera Ismail Khan<br>Group: Tehrik-i-Taliban Pakistan (TTP)<br>casualities: 88<br>Year: 2012",
                    "City: Peshawar<br>Group: Tehrik-i-Taliban Pakistan (TTP)<br>casualities: 54<br>Year: 2012",
                    "City: Quetta<br>Group: Lashkar-e-Jhangvi<br>casualities: 139<br>Year: 2013",
                    "City: Quetta<br>Group: Lashkar-e-Jhangvi<br>casualities: 137<br>Year: 2013",
                    "City: Quetta<br>Group: United Baloch Army (UBA)<br>casualities: 62<br>Year: 2013",
                    "City: Mingora<br>Group: Lashkar-e-Jhangvi<br>casualities: 101<br>Year: 2013",
                    "City: Hangu<br>Group: Tehrik-i-Taliban Pakistan (TTP)<br>casualities: 80<br>Year: 2013",
                    "City: Quetta<br>Group: Lashkar-e-Jhangvi<br>casualities: 260<br>Year: 2013",
                    "City: Karachi<br>Group: Tehrik-i-Taliban Pakistan (TTP)<br>casualities: 196<br>Year: 2013",
                    "City: Peshawar<br>Group: Tehrik-i-Taliban Pakistan (TTP)<br>casualities: 51<br>Year: 2013",
                    "City: Peshawar<br>Group: Tehrik-i-Taliban Pakistan (TTP)<br>casualities: 78<br>Year: 2013",
                    "City: Karachi<br>Group: Tehrik-i-Taliban Pakistan (TTP)<br>casualities: 51<br>Year: 2013",
                    "City: Parachinar<br>Group: Tehrik-i-Taliban Pakistan (TTP)<br>casualities: 93<br>Year: 2013",
                    "City: Quetta<br>Group: Lashkar-e-Jhangvi<br>casualities: 87<br>Year: 2013",
                    "City: Badaber<br>Group: Tehrik-i-Taliban Pakistan (TTP)<br>casualities: 70<br>Year: 2013",
                    "City: Quetta<br>Group: Lashkar-e-Jhangvi<br>casualities: 87<br>Year: 2013",
                    "City: Lahore<br>Group: Baloch Liberation Tigers (BLT)<br>casualities: 55<br>Year: 2013",
                    "City: Quetta<br>Group: Lashkar-e-Jhangvi<br>casualities: 99<br>Year: 2013",
                    "City: Parachinar<br>Group: Mujahideen Ansar<br>casualities: 107<br>Year: 2013",
                    "City: Parachinar<br>Group: Mujahideen Ansar<br>casualities: 105<br>Year: 2013",
                    "City: Quetta<br>Group: Tehrik-i-Taliban Pakistan (TTP)<br>casualities: 89<br>Year: 2013",
                    "City: Peshawar<br>Group: Jundallah (Pakistan)<br>casualities: 218<br>Year: 2013",
                    "City: Bannu<br>Group: Tehrik-i-Taliban Pakistan (TTP)<br>casualities: 52<br>Year: 2014",
                    "City: Mastung district<br>Group: Lashkar-e-Jhangvi<br>casualities: 61<br>Year: 2014",
                    "City: Peshawar<br>Group: Tehrik-i-Taliban Pakistan (TTP)<br>casualities: 60<br>Year: 2014",
                    "City: Saraband<br>Group: Tehrik-i-Taliban Pakistan (TTP)<br>casualities: 63<br>Year: 2014",
                    "City: Sibi<br>Group: United Baloch Army (UBA)<br>casualities: 52<br>Year: 2014",
                    "City: Islamabad<br>Group: United Baloch Army (UBA)<br>casualities: 67<br>Year: 2014",
                    "City: Karachi<br>Group: Tehrik-i-Taliban Pakistan (TTP)<br>casualities: 60<br>Year: 2014",
                    "City: Wagah<br>Group: Tehrik-i-Taliban Pakistan (TTP)<br>casualities: 172<br>Year: 2014",
                    "City: Peshawar<br>Group: Tehrik-i-Taliban Pakistan (TTP)<br>casualities: 279<br>Year: 2014",
                    "City: Shikarpur district<br>Group: Jundallah (Pakistan)<br>casualities: 108<br>Year: 2015",
                    "City: Hayatabad<br>Group: Jundallah (Pakistan)<br>casualities: 74<br>Year: 2015",
                    "City: Karachi<br>Group: Khorasan Chapter of the Islamic State<br>casualities: 58<br>Year: 2015",
                    "City: Multan<br>Group: United Baloch Army (UBA)<br>casualities: 70<br>Year: 2015",
                    "City: Badaber<br>Group: Tehrik-i-Taliban Pakistan (TTP)<br>casualities: 64<br>Year: 2015",
                    "City: Abi Gum<br>Group: Baloch Young Tigers (BYT)<br>casualities: 166<br>Year: 2015",
                    "City: Parachinar<br>Group: Lashkar-e-Jhangvi<br>casualities: 92<br>Year: 2015",
                    "City: Mardan<br>Group: Tehrik-i-Taliban Pakistan (TTP)<br>casualities: 78<br>Year: 2015",
                    "City: Peshawar<br>Group: Lashkar-e-Islam (Pakistan)<br>casualities: 66<br>Year: 2016",
                    "City: Lahore<br>Group: Tehrik-i-Taliban Pakistan (TTP)<br>casualities: 430<br>Year: 2016",
                    "City: Quetta<br>Group: Khorasan Chapter of the Islamic State<br>casualities: 200<br>Year: 2016",
                    "City: Mardan<br>Group: Tehrik-i-Taliban Pakistan (TTP)<br>casualities: 58<br>Year: 2016",
                    "City: Pai Khan<br>Group: Tehrik-i-Taliban Pakistan (TTP)<br>casualities: 69<br>Year: 2016",
                    "City: Quetta<br>Group: Lashkar-e-Jhangvi<br>casualities: 228<br>Year: 2016",
                    "City: Khuzdar district<br>Group: Khorasan Chapter of the Islamic State<br>casualities: 153<br>Year: 2016",
                    "City: Parachinar<br>Group: Lashkar-e-Jhangvi<br>casualities: 91<br>Year: 2017",
                    "City: Lahore<br>Group: Tehrik-i-Taliban Pakistan (TTP)<br>casualities: 72<br>Year: 2017",
                    "City: Sehwan<br>Group: Khorasan Chapter of the Islamic State<br>casualities: 442<br>Year: 2017",
                    "City: Parachinar<br>Group: Tehrik-i-Taliban Pakistan (TTP)<br>casualities: 160<br>Year: 2017",
                    "City: Mastung<br>Group: Khorasan Chapter of the Islamic State<br>casualities: 59<br>Year: 2017",
                    "City: Parachinar<br>Group: Lashkar-e-Jhangvi<br>casualities: 180<br>Year: 2017",
                    "City: Parachinar<br>Group: Lashkar-e-Jhangvi<br>casualities: 181<br>Year: 2017",
                    "City: Lahore<br>Group: Tehrik-i-Taliban Pakistan (TTP)<br>casualities: 78<br>Year: 2017",
                    "City: Quetta<br>Group: Khorasan Chapter of the Islamic State<br>casualities: 67<br>Year: 2017"
                  ],
                  "y": [
                    170,
                    56,
                    104,
                    70,
                    76,
                    142,
                    87,
                    186,
                    54,
                    51,
                    63,
                    106,
                    61,
                    118,
                    59,
                    141,
                    182,
                    214,
                    131,
                    51,
                    53,
                    391,
                    120,
                    227,
                    51,
                    58,
                    164,
                    63,
                    215,
                    102,
                    165,
                    230,
                    77,
                    91,
                    76,
                    70,
                    61,
                    60,
                    320,
                    145,
                    187,
                    61,
                    131,
                    127,
                    147,
                    107,
                    60,
                    58,
                    58,
                    221,
                    240,
                    216,
                    73,
                    123,
                    115,
                    112,
                    120,
                    81,
                    72,
                    126,
                    76,
                    154,
                    222,
                    85,
                    58,
                    58,
                    180,
                    53,
                    104,
                    56,
                    95,
                    105,
                    104,
                    53,
                    61,
                    64,
                    59,
                    58,
                    84,
                    87,
                    88,
                    54,
                    139,
                    137,
                    62,
                    101,
                    80,
                    260,
                    196,
                    51,
                    78,
                    51,
                    93,
                    87,
                    70,
                    87,
                    55,
                    99,
                    107,
                    105,
                    89,
                    218,
                    52,
                    61,
                    60,
                    63,
                    52,
                    67,
                    60,
                    172,
                    279,
                    108,
                    74,
                    58,
                    70,
                    64,
                    166,
                    92,
                    78,
                    66,
                    430,
                    200,
                    58,
                    69,
                    228,
                    153,
                    91,
                    72,
                    442,
                    160,
                    59,
                    180,
                    181,
                    78,
                    67
                  ],
                  "mode": "markers",
                  "marker": {
                    "symbol": "circle",
                    "line": {
                      "width": 2
                    },
                    "sizemode": "area",
                    "size": [
                      170,
                      56,
                      104,
                      70,
                      76,
                      142,
                      87,
                      186,
                      54,
                      51,
                      63,
                      106,
                      61,
                      118,
                      59,
                      141,
                      182,
                      214,
                      131,
                      51,
                      53,
                      391,
                      120,
                      227,
                      51,
                      58,
                      164,
                      63,
                      215,
                      102,
                      165,
                      230,
                      77,
                      91,
                      76,
                      70,
                      61,
                      60,
                      320,
                      145,
                      187,
                      61,
                      131,
                      127,
                      147,
                      107,
                      60,
                      58,
                      58,
                      221,
                      240,
                      216,
                      73,
                      123,
                      115,
                      112,
                      120,
                      81,
                      72,
                      126,
                      76,
                      154,
                      222,
                      85,
                      58,
                      58,
                      180,
                      53,
                      104,
                      56,
                      95,
                      105,
                      104,
                      53,
                      61,
                      64,
                      59,
                      58,
                      84,
                      87,
                      88,
                      54,
                      139,
                      137,
                      62,
                      101,
                      80,
                      260,
                      196,
                      51,
                      78,
                      51,
                      93,
                      87,
                      70,
                      87,
                      55,
                      99,
                      107,
                      105,
                      89,
                      218,
                      52,
                      61,
                      60,
                      63,
                      52,
                      67,
                      60,
                      172,
                      279,
                      108,
                      74,
                      58,
                      70,
                      64,
                      166,
                      92,
                      78,
                      66,
                      430,
                      200,
                      58,
                      69,
                      228,
                      153,
                      91,
                      72,
                      442,
                      160,
                      59,
                      180,
                      181,
                      78,
                      67
                    ]
                  },
                  "x": [
                    1986,
                    1990,
                    1992,
                    1994,
                    1995,
                    1995,
                    1996,
                    1996,
                    1996,
                    2002,
                    2002,
                    2003,
                    2003,
                    2004,
                    2004,
                    2004,
                    2006,
                    2007,
                    2007,
                    2007,
                    2007,
                    2007,
                    2007,
                    2008,
                    2008,
                    2008,
                    2008,
                    2008,
                    2009,
                    2009,
                    2009,
                    2009,
                    2009,
                    2009,
                    2009,
                    2009,
                    2009,
                    2009,
                    2009,
                    2009,
                    2010,
                    2010,
                    2010,
                    2010,
                    2010,
                    2010,
                    2010,
                    2010,
                    2010,
                    2010,
                    2010,
                    2010,
                    2010,
                    2010,
                    2010,
                    2010,
                    2010,
                    2011,
                    2011,
                    2011,
                    2011,
                    2011,
                    2011,
                    2011,
                    2011,
                    2011,
                    2011,
                    2011,
                    2011,
                    2011,
                    2012,
                    2012,
                    2012,
                    2012,
                    2012,
                    2012,
                    2012,
                    2012,
                    2012,
                    2012,
                    2012,
                    2012,
                    2013,
                    2013,
                    2013,
                    2013,
                    2013,
                    2013,
                    2013,
                    2013,
                    2013,
                    2013,
                    2013,
                    2013,
                    2013,
                    2013,
                    2013,
                    2013,
                    2013,
                    2013,
                    2013,
                    2013,
                    2014,
                    2014,
                    2014,
                    2014,
                    2014,
                    2014,
                    2014,
                    2014,
                    2014,
                    2015,
                    2015,
                    2015,
                    2015,
                    2015,
                    2015,
                    2015,
                    2015,
                    2016,
                    2016,
                    2016,
                    2016,
                    2016,
                    2016,
                    2016,
                    2017,
                    2017,
                    2017,
                    2017,
                    2017,
                    2017,
                    2017,
                    2017,
                    2017
                  ],
                  "type": "scatter"
                },
                {
                  "name": "Afghanistan",
                  "text": [
                    "City: Kabul<br>Group: Guerrillas<br>casualities: 81<br>Year: 1992",
                    "City: Kabul<br>Group: Hizb-I-Islami<br>casualities: 111<br>Year: 1992",
                    "City: Yakawlang<br>Group: Taliban<br>casualities: 150<br>Year: 2001",
                    "City: Jalalabad<br>Group: Al-Qaida<br>casualities: 90<br>Year: 2002",
                    "City: Kabul<br>Group: Al-Qaida<br>casualities: 75<br>Year: 2002",
                    "City: Kandahar<br>Group: Taliban<br>casualities: 63<br>Year: 2003",
                    "City: Kandahar<br>Group: Al-Qaida<br>casualities: 73<br>Year: 2005",
                    "City: Lashkar Gah<br>Group: Taliban<br>casualities: 62<br>Year: 2006",
                    "City: Kabul<br>Group: Taliban<br>casualities: 63<br>Year: 2006",
                    "City: Bagram Air Field<br>Group: Taliban<br>casualities: 51<br>Year: 2007",
                    "City: Kabul<br>Group: Haqqani Network<br>casualities: 88<br>Year: 2007",
                    "City: Gereshk<br>Group: Taliban<br>casualities: 88<br>Year: 2007",
                    "City: Kandahar<br>Group: Taliban<br>casualities: 201<br>Year: 2008",
                    "City: Spin Boldak<br>Group: Taliban<br>casualities: 80<br>Year: 2008",
                    "City: Kabul<br>Group: Haqqani Network<br>casualities: 199<br>Year: 2008",
                    "City: Dihrawud<br>Group: Taliban<br>casualities: 60<br>Year: 2008",
                    "City: Chaharikar<br>Group: Taliban<br>casualities: 63<br>Year: 2009",
                    "City: Mahmud Raqi<br>Group: Taliban<br>casualities: 98<br>Year: 2009",
                    "City: Khost<br>Group: Taliban<br>casualities: 52<br>Year: 2009",
                    "City: Kandahar<br>Group: Taliban<br>casualities: 100<br>Year: 2009",
                    "City: Mihtarlam<br>Group: Taliban<br>casualities: 54<br>Year: 2009",
                    "City: Maywand<br>Group: Taliban<br>casualities: 69<br>Year: 2009",
                    "City: Kabul<br>Group: Taliban<br>casualities: 96<br>Year: 2009",
                    "City: Kabul<br>Group: Haqqani Network<br>casualities: 53<br>Year: 2010",
                    "City: Kandahar<br>Group: Taliban<br>casualities: 96<br>Year: 2010",
                    "City: Kabul<br>Group: Haqqani Network<br>casualities: 66<br>Year: 2010",
                    "City: Arghandab<br>Group: Taliban<br>casualities: 128<br>Year: 2010",
                    "City: Barmal district<br>Group: Taliban<br>casualities: 85<br>Year: 2010",
                    "City: Jalalabad<br>Group: Haqqani Network<br>casualities: 119<br>Year: 2011",
                    "City: Imam Sahib<br>Group: Taliban<br>casualities: 72<br>Year: 2011",
                    "City: Kunduz<br>Group: Taliban<br>casualities: 79<br>Year: 2011",
                    "City: Barmal<br>Group: Taliban<br>casualities: 84<br>Year: 2011",
                    "City: Kandahar<br>Group: Taliban<br>casualities: 59<br>Year: 2011",
                    "City: Jadran district<br>Group: Haqqani Network<br>casualities: 65<br>Year: 2011",
                    "City: Chaharikar<br>Group: Taliban<br>casualities: 61<br>Year: 2011",
                    "City: Unknown<br>Group: Haqqani Network<br>casualities: 99<br>Year: 2011",
                    "City: Unknown<br>Group: Taliban<br>casualities: 60<br>Year: 2011",
                    "City: Muhammad Agha<br>Group: Haqqani Network<br>casualities: 72<br>Year: 2011",
                    "City: Kabul<br>Group: Lashkar-e-Jhangvi<br>casualities: 190<br>Year: 2011",
                    "City: Taloqan<br>Group: Islamic Movement of Uzbekistan (IMU)<br>casualities: 60<br>Year: 2011",
                    "City: Tooto-Char<br>Group: Taliban<br>casualities: 55<br>Year: 2012",
                    "City: Rostaq<br>Group: Taliban<br>casualities: 140<br>Year: 2012",
                    "City: Taluqan<br>Group: Taliban<br>casualities: 120<br>Year: 2012",
                    "City: Taloqan<br>Group: Taliban<br>casualities: 160<br>Year: 2012",
                    "City: Spin Jumat<br>Group: Taliban<br>casualities: 53<br>Year: 2012",
                    "City: Sari Pul<br>Group: Taliban<br>casualities: 90<br>Year: 2012",
                    "City: Aybak<br>Group: Taliban<br>casualities: 84<br>Year: 2012",
                    "City: Gomal<br>Group: Taliban<br>casualities: 56<br>Year: 2012",
                    "City: Saydabad<br>Group: Taliban<br>casualities: 83<br>Year: 2012",
                    "City: Dur Baba<br>Group: Taliban<br>casualities: 76<br>Year: 2012",
                    "City: Khost<br>Group: Taliban<br>casualities: 78<br>Year: 2012",
                    "City: Maymana<br>Group: Taliban<br>casualities: 92<br>Year: 2012",
                    "City: Maydan Shahr<br>Group: Taliban<br>casualities: 94<br>Year: 2012",
                    "City: Farah<br>Group: Taliban<br>casualities: 148<br>Year: 2013",
                    "City: Mazari Sharif<br>Group: Taliban<br>casualities: 150<br>Year: 2013",
                    "City: Kabul<br>Group: Hizb-I-Islami<br>casualities: 56<br>Year: 2013",
                    "City: Kabul<br>Group: Taliban<br>casualities: 55<br>Year: 2013",
                    "City: Sherzad district<br>Group: Taliban<br>casualities: 82<br>Year: 2013",
                    "City: Gulistan district<br>Group: Taliban<br>casualities: 104<br>Year: 2013",
                    "City: Unknown<br>Group: Taliban<br>casualities: 70<br>Year: 2013",
                    "City: Qarluq<br>Group: Taliban<br>casualities: 53<br>Year: 2013",
                    "City: Maydan Shahr<br>Group: Taliban<br>casualities: 160<br>Year: 2013",
                    "City: Maymana<br>Group: Taliban<br>casualities: 66<br>Year: 2014",
                    "City: Red district<br>Group: Taliban<br>casualities: 120<br>Year: 2014",
                    "City: Urgun<br>Group: Taliban<br>casualities: 110<br>Year: 2014",
                    "City: Khost<br>Group: Taliban<br>casualities: 54<br>Year: 2014",
                    "City: Qaysar district<br>Group: Taliban<br>casualities: 56<br>Year: 2014",
                    "City: Hisarak district<br>Group: Taliban<br>casualities: 75<br>Year: 2014",
                    "City: Hisarak district<br>Group: Taliban<br>casualities: 70<br>Year: 2014",
                    "City: Jalalabad<br>Group: Taliban<br>casualities: 57<br>Year: 2014",
                    "City: Ghazni<br>Group: Taliban<br>casualities: 130<br>Year: 2014",
                    "City: Ghazni<br>Group: Taliban<br>casualities: 130<br>Year: 2014",
                    "City: Ghazni<br>Group: Taliban<br>casualities: 129<br>Year: 2014",
                    "City: Sari Pul<br>Group: Taliban<br>casualities: 53<br>Year: 2014",
                    "City: Bala Buluk district<br>Group: Taliban<br>casualities: 63<br>Year: 2014",
                    "City: Yahya Khel district<br>Group: Taliban<br>casualities: 124<br>Year: 2014",
                    "City: Mihtarlam<br>Group: Taliban<br>casualities: 56<br>Year: 2015",
                    "City: Khost<br>Group: Haqqani Network<br>casualities: 85<br>Year: 2015",
                    "City: Mazari Sharif<br>Group: Taliban<br>casualities: 74<br>Year: 2015",
                    "City: Dara-e Khistak<br>Group: Taliban<br>casualities: 67<br>Year: 2015",
                    "City: Jalalabad<br>Group: Khorasan Chapter of the Islamic State<br>casualities: 134<br>Year: 2015",
                    "City: Charsada district<br>Group: Taliban<br>casualities: 71<br>Year: 2015",
                    "City: Pasaband district<br>Group: Taliban<br>casualities: 70<br>Year: 2015",
                    "City: Qalat<br>Group: Taliban<br>casualities: 78<br>Year: 2015",
                    "City: Chahar Dara district<br>Group: Taliban<br>casualities: 67<br>Year: 2015",
                    "City: Waygal district<br>Group: Taliban<br>casualities: 92<br>Year: 2015",
                    "City: Lashkar Gah<br>Group: Taliban<br>casualities: 55<br>Year: 2015",
                    "City: Kabul<br>Group: Taliban<br>casualities: 416<br>Year: 2015",
                    "City: Kabul<br>Group: Taliban<br>casualities: 51<br>Year: 2015",
                    "City: Kabul<br>Group: Taliban<br>casualities: 74<br>Year: 2015",
                    "City: Musa Qala<br>Group: Taliban<br>casualities: 65<br>Year: 2015",
                    "City: Herat<br>Group: Taliban<br>casualities: 101<br>Year: 2015",
                    "City: Herat<br>Group: Taliban<br>casualities: 68<br>Year: 2015",
                    "City: Herat<br>Group: Taliban<br>casualities: 100<br>Year: 2015",
                    "City: Maqbal<br>Group: Taliban<br>casualities: 59<br>Year: 2015",
                    "City: Kolagu<br>Group: Taliban<br>casualities: 74<br>Year: 2015",
                    "City: Kajaki district<br>Group: Taliban<br>casualities: 55<br>Year: 2015",
                    "City: Kunduz<br>Group: Taliban<br>casualities: 536<br>Year: 2015",
                    "City: Ghazni<br>Group: Taliban<br>casualities: 151<br>Year: 2015",
                    "City: Alasay district<br>Group: Taliban<br>casualities: 54<br>Year: 2015",
                    "City: Kandahar<br>Group: Taliban<br>casualities: 110<br>Year: 2015",
                    "City: Asadabad<br>Group: Taliban<br>casualities: 52<br>Year: 2016",
                    "City: Sangin district<br>Group: Taliban<br>casualities: 80<br>Year: 2016",
                    "City: Shaheed Mohsin<br>Group: Taliban<br>casualities: 62<br>Year: 2016",
                    "City: Surkh Rod district<br>Group: Taliban<br>casualities: 51<br>Year: 2016",
                    "City: Kunduz<br>Group: Taliban<br>casualities: 101<br>Year: 2016",
                    "City: Darqad district<br>Group: Taliban<br>casualities: 53<br>Year: 2016",
                    "City: Kabul<br>Group: Taliban<br>casualities: 418<br>Year: 2016",
                    "City: Ghaziabad district<br>Group: Taliban<br>casualities: 63<br>Year: 2016",
                    "City: Band Taimor<br>Group: Taliban<br>casualities: 54<br>Year: 2016",
                    "City: Gurziwan district<br>Group: Taliban<br>casualities: 52<br>Year: 2016",
                    "City: Kabul<br>Group: Taliban<br>casualities: 58<br>Year: 2016",
                    "City: Kabul<br>Group: Taliban<br>casualities: 57<br>Year: 2016",
                    "City: Kamdesh district<br>Group: Taliban<br>casualities: 99<br>Year: 2016",
                    "City: Mosa Khail district<br>Group: Taliban<br>casualities: 90<br>Year: 2016",
                    "City: Kabul<br>Group: Khorasan Chapter of the Islamic State<br>casualities: 313<br>Year: 2016",
                    "City: Nad Ali district<br>Group: Taliban<br>casualities: 89<br>Year: 2016",
                    "City: Asadabad<br>Group: Taliban<br>casualities: 52<br>Year: 2016",
                    "City: Sangcharak district<br>Group: Taliban<br>casualities: 57<br>Year: 2016",
                    "City: Kabul<br>Group: Taliban<br>casualities: 72<br>Year: 2016",
                    "City: Giro district<br>Group: Taliban<br>casualities: 196<br>Year: 2016",
                    "City: Kabul<br>Group: Taliban<br>casualities: 77<br>Year: 2016",
                    "City: Kabul<br>Group: Taliban<br>casualities: 76<br>Year: 2016",
                    "City: Tarin Kot<br>Group: Taliban<br>casualities: 58<br>Year: 2016",
                    "City: Tarin Kot<br>Group: Taliban<br>casualities: 57<br>Year: 2016",
                    "City: Tarin Kot<br>Group: Taliban<br>casualities: 56<br>Year: 2016",
                    "City: Tarin Kot<br>Group: Taliban<br>casualities: 56<br>Year: 2016",
                    "City: Tarin Kot<br>Group: Taliban<br>casualities: 56<br>Year: 2016",
                    "City: Kunduz<br>Group: Taliban<br>casualities: 274<br>Year: 2016",
                    "City: Kabul<br>Group: Khorasan Chapter of the Islamic State<br>casualities: 51<br>Year: 2016",
                    "City: Chah Anjeer<br>Group: Taliban<br>casualities: 90<br>Year: 2016",
                    "City: Azikheel<br>Group: Khorasan Chapter of the Islamic State<br>casualities: 54<br>Year: 2016",
                    "City: Wor Mayi district<br>Group: Taliban<br>casualities: 90<br>Year: 2016",
                    "City: Mazari Sharif<br>Group: Taliban<br>casualities: 133<br>Year: 2016",
                    "City: Kabul<br>Group: Khorasan Chapter of the Islamic State<br>casualities: 63<br>Year: 2016",
                    "City: Kabul<br>Group: Taliban<br>casualities: 56<br>Year: 2017",
                    "City: Kabul<br>Group: Taliban<br>casualities: 56<br>Year: 2017",
                    "City: Sangin district<br>Group: Taliban<br>casualities: 84<br>Year: 2017",
                    "City: Kabul<br>Group: Khorasan Chapter of the Islamic State<br>casualities: 63<br>Year: 2017",
                    "City: Kanjak<br>Group: Taliban<br>casualities: 63<br>Year: 2017",
                    "City: Kabul<br>Group: Taliban<br>casualities: 69<br>Year: 2017",
                    "City: Arzan Qimat<br>Group: Taliban<br>casualities: 68<br>Year: 2017",
                    "City: Nesh district<br>Group: Taliban<br>casualities: 54<br>Year: 2017",
                    "City: Kabul<br>Group: Khorasan Chapter of the Islamic State<br>casualities: 104<br>Year: 2017",
                    "City: Arghawan<br>Group: Taliban<br>casualities: 68<br>Year: 2017",
                    "City: Mazari Sharif<br>Group: Taliban<br>casualities: 330<br>Year: 2017",
                    "City: Nawabad<br>Group: Taliban<br>casualities: 70<br>Year: 2017",
                    "City: Jagram<br>Group: Taliban<br>casualities: 52<br>Year: 2017",
                    "City: Qadis district<br>Group: Taliban<br>casualities: 88<br>Year: 2017",
                    "City: Zangitan<br>Group: Taliban<br>casualities: 56<br>Year: 2017",
                    "City: Kabul<br>Group: Khorasan Chapter of the Islamic State<br>casualities: 584<br>Year: 2017",
                    "City: Kabul<br>Group: Taliban<br>casualities: 96<br>Year: 2017",
                    "City: Lashkar Gah<br>Group: Taliban<br>casualities: 93<br>Year: 2017",
                    "City: Baghlani Jadid district<br>Group: Taliban<br>casualities: 52<br>Year: 2017",
                    "City: Kabul<br>Group: Taliban<br>casualities: 77<br>Year: 2017",
                    "City: Waygal<br>Group: Taliban<br>casualities: 158<br>Year: 2017",
                    "City: Herat<br>Group: Khorasan Chapter of the Islamic State<br>casualities: 100<br>Year: 2017",
                    "City: Unknown<br>Group: Taliban<br>casualities: 62<br>Year: 2017",
                    "City: Gomal district<br>Group: Taliban<br>casualities: 77<br>Year: 2017",
                    "City: Mirza Wulang<br>Group: Taliban<br>casualities: 72<br>Year: 2017",
                    "City: Kabul<br>Group: Khorasan Chapter of the Islamic State<br>casualities: 82<br>Year: 2017",
                    "City: Bargi Matal district<br>Group: Taliban<br>casualities: 59<br>Year: 2017",
                    "City: Chora district<br>Group: Taliban<br>casualities: 74<br>Year: 2017",
                    "City: Andar district<br>Group: Taliban<br>casualities: 67<br>Year: 2017",
                    "City: Gardez<br>Group: Taliban<br>casualities: 310<br>Year: 2017",
                    "City: Chashmah<br>Group: Taliban<br>casualities: 62<br>Year: 2017",
                    "City: Kabul<br>Group: Khorasan Chapter of the Islamic State<br>casualities: 112<br>Year: 2017",
                    "City: Maywand district<br>Group: Taliban<br>casualities: 59<br>Year: 2017",
                    "City: Zhari district<br>Group: Taliban<br>casualities: 58<br>Year: 2017",
                    "City: Giro district<br>Group: Taliban<br>casualities: 58<br>Year: 2017",
                    "City: Sangcharak district<br>Group: Taliban<br>casualities: 112<br>Year: 2017",
                    "City: Kabul<br>Group: Khorasan Chapter of the Islamic State<br>casualities: 132<br>Year: 2017"
                  ],
                  "y": [
                    81,
                    111,
                    150,
                    90,
                    75,
                    63,
                    73,
                    62,
                    63,
                    51,
                    88,
                    88,
                    201,
                    80,
                    199,
                    60,
                    63,
                    98,
                    52,
                    100,
                    54,
                    69,
                    96,
                    53,
                    96,
                    66,
                    128,
                    85,
                    119,
                    72,
                    79,
                    84,
                    59,
                    65,
                    61,
                    99,
                    60,
                    72,
                    190,
                    60,
                    55,
                    140,
                    120,
                    160,
                    53,
                    90,
                    84,
                    56,
                    83,
                    76,
                    78,
                    92,
                    94,
                    148,
                    150,
                    56,
                    55,
                    82,
                    104,
                    70,
                    53,
                    160,
                    66,
                    120,
                    110,
                    54,
                    56,
                    75,
                    70,
                    57,
                    130,
                    130,
                    129,
                    53,
                    63,
                    124,
                    56,
                    85,
                    74,
                    67,
                    134,
                    71,
                    70,
                    78,
                    67,
                    92,
                    55,
                    416,
                    51,
                    74,
                    65,
                    101,
                    68,
                    100,
                    59,
                    74,
                    55,
                    536,
                    151,
                    54,
                    110,
                    52,
                    80,
                    62,
                    51,
                    101,
                    53,
                    418,
                    63,
                    54,
                    52,
                    58,
                    57,
                    99,
                    90,
                    313,
                    89,
                    52,
                    57,
                    72,
                    196,
                    77,
                    76,
                    58,
                    57,
                    56,
                    56,
                    56,
                    274,
                    51,
                    90,
                    54,
                    90,
                    133,
                    63,
                    56,
                    56,
                    84,
                    63,
                    63,
                    69,
                    68,
                    54,
                    104,
                    68,
                    330,
                    70,
                    52,
                    88,
                    56,
                    584,
                    96,
                    93,
                    52,
                    77,
                    158,
                    100,
                    62,
                    77,
                    72,
                    82,
                    59,
                    74,
                    67,
                    310,
                    62,
                    112,
                    59,
                    58,
                    58,
                    112,
                    132
                  ],
                  "mode": "markers",
                  "marker": {
                    "symbol": "circle",
                    "line": {
                      "width": 2
                    },
                    "sizemode": "area",
                    "size": [
                      81,
                      111,
                      150,
                      90,
                      75,
                      63,
                      73,
                      62,
                      63,
                      51,
                      88,
                      88,
                      201,
                      80,
                      199,
                      60,
                      63,
                      98,
                      52,
                      100,
                      54,
                      69,
                      96,
                      53,
                      96,
                      66,
                      128,
                      85,
                      119,
                      72,
                      79,
                      84,
                      59,
                      65,
                      61,
                      99,
                      60,
                      72,
                      190,
                      60,
                      55,
                      140,
                      120,
                      160,
                      53,
                      90,
                      84,
                      56,
                      83,
                      76,
                      78,
                      92,
                      94,
                      148,
                      150,
                      56,
                      55,
                      82,
                      104,
                      70,
                      53,
                      160,
                      66,
                      120,
                      110,
                      54,
                      56,
                      75,
                      70,
                      57,
                      130,
                      130,
                      129,
                      53,
                      63,
                      124,
                      56,
                      85,
                      74,
                      67,
                      134,
                      71,
                      70,
                      78,
                      67,
                      92,
                      55,
                      416,
                      51,
                      74,
                      65,
                      101,
                      68,
                      100,
                      59,
                      74,
                      55,
                      536,
                      151,
                      54,
                      110,
                      52,
                      80,
                      62,
                      51,
                      101,
                      53,
                      418,
                      63,
                      54,
                      52,
                      58,
                      57,
                      99,
                      90,
                      313,
                      89,
                      52,
                      57,
                      72,
                      196,
                      77,
                      76,
                      58,
                      57,
                      56,
                      56,
                      56,
                      274,
                      51,
                      90,
                      54,
                      90,
                      133,
                      63,
                      56,
                      56,
                      84,
                      63,
                      63,
                      69,
                      68,
                      54,
                      104,
                      68,
                      330,
                      70,
                      52,
                      88,
                      56,
                      584,
                      96,
                      93,
                      52,
                      77,
                      158,
                      100,
                      62,
                      77,
                      72,
                      82,
                      59,
                      74,
                      67,
                      310,
                      62,
                      112,
                      59,
                      58,
                      58,
                      112,
                      132
                    ]
                  },
                  "x": [
                    1992,
                    1992,
                    2001,
                    2002,
                    2002,
                    2003,
                    2005,
                    2006,
                    2006,
                    2007,
                    2007,
                    2007,
                    2008,
                    2008,
                    2008,
                    2008,
                    2009,
                    2009,
                    2009,
                    2009,
                    2009,
                    2009,
                    2009,
                    2010,
                    2010,
                    2010,
                    2010,
                    2010,
                    2011,
                    2011,
                    2011,
                    2011,
                    2011,
                    2011,
                    2011,
                    2011,
                    2011,
                    2011,
                    2011,
                    2011,
                    2012,
                    2012,
                    2012,
                    2012,
                    2012,
                    2012,
                    2012,
                    2012,
                    2012,
                    2012,
                    2012,
                    2012,
                    2012,
                    2013,
                    2013,
                    2013,
                    2013,
                    2013,
                    2013,
                    2013,
                    2013,
                    2013,
                    2014,
                    2014,
                    2014,
                    2014,
                    2014,
                    2014,
                    2014,
                    2014,
                    2014,
                    2014,
                    2014,
                    2014,
                    2014,
                    2014,
                    2015,
                    2015,
                    2015,
                    2015,
                    2015,
                    2015,
                    2015,
                    2015,
                    2015,
                    2015,
                    2015,
                    2015,
                    2015,
                    2015,
                    2015,
                    2015,
                    2015,
                    2015,
                    2015,
                    2015,
                    2015,
                    2015,
                    2015,
                    2015,
                    2015,
                    2016,
                    2016,
                    2016,
                    2016,
                    2016,
                    2016,
                    2016,
                    2016,
                    2016,
                    2016,
                    2016,
                    2016,
                    2016,
                    2016,
                    2016,
                    2016,
                    2016,
                    2016,
                    2016,
                    2016,
                    2016,
                    2016,
                    2016,
                    2016,
                    2016,
                    2016,
                    2016,
                    2016,
                    2016,
                    2016,
                    2016,
                    2016,
                    2016,
                    2016,
                    2017,
                    2017,
                    2017,
                    2017,
                    2017,
                    2017,
                    2017,
                    2017,
                    2017,
                    2017,
                    2017,
                    2017,
                    2017,
                    2017,
                    2017,
                    2017,
                    2017,
                    2017,
                    2017,
                    2017,
                    2017,
                    2017,
                    2017,
                    2017,
                    2017,
                    2017,
                    2017,
                    2017,
                    2017,
                    2017,
                    2017,
                    2017,
                    2017,
                    2017,
                    2017,
                    2017,
                    2017
                  ],
                  "type": "scatter"
                },
                {
                  "name": "India",
                  "text": [
                    "City: Unknown<br>Group: Anti-Immigrant extremists<br>casualities: 74<br>Year: 1983",
                    "City: Imphal<br>Group: People's Liberation Army (India)<br>casualities: 54<br>Year: 1984",
                    "City: Chennai<br>Group: Tamils<br>casualities: 232<br>Year: 1987",
                    "City: Amritsar<br>Group: Khalistan Liberation Force<br>casualities: 90<br>Year: 1988",
                    "City: Amritsar<br>Group: Sikh Extremists<br>casualities: 74<br>Year: 1988",
                    "City: Barpeta<br>Group: United Liberation Front of Assam (ULFA)<br>casualities: 67<br>Year: 1988",
                    "City: Jammu<br>Group: Babbar Khalsa International (BKI)<br>casualities: 64<br>Year: 1988",
                    "City: Batala<br>Group: Babbar Khalsa International (BKI)<br>casualities: 62<br>Year: 1988",
                    "City: Bongaigaon<br>Group: Bodo Militants<br>casualities: 67<br>Year: 1989",
                    "City: Karnal<br>Group: Sikh Extremists<br>casualities: 58<br>Year: 1989",
                    "City: Unknown<br>Group: Khalistan Commando Force<br>casualities: 53<br>Year: 1989",
                    "City: Batala<br>Group: Khalistan Commando Force<br>casualities: 82<br>Year: 1990",
                    "City: Sepalpani<br>Group: Bodo Militants<br>casualities: 54<br>Year: 1990",
                    "City: Pathankot<br>Group: Babbar Khalsa International (BKI)<br>casualities: 55<br>Year: 1990",
                    "City: Rangia<br>Group: Bodo Militants<br>casualities: 56<br>Year: 1990",
                    "City: Hyderabad<br>Group: People's War Group (PWG)<br>casualities: 61<br>Year: 1990",
                    "City: New Delhi<br>Group: Sikh Extremists<br>casualities: 109<br>Year: 1991",
                    "City: Kila Raipur<br>Group: Sikh Extremists<br>casualities: 78<br>Year: 1991",
                    "City: Baddowal<br>Group: Sikh Extremists<br>casualities: 102<br>Year: 1991",
                    "City: Sopore<br>Group: Muslim Militants<br>casualities: 67<br>Year: 1991",
                    "City: Bajpur<br>Group: Sikh Extremists<br>casualities: 111<br>Year: 1991",
                    "City: Sohian<br>Group: Sikh Extremists<br>casualities: 87<br>Year: 1991",
                    "City: New Delhi<br>Group: Muslim Militants<br>casualities: 89<br>Year: 1992",
                    "City: Pathankot<br>Group: Sikh Extremists<br>casualities: 59<br>Year: 1992",
                    "City: Delhi<br>Group: Muslim Separatists<br>casualities: 72<br>Year: 1992",
                    "City: Guwahati<br>Group: National Democratic Front of Bodoland (NDFB)<br>casualities: 58<br>Year: 1992",
                    "City: Unknown<br>Group: Muslim Militants<br>casualities: 127<br>Year: 1992",
                    "City: Bombay<br>Group: Muslim Militants<br>casualities: 115<br>Year: 1992",
                    "City: Unknown<br>Group: Muslims<br>casualities: 61<br>Year: 1992",
                    "City: Banabari<br>Group: Bodo Militants<br>casualities: 170<br>Year: 1994",
                    "City: Jammu<br>Group: Kashmiri extremists<br>casualities: 68<br>Year: 1995",
                    "City: Lailalong<br>Group: National Socialist Council of Nagaland<br>casualities: 52<br>Year: 1995",
                    "City: Jammu<br>Group: Harkat ul Ansar<br>casualities: 62<br>Year: 1995",
                    "City: New Delhi<br>Group: Jammu and Kashmir Islamic Front<br>casualities: 51<br>Year: 1996",
                    "City: New Delhi<br>Group: Jammu and Kashmir Liberation Front<br>casualities: 51<br>Year: 1996",
                    "City: Maiamnala<br>Group: National Socialist Council of Nagaland<br>casualities: 61<br>Year: 1996",
                    "City: Sansapani<br>Group: Bodo Liberation Tigers (BLT)<br>casualities: 87<br>Year: 1996",
                    "City: Unknown<br>Group: Muslim Rebels<br>casualities: 71<br>Year: 1997",
                    "City: Bathe-Lakshmanpur<br>Group: Ranbir Sena<br>casualities: 60<br>Year: 1997",
                    "City: Shiliguri<br>Group: United Liberation Front of Assam (ULFA)<br>casualities: 90<br>Year: 1999",
                    "City: Baghmara<br>Group: National Democratic Front of Bodoland (NDFB)<br>casualities: 100<br>Year: 2001",
                    "City: Srinagar<br>Group: Jaish-e-Mohammad (JeM)<br>casualities: 91<br>Year: 2001",
                    "City: Jammu<br>Group: Lashkar-e-Taiba (LeT)<br>casualities: 79<br>Year: 2002",
                    "City: Jammu<br>Group: Lashkar-e-Taiba (LeT)<br>casualities: 62<br>Year: 2002",
                    "City: Jammu<br>Group: Lashkar-e-Taiba (LeT)<br>casualities: 64<br>Year: 2002",
                    "City: Gandhinagar<br>Group: Gunmen<br>casualities: 103<br>Year: 2002",
                    "City: Jammu<br>Group: Lashkar-e-Taiba (LeT)<br>casualities: 65<br>Year: 2002",
                    "City: Mumbai<br>Group: Students Islamic Movement of India (SIMI)<br>casualities: 75<br>Year: 2003",
                    "City: Bamungopha<br>Group: United Liberation Front of Assam (ULFA)<br>casualities: 61<br>Year: 2003",
                    "City: Mumbai<br>Group: Students Islamic Movement of India (SIMI)<br>casualities: 202<br>Year: 2003",
                    "City: Dimapur<br>Group: United Liberation Front of Assam (ULFA)<br>casualities: 52<br>Year: 2004",
                    "City: Pulwama<br>Group: United Jihad Council<br>casualities: 115<br>Year: 2005",
                    "City: Kotrapali<br>Group: Communist Party of India - Maoist (CPI-Maoist)<br>casualities: 108<br>Year: 2005",
                    "City: New Delhi<br>Group: Lashkar-e-Taiba (LeT)<br>casualities: 210<br>Year: 2005",
                    "City: Dantewada district<br>Group: Communist Party of India - Maoist (CPI-Maoist)<br>casualities: 75<br>Year: 2006",
                    "City: Mumbai<br>Group: Lashkar-e-Taiba (LeT)<br>casualities: 1005<br>Year: 2006",
                    "City: Imphal<br>Group: Kanglei Yawol Kanna Lup (KYKL)<br>casualities: 55<br>Year: 2006",
                    "City: Guwahati<br>Group: United Liberation Front of Assam (ULFA)<br>casualities: 65<br>Year: 2006",
                    "City: Sadiya<br>Group: United Liberation Front of Assam (ULFA)<br>casualities: 67<br>Year: 2007",
                    "City: Ranibodli<br>Group: Naxalites<br>casualities: 67<br>Year: 2007",
                    "City: Hyderabad<br>Group: Harkatul Jihad-e-Islami<br>casualities: 77<br>Year: 2007",
                    "City: Doom Dooma<br>Group: United Liberation Front of Assam (ULFA)<br>casualities: 65<br>Year: 2007",
                    "City: Murkongselek<br>Group: United Liberation Front of Assam (ULFA)<br>casualities: 57<br>Year: 2008",
                    "City: New Delhi<br>Group: Indian Mujahideen<br>casualities: 53<br>Year: 2008",
                    "City: Dispur<br>Group: United Liberation Front of Assam (ULFA)<br>casualities: 272<br>Year: 2008",
                    "City: Kokrajhar<br>Group: United Liberation Front of Assam (ULFA)<br>casualities: 84<br>Year: 2008",
                    "City: Barpeta Road<br>Group: United Liberation Front of Assam (ULFA)<br>casualities: 60<br>Year: 2008",
                    "City: Mumbai<br>Group: Deccan Mujahideen<br>casualities: 134<br>Year: 2008",
                    "City: Mumbai<br>Group: Deccan Mujahideen<br>casualities: 144<br>Year: 2008",
                    "City: Mumbai<br>Group: Deccan Mujahideen<br>casualities: 85<br>Year: 2008",
                    "City: Mumbai<br>Group: Deccan Mujahideen<br>casualities: 54<br>Year: 2008",
                    "City: Guwahati<br>Group: United Liberation Front of Assam (ULFA)<br>casualities: 66<br>Year: 2009",
                    "City: Nalbari<br>Group: United Liberation Front of Assam (ULFA)<br>casualities: 62<br>Year: 2009",
                    "City: Pune<br>Group: Indian Mujahideen<br>casualities: 66<br>Year: 2010",
                    "City: Dantewada district<br>Group: Communist Party of India - Maoist (CPI-Maoist)<br>casualities: 82<br>Year: 2010",
                    "City: Jhargam<br>Group: Communist Party of India - Maoist (CPI-Maoist)<br>casualities: 255<br>Year: 2010",
                    "City: Lohardaga district<br>Group: Communist Party of India - Maoist (CPI-Maoist)<br>casualities: 51<br>Year: 2011",
                    "City: Guwahati<br>Group: Adivasi People's Army (APA)<br>casualities: 100<br>Year: 2011",
                    "City: Mumbai<br>Group: Indian Mujahideen<br>casualities: 52<br>Year: 2011",
                    "City: Mumbai<br>Group: Indian Mujahideen<br>casualities: 52<br>Year: 2011",
                    "City: Mumbai<br>Group: Indian Mujahideen<br>casualities: 52<br>Year: 2011",
                    "City: New Delhi<br>Group: Harkatul Jihad-e-Islami<br>casualities: 60<br>Year: 2011",
                    "City: Hyderabad<br>Group: Lashkar-e-Taiba (LeT)<br>casualities: 67<br>Year: 2013",
                    "City: Hyderabad<br>Group: Lashkar-e-Taiba (LeT)<br>casualities: 66<br>Year: 2013",
                    "City: Sukma district<br>Group: Communist Party of India - Maoist (CPI-Maoist)<br>casualities: 67<br>Year: 2015",
                    "City: Kuneru<br>Group: Maoists<br>casualities: 95<br>Year: 2017"
                  ],
                  "y": [
                    74,
                    54,
                    232,
                    90,
                    74,
                    67,
                    64,
                    62,
                    67,
                    58,
                    53,
                    82,
                    54,
                    55,
                    56,
                    61,
                    109,
                    78,
                    102,
                    67,
                    111,
                    87,
                    89,
                    59,
                    72,
                    58,
                    127,
                    115,
                    61,
                    170,
                    68,
                    52,
                    62,
                    51,
                    51,
                    61,
                    87,
                    71,
                    60,
                    90,
                    100,
                    91,
                    79,
                    62,
                    64,
                    103,
                    65,
                    75,
                    61,
                    202,
                    52,
                    115,
                    108,
                    210,
                    75,
                    1005,
                    55,
                    65,
                    67,
                    67,
                    77,
                    65,
                    57,
                    53,
                    272,
                    84,
                    60,
                    134,
                    144,
                    85,
                    54,
                    66,
                    62,
                    66,
                    82,
                    255,
                    51,
                    100,
                    52,
                    52,
                    52,
                    60,
                    67,
                    66,
                    67,
                    95
                  ],
                  "mode": "markers",
                  "marker": {
                    "symbol": "circle",
                    "line": {
                      "width": 2
                    },
                    "sizemode": "area",
                    "size": [
                      74,
                      54,
                      232,
                      90,
                      74,
                      67,
                      64,
                      62,
                      67,
                      58,
                      53,
                      82,
                      54,
                      55,
                      56,
                      61,
                      109,
                      78,
                      102,
                      67,
                      111,
                      87,
                      89,
                      59,
                      72,
                      58,
                      127,
                      115,
                      61,
                      170,
                      68,
                      52,
                      62,
                      51,
                      51,
                      61,
                      87,
                      71,
                      60,
                      90,
                      100,
                      91,
                      79,
                      62,
                      64,
                      103,
                      65,
                      75,
                      61,
                      202,
                      52,
                      115,
                      108,
                      210,
                      75,
                      1005,
                      55,
                      65,
                      67,
                      67,
                      77,
                      65,
                      57,
                      53,
                      272,
                      84,
                      60,
                      134,
                      144,
                      85,
                      54,
                      66,
                      62,
                      66,
                      82,
                      255,
                      51,
                      100,
                      52,
                      52,
                      52,
                      60,
                      67,
                      66,
                      67,
                      95
                    ]
                  },
                  "x": [
                    1983,
                    1984,
                    1987,
                    1988,
                    1988,
                    1988,
                    1988,
                    1988,
                    1989,
                    1989,
                    1989,
                    1990,
                    1990,
                    1990,
                    1990,
                    1990,
                    1991,
                    1991,
                    1991,
                    1991,
                    1991,
                    1991,
                    1992,
                    1992,
                    1992,
                    1992,
                    1992,
                    1992,
                    1992,
                    1994,
                    1995,
                    1995,
                    1995,
                    1996,
                    1996,
                    1996,
                    1996,
                    1997,
                    1997,
                    1999,
                    2001,
                    2001,
                    2002,
                    2002,
                    2002,
                    2002,
                    2002,
                    2003,
                    2003,
                    2003,
                    2004,
                    2005,
                    2005,
                    2005,
                    2006,
                    2006,
                    2006,
                    2006,
                    2007,
                    2007,
                    2007,
                    2007,
                    2008,
                    2008,
                    2008,
                    2008,
                    2008,
                    2008,
                    2008,
                    2008,
                    2008,
                    2009,
                    2009,
                    2010,
                    2010,
                    2010,
                    2011,
                    2011,
                    2011,
                    2011,
                    2011,
                    2011,
                    2013,
                    2013,
                    2015,
                    2017
                  ],
                  "type": "scatter"
                }
              ],
              "config": {
                "plotlyServerURL": "https://plot.ly",
                "linkText": "Export to plot.ly",
                "showLink": false
              },
              "layout": {
                "template": {
                  "layout": {
                    "shapedefaults": {
                      "line": {
                        "color": "#2a3f5f"
                      }
                    },
                    "polar": {
                      "radialaxis": {
                        "ticks": "",
                        "gridcolor": "white",
                        "linecolor": "white"
                      },
                      "bgcolor": "#E5ECF6",
                      "angularaxis": {
                        "ticks": "",
                        "gridcolor": "white",
                        "linecolor": "white"
                      }
                    },
                    "colorway": [
                      "#636efa",
                      "#EF553B",
                      "#00cc96",
                      "#ab63fa",
                      "#FFA15A",
                      "#19d3f3",
                      "#FF6692",
                      "#B6E880",
                      "#FF97FF",
                      "#FECB52"
                    ],
                    "xaxis": {
                      "automargin": true,
                      "title": {
                        "standoff": 15
                      },
                      "zerolinewidth": 2,
                      "ticks": "",
                      "zerolinecolor": "white",
                      "gridcolor": "white",
                      "linecolor": "white"
                    },
                    "colorscale": {
                      "diverging": [
                        [
                          0,
                          "#8e0152"
                        ],
                        [
                          0.1,
                          "#c51b7d"
                        ],
                        [
                          0.2,
                          "#de77ae"
                        ],
                        [
                          0.3,
                          "#f1b6da"
                        ],
                        [
                          0.4,
                          "#fde0ef"
                        ],
                        [
                          0.5,
                          "#f7f7f7"
                        ],
                        [
                          0.6,
                          "#e6f5d0"
                        ],
                        [
                          0.7,
                          "#b8e186"
                        ],
                        [
                          0.8,
                          "#7fbc41"
                        ],
                        [
                          0.9,
                          "#4d9221"
                        ],
                        [
                          1,
                          "#276419"
                        ]
                      ],
                      "sequential": [
                        [
                          0,
                          "#0d0887"
                        ],
                        [
                          0.1111111111111111,
                          "#46039f"
                        ],
                        [
                          0.2222222222222222,
                          "#7201a8"
                        ],
                        [
                          0.3333333333333333,
                          "#9c179e"
                        ],
                        [
                          0.4444444444444444,
                          "#bd3786"
                        ],
                        [
                          0.5555555555555556,
                          "#d8576b"
                        ],
                        [
                          0.6666666666666666,
                          "#ed7953"
                        ],
                        [
                          0.7777777777777778,
                          "#fb9f3a"
                        ],
                        [
                          0.8888888888888888,
                          "#fdca26"
                        ],
                        [
                          1,
                          "#f0f921"
                        ]
                      ],
                      "sequentialminus": [
                        [
                          0,
                          "#0d0887"
                        ],
                        [
                          0.1111111111111111,
                          "#46039f"
                        ],
                        [
                          0.2222222222222222,
                          "#7201a8"
                        ],
                        [
                          0.3333333333333333,
                          "#9c179e"
                        ],
                        [
                          0.4444444444444444,
                          "#bd3786"
                        ],
                        [
                          0.5555555555555556,
                          "#d8576b"
                        ],
                        [
                          0.6666666666666666,
                          "#ed7953"
                        ],
                        [
                          0.7777777777777778,
                          "#fb9f3a"
                        ],
                        [
                          0.8888888888888888,
                          "#fdca26"
                        ],
                        [
                          1,
                          "#f0f921"
                        ]
                      ]
                    },
                    "paper_bgcolor": "white",
                    "plot_bgcolor": "#E5ECF6",
                    "title": {
                      "x": 0.05
                    },
                    "scene": {
                      "zaxis": {
                        "backgroundcolor": "#E5ECF6",
                        "ticks": "",
                        "gridwidth": 2,
                        "showbackground": true,
                        "zerolinecolor": "white",
                        "gridcolor": "white",
                        "linecolor": "white"
                      },
                      "xaxis": {
                        "backgroundcolor": "#E5ECF6",
                        "ticks": "",
                        "gridwidth": 2,
                        "showbackground": true,
                        "zerolinecolor": "white",
                        "gridcolor": "white",
                        "linecolor": "white"
                      },
                      "yaxis": {
                        "backgroundcolor": "#E5ECF6",
                        "ticks": "",
                        "gridwidth": 2,
                        "showbackground": true,
                        "zerolinecolor": "white",
                        "gridcolor": "white",
                        "linecolor": "white"
                      }
                    },
                    "yaxis": {
                      "automargin": true,
                      "title": {
                        "standoff": 15
                      },
                      "zerolinewidth": 2,
                      "ticks": "",
                      "zerolinecolor": "white",
                      "gridcolor": "white",
                      "linecolor": "white"
                    },
                    "annotationdefaults": {
                      "arrowwidth": 1,
                      "arrowhead": 0,
                      "arrowcolor": "#2a3f5f"
                    },
                    "hoverlabel": {
                      "align": "left"
                    },
                    "ternary": {
                      "bgcolor": "#E5ECF6",
                      "baxis": {
                        "ticks": "",
                        "gridcolor": "white",
                        "linecolor": "white"
                      },
                      "caxis": {
                        "ticks": "",
                        "gridcolor": "white",
                        "linecolor": "white"
                      },
                      "aaxis": {
                        "ticks": "",
                        "gridcolor": "white",
                        "linecolor": "white"
                      }
                    },
                    "mapbox": {
                      "style": "light"
                    },
                    "hovermode": "closest",
                    "font": {
                      "color": "#2a3f5f"
                    },
                    "geo": {
                      "showland": true,
                      "landcolor": "#E5ECF6",
                      "showlakes": true,
                      "bgcolor": "white",
                      "subunitcolor": "white",
                      "lakecolor": "white"
                    },
                    "coloraxis": {
                      "colorbar": {
                        "outlinewidth": 0,
                        "ticks": ""
                      }
                    }
                  },
                  "data": {
                    "mesh3d": [
                      {
                        "colorbar": {
                          "outlinewidth": 0,
                          "ticks": ""
                        },
                        "type": "mesh3d"
                      }
                    ],
                    "scattercarpet": [
                      {
                        "marker": {
                          "colorbar": {
                            "outlinewidth": 0,
                            "ticks": ""
                          }
                        },
                        "type": "scattercarpet"
                      }
                    ],
                    "pie": [
                      {
                        "automargin": true,
                        "type": "pie"
                      }
                    ],
                    "surface": [
                      {
                        "colorbar": {
                          "outlinewidth": 0,
                          "ticks": ""
                        },
                        "type": "surface",
                        "colorscale": [
                          [
                            0,
                            "#0d0887"
                          ],
                          [
                            0.1111111111111111,
                            "#46039f"
                          ],
                          [
                            0.2222222222222222,
                            "#7201a8"
                          ],
                          [
                            0.3333333333333333,
                            "#9c179e"
                          ],
                          [
                            0.4444444444444444,
                            "#bd3786"
                          ],
                          [
                            0.5555555555555556,
                            "#d8576b"
                          ],
                          [
                            0.6666666666666666,
                            "#ed7953"
                          ],
                          [
                            0.7777777777777778,
                            "#fb9f3a"
                          ],
                          [
                            0.8888888888888888,
                            "#fdca26"
                          ],
                          [
                            1,
                            "#f0f921"
                          ]
                        ]
                      }
                    ],
                    "table": [
                      {
                        "header": {
                          "line": {
                            "color": "white"
                          },
                          "fill": {
                            "color": "#C8D4E3"
                          }
                        },
                        "cells": {
                          "line": {
                            "color": "white"
                          },
                          "fill": {
                            "color": "#EBF0F8"
                          }
                        },
                        "type": "table"
                      }
                    ],
                    "scatterpolargl": [
                      {
                        "marker": {
                          "colorbar": {
                            "outlinewidth": 0,
                            "ticks": ""
                          }
                        },
                        "type": "scatterpolargl"
                      }
                    ],
                    "contour": [
                      {
                        "colorbar": {
                          "outlinewidth": 0,
                          "ticks": ""
                        },
                        "type": "contour",
                        "colorscale": [
                          [
                            0,
                            "#0d0887"
                          ],
                          [
                            0.1111111111111111,
                            "#46039f"
                          ],
                          [
                            0.2222222222222222,
                            "#7201a8"
                          ],
                          [
                            0.3333333333333333,
                            "#9c179e"
                          ],
                          [
                            0.4444444444444444,
                            "#bd3786"
                          ],
                          [
                            0.5555555555555556,
                            "#d8576b"
                          ],
                          [
                            0.6666666666666666,
                            "#ed7953"
                          ],
                          [
                            0.7777777777777778,
                            "#fb9f3a"
                          ],
                          [
                            0.8888888888888888,
                            "#fdca26"
                          ],
                          [
                            1,
                            "#f0f921"
                          ]
                        ]
                      }
                    ],
                    "carpet": [
                      {
                        "type": "carpet",
                        "baxis": {
                          "minorgridcolor": "white",
                          "gridcolor": "white",
                          "linecolor": "white",
                          "endlinecolor": "#2a3f5f",
                          "startlinecolor": "#2a3f5f"
                        },
                        "aaxis": {
                          "minorgridcolor": "white",
                          "gridcolor": "white",
                          "linecolor": "white",
                          "endlinecolor": "#2a3f5f",
                          "startlinecolor": "#2a3f5f"
                        }
                      }
                    ],
                    "contourcarpet": [
                      {
                        "colorbar": {
                          "outlinewidth": 0,
                          "ticks": ""
                        },
                        "type": "contourcarpet"
                      }
                    ],
                    "heatmap": [
                      {
                        "colorbar": {
                          "outlinewidth": 0,
                          "ticks": ""
                        },
                        "type": "heatmap",
                        "colorscale": [
                          [
                            0,
                            "#0d0887"
                          ],
                          [
                            0.1111111111111111,
                            "#46039f"
                          ],
                          [
                            0.2222222222222222,
                            "#7201a8"
                          ],
                          [
                            0.3333333333333333,
                            "#9c179e"
                          ],
                          [
                            0.4444444444444444,
                            "#bd3786"
                          ],
                          [
                            0.5555555555555556,
                            "#d8576b"
                          ],
                          [
                            0.6666666666666666,
                            "#ed7953"
                          ],
                          [
                            0.7777777777777778,
                            "#fb9f3a"
                          ],
                          [
                            0.8888888888888888,
                            "#fdca26"
                          ],
                          [
                            1,
                            "#f0f921"
                          ]
                        ]
                      }
                    ],
                    "scattermapbox": [
                      {
                        "marker": {
                          "colorbar": {
                            "outlinewidth": 0,
                            "ticks": ""
                          }
                        },
                        "type": "scattermapbox"
                      }
                    ],
                    "scatter3d": [
                      {
                        "marker": {
                          "colorbar": {
                            "outlinewidth": 0,
                            "ticks": ""
                          }
                        },
                        "line": {
                          "colorbar": {
                            "outlinewidth": 0,
                            "ticks": ""
                          }
                        },
                        "type": "scatter3d"
                      }
                    ],
                    "scattergl": [
                      {
                        "marker": {
                          "colorbar": {
                            "outlinewidth": 0,
                            "ticks": ""
                          }
                        },
                        "type": "scattergl"
                      }
                    ],
                    "scatterternary": [
                      {
                        "marker": {
                          "colorbar": {
                            "outlinewidth": 0,
                            "ticks": ""
                          }
                        },
                        "type": "scatterternary"
                      }
                    ],
                    "histogram": [
                      {
                        "marker": {
                          "colorbar": {
                            "outlinewidth": 0,
                            "ticks": ""
                          }
                        },
                        "type": "histogram"
                      }
                    ],
                    "heatmapgl": [
                      {
                        "colorbar": {
                          "outlinewidth": 0,
                          "ticks": ""
                        },
                        "type": "heatmapgl",
                        "colorscale": [
                          [
                            0,
                            "#0d0887"
                          ],
                          [
                            0.1111111111111111,
                            "#46039f"
                          ],
                          [
                            0.2222222222222222,
                            "#7201a8"
                          ],
                          [
                            0.3333333333333333,
                            "#9c179e"
                          ],
                          [
                            0.4444444444444444,
                            "#bd3786"
                          ],
                          [
                            0.5555555555555556,
                            "#d8576b"
                          ],
                          [
                            0.6666666666666666,
                            "#ed7953"
                          ],
                          [
                            0.7777777777777778,
                            "#fb9f3a"
                          ],
                          [
                            0.8888888888888888,
                            "#fdca26"
                          ],
                          [
                            1,
                            "#f0f921"
                          ]
                        ]
                      }
                    ],
                    "scatterpolar": [
                      {
                        "marker": {
                          "colorbar": {
                            "outlinewidth": 0,
                            "ticks": ""
                          }
                        },
                        "type": "scatterpolar"
                      }
                    ],
                    "histogram2d": [
                      {
                        "colorbar": {
                          "outlinewidth": 0,
                          "ticks": ""
                        },
                        "type": "histogram2d",
                        "colorscale": [
                          [
                            0,
                            "#0d0887"
                          ],
                          [
                            0.1111111111111111,
                            "#46039f"
                          ],
                          [
                            0.2222222222222222,
                            "#7201a8"
                          ],
                          [
                            0.3333333333333333,
                            "#9c179e"
                          ],
                          [
                            0.4444444444444444,
                            "#bd3786"
                          ],
                          [
                            0.5555555555555556,
                            "#d8576b"
                          ],
                          [
                            0.6666666666666666,
                            "#ed7953"
                          ],
                          [
                            0.7777777777777778,
                            "#fb9f3a"
                          ],
                          [
                            0.8888888888888888,
                            "#fdca26"
                          ],
                          [
                            1,
                            "#f0f921"
                          ]
                        ]
                      }
                    ],
                    "scattergeo": [
                      {
                        "marker": {
                          "colorbar": {
                            "outlinewidth": 0,
                            "ticks": ""
                          }
                        },
                        "type": "scattergeo"
                      }
                    ],
                    "bar": [
                      {
                        "marker": {
                          "line": {
                            "color": "#E5ECF6",
                            "width": 0.5
                          }
                        },
                        "type": "bar",
                        "error_x": {
                          "color": "#2a3f5f"
                        },
                        "error_y": {
                          "color": "#2a3f5f"
                        }
                      }
                    ],
                    "choropleth": [
                      {
                        "colorbar": {
                          "outlinewidth": 0,
                          "ticks": ""
                        },
                        "type": "choropleth"
                      }
                    ],
                    "parcoords": [
                      {
                        "line": {
                          "colorbar": {
                            "outlinewidth": 0,
                            "ticks": ""
                          }
                        },
                        "type": "parcoords"
                      }
                    ],
                    "barpolar": [
                      {
                        "marker": {
                          "line": {
                            "color": "#E5ECF6",
                            "width": 0.5
                          }
                        },
                        "type": "barpolar"
                      }
                    ],
                    "histogram2dcontour": [
                      {
                        "colorbar": {
                          "outlinewidth": 0,
                          "ticks": ""
                        },
                        "type": "histogram2dcontour",
                        "colorscale": [
                          [
                            0,
                            "#0d0887"
                          ],
                          [
                            0.1111111111111111,
                            "#46039f"
                          ],
                          [
                            0.2222222222222222,
                            "#7201a8"
                          ],
                          [
                            0.3333333333333333,
                            "#9c179e"
                          ],
                          [
                            0.4444444444444444,
                            "#bd3786"
                          ],
                          [
                            0.5555555555555556,
                            "#d8576b"
                          ],
                          [
                            0.6666666666666666,
                            "#ed7953"
                          ],
                          [
                            0.7777777777777778,
                            "#fb9f3a"
                          ],
                          [
                            0.8888888888888888,
                            "#fdca26"
                          ],
                          [
                            1,
                            "#f0f921"
                          ]
                        ]
                      }
                    ],
                    "scatter": [
                      {
                        "marker": {
                          "colorbar": {
                            "outlinewidth": 0,
                            "ticks": ""
                          }
                        },
                        "type": "scatter"
                      }
                    ]
                  }
                },
                "yaxis": {
                  "tickmode": "auto",
                  "title": {
                    "text": "Casualities"
                  },
                  "showgrid": false,
                  "range": [
                    1.8,
                    3.6
                  ],
                  "showline": true,
                  "nticks": 40,
                  "type": "log"
                },
                "paper_bgcolor": "rgb(243, 243, 243)",
                "plot_bgcolor": "rgb(243, 243, 243)",
                "title": {
                  "text": "The Big Four"
                },
                "xaxis": {
                  "tickmode": "auto",
                  "title": {
                    "text": "Year"
                  },
                  "showgrid": false,
                  "range": [
                    1976,
                    2016
                  ],
                  "showline": true,
                  "nticks": 30
                }
              }
            }
          },
          "metadata": {}
        }
      ]
    },
    {
      "cell_type": "markdown",
      "metadata": {
        "id": "Xs0JyAR3z63Q"
      },
      "source": [
        "# **Now let us check out which terrorist organizations have carried out their operations in each country. A value count would give us the terrorist organizations that have carried out the most attacks. we have indexed from 1 as to negate the value of 'Unknown'** \n"
      ]
    },
    {
      "cell_type": "code",
      "metadata": {
        "colab": {
          "base_uri": "https://localhost:8080/"
        },
        "id": "pnHA8R34XbPt",
        "outputId": "34bb38ac-694c-423c-f9d7-d4e15e009ca2"
      },
      "source": [
        "terror_df.Group.value_counts()[1:15]"
      ],
      "execution_count": 30,
      "outputs": [
        {
          "output_type": "execute_result",
          "data": {
            "text/plain": [
              "Taliban                                             7478\n",
              "Islamic State of Iraq and the Levant (ISIL)         5613\n",
              "Shining Path (SL)                                   4555\n",
              "Farabundo Marti National Liberation Front (FMLN)    3351\n",
              "Al-Shabaab                                          3288\n",
              "New People's Army (NPA)                             2772\n",
              "Irish Republican Army (IRA)                         2671\n",
              "Revolutionary Armed Forces of Colombia (FARC)       2487\n",
              "Boko Haram                                          2418\n",
              "Kurdistan Workers' Party (PKK)                      2310\n",
              "Basque Fatherland and Freedom (ETA)                 2024\n",
              "Communist Party of India - Maoist (CPI-Maoist)      1878\n",
              "Maoists                                             1630\n",
              "Liberation Tigers of Tamil Eelam (LTTE)             1606\n",
              "Name: Group, dtype: int64"
            ]
          },
          "metadata": {},
          "execution_count": 30
        }
      ]
    },
    {
      "cell_type": "code",
      "metadata": {
        "id": "jUJQqr8oXjID"
      },
      "source": [
        "test = terror_df[terror_df.Group.isin(['Shining Path (SL)','Taliban','Islamic State of Iraq and the Levant (ISIL)'])]"
      ],
      "execution_count": 31,
      "outputs": []
    },
    {
      "cell_type": "code",
      "metadata": {
        "colab": {
          "base_uri": "https://localhost:8080/"
        },
        "id": "xwTj7rOsXov1",
        "outputId": "3887a744-a0d3-4442-e8b1-e9915cc03d2b"
      },
      "source": [
        "test.Country.unique()"
      ],
      "execution_count": 32,
      "outputs": [
        {
          "output_type": "execute_result",
          "data": {
            "text/plain": [
              "array(['Peru', 'Bolivia', 'Colombia', 'Argentina', 'Brazil', 'Mexico',\n",
              "       'Afghanistan', 'Pakistan', 'Syria', 'Iraq', 'Turkey', 'Tunisia',\n",
              "       'Lebanon', 'Turkmenistan', 'Israel', 'Belgium', 'Egypt', 'Libya',\n",
              "       'Saudi Arabia', 'West Bank and Gaza Strip', 'France', 'Bahrain',\n",
              "       'Jordan', 'Somalia', 'Germany', 'Yemen', 'Philippines', 'Malaysia',\n",
              "       'Indonesia', 'Russia', 'Georgia', 'United Kingdom', 'Iran',\n",
              "       'Australia'], dtype=object)"
            ]
          },
          "metadata": {},
          "execution_count": 32
        }
      ]
    },
    {
      "cell_type": "markdown",
      "metadata": {
        "id": "b-2lDTacXvD3"
      },
      "source": [
        "# **Now let us plot the presence of these terrorist organizations on a world map using Folium. Through this, we would be able to know the organizations that have carried out their operations on some of the countries**"
      ]
    },
    {
      "cell_type": "code",
      "metadata": {
        "id": "KdZiB7s9X1CZ"
      },
      "source": [
        "import folium\n",
        "from folium.plugins import MarkerCluster"
      ],
      "execution_count": 34,
      "outputs": []
    },
    {
      "cell_type": "code",
      "metadata": {
        "id": "gZ7yNXuxX8bw"
      },
      "source": [
        "terror_df_group = terror_df.dropna(subset=['latitude','longitude'])"
      ],
      "execution_count": 35,
      "outputs": []
    },
    {
      "cell_type": "markdown",
      "metadata": {
        "id": "5a_roysgYAXM"
      },
      "source": [
        "## **It makes sense now to have only unique rows of Country and Group as multiple groups  can operate on a single Country. But it is highly unlikely in most of the countries. But still there are exceptions.** "
      ]
    },
    {
      "cell_type": "code",
      "metadata": {
        "id": "zjK2x6tFYOtL"
      },
      "source": [
        "terror_df_group = terror_df_group.drop_duplicates(subset=['Country','Group'])"
      ],
      "execution_count": 36,
      "outputs": []
    },
    {
      "cell_type": "markdown",
      "metadata": {
        "id": "K9BG_sYLYRMU"
      },
      "source": [
        "## **We now use only the top 8 mterrorist organizations sorted based on the number of attacks worldwide for the sake of rendering.** "
      ]
    },
    {
      "cell_type": "code",
      "metadata": {
        "id": "DRBpU8KXYalp"
      },
      "source": [
        "terrorist_groups = terror_df.Group.value_counts()[1:8].index.tolist()"
      ],
      "execution_count": 37,
      "outputs": []
    },
    {
      "cell_type": "code",
      "metadata": {
        "id": "Ah-W_bpgYeES"
      },
      "source": [
        "terror_df_group = terror_df_group.loc[terror_df_group.Group.isin(terrorist_groups)]"
      ],
      "execution_count": 38,
      "outputs": []
    },
    {
      "cell_type": "code",
      "metadata": {
        "id": "An3V1KhOYiFw"
      },
      "source": [
        "m = folium.Map(location=[20, 0], tiles=\"Mapbox Bright\", zoom_start=2)\n",
        "for i in range(0,len(terror_df_group)):\n",
        "    folium.Marker([terror_df_group.iloc[i]['latitude'],terror_df_group.iloc[i]['longitude']], \n",
        "                  popup='Group:{}<br>Country:{}'.format(terror_df_group.iloc[i]['Group'], \n",
        "                  terror_df_group.iloc[i]['Country'])).add_to(m)\n",
        " # Save it as html\n",
        "m.save('Terrorist_Organizations_in_Country.html')"
      ],
      "execution_count": 39,
      "outputs": []
    },
    {
      "cell_type": "code",
      "metadata": {
        "colab": {
          "base_uri": "https://localhost:8080/",
          "height": 782
        },
        "id": "wjS7P_WsYl-9",
        "outputId": "34b79432-ee6b-4abb-ac44-d749e2b7e738"
      },
      "source": [
        "m"
      ],
      "execution_count": 40,
      "outputs": [
        {
          "output_type": "execute_result",
          "data": {
            "text/html": [
              "<div style=\"width:100%;\"><div style=\"position:relative;width:100%;height:0;padding-bottom:60%;\"><span style=\"color:#565656\">Make this Notebook Trusted to load map: File -> Trust Notebook</span><iframe src=\"about:blank\" style=\"position:absolute;width:100%;height:100%;left:0;top:0;border:none !important;\" data-html=%3C%21DOCTYPE%20html%3E%0A%3Chead%3E%20%20%20%20%0A%20%20%20%20%3Cmeta%20http-equiv%3D%22content-type%22%20content%3D%22text/html%3B%20charset%3DUTF-8%22%20/%3E%0A%20%20%20%20%3Cscript%3EL_PREFER_CANVAS%3Dfalse%3B%20L_NO_TOUCH%3Dfalse%3B%20L_DISABLE_3D%3Dfalse%3B%3C/script%3E%0A%20%20%20%20%3Cscript%20src%3D%22https%3A//cdn.jsdelivr.net/npm/leaflet%401.4.0/dist/leaflet.js%22%3E%3C/script%3E%0A%20%20%20%20%3Cscript%20src%3D%22https%3A//code.jquery.com/jquery-1.12.4.min.js%22%3E%3C/script%3E%0A%20%20%20%20%3Cscript%20src%3D%22https%3A//maxcdn.bootstrapcdn.com/bootstrap/3.2.0/js/bootstrap.min.js%22%3E%3C/script%3E%0A%20%20%20%20%3Cscript%20src%3D%22https%3A//cdnjs.cloudflare.com/ajax/libs/Leaflet.awesome-markers/2.0.2/leaflet.awesome-markers.js%22%3E%3C/script%3E%0A%20%20%20%20%3Clink%20rel%3D%22stylesheet%22%20href%3D%22https%3A//cdn.jsdelivr.net/npm/leaflet%401.4.0/dist/leaflet.css%22/%3E%0A%20%20%20%20%3Clink%20rel%3D%22stylesheet%22%20href%3D%22https%3A//maxcdn.bootstrapcdn.com/bootstrap/3.2.0/css/bootstrap.min.css%22/%3E%0A%20%20%20%20%3Clink%20rel%3D%22stylesheet%22%20href%3D%22https%3A//maxcdn.bootstrapcdn.com/bootstrap/3.2.0/css/bootstrap-theme.min.css%22/%3E%0A%20%20%20%20%3Clink%20rel%3D%22stylesheet%22%20href%3D%22https%3A//maxcdn.bootstrapcdn.com/font-awesome/4.6.3/css/font-awesome.min.css%22/%3E%0A%20%20%20%20%3Clink%20rel%3D%22stylesheet%22%20href%3D%22https%3A//cdnjs.cloudflare.com/ajax/libs/Leaflet.awesome-markers/2.0.2/leaflet.awesome-markers.css%22/%3E%0A%20%20%20%20%3Clink%20rel%3D%22stylesheet%22%20href%3D%22https%3A//rawcdn.githack.com/python-visualization/folium/master/folium/templates/leaflet.awesome.rotate.css%22/%3E%0A%20%20%20%20%3Cstyle%3Ehtml%2C%20body%20%7Bwidth%3A%20100%25%3Bheight%3A%20100%25%3Bmargin%3A%200%3Bpadding%3A%200%3B%7D%3C/style%3E%0A%20%20%20%20%3Cstyle%3E%23map%20%7Bposition%3Aabsolute%3Btop%3A0%3Bbottom%3A0%3Bright%3A0%3Bleft%3A0%3B%7D%3C/style%3E%0A%20%20%20%20%0A%20%20%20%20%3Cmeta%20name%3D%22viewport%22%20content%3D%22width%3Ddevice-width%2C%0A%20%20%20%20%20%20%20%20initial-scale%3D1.0%2C%20maximum-scale%3D1.0%2C%20user-scalable%3Dno%22%20/%3E%0A%20%20%20%20%3Cstyle%3E%23map_d522c8c3fe6c4ab6b59b088ed0cd4ba4%20%7B%0A%20%20%20%20%20%20%20%20position%3A%20relative%3B%0A%20%20%20%20%20%20%20%20width%3A%20100.0%25%3B%0A%20%20%20%20%20%20%20%20height%3A%20100.0%25%3B%0A%20%20%20%20%20%20%20%20left%3A%200.0%25%3B%0A%20%20%20%20%20%20%20%20top%3A%200.0%25%3B%0A%20%20%20%20%20%20%20%20%7D%0A%20%20%20%20%3C/style%3E%0A%3C/head%3E%0A%3Cbody%3E%20%20%20%20%0A%20%20%20%20%0A%20%20%20%20%3Cdiv%20class%3D%22folium-map%22%20id%3D%22map_d522c8c3fe6c4ab6b59b088ed0cd4ba4%22%20%3E%3C/div%3E%0A%3C/body%3E%0A%3Cscript%3E%20%20%20%20%0A%20%20%20%20%0A%20%20%20%20%0A%20%20%20%20%20%20%20%20var%20bounds%20%3D%20null%3B%0A%20%20%20%20%0A%0A%20%20%20%20var%20map_d522c8c3fe6c4ab6b59b088ed0cd4ba4%20%3D%20L.map%28%0A%20%20%20%20%20%20%20%20%27map_d522c8c3fe6c4ab6b59b088ed0cd4ba4%27%2C%20%7B%0A%20%20%20%20%20%20%20%20center%3A%20%5B20%2C%200%5D%2C%0A%20%20%20%20%20%20%20%20zoom%3A%202%2C%0A%20%20%20%20%20%20%20%20maxBounds%3A%20bounds%2C%0A%20%20%20%20%20%20%20%20layers%3A%20%5B%5D%2C%0A%20%20%20%20%20%20%20%20worldCopyJump%3A%20false%2C%0A%20%20%20%20%20%20%20%20crs%3A%20L.CRS.EPSG3857%2C%0A%20%20%20%20%20%20%20%20zoomControl%3A%20true%2C%0A%20%20%20%20%20%20%20%20%7D%29%3B%0A%0A%0A%20%20%20%20%0A%20%20%20%20var%20tile_layer_5974d02c797145ba8af11adfd6d1dea2%20%3D%20L.tileLayer%28%0A%20%20%20%20%20%20%20%20%27https%3A//%7Bs%7D.tiles.mapbox.com/v3/mapbox.world-bright/%7Bz%7D/%7Bx%7D/%7By%7D.png%27%2C%0A%20%20%20%20%20%20%20%20%7B%0A%20%20%20%20%20%20%20%20%22attribution%22%3A%20null%2C%0A%20%20%20%20%20%20%20%20%22detectRetina%22%3A%20false%2C%0A%20%20%20%20%20%20%20%20%22maxNativeZoom%22%3A%2018%2C%0A%20%20%20%20%20%20%20%20%22maxZoom%22%3A%2018%2C%0A%20%20%20%20%20%20%20%20%22minZoom%22%3A%200%2C%0A%20%20%20%20%20%20%20%20%22noWrap%22%3A%20false%2C%0A%20%20%20%20%20%20%20%20%22opacity%22%3A%201%2C%0A%20%20%20%20%20%20%20%20%22subdomains%22%3A%20%22abc%22%2C%0A%20%20%20%20%20%20%20%20%22tms%22%3A%20false%0A%7D%29.addTo%28map_d522c8c3fe6c4ab6b59b088ed0cd4ba4%29%3B%0A%20%20%20%20%0A%20%20%20%20%20%20%20%20var%20marker_834d695e627c4f3f828fc3104ee82b1e%20%3D%20L.marker%28%0A%20%20%20%20%20%20%20%20%20%20%20%20%5B15.675051000000002%2C%20120.33161799999999%5D%2C%0A%20%20%20%20%20%20%20%20%20%20%20%20%7B%0A%20%20%20%20%20%20%20%20%20%20%20%20%20%20%20%20icon%3A%20new%20L.Icon.Default%28%29%2C%0A%20%20%20%20%20%20%20%20%20%20%20%20%20%20%20%20%7D%0A%20%20%20%20%20%20%20%20%20%20%20%20%29.addTo%28map_d522c8c3fe6c4ab6b59b088ed0cd4ba4%29%3B%0A%20%20%20%20%20%20%20%20%0A%20%20%20%20%0A%20%20%20%20%20%20%20%20%20%20%20%20var%20popup_a3205d12e15e4df690388bd0e5b8c0e2%20%3D%20L.popup%28%7BmaxWidth%3A%20%27100%25%27%0A%20%20%20%20%20%20%20%20%20%20%20%20%0A%20%20%20%20%20%20%20%20%20%20%20%20%7D%29%3B%0A%0A%20%20%20%20%20%20%20%20%20%20%20%20%0A%20%20%20%20%20%20%20%20%20%20%20%20%20%20%20%20var%20html_b421e7be394c439d8d376fdb7ae7b73d%20%3D%20%24%28%60%3Cdiv%20id%3D%22html_b421e7be394c439d8d376fdb7ae7b73d%22%20style%3D%22width%3A%20100.0%25%3B%20height%3A%20100.0%25%3B%22%3EGroup%3ANew%20People%27s%20Army%20%28NPA%29%3Cbr%3ECountry%3APhilippines%3C/div%3E%60%29%5B0%5D%3B%0A%20%20%20%20%20%20%20%20%20%20%20%20%20%20%20%20popup_a3205d12e15e4df690388bd0e5b8c0e2.setContent%28html_b421e7be394c439d8d376fdb7ae7b73d%29%3B%0A%20%20%20%20%20%20%20%20%20%20%20%20%0A%0A%20%20%20%20%20%20%20%20%20%20%20%20marker_834d695e627c4f3f828fc3104ee82b1e.bindPopup%28popup_a3205d12e15e4df690388bd0e5b8c0e2%29%0A%20%20%20%20%20%20%20%20%20%20%20%20%3B%0A%0A%20%20%20%20%20%20%20%20%20%20%20%20%0A%20%20%20%20%20%20%20%20%0A%20%20%20%20%0A%20%20%20%20%20%20%20%20var%20marker_3cf56cc4afcf43f6a020ef3f430be8d4%20%3D%20L.marker%28%0A%20%20%20%20%20%20%20%20%20%20%20%20%5B55.011562%2C%20-7.3120449999999995%5D%2C%0A%20%20%20%20%20%20%20%20%20%20%20%20%7B%0A%20%20%20%20%20%20%20%20%20%20%20%20%20%20%20%20icon%3A%20new%20L.Icon.Default%28%29%2C%0A%20%20%20%20%20%20%20%20%20%20%20%20%20%20%20%20%7D%0A%20%20%20%20%20%20%20%20%20%20%20%20%29.addTo%28map_d522c8c3fe6c4ab6b59b088ed0cd4ba4%29%3B%0A%20%20%20%20%20%20%20%20%0A%20%20%20%20%0A%20%20%20%20%20%20%20%20%20%20%20%20var%20popup_9d0ae0b5284642b79f17fd71657afb1b%20%3D%20L.popup%28%7BmaxWidth%3A%20%27100%25%27%0A%20%20%20%20%20%20%20%20%20%20%20%20%0A%20%20%20%20%20%20%20%20%20%20%20%20%7D%29%3B%0A%0A%20%20%20%20%20%20%20%20%20%20%20%20%0A%20%20%20%20%20%20%20%20%20%20%20%20%20%20%20%20var%20html_8c651906f9144ff68a73519ebadf2bfc%20%3D%20%24%28%60%3Cdiv%20id%3D%22html_8c651906f9144ff68a73519ebadf2bfc%22%20style%3D%22width%3A%20100.0%25%3B%20height%3A%20100.0%25%3B%22%3EGroup%3AIrish%20Republican%20Army%20%28IRA%29%3Cbr%3ECountry%3AUnited%20Kingdom%3C/div%3E%60%29%5B0%5D%3B%0A%20%20%20%20%20%20%20%20%20%20%20%20%20%20%20%20popup_9d0ae0b5284642b79f17fd71657afb1b.setContent%28html_8c651906f9144ff68a73519ebadf2bfc%29%3B%0A%20%20%20%20%20%20%20%20%20%20%20%20%0A%0A%20%20%20%20%20%20%20%20%20%20%20%20marker_3cf56cc4afcf43f6a020ef3f430be8d4.bindPopup%28popup_9d0ae0b5284642b79f17fd71657afb1b%29%0A%20%20%20%20%20%20%20%20%20%20%20%20%3B%0A%0A%20%20%20%20%20%20%20%20%20%20%20%20%0A%20%20%20%20%20%20%20%20%0A%20%20%20%20%0A%20%20%20%20%20%20%20%20var%20marker_9b8d30111727426886fde87db814531a%20%3D%20L.marker%28%0A%20%20%20%20%20%20%20%20%20%20%20%20%5B53.361675%2C%20-6.2454849999999995%5D%2C%0A%20%20%20%20%20%20%20%20%20%20%20%20%7B%0A%20%20%20%20%20%20%20%20%20%20%20%20%20%20%20%20icon%3A%20new%20L.Icon.Default%28%29%2C%0A%20%20%20%20%20%20%20%20%20%20%20%20%20%20%20%20%7D%0A%20%20%20%20%20%20%20%20%20%20%20%20%29.addTo%28map_d522c8c3fe6c4ab6b59b088ed0cd4ba4%29%3B%0A%20%20%20%20%20%20%20%20%0A%20%20%20%20%0A%20%20%20%20%20%20%20%20%20%20%20%20var%20popup_ac18d74c17ff47da9d778d026128921b%20%3D%20L.popup%28%7BmaxWidth%3A%20%27100%25%27%0A%20%20%20%20%20%20%20%20%20%20%20%20%0A%20%20%20%20%20%20%20%20%20%20%20%20%7D%29%3B%0A%0A%20%20%20%20%20%20%20%20%20%20%20%20%0A%20%20%20%20%20%20%20%20%20%20%20%20%20%20%20%20var%20html_c8eb906fa522472d924e83bf1782d981%20%3D%20%24%28%60%3Cdiv%20id%3D%22html_c8eb906fa522472d924e83bf1782d981%22%20style%3D%22width%3A%20100.0%25%3B%20height%3A%20100.0%25%3B%22%3EGroup%3AIrish%20Republican%20Army%20%28IRA%29%3Cbr%3ECountry%3AIreland%3C/div%3E%60%29%5B0%5D%3B%0A%20%20%20%20%20%20%20%20%20%20%20%20%20%20%20%20popup_ac18d74c17ff47da9d778d026128921b.setContent%28html_c8eb906fa522472d924e83bf1782d981%29%3B%0A%20%20%20%20%20%20%20%20%20%20%20%20%0A%0A%20%20%20%20%20%20%20%20%20%20%20%20marker_9b8d30111727426886fde87db814531a.bindPopup%28popup_ac18d74c17ff47da9d778d026128921b%29%0A%20%20%20%20%20%20%20%20%20%20%20%20%3B%0A%0A%20%20%20%20%20%20%20%20%20%20%20%20%0A%20%20%20%20%20%20%20%20%0A%20%20%20%20%0A%20%20%20%20%20%20%20%20var%20marker_2875bdedf22447d0baed9475631c7fb0%20%3D%20L.marker%28%0A%20%20%20%20%20%20%20%20%20%20%20%20%5B38.908642%2C%20-77.015381%5D%2C%0A%20%20%20%20%20%20%20%20%20%20%20%20%7B%0A%20%20%20%20%20%20%20%20%20%20%20%20%20%20%20%20icon%3A%20new%20L.Icon.Default%28%29%2C%0A%20%20%20%20%20%20%20%20%20%20%20%20%20%20%20%20%7D%0A%20%20%20%20%20%20%20%20%20%20%20%20%29.addTo%28map_d522c8c3fe6c4ab6b59b088ed0cd4ba4%29%3B%0A%20%20%20%20%20%20%20%20%0A%20%20%20%20%0A%20%20%20%20%20%20%20%20%20%20%20%20var%20popup_5a3e3f02ebac4645a72b56f342fcdccf%20%3D%20L.popup%28%7BmaxWidth%3A%20%27100%25%27%0A%20%20%20%20%20%20%20%20%20%20%20%20%0A%20%20%20%20%20%20%20%20%20%20%20%20%7D%29%3B%0A%0A%20%20%20%20%20%20%20%20%20%20%20%20%0A%20%20%20%20%20%20%20%20%20%20%20%20%20%20%20%20var%20html_0165aa5060014f45b4e003025aea5678%20%3D%20%24%28%60%3Cdiv%20id%3D%22html_0165aa5060014f45b4e003025aea5678%22%20style%3D%22width%3A%20100.0%25%3B%20height%3A%20100.0%25%3B%22%3EGroup%3AIrish%20Republican%20Army%20%28IRA%29%3Cbr%3ECountry%3AUnited%20States%3C/div%3E%60%29%5B0%5D%3B%0A%20%20%20%20%20%20%20%20%20%20%20%20%20%20%20%20popup_5a3e3f02ebac4645a72b56f342fcdccf.setContent%28html_0165aa5060014f45b4e003025aea5678%29%3B%0A%20%20%20%20%20%20%20%20%20%20%20%20%0A%0A%20%20%20%20%20%20%20%20%20%20%20%20marker_2875bdedf22447d0baed9475631c7fb0.bindPopup%28popup_5a3e3f02ebac4645a72b56f342fcdccf%29%0A%20%20%20%20%20%20%20%20%20%20%20%20%3B%0A%0A%20%20%20%20%20%20%20%20%20%20%20%20%0A%20%20%20%20%20%20%20%20%0A%20%20%20%20%0A%20%20%20%20%20%20%20%20var%20marker_8b1aaef0a48c44ed94c66d4c442463fb%20%3D%20L.marker%28%0A%20%20%20%20%20%20%20%20%20%20%20%20%5B-4.389166%2C%2015.337620000000001%5D%2C%0A%20%20%20%20%20%20%20%20%20%20%20%20%7B%0A%20%20%20%20%20%20%20%20%20%20%20%20%20%20%20%20icon%3A%20new%20L.Icon.Default%28%29%2C%0A%20%20%20%20%20%20%20%20%20%20%20%20%20%20%20%20%7D%0A%20%20%20%20%20%20%20%20%20%20%20%20%29.addTo%28map_d522c8c3fe6c4ab6b59b088ed0cd4ba4%29%3B%0A%20%20%20%20%20%20%20%20%0A%20%20%20%20%0A%20%20%20%20%20%20%20%20%20%20%20%20var%20popup_674a0ad4806642b7ba8c71a5ebf89a02%20%3D%20L.popup%28%7BmaxWidth%3A%20%27100%25%27%0A%20%20%20%20%20%20%20%20%20%20%20%20%0A%20%20%20%20%20%20%20%20%20%20%20%20%7D%29%3B%0A%0A%20%20%20%20%20%20%20%20%20%20%20%20%0A%20%20%20%20%20%20%20%20%20%20%20%20%20%20%20%20var%20html_4005408c25974157bbaa55526c91a610%20%3D%20%24%28%60%3Cdiv%20id%3D%22html_4005408c25974157bbaa55526c91a610%22%20style%3D%22width%3A%20100.0%25%3B%20height%3A%20100.0%25%3B%22%3EGroup%3AIrish%20Republican%20Army%20%28IRA%29%3Cbr%3ECountry%3AZaire%3C/div%3E%60%29%5B0%5D%3B%0A%20%20%20%20%20%20%20%20%20%20%20%20%20%20%20%20popup_674a0ad4806642b7ba8c71a5ebf89a02.setContent%28html_4005408c25974157bbaa55526c91a610%29%3B%0A%20%20%20%20%20%20%20%20%20%20%20%20%0A%0A%20%20%20%20%20%20%20%20%20%20%20%20marker_8b1aaef0a48c44ed94c66d4c442463fb.bindPopup%28popup_674a0ad4806642b7ba8c71a5ebf89a02%29%0A%20%20%20%20%20%20%20%20%20%20%20%20%3B%0A%0A%20%20%20%20%20%20%20%20%20%20%20%20%0A%20%20%20%20%20%20%20%20%0A%20%20%20%20%0A%20%20%20%20%20%20%20%20var%20marker_81d72db354204df6826d7c6ffaee59bf%20%3D%20L.marker%28%0A%20%20%20%20%20%20%20%20%20%20%20%20%5B38.725299%2C%20-9.150036%5D%2C%0A%20%20%20%20%20%20%20%20%20%20%20%20%7B%0A%20%20%20%20%20%20%20%20%20%20%20%20%20%20%20%20icon%3A%20new%20L.Icon.Default%28%29%2C%0A%20%20%20%20%20%20%20%20%20%20%20%20%20%20%20%20%7D%0A%20%20%20%20%20%20%20%20%20%20%20%20%29.addTo%28map_d522c8c3fe6c4ab6b59b088ed0cd4ba4%29%3B%0A%20%20%20%20%20%20%20%20%0A%20%20%20%20%0A%20%20%20%20%20%20%20%20%20%20%20%20var%20popup_bca26133fa4142c2a40424706321169e%20%3D%20L.popup%28%7BmaxWidth%3A%20%27100%25%27%0A%20%20%20%20%20%20%20%20%20%20%20%20%0A%20%20%20%20%20%20%20%20%20%20%20%20%7D%29%3B%0A%0A%20%20%20%20%20%20%20%20%20%20%20%20%0A%20%20%20%20%20%20%20%20%20%20%20%20%20%20%20%20var%20html_5af529e5c5f54f5284439c51331a55c4%20%3D%20%24%28%60%3Cdiv%20id%3D%22html_5af529e5c5f54f5284439c51331a55c4%22%20style%3D%22width%3A%20100.0%25%3B%20height%3A%20100.0%25%3B%22%3EGroup%3AIrish%20Republican%20Army%20%28IRA%29%3Cbr%3ECountry%3APortugal%3C/div%3E%60%29%5B0%5D%3B%0A%20%20%20%20%20%20%20%20%20%20%20%20%20%20%20%20popup_bca26133fa4142c2a40424706321169e.setContent%28html_5af529e5c5f54f5284439c51331a55c4%29%3B%0A%20%20%20%20%20%20%20%20%20%20%20%20%0A%0A%20%20%20%20%20%20%20%20%20%20%20%20marker_81d72db354204df6826d7c6ffaee59bf.bindPopup%28popup_bca26133fa4142c2a40424706321169e%29%0A%20%20%20%20%20%20%20%20%20%20%20%20%3B%0A%0A%20%20%20%20%20%20%20%20%20%20%20%20%0A%20%20%20%20%20%20%20%20%0A%20%20%20%20%0A%20%20%20%20%20%20%20%20var%20marker_97608a0787b341c392bb1c3b3f48b1b7%20%3D%20L.marker%28%0A%20%20%20%20%20%20%20%20%20%20%20%20%5B-13.152712%2C%20-74.21862800000001%5D%2C%0A%20%20%20%20%20%20%20%20%20%20%20%20%7B%0A%20%20%20%20%20%20%20%20%20%20%20%20%20%20%20%20icon%3A%20new%20L.Icon.Default%28%29%2C%0A%20%20%20%20%20%20%20%20%20%20%20%20%20%20%20%20%7D%0A%20%20%20%20%20%20%20%20%20%20%20%20%29.addTo%28map_d522c8c3fe6c4ab6b59b088ed0cd4ba4%29%3B%0A%20%20%20%20%20%20%20%20%0A%20%20%20%20%0A%20%20%20%20%20%20%20%20%20%20%20%20var%20popup_f9289f1c4af049c8987b5e390ea5fa38%20%3D%20L.popup%28%7BmaxWidth%3A%20%27100%25%27%0A%20%20%20%20%20%20%20%20%20%20%20%20%0A%20%20%20%20%20%20%20%20%20%20%20%20%7D%29%3B%0A%0A%20%20%20%20%20%20%20%20%20%20%20%20%0A%20%20%20%20%20%20%20%20%20%20%20%20%20%20%20%20var%20html_5d9dcdbb77564862be134517f323e74e%20%3D%20%24%28%60%3Cdiv%20id%3D%22html_5d9dcdbb77564862be134517f323e74e%22%20style%3D%22width%3A%20100.0%25%3B%20height%3A%20100.0%25%3B%22%3EGroup%3AShining%20Path%20%28SL%29%3Cbr%3ECountry%3APeru%3C/div%3E%60%29%5B0%5D%3B%0A%20%20%20%20%20%20%20%20%20%20%20%20%20%20%20%20popup_f9289f1c4af049c8987b5e390ea5fa38.setContent%28html_5d9dcdbb77564862be134517f323e74e%29%3B%0A%20%20%20%20%20%20%20%20%20%20%20%20%0A%0A%20%20%20%20%20%20%20%20%20%20%20%20marker_97608a0787b341c392bb1c3b3f48b1b7.bindPopup%28popup_f9289f1c4af049c8987b5e390ea5fa38%29%0A%20%20%20%20%20%20%20%20%20%20%20%20%3B%0A%0A%20%20%20%20%20%20%20%20%20%20%20%20%0A%20%20%20%20%20%20%20%20%0A%20%20%20%20%0A%20%20%20%20%20%20%20%20var%20marker_9111e2004bb54912ae9aab9de63a9355%20%3D%20L.marker%28%0A%20%20%20%20%20%20%20%20%20%20%20%20%5B51.148407%2C%206.357643%5D%2C%0A%20%20%20%20%20%20%20%20%20%20%20%20%7B%0A%20%20%20%20%20%20%20%20%20%20%20%20%20%20%20%20icon%3A%20new%20L.Icon.Default%28%29%2C%0A%20%20%20%20%20%20%20%20%20%20%20%20%20%20%20%20%7D%0A%20%20%20%20%20%20%20%20%20%20%20%20%29.addTo%28map_d522c8c3fe6c4ab6b59b088ed0cd4ba4%29%3B%0A%20%20%20%20%20%20%20%20%0A%20%20%20%20%0A%20%20%20%20%20%20%20%20%20%20%20%20var%20popup_221430a225d44e1d8a1fd07ed5ec5adf%20%3D%20L.popup%28%7BmaxWidth%3A%20%27100%25%27%0A%20%20%20%20%20%20%20%20%20%20%20%20%0A%20%20%20%20%20%20%20%20%20%20%20%20%7D%29%3B%0A%0A%20%20%20%20%20%20%20%20%20%20%20%20%0A%20%20%20%20%20%20%20%20%20%20%20%20%20%20%20%20var%20html_500a9f2a36f3410cbec1731b1890455b%20%3D%20%24%28%60%3Cdiv%20id%3D%22html_500a9f2a36f3410cbec1731b1890455b%22%20style%3D%22width%3A%20100.0%25%3B%20height%3A%20100.0%25%3B%22%3EGroup%3AIrish%20Republican%20Army%20%28IRA%29%3Cbr%3ECountry%3AWest%20Germany%20%28FRG%29%3C/div%3E%60%29%5B0%5D%3B%0A%20%20%20%20%20%20%20%20%20%20%20%20%20%20%20%20popup_221430a225d44e1d8a1fd07ed5ec5adf.setContent%28html_500a9f2a36f3410cbec1731b1890455b%29%3B%0A%20%20%20%20%20%20%20%20%20%20%20%20%0A%0A%20%20%20%20%20%20%20%20%20%20%20%20marker_9111e2004bb54912ae9aab9de63a9355.bindPopup%28popup_221430a225d44e1d8a1fd07ed5ec5adf%29%0A%20%20%20%20%20%20%20%20%20%20%20%20%3B%0A%0A%20%20%20%20%20%20%20%20%20%20%20%20%0A%20%20%20%20%20%20%20%20%0A%20%20%20%20%0A%20%20%20%20%20%20%20%20var%20marker_8bd2a4deaffe4ae2a2a19066959e205f%20%3D%20L.marker%28%0A%20%20%20%20%20%20%20%20%20%20%20%20%5B14.050173000000001%2C%20-88.837704%5D%2C%0A%20%20%20%20%20%20%20%20%20%20%20%20%7B%0A%20%20%20%20%20%20%20%20%20%20%20%20%20%20%20%20icon%3A%20new%20L.Icon.Default%28%29%2C%0A%20%20%20%20%20%20%20%20%20%20%20%20%20%20%20%20%7D%0A%20%20%20%20%20%20%20%20%20%20%20%20%29.addTo%28map_d522c8c3fe6c4ab6b59b088ed0cd4ba4%29%3B%0A%20%20%20%20%20%20%20%20%0A%20%20%20%20%0A%20%20%20%20%20%20%20%20%20%20%20%20var%20popup_1d830855dbb84a458d24b5a709130c55%20%3D%20L.popup%28%7BmaxWidth%3A%20%27100%25%27%0A%20%20%20%20%20%20%20%20%20%20%20%20%0A%20%20%20%20%20%20%20%20%20%20%20%20%7D%29%3B%0A%0A%20%20%20%20%20%20%20%20%20%20%20%20%0A%20%20%20%20%20%20%20%20%20%20%20%20%20%20%20%20var%20html_e4e88411890946c3883c1d8ed80b5d75%20%3D%20%24%28%60%3Cdiv%20id%3D%22html_e4e88411890946c3883c1d8ed80b5d75%22%20style%3D%22width%3A%20100.0%25%3B%20height%3A%20100.0%25%3B%22%3EGroup%3AFarabundo%20Marti%20National%20Liberation%20Front%20%28FMLN%29%3Cbr%3ECountry%3AEl%20Salvador%3C/div%3E%60%29%5B0%5D%3B%0A%20%20%20%20%20%20%20%20%20%20%20%20%20%20%20%20popup_1d830855dbb84a458d24b5a709130c55.setContent%28html_e4e88411890946c3883c1d8ed80b5d75%29%3B%0A%20%20%20%20%20%20%20%20%20%20%20%20%0A%0A%20%20%20%20%20%20%20%20%20%20%20%20marker_8bd2a4deaffe4ae2a2a19066959e205f.bindPopup%28popup_1d830855dbb84a458d24b5a709130c55%29%0A%20%20%20%20%20%20%20%20%20%20%20%20%3B%0A%0A%20%20%20%20%20%20%20%20%20%20%20%20%0A%20%20%20%20%20%20%20%20%0A%20%20%20%20%0A%20%20%20%20%20%20%20%20var%20marker_48bf1bd29d05454eba03ba66c9390c3d%20%3D%20L.marker%28%0A%20%20%20%20%20%20%20%20%20%20%20%20%5B50.836426%2C%204.367415%5D%2C%0A%20%20%20%20%20%20%20%20%20%20%20%20%7B%0A%20%20%20%20%20%20%20%20%20%20%20%20%20%20%20%20icon%3A%20new%20L.Icon.Default%28%29%2C%0A%20%20%20%20%20%20%20%20%20%20%20%20%20%20%20%20%7D%0A%20%20%20%20%20%20%20%20%20%20%20%20%29.addTo%28map_d522c8c3fe6c4ab6b59b088ed0cd4ba4%29%3B%0A%20%20%20%20%20%20%20%20%0A%20%20%20%20%0A%20%20%20%20%20%20%20%20%20%20%20%20var%20popup_41167320539d488ca72aa73d4df56e41%20%3D%20L.popup%28%7BmaxWidth%3A%20%27100%25%27%0A%20%20%20%20%20%20%20%20%20%20%20%20%0A%20%20%20%20%20%20%20%20%20%20%20%20%7D%29%3B%0A%0A%20%20%20%20%20%20%20%20%20%20%20%20%0A%20%20%20%20%20%20%20%20%20%20%20%20%20%20%20%20var%20html_db7638e1bc4b4eb498281fb981ed4825%20%3D%20%24%28%60%3Cdiv%20id%3D%22html_db7638e1bc4b4eb498281fb981ed4825%22%20style%3D%22width%3A%20100.0%25%3B%20height%3A%20100.0%25%3B%22%3EGroup%3AIrish%20Republican%20Army%20%28IRA%29%3Cbr%3ECountry%3ABelgium%3C/div%3E%60%29%5B0%5D%3B%0A%20%20%20%20%20%20%20%20%20%20%20%20%20%20%20%20popup_41167320539d488ca72aa73d4df56e41.setContent%28html_db7638e1bc4b4eb498281fb981ed4825%29%3B%0A%20%20%20%20%20%20%20%20%20%20%20%20%0A%0A%20%20%20%20%20%20%20%20%20%20%20%20marker_48bf1bd29d05454eba03ba66c9390c3d.bindPopup%28popup_41167320539d488ca72aa73d4df56e41%29%0A%20%20%20%20%20%20%20%20%20%20%20%20%3B%0A%0A%20%20%20%20%20%20%20%20%20%20%20%20%0A%20%20%20%20%20%20%20%20%0A%20%20%20%20%0A%20%20%20%20%20%20%20%20var%20marker_0daab05c616043de8cf667aeda58584a%20%3D%20L.marker%28%0A%20%20%20%20%20%20%20%20%20%20%20%20%5B52.069858%2C%204.291111%5D%2C%0A%20%20%20%20%20%20%20%20%20%20%20%20%7B%0A%20%20%20%20%20%20%20%20%20%20%20%20%20%20%20%20icon%3A%20new%20L.Icon.Default%28%29%2C%0A%20%20%20%20%20%20%20%20%20%20%20%20%20%20%20%20%7D%0A%20%20%20%20%20%20%20%20%20%20%20%20%29.addTo%28map_d522c8c3fe6c4ab6b59b088ed0cd4ba4%29%3B%0A%20%20%20%20%20%20%20%20%0A%20%20%20%20%0A%20%20%20%20%20%20%20%20%20%20%20%20var%20popup_69e1246ef57a43b6a6c6cd2c0d6f1b64%20%3D%20L.popup%28%7BmaxWidth%3A%20%27100%25%27%0A%20%20%20%20%20%20%20%20%20%20%20%20%0A%20%20%20%20%20%20%20%20%20%20%20%20%7D%29%3B%0A%0A%20%20%20%20%20%20%20%20%20%20%20%20%0A%20%20%20%20%20%20%20%20%20%20%20%20%20%20%20%20var%20html_95dd36830ed24da3a78ea47799071e29%20%3D%20%24%28%60%3Cdiv%20id%3D%22html_95dd36830ed24da3a78ea47799071e29%22%20style%3D%22width%3A%20100.0%25%3B%20height%3A%20100.0%25%3B%22%3EGroup%3AIrish%20Republican%20Army%20%28IRA%29%3Cbr%3ECountry%3ANetherlands%3C/div%3E%60%29%5B0%5D%3B%0A%20%20%20%20%20%20%20%20%20%20%20%20%20%20%20%20popup_69e1246ef57a43b6a6c6cd2c0d6f1b64.setContent%28html_95dd36830ed24da3a78ea47799071e29%29%3B%0A%20%20%20%20%20%20%20%20%20%20%20%20%0A%0A%20%20%20%20%20%20%20%20%20%20%20%20marker_0daab05c616043de8cf667aeda58584a.bindPopup%28popup_69e1246ef57a43b6a6c6cd2c0d6f1b64%29%0A%20%20%20%20%20%20%20%20%20%20%20%20%3B%0A%0A%20%20%20%20%20%20%20%20%20%20%20%20%0A%20%20%20%20%20%20%20%20%0A%20%20%20%20%0A%20%20%20%20%20%20%20%20var%20marker_022be5c903ad4733a321a29bac2a560c%20%3D%20L.marker%28%0A%20%20%20%20%20%20%20%20%20%20%20%20%5B14.622869%2C%20-90.52906800000001%5D%2C%0A%20%20%20%20%20%20%20%20%20%20%20%20%7B%0A%20%20%20%20%20%20%20%20%20%20%20%20%20%20%20%20icon%3A%20new%20L.Icon.Default%28%29%2C%0A%20%20%20%20%20%20%20%20%20%20%20%20%20%20%20%20%7D%0A%20%20%20%20%20%20%20%20%20%20%20%20%29.addTo%28map_d522c8c3fe6c4ab6b59b088ed0cd4ba4%29%3B%0A%20%20%20%20%20%20%20%20%0A%20%20%20%20%0A%20%20%20%20%20%20%20%20%20%20%20%20var%20popup_bd2e0a02a7dc42b4a322fd091e22046e%20%3D%20L.popup%28%7BmaxWidth%3A%20%27100%25%27%0A%20%20%20%20%20%20%20%20%20%20%20%20%0A%20%20%20%20%20%20%20%20%20%20%20%20%7D%29%3B%0A%0A%20%20%20%20%20%20%20%20%20%20%20%20%0A%20%20%20%20%20%20%20%20%20%20%20%20%20%20%20%20var%20html_752c8f0399e34c9b93115f284e6a7442%20%3D%20%24%28%60%3Cdiv%20id%3D%22html_752c8f0399e34c9b93115f284e6a7442%22%20style%3D%22width%3A%20100.0%25%3B%20height%3A%20100.0%25%3B%22%3EGroup%3AFarabundo%20Marti%20National%20Liberation%20Front%20%28FMLN%29%3Cbr%3ECountry%3AGuatemala%3C/div%3E%60%29%5B0%5D%3B%0A%20%20%20%20%20%20%20%20%20%20%20%20%20%20%20%20popup_bd2e0a02a7dc42b4a322fd091e22046e.setContent%28html_752c8f0399e34c9b93115f284e6a7442%29%3B%0A%20%20%20%20%20%20%20%20%20%20%20%20%0A%0A%20%20%20%20%20%20%20%20%20%20%20%20marker_022be5c903ad4733a321a29bac2a560c.bindPopup%28popup_bd2e0a02a7dc42b4a322fd091e22046e%29%0A%20%20%20%20%20%20%20%20%20%20%20%20%3B%0A%0A%20%20%20%20%20%20%20%20%20%20%20%20%0A%20%20%20%20%20%20%20%20%0A%20%20%20%20%0A%20%20%20%20%20%20%20%20var%20marker_2ac694de3d2a478497dbafe49b35dfc4%20%3D%20L.marker%28%0A%20%20%20%20%20%20%20%20%20%20%20%20%5B56.162939%2C%2010.203921000000001%5D%2C%0A%20%20%20%20%20%20%20%20%20%20%20%20%7B%0A%20%20%20%20%20%20%20%20%20%20%20%20%20%20%20%20icon%3A%20new%20L.Icon.Default%28%29%2C%0A%20%20%20%20%20%20%20%20%20%20%20%20%20%20%20%20%7D%0A%20%20%20%20%20%20%20%20%20%20%20%20%29.addTo%28map_d522c8c3fe6c4ab6b59b088ed0cd4ba4%29%3B%0A%20%20%20%20%20%20%20%20%0A%20%20%20%20%0A%20%20%20%20%20%20%20%20%20%20%20%20var%20popup_6041d07ded354ed6a00b4d17098b3149%20%3D%20L.popup%28%7BmaxWidth%3A%20%27100%25%27%0A%20%20%20%20%20%20%20%20%20%20%20%20%0A%20%20%20%20%20%20%20%20%20%20%20%20%7D%29%3B%0A%0A%20%20%20%20%20%20%20%20%20%20%20%20%0A%20%20%20%20%20%20%20%20%20%20%20%20%20%20%20%20var%20html_3872abcdb0ff46f78f2031f075251ad8%20%3D%20%24%28%60%3Cdiv%20id%3D%22html_3872abcdb0ff46f78f2031f075251ad8%22%20style%3D%22width%3A%20100.0%25%3B%20height%3A%20100.0%25%3B%22%3EGroup%3AIrish%20Republican%20Army%20%28IRA%29%3Cbr%3ECountry%3ADenmark%3C/div%3E%60%29%5B0%5D%3B%0A%20%20%20%20%20%20%20%20%20%20%20%20%20%20%20%20popup_6041d07ded354ed6a00b4d17098b3149.setContent%28html_3872abcdb0ff46f78f2031f075251ad8%29%3B%0A%20%20%20%20%20%20%20%20%20%20%20%20%0A%0A%20%20%20%20%20%20%20%20%20%20%20%20marker_2ac694de3d2a478497dbafe49b35dfc4.bindPopup%28popup_6041d07ded354ed6a00b4d17098b3149%29%0A%20%20%20%20%20%20%20%20%20%20%20%20%3B%0A%0A%20%20%20%20%20%20%20%20%20%20%20%20%0A%20%20%20%20%20%20%20%20%0A%20%20%20%20%0A%20%20%20%20%20%20%20%20var%20marker_6685325ee9b74beca3d51040f4b4acd5%20%3D%20L.marker%28%0A%20%20%20%20%20%20%20%20%20%20%20%20%5B47.36865%2C%208.539182%5D%2C%0A%20%20%20%20%20%20%20%20%20%20%20%20%7B%0A%20%20%20%20%20%20%20%20%20%20%20%20%20%20%20%20icon%3A%20new%20L.Icon.Default%28%29%2C%0A%20%20%20%20%20%20%20%20%20%20%20%20%20%20%20%20%7D%0A%20%20%20%20%20%20%20%20%20%20%20%20%29.addTo%28map_d522c8c3fe6c4ab6b59b088ed0cd4ba4%29%3B%0A%20%20%20%20%20%20%20%20%0A%20%20%20%20%0A%20%20%20%20%20%20%20%20%20%20%20%20var%20popup_0108b602e834479ba22078d51d5933bc%20%3D%20L.popup%28%7BmaxWidth%3A%20%27100%25%27%0A%20%20%20%20%20%20%20%20%20%20%20%20%0A%20%20%20%20%20%20%20%20%20%20%20%20%7D%29%3B%0A%0A%20%20%20%20%20%20%20%20%20%20%20%20%0A%20%20%20%20%20%20%20%20%20%20%20%20%20%20%20%20var%20html_076e7be0c2e0465986134f11a21a30d5%20%3D%20%24%28%60%3Cdiv%20id%3D%22html_076e7be0c2e0465986134f11a21a30d5%22%20style%3D%22width%3A%20100.0%25%3B%20height%3A%20100.0%25%3B%22%3EGroup%3AIrish%20Republican%20Army%20%28IRA%29%3Cbr%3ECountry%3ASwitzerland%3C/div%3E%60%29%5B0%5D%3B%0A%20%20%20%20%20%20%20%20%20%20%20%20%20%20%20%20popup_0108b602e834479ba22078d51d5933bc.setContent%28html_076e7be0c2e0465986134f11a21a30d5%29%3B%0A%20%20%20%20%20%20%20%20%20%20%20%20%0A%0A%20%20%20%20%20%20%20%20%20%20%20%20marker_6685325ee9b74beca3d51040f4b4acd5.bindPopup%28popup_0108b602e834479ba22078d51d5933bc%29%0A%20%20%20%20%20%20%20%20%20%20%20%20%3B%0A%0A%20%20%20%20%20%20%20%20%20%20%20%20%0A%20%20%20%20%20%20%20%20%0A%20%20%20%20%0A%20%20%20%20%20%20%20%20var%20marker_7187d3f3c63d4e9ba89023c22fec571e%20%3D%20L.marker%28%0A%20%20%20%20%20%20%20%20%20%20%20%20%5B40.620663%2C%2022.951999999999998%5D%2C%0A%20%20%20%20%20%20%20%20%20%20%20%20%7B%0A%20%20%20%20%20%20%20%20%20%20%20%20%20%20%20%20icon%3A%20new%20L.Icon.Default%28%29%2C%0A%20%20%20%20%20%20%20%20%20%20%20%20%20%20%20%20%7D%0A%20%20%20%20%20%20%20%20%20%20%20%20%29.addTo%28map_d522c8c3fe6c4ab6b59b088ed0cd4ba4%29%3B%0A%20%20%20%20%20%20%20%20%0A%20%20%20%20%0A%20%20%20%20%20%20%20%20%20%20%20%20var%20popup_a447ea6bf63b4025bc56d9c01e97d7ab%20%3D%20L.popup%28%7BmaxWidth%3A%20%27100%25%27%0A%20%20%20%20%20%20%20%20%20%20%20%20%0A%20%20%20%20%20%20%20%20%20%20%20%20%7D%29%3B%0A%0A%20%20%20%20%20%20%20%20%20%20%20%20%0A%20%20%20%20%20%20%20%20%20%20%20%20%20%20%20%20var%20html_706762450fae4d67a108eff4b3c99e44%20%3D%20%24%28%60%3Cdiv%20id%3D%22html_706762450fae4d67a108eff4b3c99e44%22%20style%3D%22width%3A%20100.0%25%3B%20height%3A%20100.0%25%3B%22%3EGroup%3AIrish%20Republican%20Army%20%28IRA%29%3Cbr%3ECountry%3AGreece%3C/div%3E%60%29%5B0%5D%3B%0A%20%20%20%20%20%20%20%20%20%20%20%20%20%20%20%20popup_a447ea6bf63b4025bc56d9c01e97d7ab.setContent%28html_706762450fae4d67a108eff4b3c99e44%29%3B%0A%20%20%20%20%20%20%20%20%20%20%20%20%0A%0A%20%20%20%20%20%20%20%20%20%20%20%20marker_7187d3f3c63d4e9ba89023c22fec571e.bindPopup%28popup_a447ea6bf63b4025bc56d9c01e97d7ab%29%0A%20%20%20%20%20%20%20%20%20%20%20%20%3B%0A%0A%20%20%20%20%20%20%20%20%20%20%20%20%0A%20%20%20%20%20%20%20%20%0A%20%20%20%20%0A%20%20%20%20%20%20%20%20var%20marker_f539d5ab875346f783450e3db821dc1a%20%3D%20L.marker%28%0A%20%20%20%20%20%20%20%20%20%20%20%20%5B47.218371000000005%2C%20-1.553621%5D%2C%0A%20%20%20%20%20%20%20%20%20%20%20%20%7B%0A%20%20%20%20%20%20%20%20%20%20%20%20%20%20%20%20icon%3A%20new%20L.Icon.Default%28%29%2C%0A%20%20%20%20%20%20%20%20%20%20%20%20%20%20%20%20%7D%0A%20%20%20%20%20%20%20%20%20%20%20%20%29.addTo%28map_d522c8c3fe6c4ab6b59b088ed0cd4ba4%29%3B%0A%20%20%20%20%20%20%20%20%0A%20%20%20%20%0A%20%20%20%20%20%20%20%20%20%20%20%20var%20popup_d480715dfbca4aad91c1d1973b77e52c%20%3D%20L.popup%28%7BmaxWidth%3A%20%27100%25%27%0A%20%20%20%20%20%20%20%20%20%20%20%20%0A%20%20%20%20%20%20%20%20%20%20%20%20%7D%29%3B%0A%0A%20%20%20%20%20%20%20%20%20%20%20%20%0A%20%20%20%20%20%20%20%20%20%20%20%20%20%20%20%20var%20html_3d589ca6836d4b0d92fc85445e5e0e6b%20%3D%20%24%28%60%3Cdiv%20id%3D%22html_3d589ca6836d4b0d92fc85445e5e0e6b%22%20style%3D%22width%3A%20100.0%25%3B%20height%3A%20100.0%25%3B%22%3EGroup%3AIrish%20Republican%20Army%20%28IRA%29%3Cbr%3ECountry%3AFrance%3C/div%3E%60%29%5B0%5D%3B%0A%20%20%20%20%20%20%20%20%20%20%20%20%20%20%20%20popup_d480715dfbca4aad91c1d1973b77e52c.setContent%28html_3d589ca6836d4b0d92fc85445e5e0e6b%29%3B%0A%20%20%20%20%20%20%20%20%20%20%20%20%0A%0A%20%20%20%20%20%20%20%20%20%20%20%20marker_f539d5ab875346f783450e3db821dc1a.bindPopup%28popup_d480715dfbca4aad91c1d1973b77e52c%29%0A%20%20%20%20%20%20%20%20%20%20%20%20%3B%0A%0A%20%20%20%20%20%20%20%20%20%20%20%20%0A%20%20%20%20%20%20%20%20%0A%20%20%20%20%0A%20%20%20%20%20%20%20%20var%20marker_4c1ccd5c994d477f9959db3aa41689dd%20%3D%20L.marker%28%0A%20%20%20%20%20%20%20%20%20%20%20%20%5B14.060286999999999%2C%20-88.695229%5D%2C%0A%20%20%20%20%20%20%20%20%20%20%20%20%7B%0A%20%20%20%20%20%20%20%20%20%20%20%20%20%20%20%20icon%3A%20new%20L.Icon.Default%28%29%2C%0A%20%20%20%20%20%20%20%20%20%20%20%20%20%20%20%20%7D%0A%20%20%20%20%20%20%20%20%20%20%20%20%29.addTo%28map_d522c8c3fe6c4ab6b59b088ed0cd4ba4%29%3B%0A%20%20%20%20%20%20%20%20%0A%20%20%20%20%0A%20%20%20%20%20%20%20%20%20%20%20%20var%20popup_a0ba185a4cab43acaf0f448ce24cf19c%20%3D%20L.popup%28%7BmaxWidth%3A%20%27100%25%27%0A%20%20%20%20%20%20%20%20%20%20%20%20%0A%20%20%20%20%20%20%20%20%20%20%20%20%7D%29%3B%0A%0A%20%20%20%20%20%20%20%20%20%20%20%20%0A%20%20%20%20%20%20%20%20%20%20%20%20%20%20%20%20var%20html_86aaadc7217f4a87a59026bd4dfd1c96%20%3D%20%24%28%60%3Cdiv%20id%3D%22html_86aaadc7217f4a87a59026bd4dfd1c96%22%20style%3D%22width%3A%20100.0%25%3B%20height%3A%20100.0%25%3B%22%3EGroup%3AFarabundo%20Marti%20National%20Liberation%20Front%20%28FMLN%29%3Cbr%3ECountry%3AHonduras%3C/div%3E%60%29%5B0%5D%3B%0A%20%20%20%20%20%20%20%20%20%20%20%20%20%20%20%20popup_a0ba185a4cab43acaf0f448ce24cf19c.setContent%28html_86aaadc7217f4a87a59026bd4dfd1c96%29%3B%0A%20%20%20%20%20%20%20%20%20%20%20%20%0A%0A%20%20%20%20%20%20%20%20%20%20%20%20marker_4c1ccd5c994d477f9959db3aa41689dd.bindPopup%28popup_a0ba185a4cab43acaf0f448ce24cf19c%29%0A%20%20%20%20%20%20%20%20%20%20%20%20%3B%0A%0A%20%20%20%20%20%20%20%20%20%20%20%20%0A%20%20%20%20%20%20%20%20%0A%20%20%20%20%0A%20%20%20%20%20%20%20%20var%20marker_dbcc7a6770614599a3202d563ce8df27%20%3D%20L.marker%28%0A%20%20%20%20%20%20%20%20%20%20%20%20%5B9.933333%2C%20-84.083333%5D%2C%0A%20%20%20%20%20%20%20%20%20%20%20%20%7B%0A%20%20%20%20%20%20%20%20%20%20%20%20%20%20%20%20icon%3A%20new%20L.Icon.Default%28%29%2C%0A%20%20%20%20%20%20%20%20%20%20%20%20%20%20%20%20%7D%0A%20%20%20%20%20%20%20%20%20%20%20%20%29.addTo%28map_d522c8c3fe6c4ab6b59b088ed0cd4ba4%29%3B%0A%20%20%20%20%20%20%20%20%0A%20%20%20%20%0A%20%20%20%20%20%20%20%20%20%20%20%20var%20popup_424da9cd875b4f979ed780f143ea70cd%20%3D%20L.popup%28%7BmaxWidth%3A%20%27100%25%27%0A%20%20%20%20%20%20%20%20%20%20%20%20%0A%20%20%20%20%20%20%20%20%20%20%20%20%7D%29%3B%0A%0A%20%20%20%20%20%20%20%20%20%20%20%20%0A%20%20%20%20%20%20%20%20%20%20%20%20%20%20%20%20var%20html_02610d6bc4494bab866800f3ded4849b%20%3D%20%24%28%60%3Cdiv%20id%3D%22html_02610d6bc4494bab866800f3ded4849b%22%20style%3D%22width%3A%20100.0%25%3B%20height%3A%20100.0%25%3B%22%3EGroup%3AFarabundo%20Marti%20National%20Liberation%20Front%20%28FMLN%29%3Cbr%3ECountry%3ACosta%20Rica%3C/div%3E%60%29%5B0%5D%3B%0A%20%20%20%20%20%20%20%20%20%20%20%20%20%20%20%20popup_424da9cd875b4f979ed780f143ea70cd.setContent%28html_02610d6bc4494bab866800f3ded4849b%29%3B%0A%20%20%20%20%20%20%20%20%20%20%20%20%0A%0A%20%20%20%20%20%20%20%20%20%20%20%20marker_dbcc7a6770614599a3202d563ce8df27.bindPopup%28popup_424da9cd875b4f979ed780f143ea70cd%29%0A%20%20%20%20%20%20%20%20%20%20%20%20%3B%0A%0A%20%20%20%20%20%20%20%20%20%20%20%20%0A%20%20%20%20%20%20%20%20%0A%20%20%20%20%0A%20%20%20%20%20%20%20%20var%20marker_42fa33d1f6164cdeb701cc6590796b12%20%3D%20L.marker%28%0A%20%20%20%20%20%20%20%20%20%20%20%20%5B12.103822000000001%2C%20-86.267014%5D%2C%0A%20%20%20%20%20%20%20%20%20%20%20%20%7B%0A%20%20%20%20%20%20%20%20%20%20%20%20%20%20%20%20icon%3A%20new%20L.Icon.Default%28%29%2C%0A%20%20%20%20%20%20%20%20%20%20%20%20%20%20%20%20%7D%0A%20%20%20%20%20%20%20%20%20%20%20%20%29.addTo%28map_d522c8c3fe6c4ab6b59b088ed0cd4ba4%29%3B%0A%20%20%20%20%20%20%20%20%0A%20%20%20%20%0A%20%20%20%20%20%20%20%20%20%20%20%20var%20popup_2e26ce6d629a4ee3ae9132d75f3fc7a3%20%3D%20L.popup%28%7BmaxWidth%3A%20%27100%25%27%0A%20%20%20%20%20%20%20%20%20%20%20%20%0A%20%20%20%20%20%20%20%20%20%20%20%20%7D%29%3B%0A%0A%20%20%20%20%20%20%20%20%20%20%20%20%0A%20%20%20%20%20%20%20%20%20%20%20%20%20%20%20%20var%20html_0041959901694ff79a0eb314567b6ed1%20%3D%20%24%28%60%3Cdiv%20id%3D%22html_0041959901694ff79a0eb314567b6ed1%22%20style%3D%22width%3A%20100.0%25%3B%20height%3A%20100.0%25%3B%22%3EGroup%3AFarabundo%20Marti%20National%20Liberation%20Front%20%28FMLN%29%3Cbr%3ECountry%3ANicaragua%3C/div%3E%60%29%5B0%5D%3B%0A%20%20%20%20%20%20%20%20%20%20%20%20%20%20%20%20popup_2e26ce6d629a4ee3ae9132d75f3fc7a3.setContent%28html_0041959901694ff79a0eb314567b6ed1%29%3B%0A%20%20%20%20%20%20%20%20%20%20%20%20%0A%0A%20%20%20%20%20%20%20%20%20%20%20%20marker_42fa33d1f6164cdeb701cc6590796b12.bindPopup%28popup_2e26ce6d629a4ee3ae9132d75f3fc7a3%29%0A%20%20%20%20%20%20%20%20%20%20%20%20%3B%0A%0A%20%20%20%20%20%20%20%20%20%20%20%20%0A%20%20%20%20%20%20%20%20%0A%20%20%20%20%0A%20%20%20%20%20%20%20%20var%20marker_bc1c7d54e321445f95196486f9bfccb2%20%3D%20L.marker%28%0A%20%20%20%20%20%20%20%20%20%20%20%20%5B-16.509317000000003%2C%20-68.10434000000001%5D%2C%0A%20%20%20%20%20%20%20%20%20%20%20%20%7B%0A%20%20%20%20%20%20%20%20%20%20%20%20%20%20%20%20icon%3A%20new%20L.Icon.Default%28%29%2C%0A%20%20%20%20%20%20%20%20%20%20%20%20%20%20%20%20%7D%0A%20%20%20%20%20%20%20%20%20%20%20%20%29.addTo%28map_d522c8c3fe6c4ab6b59b088ed0cd4ba4%29%3B%0A%20%20%20%20%20%20%20%20%0A%20%20%20%20%0A%20%20%20%20%20%20%20%20%20%20%20%20var%20popup_06cdd43b070c44d799cce15bae2b199c%20%3D%20L.popup%28%7BmaxWidth%3A%20%27100%25%27%0A%20%20%20%20%20%20%20%20%20%20%20%20%0A%20%20%20%20%20%20%20%20%20%20%20%20%7D%29%3B%0A%0A%20%20%20%20%20%20%20%20%20%20%20%20%0A%20%20%20%20%20%20%20%20%20%20%20%20%20%20%20%20var%20html_cdc6a94e34f047dfaebd5621a6ddc51f%20%3D%20%24%28%60%3Cdiv%20id%3D%22html_cdc6a94e34f047dfaebd5621a6ddc51f%22%20style%3D%22width%3A%20100.0%25%3B%20height%3A%20100.0%25%3B%22%3EGroup%3AShining%20Path%20%28SL%29%3Cbr%3ECountry%3ABolivia%3C/div%3E%60%29%5B0%5D%3B%0A%20%20%20%20%20%20%20%20%20%20%20%20%20%20%20%20popup_06cdd43b070c44d799cce15bae2b199c.setContent%28html_cdc6a94e34f047dfaebd5621a6ddc51f%29%3B%0A%20%20%20%20%20%20%20%20%20%20%20%20%0A%0A%20%20%20%20%20%20%20%20%20%20%20%20marker_bc1c7d54e321445f95196486f9bfccb2.bindPopup%28popup_06cdd43b070c44d799cce15bae2b199c%29%0A%20%20%20%20%20%20%20%20%20%20%20%20%3B%0A%0A%20%20%20%20%20%20%20%20%20%20%20%20%0A%20%20%20%20%20%20%20%20%0A%20%20%20%20%0A%20%20%20%20%20%20%20%20var%20marker_388b773a260143039447396962de4065%20%3D%20L.marker%28%0A%20%20%20%20%20%20%20%20%20%20%20%20%5B7.709167%2C%20-74.753333%5D%2C%0A%20%20%20%20%20%20%20%20%20%20%20%20%7B%0A%20%20%20%20%20%20%20%20%20%20%20%20%20%20%20%20icon%3A%20new%20L.Icon.Default%28%29%2C%0A%20%20%20%20%20%20%20%20%20%20%20%20%20%20%20%20%7D%0A%20%20%20%20%20%20%20%20%20%20%20%20%29.addTo%28map_d522c8c3fe6c4ab6b59b088ed0cd4ba4%29%3B%0A%20%20%20%20%20%20%20%20%0A%20%20%20%20%0A%20%20%20%20%20%20%20%20%20%20%20%20var%20popup_14c5a53e372649678817d090520716f4%20%3D%20L.popup%28%7BmaxWidth%3A%20%27100%25%27%0A%20%20%20%20%20%20%20%20%20%20%20%20%0A%20%20%20%20%20%20%20%20%20%20%20%20%7D%29%3B%0A%0A%20%20%20%20%20%20%20%20%20%20%20%20%0A%20%20%20%20%20%20%20%20%20%20%20%20%20%20%20%20var%20html_ea74cb06a7274a66ac1de31273554ed2%20%3D%20%24%28%60%3Cdiv%20id%3D%22html_ea74cb06a7274a66ac1de31273554ed2%22%20style%3D%22width%3A%20100.0%25%3B%20height%3A%20100.0%25%3B%22%3EGroup%3AShining%20Path%20%28SL%29%3Cbr%3ECountry%3AColombia%3C/div%3E%60%29%5B0%5D%3B%0A%20%20%20%20%20%20%20%20%20%20%20%20%20%20%20%20popup_14c5a53e372649678817d090520716f4.setContent%28html_ea74cb06a7274a66ac1de31273554ed2%29%3B%0A%20%20%20%20%20%20%20%20%20%20%20%20%0A%0A%20%20%20%20%20%20%20%20%20%20%20%20marker_388b773a260143039447396962de4065.bindPopup%28popup_14c5a53e372649678817d090520716f4%29%0A%20%20%20%20%20%20%20%20%20%20%20%20%3B%0A%0A%20%20%20%20%20%20%20%20%20%20%20%20%0A%20%20%20%20%20%20%20%20%0A%20%20%20%20%0A%20%20%20%20%20%20%20%20var%20marker_b4fd043be07f4e649d480533fe8bc054%20%3D%20L.marker%28%0A%20%20%20%20%20%20%20%20%20%20%20%20%5B-34.61768%2C%20-58.444435%5D%2C%0A%20%20%20%20%20%20%20%20%20%20%20%20%7B%0A%20%20%20%20%20%20%20%20%20%20%20%20%20%20%20%20icon%3A%20new%20L.Icon.Default%28%29%2C%0A%20%20%20%20%20%20%20%20%20%20%20%20%20%20%20%20%7D%0A%20%20%20%20%20%20%20%20%20%20%20%20%29.addTo%28map_d522c8c3fe6c4ab6b59b088ed0cd4ba4%29%3B%0A%20%20%20%20%20%20%20%20%0A%20%20%20%20%0A%20%20%20%20%20%20%20%20%20%20%20%20var%20popup_67946887d75b446796ed645d0af9e21e%20%3D%20L.popup%28%7BmaxWidth%3A%20%27100%25%27%0A%20%20%20%20%20%20%20%20%20%20%20%20%0A%20%20%20%20%20%20%20%20%20%20%20%20%7D%29%3B%0A%0A%20%20%20%20%20%20%20%20%20%20%20%20%0A%20%20%20%20%20%20%20%20%20%20%20%20%20%20%20%20var%20html_abec7a6cc204414289f349aa8988e8b7%20%3D%20%24%28%60%3Cdiv%20id%3D%22html_abec7a6cc204414289f349aa8988e8b7%22%20style%3D%22width%3A%20100.0%25%3B%20height%3A%20100.0%25%3B%22%3EGroup%3AShining%20Path%20%28SL%29%3Cbr%3ECountry%3AArgentina%3C/div%3E%60%29%5B0%5D%3B%0A%20%20%20%20%20%20%20%20%20%20%20%20%20%20%20%20popup_67946887d75b446796ed645d0af9e21e.setContent%28html_abec7a6cc204414289f349aa8988e8b7%29%3B%0A%20%20%20%20%20%20%20%20%20%20%20%20%0A%0A%20%20%20%20%20%20%20%20%20%20%20%20marker_b4fd043be07f4e649d480533fe8bc054.bindPopup%28popup_67946887d75b446796ed645d0af9e21e%29%0A%20%20%20%20%20%20%20%20%20%20%20%20%3B%0A%0A%20%20%20%20%20%20%20%20%20%20%20%20%0A%20%20%20%20%20%20%20%20%0A%20%20%20%20%0A%20%20%20%20%20%20%20%20var%20marker_38ad0bbf8ba149d6b4e6c160e608150e%20%3D%20L.marker%28%0A%20%20%20%20%20%20%20%20%20%20%20%20%5B-3.416843%2C%20-65.856065%5D%2C%0A%20%20%20%20%20%20%20%20%20%20%20%20%7B%0A%20%20%20%20%20%20%20%20%20%20%20%20%20%20%20%20icon%3A%20new%20L.Icon.Default%28%29%2C%0A%20%20%20%20%20%20%20%20%20%20%20%20%20%20%20%20%7D%0A%20%20%20%20%20%20%20%20%20%20%20%20%29.addTo%28map_d522c8c3fe6c4ab6b59b088ed0cd4ba4%29%3B%0A%20%20%20%20%20%20%20%20%0A%20%20%20%20%0A%20%20%20%20%20%20%20%20%20%20%20%20var%20popup_e72afb41bcb746d88f11af04ee36d667%20%3D%20L.popup%28%7BmaxWidth%3A%20%27100%25%27%0A%20%20%20%20%20%20%20%20%20%20%20%20%0A%20%20%20%20%20%20%20%20%20%20%20%20%7D%29%3B%0A%0A%20%20%20%20%20%20%20%20%20%20%20%20%0A%20%20%20%20%20%20%20%20%20%20%20%20%20%20%20%20var%20html_b08e96163bf04c75adbf2a6db5790140%20%3D%20%24%28%60%3Cdiv%20id%3D%22html_b08e96163bf04c75adbf2a6db5790140%22%20style%3D%22width%3A%20100.0%25%3B%20height%3A%20100.0%25%3B%22%3EGroup%3AShining%20Path%20%28SL%29%3Cbr%3ECountry%3ABrazil%3C/div%3E%60%29%5B0%5D%3B%0A%20%20%20%20%20%20%20%20%20%20%20%20%20%20%20%20popup_e72afb41bcb746d88f11af04ee36d667.setContent%28html_b08e96163bf04c75adbf2a6db5790140%29%3B%0A%20%20%20%20%20%20%20%20%20%20%20%20%0A%0A%20%20%20%20%20%20%20%20%20%20%20%20marker_38ad0bbf8ba149d6b4e6c160e608150e.bindPopup%28popup_e72afb41bcb746d88f11af04ee36d667%29%0A%20%20%20%20%20%20%20%20%20%20%20%20%3B%0A%0A%20%20%20%20%20%20%20%20%20%20%20%20%0A%20%20%20%20%20%20%20%20%0A%20%20%20%20%0A%20%20%20%20%20%20%20%20var%20marker_792329747a044c19b0d9c5cbe847a706%20%3D%20L.marker%28%0A%20%20%20%20%20%20%20%20%20%20%20%20%5B19.371887%2C%20-99.086624%5D%2C%0A%20%20%20%20%20%20%20%20%20%20%20%20%7B%0A%20%20%20%20%20%20%20%20%20%20%20%20%20%20%20%20icon%3A%20new%20L.Icon.Default%28%29%2C%0A%20%20%20%20%20%20%20%20%20%20%20%20%20%20%20%20%7D%0A%20%20%20%20%20%20%20%20%20%20%20%20%29.addTo%28map_d522c8c3fe6c4ab6b59b088ed0cd4ba4%29%3B%0A%20%20%20%20%20%20%20%20%0A%20%20%20%20%0A%20%20%20%20%20%20%20%20%20%20%20%20var%20popup_a4a29705b9594369a20f332cab4c3e79%20%3D%20L.popup%28%7BmaxWidth%3A%20%27100%25%27%0A%20%20%20%20%20%20%20%20%20%20%20%20%0A%20%20%20%20%20%20%20%20%20%20%20%20%7D%29%3B%0A%0A%20%20%20%20%20%20%20%20%20%20%20%20%0A%20%20%20%20%20%20%20%20%20%20%20%20%20%20%20%20var%20html_3f0ddcb8fddf4cc1bff48ae5df0357e0%20%3D%20%24%28%60%3Cdiv%20id%3D%22html_3f0ddcb8fddf4cc1bff48ae5df0357e0%22%20style%3D%22width%3A%20100.0%25%3B%20height%3A%20100.0%25%3B%22%3EGroup%3AShining%20Path%20%28SL%29%3Cbr%3ECountry%3AMexico%3C/div%3E%60%29%5B0%5D%3B%0A%20%20%20%20%20%20%20%20%20%20%20%20%20%20%20%20popup_a4a29705b9594369a20f332cab4c3e79.setContent%28html_3f0ddcb8fddf4cc1bff48ae5df0357e0%29%3B%0A%20%20%20%20%20%20%20%20%20%20%20%20%0A%0A%20%20%20%20%20%20%20%20%20%20%20%20marker_792329747a044c19b0d9c5cbe847a706.bindPopup%28popup_a4a29705b9594369a20f332cab4c3e79%29%0A%20%20%20%20%20%20%20%20%20%20%20%20%3B%0A%0A%20%20%20%20%20%20%20%20%20%20%20%20%0A%20%20%20%20%20%20%20%20%0A%20%20%20%20%0A%20%20%20%20%20%20%20%20var%20marker_d6871240071440b49801f8032d552dc2%20%3D%20L.marker%28%0A%20%20%20%20%20%20%20%20%20%20%20%20%5B31.631083%2C%2065.742226%5D%2C%0A%20%20%20%20%20%20%20%20%20%20%20%20%7B%0A%20%20%20%20%20%20%20%20%20%20%20%20%20%20%20%20icon%3A%20new%20L.Icon.Default%28%29%2C%0A%20%20%20%20%20%20%20%20%20%20%20%20%20%20%20%20%7D%0A%20%20%20%20%20%20%20%20%20%20%20%20%29.addTo%28map_d522c8c3fe6c4ab6b59b088ed0cd4ba4%29%3B%0A%20%20%20%20%20%20%20%20%0A%20%20%20%20%0A%20%20%20%20%20%20%20%20%20%20%20%20var%20popup_72b3bda951b84a118781720db5384cb5%20%3D%20L.popup%28%7BmaxWidth%3A%20%27100%25%27%0A%20%20%20%20%20%20%20%20%20%20%20%20%0A%20%20%20%20%20%20%20%20%20%20%20%20%7D%29%3B%0A%0A%20%20%20%20%20%20%20%20%20%20%20%20%0A%20%20%20%20%20%20%20%20%20%20%20%20%20%20%20%20var%20html_9a19bc434df94d2d89766b7f6d61e677%20%3D%20%24%28%60%3Cdiv%20id%3D%22html_9a19bc434df94d2d89766b7f6d61e677%22%20style%3D%22width%3A%20100.0%25%3B%20height%3A%20100.0%25%3B%22%3EGroup%3ATaliban%3Cbr%3ECountry%3AAfghanistan%3C/div%3E%60%29%5B0%5D%3B%0A%20%20%20%20%20%20%20%20%20%20%20%20%20%20%20%20popup_72b3bda951b84a118781720db5384cb5.setContent%28html_9a19bc434df94d2d89766b7f6d61e677%29%3B%0A%20%20%20%20%20%20%20%20%20%20%20%20%0A%0A%20%20%20%20%20%20%20%20%20%20%20%20marker_d6871240071440b49801f8032d552dc2.bindPopup%28popup_72b3bda951b84a118781720db5384cb5%29%0A%20%20%20%20%20%20%20%20%20%20%20%20%3B%0A%0A%20%20%20%20%20%20%20%20%20%20%20%20%0A%20%20%20%20%20%20%20%20%0A%20%20%20%20%0A%20%20%20%20%20%20%20%20var%20marker_e8c525d1e0984da1841366c0b8cec673%20%3D%20L.marker%28%0A%20%20%20%20%20%20%20%20%20%20%20%20%5B52.267281%2C%208.053188%5D%2C%0A%20%20%20%20%20%20%20%20%20%20%20%20%7B%0A%20%20%20%20%20%20%20%20%20%20%20%20%20%20%20%20icon%3A%20new%20L.Icon.Default%28%29%2C%0A%20%20%20%20%20%20%20%20%20%20%20%20%20%20%20%20%7D%0A%20%20%20%20%20%20%20%20%20%20%20%20%29.addTo%28map_d522c8c3fe6c4ab6b59b088ed0cd4ba4%29%3B%0A%20%20%20%20%20%20%20%20%0A%20%20%20%20%0A%20%20%20%20%20%20%20%20%20%20%20%20var%20popup_382ed3fa863a4fa1ab86b58479905e8f%20%3D%20L.popup%28%7BmaxWidth%3A%20%27100%25%27%0A%20%20%20%20%20%20%20%20%20%20%20%20%0A%20%20%20%20%20%20%20%20%20%20%20%20%7D%29%3B%0A%0A%20%20%20%20%20%20%20%20%20%20%20%20%0A%20%20%20%20%20%20%20%20%20%20%20%20%20%20%20%20var%20html_e057526c3dfe457583fe014c65c0fc54%20%3D%20%24%28%60%3Cdiv%20id%3D%22html_e057526c3dfe457583fe014c65c0fc54%22%20style%3D%22width%3A%20100.0%25%3B%20height%3A%20100.0%25%3B%22%3EGroup%3AIrish%20Republican%20Army%20%28IRA%29%3Cbr%3ECountry%3AGermany%3C/div%3E%60%29%5B0%5D%3B%0A%20%20%20%20%20%20%20%20%20%20%20%20%20%20%20%20popup_382ed3fa863a4fa1ab86b58479905e8f.setContent%28html_e057526c3dfe457583fe014c65c0fc54%29%3B%0A%20%20%20%20%20%20%20%20%20%20%20%20%0A%0A%20%20%20%20%20%20%20%20%20%20%20%20marker_e8c525d1e0984da1841366c0b8cec673.bindPopup%28popup_382ed3fa863a4fa1ab86b58479905e8f%29%0A%20%20%20%20%20%20%20%20%20%20%20%20%3B%0A%0A%20%20%20%20%20%20%20%20%20%20%20%20%0A%20%20%20%20%20%20%20%20%0A%20%20%20%20%0A%20%20%20%20%20%20%20%20var%20marker_2f15b9d97a254961ad37e82bd507b805%20%3D%20L.marker%28%0A%20%20%20%20%20%20%20%20%20%20%20%20%5B33.006516%2C%2070.068253%5D%2C%0A%20%20%20%20%20%20%20%20%20%20%20%20%7B%0A%20%20%20%20%20%20%20%20%20%20%20%20%20%20%20%20icon%3A%20new%20L.Icon.Default%28%29%2C%0A%20%20%20%20%20%20%20%20%20%20%20%20%20%20%20%20%7D%0A%20%20%20%20%20%20%20%20%20%20%20%20%29.addTo%28map_d522c8c3fe6c4ab6b59b088ed0cd4ba4%29%3B%0A%20%20%20%20%20%20%20%20%0A%20%20%20%20%0A%20%20%20%20%20%20%20%20%20%20%20%20var%20popup_b1a23e65c2804d5db155fd594c1a7c26%20%3D%20L.popup%28%7BmaxWidth%3A%20%27100%25%27%0A%20%20%20%20%20%20%20%20%20%20%20%20%0A%20%20%20%20%20%20%20%20%20%20%20%20%7D%29%3B%0A%0A%20%20%20%20%20%20%20%20%20%20%20%20%0A%20%20%20%20%20%20%20%20%20%20%20%20%20%20%20%20var%20html_3b964e8ab9ad40d08af084f19028d877%20%3D%20%24%28%60%3Cdiv%20id%3D%22html_3b964e8ab9ad40d08af084f19028d877%22%20style%3D%22width%3A%20100.0%25%3B%20height%3A%20100.0%25%3B%22%3EGroup%3ATaliban%3Cbr%3ECountry%3APakistan%3C/div%3E%60%29%5B0%5D%3B%0A%20%20%20%20%20%20%20%20%20%20%20%20%20%20%20%20popup_b1a23e65c2804d5db155fd594c1a7c26.setContent%28html_3b964e8ab9ad40d08af084f19028d877%29%3B%0A%20%20%20%20%20%20%20%20%20%20%20%20%0A%0A%20%20%20%20%20%20%20%20%20%20%20%20marker_2f15b9d97a254961ad37e82bd507b805.bindPopup%28popup_b1a23e65c2804d5db155fd594c1a7c26%29%0A%20%20%20%20%20%20%20%20%20%20%20%20%3B%0A%0A%20%20%20%20%20%20%20%20%20%20%20%20%0A%20%20%20%20%20%20%20%20%0A%20%20%20%20%0A%20%20%20%20%20%20%20%20var%20marker_085242392cce4cee8f5fa6d6f59e8889%20%3D%20L.marker%28%0A%20%20%20%20%20%20%20%20%20%20%20%20%5B4.180091%2C%2042.056609%5D%2C%0A%20%20%20%20%20%20%20%20%20%20%20%20%7B%0A%20%20%20%20%20%20%20%20%20%20%20%20%20%20%20%20icon%3A%20new%20L.Icon.Default%28%29%2C%0A%20%20%20%20%20%20%20%20%20%20%20%20%20%20%20%20%7D%0A%20%20%20%20%20%20%20%20%20%20%20%20%29.addTo%28map_d522c8c3fe6c4ab6b59b088ed0cd4ba4%29%3B%0A%20%20%20%20%20%20%20%20%0A%20%20%20%20%0A%20%20%20%20%20%20%20%20%20%20%20%20var%20popup_2bdf8545c6674955a857f92f53900649%20%3D%20L.popup%28%7BmaxWidth%3A%20%27100%25%27%0A%20%20%20%20%20%20%20%20%20%20%20%20%0A%20%20%20%20%20%20%20%20%20%20%20%20%7D%29%3B%0A%0A%20%20%20%20%20%20%20%20%20%20%20%20%0A%20%20%20%20%20%20%20%20%20%20%20%20%20%20%20%20var%20html_9cc6fe4460964102a72e1a1feafbb13f%20%3D%20%24%28%60%3Cdiv%20id%3D%22html_9cc6fe4460964102a72e1a1feafbb13f%22%20style%3D%22width%3A%20100.0%25%3B%20height%3A%20100.0%25%3B%22%3EGroup%3AAl-Shabaab%3Cbr%3ECountry%3AEthiopia%3C/div%3E%60%29%5B0%5D%3B%0A%20%20%20%20%20%20%20%20%20%20%20%20%20%20%20%20popup_2bdf8545c6674955a857f92f53900649.setContent%28html_9cc6fe4460964102a72e1a1feafbb13f%29%3B%0A%20%20%20%20%20%20%20%20%20%20%20%20%0A%0A%20%20%20%20%20%20%20%20%20%20%20%20marker_085242392cce4cee8f5fa6d6f59e8889.bindPopup%28popup_2bdf8545c6674955a857f92f53900649%29%0A%20%20%20%20%20%20%20%20%20%20%20%20%3B%0A%0A%20%20%20%20%20%20%20%20%20%20%20%20%0A%20%20%20%20%20%20%20%20%0A%20%20%20%20%0A%20%20%20%20%20%20%20%20var%20marker_e586b723f45e420bb20aa400e131dd2e%20%3D%20L.marker%28%0A%20%20%20%20%20%20%20%20%20%20%20%20%5B2.059819%2C%2045.326115%5D%2C%0A%20%20%20%20%20%20%20%20%20%20%20%20%7B%0A%20%20%20%20%20%20%20%20%20%20%20%20%20%20%20%20icon%3A%20new%20L.Icon.Default%28%29%2C%0A%20%20%20%20%20%20%20%20%20%20%20%20%20%20%20%20%7D%0A%20%20%20%20%20%20%20%20%20%20%20%20%29.addTo%28map_d522c8c3fe6c4ab6b59b088ed0cd4ba4%29%3B%0A%20%20%20%20%20%20%20%20%0A%20%20%20%20%0A%20%20%20%20%20%20%20%20%20%20%20%20var%20popup_f801a4208a7044ecaf0bd6e6425e1841%20%3D%20L.popup%28%7BmaxWidth%3A%20%27100%25%27%0A%20%20%20%20%20%20%20%20%20%20%20%20%0A%20%20%20%20%20%20%20%20%20%20%20%20%7D%29%3B%0A%0A%20%20%20%20%20%20%20%20%20%20%20%20%0A%20%20%20%20%20%20%20%20%20%20%20%20%20%20%20%20var%20html_02a8ad959ad640fd91e92643b11e9085%20%3D%20%24%28%60%3Cdiv%20id%3D%22html_02a8ad959ad640fd91e92643b11e9085%22%20style%3D%22width%3A%20100.0%25%3B%20height%3A%20100.0%25%3B%22%3EGroup%3AAl-Shabaab%3Cbr%3ECountry%3ASomalia%3C/div%3E%60%29%5B0%5D%3B%0A%20%20%20%20%20%20%20%20%20%20%20%20%20%20%20%20popup_f801a4208a7044ecaf0bd6e6425e1841.setContent%28html_02a8ad959ad640fd91e92643b11e9085%29%3B%0A%20%20%20%20%20%20%20%20%20%20%20%20%0A%0A%20%20%20%20%20%20%20%20%20%20%20%20marker_e586b723f45e420bb20aa400e131dd2e.bindPopup%28popup_f801a4208a7044ecaf0bd6e6425e1841%29%0A%20%20%20%20%20%20%20%20%20%20%20%20%3B%0A%0A%20%20%20%20%20%20%20%20%20%20%20%20%0A%20%20%20%20%20%20%20%20%0A%20%20%20%20%0A%20%20%20%20%20%20%20%20var%20marker_0683b856d1e941e1bab0f112f83f08f6%20%3D%20L.marker%28%0A%20%20%20%20%20%20%20%20%20%20%20%20%5B0.349466%2C%2040.875992%5D%2C%0A%20%20%20%20%20%20%20%20%20%20%20%20%7B%0A%20%20%20%20%20%20%20%20%20%20%20%20%20%20%20%20icon%3A%20new%20L.Icon.Default%28%29%2C%0A%20%20%20%20%20%20%20%20%20%20%20%20%20%20%20%20%7D%0A%20%20%20%20%20%20%20%20%20%20%20%20%29.addTo%28map_d522c8c3fe6c4ab6b59b088ed0cd4ba4%29%3B%0A%20%20%20%20%20%20%20%20%0A%20%20%20%20%0A%20%20%20%20%20%20%20%20%20%20%20%20var%20popup_d972866e7d21407ba95285bc42e2e9a7%20%3D%20L.popup%28%7BmaxWidth%3A%20%27100%25%27%0A%20%20%20%20%20%20%20%20%20%20%20%20%0A%20%20%20%20%20%20%20%20%20%20%20%20%7D%29%3B%0A%0A%20%20%20%20%20%20%20%20%20%20%20%20%0A%20%20%20%20%20%20%20%20%20%20%20%20%20%20%20%20var%20html_cea18611921748acb89715347701d606%20%3D%20%24%28%60%3Cdiv%20id%3D%22html_cea18611921748acb89715347701d606%22%20style%3D%22width%3A%20100.0%25%3B%20height%3A%20100.0%25%3B%22%3EGroup%3AAl-Shabaab%3Cbr%3ECountry%3AKenya%3C/div%3E%60%29%5B0%5D%3B%0A%20%20%20%20%20%20%20%20%20%20%20%20%20%20%20%20popup_d972866e7d21407ba95285bc42e2e9a7.setContent%28html_cea18611921748acb89715347701d606%29%3B%0A%20%20%20%20%20%20%20%20%20%20%20%20%0A%0A%20%20%20%20%20%20%20%20%20%20%20%20marker_0683b856d1e941e1bab0f112f83f08f6.bindPopup%28popup_d972866e7d21407ba95285bc42e2e9a7%29%0A%20%20%20%20%20%20%20%20%20%20%20%20%3B%0A%0A%20%20%20%20%20%20%20%20%20%20%20%20%0A%20%20%20%20%20%20%20%20%0A%20%20%20%20%0A%20%20%20%20%20%20%20%20var%20marker_f3a9e80b4c2a48289fdc135b1a823a2f%20%3D%20L.marker%28%0A%20%20%20%20%20%20%20%20%20%20%20%20%5B32.901089%2C%2069.74940500000001%5D%2C%0A%20%20%20%20%20%20%20%20%20%20%20%20%7B%0A%20%20%20%20%20%20%20%20%20%20%20%20%20%20%20%20icon%3A%20new%20L.Icon.Default%28%29%2C%0A%20%20%20%20%20%20%20%20%20%20%20%20%20%20%20%20%7D%0A%20%20%20%20%20%20%20%20%20%20%20%20%29.addTo%28map_d522c8c3fe6c4ab6b59b088ed0cd4ba4%29%3B%0A%20%20%20%20%20%20%20%20%0A%20%20%20%20%0A%20%20%20%20%20%20%20%20%20%20%20%20var%20popup_9b819d1d278b49fa8f6c515436325218%20%3D%20L.popup%28%7BmaxWidth%3A%20%27100%25%27%0A%20%20%20%20%20%20%20%20%20%20%20%20%0A%20%20%20%20%20%20%20%20%20%20%20%20%7D%29%3B%0A%0A%20%20%20%20%20%20%20%20%20%20%20%20%0A%20%20%20%20%20%20%20%20%20%20%20%20%20%20%20%20var%20html_6ed850fbf7ba4e4c8ef1d7cdbb80ce79%20%3D%20%24%28%60%3Cdiv%20id%3D%22html_6ed850fbf7ba4e4c8ef1d7cdbb80ce79%22%20style%3D%22width%3A%20100.0%25%3B%20height%3A%20100.0%25%3B%22%3EGroup%3ANew%20People%27s%20Army%20%28NPA%29%3Cbr%3ECountry%3APakistan%3C/div%3E%60%29%5B0%5D%3B%0A%20%20%20%20%20%20%20%20%20%20%20%20%20%20%20%20popup_9b819d1d278b49fa8f6c515436325218.setContent%28html_6ed850fbf7ba4e4c8ef1d7cdbb80ce79%29%3B%0A%20%20%20%20%20%20%20%20%20%20%20%20%0A%0A%20%20%20%20%20%20%20%20%20%20%20%20marker_f3a9e80b4c2a48289fdc135b1a823a2f.bindPopup%28popup_9b819d1d278b49fa8f6c515436325218%29%0A%20%20%20%20%20%20%20%20%20%20%20%20%3B%0A%0A%20%20%20%20%20%20%20%20%20%20%20%20%0A%20%20%20%20%20%20%20%20%0A%20%20%20%20%0A%20%20%20%20%20%20%20%20var%20marker_be82d1d31c234b539951a68fa7d20f88%20%3D%20L.marker%28%0A%20%20%20%20%20%20%20%20%20%20%20%20%5B0.350848%2C%2032.580224%5D%2C%0A%20%20%20%20%20%20%20%20%20%20%20%20%7B%0A%20%20%20%20%20%20%20%20%20%20%20%20%20%20%20%20icon%3A%20new%20L.Icon.Default%28%29%2C%0A%20%20%20%20%20%20%20%20%20%20%20%20%20%20%20%20%7D%0A%20%20%20%20%20%20%20%20%20%20%20%20%29.addTo%28map_d522c8c3fe6c4ab6b59b088ed0cd4ba4%29%3B%0A%20%20%20%20%20%20%20%20%0A%20%20%20%20%0A%20%20%20%20%20%20%20%20%20%20%20%20var%20popup_2e8ea6463fab45ab8486096f68426a96%20%3D%20L.popup%28%7BmaxWidth%3A%20%27100%25%27%0A%20%20%20%20%20%20%20%20%20%20%20%20%0A%20%20%20%20%20%20%20%20%20%20%20%20%7D%29%3B%0A%0A%20%20%20%20%20%20%20%20%20%20%20%20%0A%20%20%20%20%20%20%20%20%20%20%20%20%20%20%20%20var%20html_36381f20e5de487c847fd07dee77884d%20%3D%20%24%28%60%3Cdiv%20id%3D%22html_36381f20e5de487c847fd07dee77884d%22%20style%3D%22width%3A%20100.0%25%3B%20height%3A%20100.0%25%3B%22%3EGroup%3AAl-Shabaab%3Cbr%3ECountry%3AUganda%3C/div%3E%60%29%5B0%5D%3B%0A%20%20%20%20%20%20%20%20%20%20%20%20%20%20%20%20popup_2e8ea6463fab45ab8486096f68426a96.setContent%28html_36381f20e5de487c847fd07dee77884d%29%3B%0A%20%20%20%20%20%20%20%20%20%20%20%20%0A%0A%20%20%20%20%20%20%20%20%20%20%20%20marker_be82d1d31c234b539951a68fa7d20f88.bindPopup%28popup_2e8ea6463fab45ab8486096f68426a96%29%0A%20%20%20%20%20%20%20%20%20%20%20%20%3B%0A%0A%20%20%20%20%20%20%20%20%20%20%20%20%0A%20%20%20%20%20%20%20%20%0A%20%20%20%20%0A%20%20%20%20%20%20%20%20var%20marker_96e2506fbf01427d9217d5d132f925b2%20%3D%20L.marker%28%0A%20%20%20%20%20%20%20%20%20%20%20%20%5B24.817010999999997%2C%2093.936844%5D%2C%0A%20%20%20%20%20%20%20%20%20%20%20%20%7B%0A%20%20%20%20%20%20%20%20%20%20%20%20%20%20%20%20icon%3A%20new%20L.Icon.Default%28%29%2C%0A%20%20%20%20%20%20%20%20%20%20%20%20%20%20%20%20%7D%0A%20%20%20%20%20%20%20%20%20%20%20%20%29.addTo%28map_d522c8c3fe6c4ab6b59b088ed0cd4ba4%29%3B%0A%20%20%20%20%20%20%20%20%0A%20%20%20%20%0A%20%20%20%20%20%20%20%20%20%20%20%20var%20popup_a20d5adf584e43b7833eb303408b40ed%20%3D%20L.popup%28%7BmaxWidth%3A%20%27100%25%27%0A%20%20%20%20%20%20%20%20%20%20%20%20%0A%20%20%20%20%20%20%20%20%20%20%20%20%7D%29%3B%0A%0A%20%20%20%20%20%20%20%20%20%20%20%20%0A%20%20%20%20%20%20%20%20%20%20%20%20%20%20%20%20var%20html_9aace69619574972a7e076390d1f3fcc%20%3D%20%24%28%60%3Cdiv%20id%3D%22html_9aace69619574972a7e076390d1f3fcc%22%20style%3D%22width%3A%20100.0%25%3B%20height%3A%20100.0%25%3B%22%3EGroup%3ANew%20People%27s%20Army%20%28NPA%29%3Cbr%3ECountry%3AIndia%3C/div%3E%60%29%5B0%5D%3B%0A%20%20%20%20%20%20%20%20%20%20%20%20%20%20%20%20popup_a20d5adf584e43b7833eb303408b40ed.setContent%28html_9aace69619574972a7e076390d1f3fcc%29%3B%0A%20%20%20%20%20%20%20%20%20%20%20%20%0A%0A%20%20%20%20%20%20%20%20%20%20%20%20marker_96e2506fbf01427d9217d5d132f925b2.bindPopup%28popup_a20d5adf584e43b7833eb303408b40ed%29%0A%20%20%20%20%20%20%20%20%20%20%20%20%3B%0A%0A%20%20%20%20%20%20%20%20%20%20%20%20%0A%20%20%20%20%20%20%20%20%0A%20%20%20%20%0A%20%20%20%20%20%20%20%20var%20marker_b6ef100e2a4c49359776de3bdddf1562%20%3D%20L.marker%28%0A%20%20%20%20%20%20%20%20%20%20%20%20%5B36.310444%2C%2036.689156%5D%2C%0A%20%20%20%20%20%20%20%20%20%20%20%20%7B%0A%20%20%20%20%20%20%20%20%20%20%20%20%20%20%20%20icon%3A%20new%20L.Icon.Default%28%29%2C%0A%20%20%20%20%20%20%20%20%20%20%20%20%20%20%20%20%7D%0A%20%20%20%20%20%20%20%20%20%20%20%20%29.addTo%28map_d522c8c3fe6c4ab6b59b088ed0cd4ba4%29%3B%0A%20%20%20%20%20%20%20%20%0A%20%20%20%20%0A%20%20%20%20%20%20%20%20%20%20%20%20var%20popup_94f785ac33ea4eaf91d01b29eedf2212%20%3D%20L.popup%28%7BmaxWidth%3A%20%27100%25%27%0A%20%20%20%20%20%20%20%20%20%20%20%20%0A%20%20%20%20%20%20%20%20%20%20%20%20%7D%29%3B%0A%0A%20%20%20%20%20%20%20%20%20%20%20%20%0A%20%20%20%20%20%20%20%20%20%20%20%20%20%20%20%20var%20html_72d6c44ca5a04861bcb35544d8478fa5%20%3D%20%24%28%60%3Cdiv%20id%3D%22html_72d6c44ca5a04861bcb35544d8478fa5%22%20style%3D%22width%3A%20100.0%25%3B%20height%3A%20100.0%25%3B%22%3EGroup%3AIslamic%20State%20of%20Iraq%20and%20the%20Levant%20%28ISIL%29%3Cbr%3ECountry%3ASyria%3C/div%3E%60%29%5B0%5D%3B%0A%20%20%20%20%20%20%20%20%20%20%20%20%20%20%20%20popup_94f785ac33ea4eaf91d01b29eedf2212.setContent%28html_72d6c44ca5a04861bcb35544d8478fa5%29%3B%0A%20%20%20%20%20%20%20%20%20%20%20%20%0A%0A%20%20%20%20%20%20%20%20%20%20%20%20marker_b6ef100e2a4c49359776de3bdddf1562.bindPopup%28popup_94f785ac33ea4eaf91d01b29eedf2212%29%0A%20%20%20%20%20%20%20%20%20%20%20%20%3B%0A%0A%20%20%20%20%20%20%20%20%20%20%20%20%0A%20%20%20%20%20%20%20%20%0A%20%20%20%20%0A%20%20%20%20%20%20%20%20var%20marker_a9d32859947f4774b7abfeda7c29b5fa%20%3D%20L.marker%28%0A%20%20%20%20%20%20%20%20%20%20%20%20%5B33.303566%2C%2044.371773%5D%2C%0A%20%20%20%20%20%20%20%20%20%20%20%20%7B%0A%20%20%20%20%20%20%20%20%20%20%20%20%20%20%20%20icon%3A%20new%20L.Icon.Default%28%29%2C%0A%20%20%20%20%20%20%20%20%20%20%20%20%20%20%20%20%7D%0A%20%20%20%20%20%20%20%20%20%20%20%20%29.addTo%28map_d522c8c3fe6c4ab6b59b088ed0cd4ba4%29%3B%0A%20%20%20%20%20%20%20%20%0A%20%20%20%20%0A%20%20%20%20%20%20%20%20%20%20%20%20var%20popup_76c9eaeae54d491fb10a666d90d8c238%20%3D%20L.popup%28%7BmaxWidth%3A%20%27100%25%27%0A%20%20%20%20%20%20%20%20%20%20%20%20%0A%20%20%20%20%20%20%20%20%20%20%20%20%7D%29%3B%0A%0A%20%20%20%20%20%20%20%20%20%20%20%20%0A%20%20%20%20%20%20%20%20%20%20%20%20%20%20%20%20var%20html_1986e765039e4325a98907311e449e65%20%3D%20%24%28%60%3Cdiv%20id%3D%22html_1986e765039e4325a98907311e449e65%22%20style%3D%22width%3A%20100.0%25%3B%20height%3A%20100.0%25%3B%22%3EGroup%3AIslamic%20State%20of%20Iraq%20and%20the%20Levant%20%28ISIL%29%3Cbr%3ECountry%3AIraq%3C/div%3E%60%29%5B0%5D%3B%0A%20%20%20%20%20%20%20%20%20%20%20%20%20%20%20%20popup_76c9eaeae54d491fb10a666d90d8c238.setContent%28html_1986e765039e4325a98907311e449e65%29%3B%0A%20%20%20%20%20%20%20%20%20%20%20%20%0A%0A%20%20%20%20%20%20%20%20%20%20%20%20marker_a9d32859947f4774b7abfeda7c29b5fa.bindPopup%28popup_76c9eaeae54d491fb10a666d90d8c238%29%0A%20%20%20%20%20%20%20%20%20%20%20%20%3B%0A%0A%20%20%20%20%20%20%20%20%20%20%20%20%0A%20%20%20%20%20%20%20%20%0A%20%20%20%20%0A%20%20%20%20%20%20%20%20var%20marker_eb4a894e6cd7499b973d6f85e7061e95%20%3D%20L.marker%28%0A%20%20%20%20%20%20%20%20%20%20%20%20%5B36.264221%2C%2036.565708%5D%2C%0A%20%20%20%20%20%20%20%20%20%20%20%20%7B%0A%20%20%20%20%20%20%20%20%20%20%20%20%20%20%20%20icon%3A%20new%20L.Icon.Default%28%29%2C%0A%20%20%20%20%20%20%20%20%20%20%20%20%20%20%20%20%7D%0A%20%20%20%20%20%20%20%20%20%20%20%20%29.addTo%28map_d522c8c3fe6c4ab6b59b088ed0cd4ba4%29%3B%0A%20%20%20%20%20%20%20%20%0A%20%20%20%20%0A%20%20%20%20%20%20%20%20%20%20%20%20var%20popup_cc2a3612b4374f139a05683406023f13%20%3D%20L.popup%28%7BmaxWidth%3A%20%27100%25%27%0A%20%20%20%20%20%20%20%20%20%20%20%20%0A%20%20%20%20%20%20%20%20%20%20%20%20%7D%29%3B%0A%0A%20%20%20%20%20%20%20%20%20%20%20%20%0A%20%20%20%20%20%20%20%20%20%20%20%20%20%20%20%20var%20html_73b92e16bc1d4c4f841d1f0b9e15e9e8%20%3D%20%24%28%60%3Cdiv%20id%3D%22html_73b92e16bc1d4c4f841d1f0b9e15e9e8%22%20style%3D%22width%3A%20100.0%25%3B%20height%3A%20100.0%25%3B%22%3EGroup%3AIslamic%20State%20of%20Iraq%20and%20the%20Levant%20%28ISIL%29%3Cbr%3ECountry%3ATurkey%3C/div%3E%60%29%5B0%5D%3B%0A%20%20%20%20%20%20%20%20%20%20%20%20%20%20%20%20popup_cc2a3612b4374f139a05683406023f13.setContent%28html_73b92e16bc1d4c4f841d1f0b9e15e9e8%29%3B%0A%20%20%20%20%20%20%20%20%20%20%20%20%0A%0A%20%20%20%20%20%20%20%20%20%20%20%20marker_eb4a894e6cd7499b973d6f85e7061e95.bindPopup%28popup_cc2a3612b4374f139a05683406023f13%29%0A%20%20%20%20%20%20%20%20%20%20%20%20%3B%0A%0A%20%20%20%20%20%20%20%20%20%20%20%20%0A%20%20%20%20%20%20%20%20%0A%20%20%20%20%0A%20%20%20%20%20%20%20%20var%20marker_69951d0ffbe140748e224fb81fac26b4%20%3D%20L.marker%28%0A%20%20%20%20%20%20%20%20%20%20%20%20%5B36.810384%2C%2010.169506%5D%2C%0A%20%20%20%20%20%20%20%20%20%20%20%20%7B%0A%20%20%20%20%20%20%20%20%20%20%20%20%20%20%20%20icon%3A%20new%20L.Icon.Default%28%29%2C%0A%20%20%20%20%20%20%20%20%20%20%20%20%20%20%20%20%7D%0A%20%20%20%20%20%20%20%20%20%20%20%20%29.addTo%28map_d522c8c3fe6c4ab6b59b088ed0cd4ba4%29%3B%0A%20%20%20%20%20%20%20%20%0A%20%20%20%20%0A%20%20%20%20%20%20%20%20%20%20%20%20var%20popup_6f2cfa494979444c9e8875a9c12a10db%20%3D%20L.popup%28%7BmaxWidth%3A%20%27100%25%27%0A%20%20%20%20%20%20%20%20%20%20%20%20%0A%20%20%20%20%20%20%20%20%20%20%20%20%7D%29%3B%0A%0A%20%20%20%20%20%20%20%20%20%20%20%20%0A%20%20%20%20%20%20%20%20%20%20%20%20%20%20%20%20var%20html_b146a38ad02344e3b4ce35f1e6b38d0c%20%3D%20%24%28%60%3Cdiv%20id%3D%22html_b146a38ad02344e3b4ce35f1e6b38d0c%22%20style%3D%22width%3A%20100.0%25%3B%20height%3A%20100.0%25%3B%22%3EGroup%3AIslamic%20State%20of%20Iraq%20and%20the%20Levant%20%28ISIL%29%3Cbr%3ECountry%3ATunisia%3C/div%3E%60%29%5B0%5D%3B%0A%20%20%20%20%20%20%20%20%20%20%20%20%20%20%20%20popup_6f2cfa494979444c9e8875a9c12a10db.setContent%28html_b146a38ad02344e3b4ce35f1e6b38d0c%29%3B%0A%20%20%20%20%20%20%20%20%20%20%20%20%0A%0A%20%20%20%20%20%20%20%20%20%20%20%20marker_69951d0ffbe140748e224fb81fac26b4.bindPopup%28popup_6f2cfa494979444c9e8875a9c12a10db%29%0A%20%20%20%20%20%20%20%20%20%20%20%20%3B%0A%0A%20%20%20%20%20%20%20%20%20%20%20%20%0A%20%20%20%20%20%20%20%20%0A%20%20%20%20%0A%20%20%20%20%20%20%20%20var%20marker_3475ced388454c69b59f139d5e3f302b%20%3D%20L.marker%28%0A%20%20%20%20%20%20%20%20%20%20%20%20%5B33.851601%2C%2035.511871%5D%2C%0A%20%20%20%20%20%20%20%20%20%20%20%20%7B%0A%20%20%20%20%20%20%20%20%20%20%20%20%20%20%20%20icon%3A%20new%20L.Icon.Default%28%29%2C%0A%20%20%20%20%20%20%20%20%20%20%20%20%20%20%20%20%7D%0A%20%20%20%20%20%20%20%20%20%20%20%20%29.addTo%28map_d522c8c3fe6c4ab6b59b088ed0cd4ba4%29%3B%0A%20%20%20%20%20%20%20%20%0A%20%20%20%20%0A%20%20%20%20%20%20%20%20%20%20%20%20var%20popup_49f78fe769dc4ff4864963e041d2b6ee%20%3D%20L.popup%28%7BmaxWidth%3A%20%27100%25%27%0A%20%20%20%20%20%20%20%20%20%20%20%20%0A%20%20%20%20%20%20%20%20%20%20%20%20%7D%29%3B%0A%0A%20%20%20%20%20%20%20%20%20%20%20%20%0A%20%20%20%20%20%20%20%20%20%20%20%20%20%20%20%20var%20html_fae0db95595d4a868f4efc55d408fe5e%20%3D%20%24%28%60%3Cdiv%20id%3D%22html_fae0db95595d4a868f4efc55d408fe5e%22%20style%3D%22width%3A%20100.0%25%3B%20height%3A%20100.0%25%3B%22%3EGroup%3AIslamic%20State%20of%20Iraq%20and%20the%20Levant%20%28ISIL%29%3Cbr%3ECountry%3ALebanon%3C/div%3E%60%29%5B0%5D%3B%0A%20%20%20%20%20%20%20%20%20%20%20%20%20%20%20%20popup_49f78fe769dc4ff4864963e041d2b6ee.setContent%28html_fae0db95595d4a868f4efc55d408fe5e%29%3B%0A%20%20%20%20%20%20%20%20%20%20%20%20%0A%0A%20%20%20%20%20%20%20%20%20%20%20%20marker_3475ced388454c69b59f139d5e3f302b.bindPopup%28popup_49f78fe769dc4ff4864963e041d2b6ee%29%0A%20%20%20%20%20%20%20%20%20%20%20%20%3B%0A%0A%20%20%20%20%20%20%20%20%20%20%20%20%0A%20%20%20%20%20%20%20%20%0A%20%20%20%20%0A%20%20%20%20%20%20%20%20var%20marker_c5cfc1e1299f48d0a32305523724f80c%20%3D%20L.marker%28%0A%20%20%20%20%20%20%20%20%20%20%20%20%5B36.839877%2C%2064.459816%5D%2C%0A%20%20%20%20%20%20%20%20%20%20%20%20%7B%0A%20%20%20%20%20%20%20%20%20%20%20%20%20%20%20%20icon%3A%20new%20L.Icon.Default%28%29%2C%0A%20%20%20%20%20%20%20%20%20%20%20%20%20%20%20%20%7D%0A%20%20%20%20%20%20%20%20%20%20%20%20%29.addTo%28map_d522c8c3fe6c4ab6b59b088ed0cd4ba4%29%3B%0A%20%20%20%20%20%20%20%20%0A%20%20%20%20%0A%20%20%20%20%20%20%20%20%20%20%20%20var%20popup_867a8232a6bc448b8e4180e48f9587c9%20%3D%20L.popup%28%7BmaxWidth%3A%20%27100%25%27%0A%20%20%20%20%20%20%20%20%20%20%20%20%0A%20%20%20%20%20%20%20%20%20%20%20%20%7D%29%3B%0A%0A%20%20%20%20%20%20%20%20%20%20%20%20%0A%20%20%20%20%20%20%20%20%20%20%20%20%20%20%20%20var%20html_464b355ef33b4d5eadf64cd35726e204%20%3D%20%24%28%60%3Cdiv%20id%3D%22html_464b355ef33b4d5eadf64cd35726e204%22%20style%3D%22width%3A%20100.0%25%3B%20height%3A%20100.0%25%3B%22%3EGroup%3ATaliban%3Cbr%3ECountry%3ATurkmenistan%3C/div%3E%60%29%5B0%5D%3B%0A%20%20%20%20%20%20%20%20%20%20%20%20%20%20%20%20popup_867a8232a6bc448b8e4180e48f9587c9.setContent%28html_464b355ef33b4d5eadf64cd35726e204%29%3B%0A%20%20%20%20%20%20%20%20%20%20%20%20%0A%0A%20%20%20%20%20%20%20%20%20%20%20%20marker_c5cfc1e1299f48d0a32305523724f80c.bindPopup%28popup_867a8232a6bc448b8e4180e48f9587c9%29%0A%20%20%20%20%20%20%20%20%20%20%20%20%3B%0A%0A%20%20%20%20%20%20%20%20%20%20%20%20%0A%20%20%20%20%20%20%20%20%0A%20%20%20%20%0A%20%20%20%20%20%20%20%20var%20marker_508efb39f4964b2e93e0aa7cf065e46a%20%3D%20L.marker%28%0A%20%20%20%20%20%20%20%20%20%20%20%20%5B33.269406%2C%2035.772117%5D%2C%0A%20%20%20%20%20%20%20%20%20%20%20%20%7B%0A%20%20%20%20%20%20%20%20%20%20%20%20%20%20%20%20icon%3A%20new%20L.Icon.Default%28%29%2C%0A%20%20%20%20%20%20%20%20%20%20%20%20%20%20%20%20%7D%0A%20%20%20%20%20%20%20%20%20%20%20%20%29.addTo%28map_d522c8c3fe6c4ab6b59b088ed0cd4ba4%29%3B%0A%20%20%20%20%20%20%20%20%0A%20%20%20%20%0A%20%20%20%20%20%20%20%20%20%20%20%20var%20popup_f8495cd4d80a4f53a0a7244f634e7dd6%20%3D%20L.popup%28%7BmaxWidth%3A%20%27100%25%27%0A%20%20%20%20%20%20%20%20%20%20%20%20%0A%20%20%20%20%20%20%20%20%20%20%20%20%7D%29%3B%0A%0A%20%20%20%20%20%20%20%20%20%20%20%20%0A%20%20%20%20%20%20%20%20%20%20%20%20%20%20%20%20var%20html_641191a083c4491889cea0a4c0c99d10%20%3D%20%24%28%60%3Cdiv%20id%3D%22html_641191a083c4491889cea0a4c0c99d10%22%20style%3D%22width%3A%20100.0%25%3B%20height%3A%20100.0%25%3B%22%3EGroup%3AIslamic%20State%20of%20Iraq%20and%20the%20Levant%20%28ISIL%29%3Cbr%3ECountry%3AIsrael%3C/div%3E%60%29%5B0%5D%3B%0A%20%20%20%20%20%20%20%20%20%20%20%20%20%20%20%20popup_f8495cd4d80a4f53a0a7244f634e7dd6.setContent%28html_641191a083c4491889cea0a4c0c99d10%29%3B%0A%20%20%20%20%20%20%20%20%20%20%20%20%0A%0A%20%20%20%20%20%20%20%20%20%20%20%20marker_508efb39f4964b2e93e0aa7cf065e46a.bindPopup%28popup_f8495cd4d80a4f53a0a7244f634e7dd6%29%0A%20%20%20%20%20%20%20%20%20%20%20%20%3B%0A%0A%20%20%20%20%20%20%20%20%20%20%20%20%0A%20%20%20%20%20%20%20%20%0A%20%20%20%20%0A%20%20%20%20%20%20%20%20var%20marker_c464d84111034c1f8a0de14b0b6d132b%20%3D%20L.marker%28%0A%20%20%20%20%20%20%20%20%20%20%20%20%5B11.587622999999999%2C%2043.146485999999996%5D%2C%0A%20%20%20%20%20%20%20%20%20%20%20%20%7B%0A%20%20%20%20%20%20%20%20%20%20%20%20%20%20%20%20icon%3A%20new%20L.Icon.Default%28%29%2C%0A%20%20%20%20%20%20%20%20%20%20%20%20%20%20%20%20%7D%0A%20%20%20%20%20%20%20%20%20%20%20%20%29.addTo%28map_d522c8c3fe6c4ab6b59b088ed0cd4ba4%29%3B%0A%20%20%20%20%20%20%20%20%0A%20%20%20%20%0A%20%20%20%20%20%20%20%20%20%20%20%20var%20popup_1c16753cfb4643bc8386ae60aafb418e%20%3D%20L.popup%28%7BmaxWidth%3A%20%27100%25%27%0A%20%20%20%20%20%20%20%20%20%20%20%20%0A%20%20%20%20%20%20%20%20%20%20%20%20%7D%29%3B%0A%0A%20%20%20%20%20%20%20%20%20%20%20%20%0A%20%20%20%20%20%20%20%20%20%20%20%20%20%20%20%20var%20html_d53c02c9122744f5965f45483f40a579%20%3D%20%24%28%60%3Cdiv%20id%3D%22html_d53c02c9122744f5965f45483f40a579%22%20style%3D%22width%3A%20100.0%25%3B%20height%3A%20100.0%25%3B%22%3EGroup%3AAl-Shabaab%3Cbr%3ECountry%3ADjibouti%3C/div%3E%60%29%5B0%5D%3B%0A%20%20%20%20%20%20%20%20%20%20%20%20%20%20%20%20popup_1c16753cfb4643bc8386ae60aafb418e.setContent%28html_d53c02c9122744f5965f45483f40a579%29%3B%0A%20%20%20%20%20%20%20%20%20%20%20%20%0A%0A%20%20%20%20%20%20%20%20%20%20%20%20marker_c464d84111034c1f8a0de14b0b6d132b.bindPopup%28popup_1c16753cfb4643bc8386ae60aafb418e%29%0A%20%20%20%20%20%20%20%20%20%20%20%20%3B%0A%0A%20%20%20%20%20%20%20%20%20%20%20%20%0A%20%20%20%20%20%20%20%20%0A%20%20%20%20%0A%20%20%20%20%20%20%20%20var%20marker_e40faa28a0f94bd89a9672e055fbfc77%20%3D%20L.marker%28%0A%20%20%20%20%20%20%20%20%20%20%20%20%5B50.836426%2C%204.367415%5D%2C%0A%20%20%20%20%20%20%20%20%20%20%20%20%7B%0A%20%20%20%20%20%20%20%20%20%20%20%20%20%20%20%20icon%3A%20new%20L.Icon.Default%28%29%2C%0A%20%20%20%20%20%20%20%20%20%20%20%20%20%20%20%20%7D%0A%20%20%20%20%20%20%20%20%20%20%20%20%29.addTo%28map_d522c8c3fe6c4ab6b59b088ed0cd4ba4%29%3B%0A%20%20%20%20%20%20%20%20%0A%20%20%20%20%0A%20%20%20%20%20%20%20%20%20%20%20%20var%20popup_fa013535c7a24d9ba488c32c8c24dd8e%20%3D%20L.popup%28%7BmaxWidth%3A%20%27100%25%27%0A%20%20%20%20%20%20%20%20%20%20%20%20%0A%20%20%20%20%20%20%20%20%20%20%20%20%7D%29%3B%0A%0A%20%20%20%20%20%20%20%20%20%20%20%20%0A%20%20%20%20%20%20%20%20%20%20%20%20%20%20%20%20var%20html_d7fa6ce5c48b4297a96c5a4f78a5d010%20%3D%20%24%28%60%3Cdiv%20id%3D%22html_d7fa6ce5c48b4297a96c5a4f78a5d010%22%20style%3D%22width%3A%20100.0%25%3B%20height%3A%20100.0%25%3B%22%3EGroup%3AIslamic%20State%20of%20Iraq%20and%20the%20Levant%20%28ISIL%29%3Cbr%3ECountry%3ABelgium%3C/div%3E%60%29%5B0%5D%3B%0A%20%20%20%20%20%20%20%20%20%20%20%20%20%20%20%20popup_fa013535c7a24d9ba488c32c8c24dd8e.setContent%28html_d7fa6ce5c48b4297a96c5a4f78a5d010%29%3B%0A%20%20%20%20%20%20%20%20%20%20%20%20%0A%0A%20%20%20%20%20%20%20%20%20%20%20%20marker_e40faa28a0f94bd89a9672e055fbfc77.bindPopup%28popup_fa013535c7a24d9ba488c32c8c24dd8e%29%0A%20%20%20%20%20%20%20%20%20%20%20%20%3B%0A%0A%20%20%20%20%20%20%20%20%20%20%20%20%0A%20%20%20%20%20%20%20%20%0A%20%20%20%20%0A%20%20%20%20%20%20%20%20var%20marker_aa2177bd088941b0b6fa4d4e48a43495%20%3D%20L.marker%28%0A%20%20%20%20%20%20%20%20%20%20%20%20%5B31.027081%2C%2028.43569%5D%2C%0A%20%20%20%20%20%20%20%20%20%20%20%20%7B%0A%20%20%20%20%20%20%20%20%20%20%20%20%20%20%20%20icon%3A%20new%20L.Icon.Default%28%29%2C%0A%20%20%20%20%20%20%20%20%20%20%20%20%20%20%20%20%7D%0A%20%20%20%20%20%20%20%20%20%20%20%20%29.addTo%28map_d522c8c3fe6c4ab6b59b088ed0cd4ba4%29%3B%0A%20%20%20%20%20%20%20%20%0A%20%20%20%20%0A%20%20%20%20%20%20%20%20%20%20%20%20var%20popup_647c7b53d7e342679b7bbd80c10e6871%20%3D%20L.popup%28%7BmaxWidth%3A%20%27100%25%27%0A%20%20%20%20%20%20%20%20%20%20%20%20%0A%20%20%20%20%20%20%20%20%20%20%20%20%7D%29%3B%0A%0A%20%20%20%20%20%20%20%20%20%20%20%20%0A%20%20%20%20%20%20%20%20%20%20%20%20%20%20%20%20var%20html_a5a9bf72b9a240da9cd21e9ad666ca85%20%3D%20%24%28%60%3Cdiv%20id%3D%22html_a5a9bf72b9a240da9cd21e9ad666ca85%22%20style%3D%22width%3A%20100.0%25%3B%20height%3A%20100.0%25%3B%22%3EGroup%3AIslamic%20State%20of%20Iraq%20and%20the%20Levant%20%28ISIL%29%3Cbr%3ECountry%3AEgypt%3C/div%3E%60%29%5B0%5D%3B%0A%20%20%20%20%20%20%20%20%20%20%20%20%20%20%20%20popup_647c7b53d7e342679b7bbd80c10e6871.setContent%28html_a5a9bf72b9a240da9cd21e9ad666ca85%29%3B%0A%20%20%20%20%20%20%20%20%20%20%20%20%0A%0A%20%20%20%20%20%20%20%20%20%20%20%20marker_aa2177bd088941b0b6fa4d4e48a43495.bindPopup%28popup_647c7b53d7e342679b7bbd80c10e6871%29%0A%20%20%20%20%20%20%20%20%20%20%20%20%3B%0A%0A%20%20%20%20%20%20%20%20%20%20%20%20%0A%20%20%20%20%20%20%20%20%0A%20%20%20%20%0A%20%20%20%20%20%20%20%20var%20marker_a5a4a2c016a7420a8bc7123f1b13d2b8%20%3D%20L.marker%28%0A%20%20%20%20%20%20%20%20%20%20%20%20%5B30.762318%2C%2020.233005%5D%2C%0A%20%20%20%20%20%20%20%20%20%20%20%20%7B%0A%20%20%20%20%20%20%20%20%20%20%20%20%20%20%20%20icon%3A%20new%20L.Icon.Default%28%29%2C%0A%20%20%20%20%20%20%20%20%20%20%20%20%20%20%20%20%7D%0A%20%20%20%20%20%20%20%20%20%20%20%20%29.addTo%28map_d522c8c3fe6c4ab6b59b088ed0cd4ba4%29%3B%0A%20%20%20%20%20%20%20%20%0A%20%20%20%20%0A%20%20%20%20%20%20%20%20%20%20%20%20var%20popup_206d9604c23744188c773c286a895577%20%3D%20L.popup%28%7BmaxWidth%3A%20%27100%25%27%0A%20%20%20%20%20%20%20%20%20%20%20%20%0A%20%20%20%20%20%20%20%20%20%20%20%20%7D%29%3B%0A%0A%20%20%20%20%20%20%20%20%20%20%20%20%0A%20%20%20%20%20%20%20%20%20%20%20%20%20%20%20%20var%20html_da066e32e3b742e3b2965c8125752069%20%3D%20%24%28%60%3Cdiv%20id%3D%22html_da066e32e3b742e3b2965c8125752069%22%20style%3D%22width%3A%20100.0%25%3B%20height%3A%20100.0%25%3B%22%3EGroup%3AIslamic%20State%20of%20Iraq%20and%20the%20Levant%20%28ISIL%29%3Cbr%3ECountry%3ALibya%3C/div%3E%60%29%5B0%5D%3B%0A%20%20%20%20%20%20%20%20%20%20%20%20%20%20%20%20popup_206d9604c23744188c773c286a895577.setContent%28html_da066e32e3b742e3b2965c8125752069%29%3B%0A%20%20%20%20%20%20%20%20%20%20%20%20%0A%0A%20%20%20%20%20%20%20%20%20%20%20%20marker_a5a4a2c016a7420a8bc7123f1b13d2b8.bindPopup%28popup_206d9604c23744188c773c286a895577%29%0A%20%20%20%20%20%20%20%20%20%20%20%20%3B%0A%0A%20%20%20%20%20%20%20%20%20%20%20%20%0A%20%20%20%20%20%20%20%20%0A%20%20%20%20%0A%20%20%20%20%20%20%20%20var%20marker_c882a0b0371747009aed52cfaa5b3bc0%20%3D%20L.marker%28%0A%20%20%20%20%20%20%20%20%20%20%20%20%5B25.403051%2C%2049.589794%5D%2C%0A%20%20%20%20%20%20%20%20%20%20%20%20%7B%0A%20%20%20%20%20%20%20%20%20%20%20%20%20%20%20%20icon%3A%20new%20L.Icon.Default%28%29%2C%0A%20%20%20%20%20%20%20%20%20%20%20%20%20%20%20%20%7D%0A%20%20%20%20%20%20%20%20%20%20%20%20%29.addTo%28map_d522c8c3fe6c4ab6b59b088ed0cd4ba4%29%3B%0A%20%20%20%20%20%20%20%20%0A%20%20%20%20%0A%20%20%20%20%20%20%20%20%20%20%20%20var%20popup_ed7951a564b84b20af2d0ce83e2e1196%20%3D%20L.popup%28%7BmaxWidth%3A%20%27100%25%27%0A%20%20%20%20%20%20%20%20%20%20%20%20%0A%20%20%20%20%20%20%20%20%20%20%20%20%7D%29%3B%0A%0A%20%20%20%20%20%20%20%20%20%20%20%20%0A%20%20%20%20%20%20%20%20%20%20%20%20%20%20%20%20var%20html_16486bd9896d4e14916492bff707a586%20%3D%20%24%28%60%3Cdiv%20id%3D%22html_16486bd9896d4e14916492bff707a586%22%20style%3D%22width%3A%20100.0%25%3B%20height%3A%20100.0%25%3B%22%3EGroup%3AIslamic%20State%20of%20Iraq%20and%20the%20Levant%20%28ISIL%29%3Cbr%3ECountry%3ASaudi%20Arabia%3C/div%3E%60%29%5B0%5D%3B%0A%20%20%20%20%20%20%20%20%20%20%20%20%20%20%20%20popup_ed7951a564b84b20af2d0ce83e2e1196.setContent%28html_16486bd9896d4e14916492bff707a586%29%3B%0A%20%20%20%20%20%20%20%20%20%20%20%20%0A%0A%20%20%20%20%20%20%20%20%20%20%20%20marker_c882a0b0371747009aed52cfaa5b3bc0.bindPopup%28popup_ed7951a564b84b20af2d0ce83e2e1196%29%0A%20%20%20%20%20%20%20%20%20%20%20%20%3B%0A%0A%20%20%20%20%20%20%20%20%20%20%20%20%0A%20%20%20%20%20%20%20%20%0A%20%20%20%20%0A%20%20%20%20%20%20%20%20var%20marker_5006bd479d7745688591c06e8c82f289%20%3D%20L.marker%28%0A%20%20%20%20%20%20%20%20%20%20%20%20%5B31.502407%2C%2034.459742999999996%5D%2C%0A%20%20%20%20%20%20%20%20%20%20%20%20%7B%0A%20%20%20%20%20%20%20%20%20%20%20%20%20%20%20%20icon%3A%20new%20L.Icon.Default%28%29%2C%0A%20%20%20%20%20%20%20%20%20%20%20%20%20%20%20%20%7D%0A%20%20%20%20%20%20%20%20%20%20%20%20%29.addTo%28map_d522c8c3fe6c4ab6b59b088ed0cd4ba4%29%3B%0A%20%20%20%20%20%20%20%20%0A%20%20%20%20%0A%20%20%20%20%20%20%20%20%20%20%20%20var%20popup_8c2caf6b09a54b2f90c38810d6201683%20%3D%20L.popup%28%7BmaxWidth%3A%20%27100%25%27%0A%20%20%20%20%20%20%20%20%20%20%20%20%0A%20%20%20%20%20%20%20%20%20%20%20%20%7D%29%3B%0A%0A%20%20%20%20%20%20%20%20%20%20%20%20%0A%20%20%20%20%20%20%20%20%20%20%20%20%20%20%20%20var%20html_29848fffc30045ff94e3a1bc5d45badd%20%3D%20%24%28%60%3Cdiv%20id%3D%22html_29848fffc30045ff94e3a1bc5d45badd%22%20style%3D%22width%3A%20100.0%25%3B%20height%3A%20100.0%25%3B%22%3EGroup%3AIslamic%20State%20of%20Iraq%20and%20the%20Levant%20%28ISIL%29%3Cbr%3ECountry%3AWest%20Bank%20and%20Gaza%20Strip%3C/div%3E%60%29%5B0%5D%3B%0A%20%20%20%20%20%20%20%20%20%20%20%20%20%20%20%20popup_8c2caf6b09a54b2f90c38810d6201683.setContent%28html_29848fffc30045ff94e3a1bc5d45badd%29%3B%0A%20%20%20%20%20%20%20%20%20%20%20%20%0A%0A%20%20%20%20%20%20%20%20%20%20%20%20marker_5006bd479d7745688591c06e8c82f289.bindPopup%28popup_8c2caf6b09a54b2f90c38810d6201683%29%0A%20%20%20%20%20%20%20%20%20%20%20%20%3B%0A%0A%20%20%20%20%20%20%20%20%20%20%20%20%0A%20%20%20%20%20%20%20%20%0A%20%20%20%20%0A%20%20%20%20%20%20%20%20var%20marker_2697614187e8405881b8e66ae1156425%20%3D%20L.marker%28%0A%20%20%20%20%20%20%20%20%20%20%20%20%5B-5.055813%2C%2039.054142999999996%5D%2C%0A%20%20%20%20%20%20%20%20%20%20%20%20%7B%0A%20%20%20%20%20%20%20%20%20%20%20%20%20%20%20%20icon%3A%20new%20L.Icon.Default%28%29%2C%0A%20%20%20%20%20%20%20%20%20%20%20%20%20%20%20%20%7D%0A%20%20%20%20%20%20%20%20%20%20%20%20%29.addTo%28map_d522c8c3fe6c4ab6b59b088ed0cd4ba4%29%3B%0A%20%20%20%20%20%20%20%20%0A%20%20%20%20%0A%20%20%20%20%20%20%20%20%20%20%20%20var%20popup_ceb9c3c8f1614e23ab0fed2e615d1f1a%20%3D%20L.popup%28%7BmaxWidth%3A%20%27100%25%27%0A%20%20%20%20%20%20%20%20%20%20%20%20%0A%20%20%20%20%20%20%20%20%20%20%20%20%7D%29%3B%0A%0A%20%20%20%20%20%20%20%20%20%20%20%20%0A%20%20%20%20%20%20%20%20%20%20%20%20%20%20%20%20var%20html_51f1eca806bd49fe9d98e8067093a383%20%3D%20%24%28%60%3Cdiv%20id%3D%22html_51f1eca806bd49fe9d98e8067093a383%22%20style%3D%22width%3A%20100.0%25%3B%20height%3A%20100.0%25%3B%22%3EGroup%3AAl-Shabaab%3Cbr%3ECountry%3ATanzania%3C/div%3E%60%29%5B0%5D%3B%0A%20%20%20%20%20%20%20%20%20%20%20%20%20%20%20%20popup_ceb9c3c8f1614e23ab0fed2e615d1f1a.setContent%28html_51f1eca806bd49fe9d98e8067093a383%29%3B%0A%20%20%20%20%20%20%20%20%20%20%20%20%0A%0A%20%20%20%20%20%20%20%20%20%20%20%20marker_2697614187e8405881b8e66ae1156425.bindPopup%28popup_ceb9c3c8f1614e23ab0fed2e615d1f1a%29%0A%20%20%20%20%20%20%20%20%20%20%20%20%3B%0A%0A%20%20%20%20%20%20%20%20%20%20%20%20%0A%20%20%20%20%20%20%20%20%0A%20%20%20%20%0A%20%20%20%20%20%20%20%20var%20marker_02178027b96e4cbdaaf62dc2baa04288%20%3D%20L.marker%28%0A%20%20%20%20%20%20%20%20%20%20%20%20%5B50.290575%2C%202.7767060000000003%5D%2C%0A%20%20%20%20%20%20%20%20%20%20%20%20%7B%0A%20%20%20%20%20%20%20%20%20%20%20%20%20%20%20%20icon%3A%20new%20L.Icon.Default%28%29%2C%0A%20%20%20%20%20%20%20%20%20%20%20%20%20%20%20%20%7D%0A%20%20%20%20%20%20%20%20%20%20%20%20%29.addTo%28map_d522c8c3fe6c4ab6b59b088ed0cd4ba4%29%3B%0A%20%20%20%20%20%20%20%20%0A%20%20%20%20%0A%20%20%20%20%20%20%20%20%20%20%20%20var%20popup_6d8fa40a53944a2f9b884b1461af4b78%20%3D%20L.popup%28%7BmaxWidth%3A%20%27100%25%27%0A%20%20%20%20%20%20%20%20%20%20%20%20%0A%20%20%20%20%20%20%20%20%20%20%20%20%7D%29%3B%0A%0A%20%20%20%20%20%20%20%20%20%20%20%20%0A%20%20%20%20%20%20%20%20%20%20%20%20%20%20%20%20var%20html_11f1f542d887466c852e3b37ca74444e%20%3D%20%24%28%60%3Cdiv%20id%3D%22html_11f1f542d887466c852e3b37ca74444e%22%20style%3D%22width%3A%20100.0%25%3B%20height%3A%20100.0%25%3B%22%3EGroup%3AIslamic%20State%20of%20Iraq%20and%20the%20Levant%20%28ISIL%29%3Cbr%3ECountry%3AFrance%3C/div%3E%60%29%5B0%5D%3B%0A%20%20%20%20%20%20%20%20%20%20%20%20%20%20%20%20popup_6d8fa40a53944a2f9b884b1461af4b78.setContent%28html_11f1f542d887466c852e3b37ca74444e%29%3B%0A%20%20%20%20%20%20%20%20%20%20%20%20%0A%0A%20%20%20%20%20%20%20%20%20%20%20%20marker_02178027b96e4cbdaaf62dc2baa04288.bindPopup%28popup_6d8fa40a53944a2f9b884b1461af4b78%29%0A%20%20%20%20%20%20%20%20%20%20%20%20%3B%0A%0A%20%20%20%20%20%20%20%20%20%20%20%20%0A%20%20%20%20%20%20%20%20%0A%20%20%20%20%0A%20%20%20%20%20%20%20%20var%20marker_9fe3d55bbdca4883a03e7cd71bc4d6b0%20%3D%20L.marker%28%0A%20%20%20%20%20%20%20%20%20%20%20%20%5B26.13883%2C%2050.477737%5D%2C%0A%20%20%20%20%20%20%20%20%20%20%20%20%7B%0A%20%20%20%20%20%20%20%20%20%20%20%20%20%20%20%20icon%3A%20new%20L.Icon.Default%28%29%2C%0A%20%20%20%20%20%20%20%20%20%20%20%20%20%20%20%20%7D%0A%20%20%20%20%20%20%20%20%20%20%20%20%29.addTo%28map_d522c8c3fe6c4ab6b59b088ed0cd4ba4%29%3B%0A%20%20%20%20%20%20%20%20%0A%20%20%20%20%0A%20%20%20%20%20%20%20%20%20%20%20%20var%20popup_b151e2b4ff98483bb94c4118f3a58d66%20%3D%20L.popup%28%7BmaxWidth%3A%20%27100%25%27%0A%20%20%20%20%20%20%20%20%20%20%20%20%0A%20%20%20%20%20%20%20%20%20%20%20%20%7D%29%3B%0A%0A%20%20%20%20%20%20%20%20%20%20%20%20%0A%20%20%20%20%20%20%20%20%20%20%20%20%20%20%20%20var%20html_587678e0bfac4206a4dac1524004f9cc%20%3D%20%24%28%60%3Cdiv%20id%3D%22html_587678e0bfac4206a4dac1524004f9cc%22%20style%3D%22width%3A%20100.0%25%3B%20height%3A%20100.0%25%3B%22%3EGroup%3AIslamic%20State%20of%20Iraq%20and%20the%20Levant%20%28ISIL%29%3Cbr%3ECountry%3ABahrain%3C/div%3E%60%29%5B0%5D%3B%0A%20%20%20%20%20%20%20%20%20%20%20%20%20%20%20%20popup_b151e2b4ff98483bb94c4118f3a58d66.setContent%28html_587678e0bfac4206a4dac1524004f9cc%29%3B%0A%20%20%20%20%20%20%20%20%20%20%20%20%0A%0A%20%20%20%20%20%20%20%20%20%20%20%20marker_9fe3d55bbdca4883a03e7cd71bc4d6b0.bindPopup%28popup_b151e2b4ff98483bb94c4118f3a58d66%29%0A%20%20%20%20%20%20%20%20%20%20%20%20%3B%0A%0A%20%20%20%20%20%20%20%20%20%20%20%20%0A%20%20%20%20%20%20%20%20%0A%20%20%20%20%0A%20%20%20%20%20%20%20%20var%20marker_8cf295e85cfd40b59af3fc9bea0b565f%20%3D%20L.marker%28%0A%20%20%20%20%20%20%20%20%20%20%20%20%5B31.796295%2C%2036.211077%5D%2C%0A%20%20%20%20%20%20%20%20%20%20%20%20%7B%0A%20%20%20%20%20%20%20%20%20%20%20%20%20%20%20%20icon%3A%20new%20L.Icon.Default%28%29%2C%0A%20%20%20%20%20%20%20%20%20%20%20%20%20%20%20%20%7D%0A%20%20%20%20%20%20%20%20%20%20%20%20%29.addTo%28map_d522c8c3fe6c4ab6b59b088ed0cd4ba4%29%3B%0A%20%20%20%20%20%20%20%20%0A%20%20%20%20%0A%20%20%20%20%20%20%20%20%20%20%20%20var%20popup_4f5dba8dd77a42f3919c239032ff49c0%20%3D%20L.popup%28%7BmaxWidth%3A%20%27100%25%27%0A%20%20%20%20%20%20%20%20%20%20%20%20%0A%20%20%20%20%20%20%20%20%20%20%20%20%7D%29%3B%0A%0A%20%20%20%20%20%20%20%20%20%20%20%20%0A%20%20%20%20%20%20%20%20%20%20%20%20%20%20%20%20var%20html_07584259ba1040b9ac7cb2ef05b46717%20%3D%20%24%28%60%3Cdiv%20id%3D%22html_07584259ba1040b9ac7cb2ef05b46717%22%20style%3D%22width%3A%20100.0%25%3B%20height%3A%20100.0%25%3B%22%3EGroup%3AIslamic%20State%20of%20Iraq%20and%20the%20Levant%20%28ISIL%29%3Cbr%3ECountry%3AJordan%3C/div%3E%60%29%5B0%5D%3B%0A%20%20%20%20%20%20%20%20%20%20%20%20%20%20%20%20popup_4f5dba8dd77a42f3919c239032ff49c0.setContent%28html_07584259ba1040b9ac7cb2ef05b46717%29%3B%0A%20%20%20%20%20%20%20%20%20%20%20%20%0A%0A%20%20%20%20%20%20%20%20%20%20%20%20marker_8cf295e85cfd40b59af3fc9bea0b565f.bindPopup%28popup_4f5dba8dd77a42f3919c239032ff49c0%29%0A%20%20%20%20%20%20%20%20%20%20%20%20%3B%0A%0A%20%20%20%20%20%20%20%20%20%20%20%20%0A%20%20%20%20%20%20%20%20%0A%20%20%20%20%0A%20%20%20%20%20%20%20%20var%20marker_b929e11c76604624a26b620f88be765a%20%3D%20L.marker%28%0A%20%20%20%20%20%20%20%20%20%20%20%20%5B0.224021%2C%2041.601181%5D%2C%0A%20%20%20%20%20%20%20%20%20%20%20%20%7B%0A%20%20%20%20%20%20%20%20%20%20%20%20%20%20%20%20icon%3A%20new%20L.Icon.Default%28%29%2C%0A%20%20%20%20%20%20%20%20%20%20%20%20%20%20%20%20%7D%0A%20%20%20%20%20%20%20%20%20%20%20%20%29.addTo%28map_d522c8c3fe6c4ab6b59b088ed0cd4ba4%29%3B%0A%20%20%20%20%20%20%20%20%0A%20%20%20%20%0A%20%20%20%20%20%20%20%20%20%20%20%20var%20popup_649cfd943d7b458b91995bd452c6a3bb%20%3D%20L.popup%28%7BmaxWidth%3A%20%27100%25%27%0A%20%20%20%20%20%20%20%20%20%20%20%20%0A%20%20%20%20%20%20%20%20%20%20%20%20%7D%29%3B%0A%0A%20%20%20%20%20%20%20%20%20%20%20%20%0A%20%20%20%20%20%20%20%20%20%20%20%20%20%20%20%20var%20html_26090e035e564a30a5c4dc29e5407bf4%20%3D%20%24%28%60%3Cdiv%20id%3D%22html_26090e035e564a30a5c4dc29e5407bf4%22%20style%3D%22width%3A%20100.0%25%3B%20height%3A%20100.0%25%3B%22%3EGroup%3AIslamic%20State%20of%20Iraq%20and%20the%20Levant%20%28ISIL%29%3Cbr%3ECountry%3ASomalia%3C/div%3E%60%29%5B0%5D%3B%0A%20%20%20%20%20%20%20%20%20%20%20%20%20%20%20%20popup_649cfd943d7b458b91995bd452c6a3bb.setContent%28html_26090e035e564a30a5c4dc29e5407bf4%29%3B%0A%20%20%20%20%20%20%20%20%20%20%20%20%0A%0A%20%20%20%20%20%20%20%20%20%20%20%20marker_b929e11c76604624a26b620f88be765a.bindPopup%28popup_649cfd943d7b458b91995bd452c6a3bb%29%0A%20%20%20%20%20%20%20%20%20%20%20%20%3B%0A%0A%20%20%20%20%20%20%20%20%20%20%20%20%0A%20%20%20%20%20%20%20%20%0A%20%20%20%20%0A%20%20%20%20%20%20%20%20var%20marker_7ec0c7ce8bbe46d894f292c81fec381b%20%3D%20L.marker%28%0A%20%20%20%20%20%20%20%20%20%20%20%20%5B52.375906%2C%209.731978%5D%2C%0A%20%20%20%20%20%20%20%20%20%20%20%20%7B%0A%20%20%20%20%20%20%20%20%20%20%20%20%20%20%20%20icon%3A%20new%20L.Icon.Default%28%29%2C%0A%20%20%20%20%20%20%20%20%20%20%20%20%20%20%20%20%7D%0A%20%20%20%20%20%20%20%20%20%20%20%20%29.addTo%28map_d522c8c3fe6c4ab6b59b088ed0cd4ba4%29%3B%0A%20%20%20%20%20%20%20%20%0A%20%20%20%20%0A%20%20%20%20%20%20%20%20%20%20%20%20var%20popup_8d8dbd9a7e604c66a4451161041bf695%20%3D%20L.popup%28%7BmaxWidth%3A%20%27100%25%27%0A%20%20%20%20%20%20%20%20%20%20%20%20%0A%20%20%20%20%20%20%20%20%20%20%20%20%7D%29%3B%0A%0A%20%20%20%20%20%20%20%20%20%20%20%20%0A%20%20%20%20%20%20%20%20%20%20%20%20%20%20%20%20var%20html_1ec5f2599c7140078ba77530cb2892e8%20%3D%20%24%28%60%3Cdiv%20id%3D%22html_1ec5f2599c7140078ba77530cb2892e8%22%20style%3D%22width%3A%20100.0%25%3B%20height%3A%20100.0%25%3B%22%3EGroup%3AIslamic%20State%20of%20Iraq%20and%20the%20Levant%20%28ISIL%29%3Cbr%3ECountry%3AGermany%3C/div%3E%60%29%5B0%5D%3B%0A%20%20%20%20%20%20%20%20%20%20%20%20%20%20%20%20popup_8d8dbd9a7e604c66a4451161041bf695.setContent%28html_1ec5f2599c7140078ba77530cb2892e8%29%3B%0A%20%20%20%20%20%20%20%20%20%20%20%20%0A%0A%20%20%20%20%20%20%20%20%20%20%20%20marker_7ec0c7ce8bbe46d894f292c81fec381b.bindPopup%28popup_8d8dbd9a7e604c66a4451161041bf695%29%0A%20%20%20%20%20%20%20%20%20%20%20%20%3B%0A%0A%20%20%20%20%20%20%20%20%20%20%20%20%0A%20%20%20%20%20%20%20%20%0A%20%20%20%20%0A%20%20%20%20%20%20%20%20var%20marker_f7e6046db4f74b63aff061a46ee1cda0%20%3D%20L.marker%28%0A%20%20%20%20%20%20%20%20%20%20%20%20%5B6.495387%2C%20122.068013%5D%2C%0A%20%20%20%20%20%20%20%20%20%20%20%20%7B%0A%20%20%20%20%20%20%20%20%20%20%20%20%20%20%20%20icon%3A%20new%20L.Icon.Default%28%29%2C%0A%20%20%20%20%20%20%20%20%20%20%20%20%20%20%20%20%7D%0A%20%20%20%20%20%20%20%20%20%20%20%20%29.addTo%28map_d522c8c3fe6c4ab6b59b088ed0cd4ba4%29%3B%0A%20%20%20%20%20%20%20%20%0A%20%20%20%20%0A%20%20%20%20%20%20%20%20%20%20%20%20var%20popup_bab922f1b2334f05a5af682a8442ff26%20%3D%20L.popup%28%7BmaxWidth%3A%20%27100%25%27%0A%20%20%20%20%20%20%20%20%20%20%20%20%0A%20%20%20%20%20%20%20%20%20%20%20%20%7D%29%3B%0A%0A%20%20%20%20%20%20%20%20%20%20%20%20%0A%20%20%20%20%20%20%20%20%20%20%20%20%20%20%20%20var%20html_ae23d8e61095488092290e8e99e28a16%20%3D%20%24%28%60%3Cdiv%20id%3D%22html_ae23d8e61095488092290e8e99e28a16%22%20style%3D%22width%3A%20100.0%25%3B%20height%3A%20100.0%25%3B%22%3EGroup%3AIslamic%20State%20of%20Iraq%20and%20the%20Levant%20%28ISIL%29%3Cbr%3ECountry%3APhilippines%3C/div%3E%60%29%5B0%5D%3B%0A%20%20%20%20%20%20%20%20%20%20%20%20%20%20%20%20popup_bab922f1b2334f05a5af682a8442ff26.setContent%28html_ae23d8e61095488092290e8e99e28a16%29%3B%0A%20%20%20%20%20%20%20%20%20%20%20%20%0A%0A%20%20%20%20%20%20%20%20%20%20%20%20marker_f7e6046db4f74b63aff061a46ee1cda0.bindPopup%28popup_bab922f1b2334f05a5af682a8442ff26%29%0A%20%20%20%20%20%20%20%20%20%20%20%20%3B%0A%0A%20%20%20%20%20%20%20%20%20%20%20%20%0A%20%20%20%20%20%20%20%20%0A%20%20%20%20%0A%20%20%20%20%20%20%20%20var%20marker_c5172622332d421abee4d01bfc04ac3c%20%3D%20L.marker%28%0A%20%20%20%20%20%20%20%20%20%20%20%20%5B3.032715%2C%20101.618802%5D%2C%0A%20%20%20%20%20%20%20%20%20%20%20%20%7B%0A%20%20%20%20%20%20%20%20%20%20%20%20%20%20%20%20icon%3A%20new%20L.Icon.Default%28%29%2C%0A%20%20%20%20%20%20%20%20%20%20%20%20%20%20%20%20%7D%0A%20%20%20%20%20%20%20%20%20%20%20%20%29.addTo%28map_d522c8c3fe6c4ab6b59b088ed0cd4ba4%29%3B%0A%20%20%20%20%20%20%20%20%0A%20%20%20%20%0A%20%20%20%20%20%20%20%20%20%20%20%20var%20popup_775788abe93d42d88c6d123f9c5b0e94%20%3D%20L.popup%28%7BmaxWidth%3A%20%27100%25%27%0A%20%20%20%20%20%20%20%20%20%20%20%20%0A%20%20%20%20%20%20%20%20%20%20%20%20%7D%29%3B%0A%0A%20%20%20%20%20%20%20%20%20%20%20%20%0A%20%20%20%20%20%20%20%20%20%20%20%20%20%20%20%20var%20html_23e40d743e9e44d899eaa34b42c51c74%20%3D%20%24%28%60%3Cdiv%20id%3D%22html_23e40d743e9e44d899eaa34b42c51c74%22%20style%3D%22width%3A%20100.0%25%3B%20height%3A%20100.0%25%3B%22%3EGroup%3AIslamic%20State%20of%20Iraq%20and%20the%20Levant%20%28ISIL%29%3Cbr%3ECountry%3AMalaysia%3C/div%3E%60%29%5B0%5D%3B%0A%20%20%20%20%20%20%20%20%20%20%20%20%20%20%20%20popup_775788abe93d42d88c6d123f9c5b0e94.setContent%28html_23e40d743e9e44d899eaa34b42c51c74%29%3B%0A%20%20%20%20%20%20%20%20%20%20%20%20%0A%0A%20%20%20%20%20%20%20%20%20%20%20%20marker_c5172622332d421abee4d01bfc04ac3c.bindPopup%28popup_775788abe93d42d88c6d123f9c5b0e94%29%0A%20%20%20%20%20%20%20%20%20%20%20%20%3B%0A%0A%20%20%20%20%20%20%20%20%20%20%20%20%0A%20%20%20%20%20%20%20%20%0A%20%20%20%20%0A%20%20%20%20%20%20%20%20var%20marker_f83512ab59cc4290ab08d62d51a3e726%20%3D%20L.marker%28%0A%20%20%20%20%20%20%20%20%20%20%20%20%5B-7.556169000000001%2C%20110.82305900000001%5D%2C%0A%20%20%20%20%20%20%20%20%20%20%20%20%7B%0A%20%20%20%20%20%20%20%20%20%20%20%20%20%20%20%20icon%3A%20new%20L.Icon.Default%28%29%2C%0A%20%20%20%20%20%20%20%20%20%20%20%20%20%20%20%20%7D%0A%20%20%20%20%20%20%20%20%20%20%20%20%29.addTo%28map_d522c8c3fe6c4ab6b59b088ed0cd4ba4%29%3B%0A%20%20%20%20%20%20%20%20%0A%20%20%20%20%0A%20%20%20%20%20%20%20%20%20%20%20%20var%20popup_5cdc856c90c6458b807562fd03392e6a%20%3D%20L.popup%28%7BmaxWidth%3A%20%27100%25%27%0A%20%20%20%20%20%20%20%20%20%20%20%20%0A%20%20%20%20%20%20%20%20%20%20%20%20%7D%29%3B%0A%0A%20%20%20%20%20%20%20%20%20%20%20%20%0A%20%20%20%20%20%20%20%20%20%20%20%20%20%20%20%20var%20html_b707568f6bbc46568e78cd3a25eea5f1%20%3D%20%24%28%60%3Cdiv%20id%3D%22html_b707568f6bbc46568e78cd3a25eea5f1%22%20style%3D%22width%3A%20100.0%25%3B%20height%3A%20100.0%25%3B%22%3EGroup%3AIslamic%20State%20of%20Iraq%20and%20the%20Levant%20%28ISIL%29%3Cbr%3ECountry%3AIndonesia%3C/div%3E%60%29%5B0%5D%3B%0A%20%20%20%20%20%20%20%20%20%20%20%20%20%20%20%20popup_5cdc856c90c6458b807562fd03392e6a.setContent%28html_b707568f6bbc46568e78cd3a25eea5f1%29%3B%0A%20%20%20%20%20%20%20%20%20%20%20%20%0A%0A%20%20%20%20%20%20%20%20%20%20%20%20marker_f83512ab59cc4290ab08d62d51a3e726.bindPopup%28popup_5cdc856c90c6458b807562fd03392e6a%29%0A%20%20%20%20%20%20%20%20%20%20%20%20%3B%0A%0A%20%20%20%20%20%20%20%20%20%20%20%20%0A%20%20%20%20%20%20%20%20%0A%20%20%20%20%0A%20%20%20%20%20%20%20%20var%20marker_a575ee5777864756895db9aed1065845%20%3D%20L.marker%28%0A%20%20%20%20%20%20%20%20%20%20%20%20%5B55.798251%2C%2037.968052%5D%2C%0A%20%20%20%20%20%20%20%20%20%20%20%20%7B%0A%20%20%20%20%20%20%20%20%20%20%20%20%20%20%20%20icon%3A%20new%20L.Icon.Default%28%29%2C%0A%20%20%20%20%20%20%20%20%20%20%20%20%20%20%20%20%7D%0A%20%20%20%20%20%20%20%20%20%20%20%20%29.addTo%28map_d522c8c3fe6c4ab6b59b088ed0cd4ba4%29%3B%0A%20%20%20%20%20%20%20%20%0A%20%20%20%20%0A%20%20%20%20%20%20%20%20%20%20%20%20var%20popup_ef08e667132a4021b9175cd840d5bfed%20%3D%20L.popup%28%7BmaxWidth%3A%20%27100%25%27%0A%20%20%20%20%20%20%20%20%20%20%20%20%0A%20%20%20%20%20%20%20%20%20%20%20%20%7D%29%3B%0A%0A%20%20%20%20%20%20%20%20%20%20%20%20%0A%20%20%20%20%20%20%20%20%20%20%20%20%20%20%20%20var%20html_62d90d8ae9fc419b9dea9932b4de0e44%20%3D%20%24%28%60%3Cdiv%20id%3D%22html_62d90d8ae9fc419b9dea9932b4de0e44%22%20style%3D%22width%3A%20100.0%25%3B%20height%3A%20100.0%25%3B%22%3EGroup%3AIslamic%20State%20of%20Iraq%20and%20the%20Levant%20%28ISIL%29%3Cbr%3ECountry%3ARussia%3C/div%3E%60%29%5B0%5D%3B%0A%20%20%20%20%20%20%20%20%20%20%20%20%20%20%20%20popup_ef08e667132a4021b9175cd840d5bfed.setContent%28html_62d90d8ae9fc419b9dea9932b4de0e44%29%3B%0A%20%20%20%20%20%20%20%20%20%20%20%20%0A%0A%20%20%20%20%20%20%20%20%20%20%20%20marker_a575ee5777864756895db9aed1065845.bindPopup%28popup_ef08e667132a4021b9175cd840d5bfed%29%0A%20%20%20%20%20%20%20%20%20%20%20%20%3B%0A%0A%20%20%20%20%20%20%20%20%20%20%20%20%0A%20%20%20%20%20%20%20%20%0A%20%20%20%20%0A%20%20%20%20%20%20%20%20var%20marker_f79d464e6a604871b9b42ece6441c5cf%20%3D%20L.marker%28%0A%20%20%20%20%20%20%20%20%20%20%20%20%5B43.001525%2C%2041.023415%5D%2C%0A%20%20%20%20%20%20%20%20%20%20%20%20%7B%0A%20%20%20%20%20%20%20%20%20%20%20%20%20%20%20%20icon%3A%20new%20L.Icon.Default%28%29%2C%0A%20%20%20%20%20%20%20%20%20%20%20%20%20%20%20%20%7D%0A%20%20%20%20%20%20%20%20%20%20%20%20%29.addTo%28map_d522c8c3fe6c4ab6b59b088ed0cd4ba4%29%3B%0A%20%20%20%20%20%20%20%20%0A%20%20%20%20%0A%20%20%20%20%20%20%20%20%20%20%20%20var%20popup_c8a53445731a400e8b9116d765e198fe%20%3D%20L.popup%28%7BmaxWidth%3A%20%27100%25%27%0A%20%20%20%20%20%20%20%20%20%20%20%20%0A%20%20%20%20%20%20%20%20%20%20%20%20%7D%29%3B%0A%0A%20%20%20%20%20%20%20%20%20%20%20%20%0A%20%20%20%20%20%20%20%20%20%20%20%20%20%20%20%20var%20html_fc492fa723f047ac8333fbe38da4dd26%20%3D%20%24%28%60%3Cdiv%20id%3D%22html_fc492fa723f047ac8333fbe38da4dd26%22%20style%3D%22width%3A%20100.0%25%3B%20height%3A%20100.0%25%3B%22%3EGroup%3AIslamic%20State%20of%20Iraq%20and%20the%20Levant%20%28ISIL%29%3Cbr%3ECountry%3AGeorgia%3C/div%3E%60%29%5B0%5D%3B%0A%20%20%20%20%20%20%20%20%20%20%20%20%20%20%20%20popup_c8a53445731a400e8b9116d765e198fe.setContent%28html_fc492fa723f047ac8333fbe38da4dd26%29%3B%0A%20%20%20%20%20%20%20%20%20%20%20%20%0A%0A%20%20%20%20%20%20%20%20%20%20%20%20marker_f79d464e6a604871b9b42ece6441c5cf.bindPopup%28popup_c8a53445731a400e8b9116d765e198fe%29%0A%20%20%20%20%20%20%20%20%20%20%20%20%3B%0A%0A%20%20%20%20%20%20%20%20%20%20%20%20%0A%20%20%20%20%20%20%20%20%0A%20%20%20%20%0A%20%20%20%20%20%20%20%20var%20marker_cf43fb9098ab45bf982fd31f41fc379e%20%3D%20L.marker%28%0A%20%20%20%20%20%20%20%20%20%20%20%20%5B53.488228%2C%20-2.244026%5D%2C%0A%20%20%20%20%20%20%20%20%20%20%20%20%7B%0A%20%20%20%20%20%20%20%20%20%20%20%20%20%20%20%20icon%3A%20new%20L.Icon.Default%28%29%2C%0A%20%20%20%20%20%20%20%20%20%20%20%20%20%20%20%20%7D%0A%20%20%20%20%20%20%20%20%20%20%20%20%29.addTo%28map_d522c8c3fe6c4ab6b59b088ed0cd4ba4%29%3B%0A%20%20%20%20%20%20%20%20%0A%20%20%20%20%0A%20%20%20%20%20%20%20%20%20%20%20%20var%20popup_eef8144444314eb3920c5421d44eb054%20%3D%20L.popup%28%7BmaxWidth%3A%20%27100%25%27%0A%20%20%20%20%20%20%20%20%20%20%20%20%0A%20%20%20%20%20%20%20%20%20%20%20%20%7D%29%3B%0A%0A%20%20%20%20%20%20%20%20%20%20%20%20%0A%20%20%20%20%20%20%20%20%20%20%20%20%20%20%20%20var%20html_1244c5041c114132a324532167224067%20%3D%20%24%28%60%3Cdiv%20id%3D%22html_1244c5041c114132a324532167224067%22%20style%3D%22width%3A%20100.0%25%3B%20height%3A%20100.0%25%3B%22%3EGroup%3AIslamic%20State%20of%20Iraq%20and%20the%20Levant%20%28ISIL%29%3Cbr%3ECountry%3AUnited%20Kingdom%3C/div%3E%60%29%5B0%5D%3B%0A%20%20%20%20%20%20%20%20%20%20%20%20%20%20%20%20popup_eef8144444314eb3920c5421d44eb054.setContent%28html_1244c5041c114132a324532167224067%29%3B%0A%20%20%20%20%20%20%20%20%20%20%20%20%0A%0A%20%20%20%20%20%20%20%20%20%20%20%20marker_cf43fb9098ab45bf982fd31f41fc379e.bindPopup%28popup_eef8144444314eb3920c5421d44eb054%29%0A%20%20%20%20%20%20%20%20%20%20%20%20%3B%0A%0A%20%20%20%20%20%20%20%20%20%20%20%20%0A%20%20%20%20%20%20%20%20%0A%20%20%20%20%0A%20%20%20%20%20%20%20%20var%20marker_c3021911e58b442eb20200ee1458f6a6%20%3D%20L.marker%28%0A%20%20%20%20%20%20%20%20%20%20%20%20%5B35.724533%2C%2051.405190000000005%5D%2C%0A%20%20%20%20%20%20%20%20%20%20%20%20%7B%0A%20%20%20%20%20%20%20%20%20%20%20%20%20%20%20%20icon%3A%20new%20L.Icon.Default%28%29%2C%0A%20%20%20%20%20%20%20%20%20%20%20%20%20%20%20%20%7D%0A%20%20%20%20%20%20%20%20%20%20%20%20%29.addTo%28map_d522c8c3fe6c4ab6b59b088ed0cd4ba4%29%3B%0A%20%20%20%20%20%20%20%20%0A%20%20%20%20%0A%20%20%20%20%20%20%20%20%20%20%20%20var%20popup_f22e51cb484d44edbff14765852f6d68%20%3D%20L.popup%28%7BmaxWidth%3A%20%27100%25%27%0A%20%20%20%20%20%20%20%20%20%20%20%20%0A%20%20%20%20%20%20%20%20%20%20%20%20%7D%29%3B%0A%0A%20%20%20%20%20%20%20%20%20%20%20%20%0A%20%20%20%20%20%20%20%20%20%20%20%20%20%20%20%20var%20html_bd1e4df876e34f27bac84154dfbde81f%20%3D%20%24%28%60%3Cdiv%20id%3D%22html_bd1e4df876e34f27bac84154dfbde81f%22%20style%3D%22width%3A%20100.0%25%3B%20height%3A%20100.0%25%3B%22%3EGroup%3AIslamic%20State%20of%20Iraq%20and%20the%20Levant%20%28ISIL%29%3Cbr%3ECountry%3AIran%3C/div%3E%60%29%5B0%5D%3B%0A%20%20%20%20%20%20%20%20%20%20%20%20%20%20%20%20popup_f22e51cb484d44edbff14765852f6d68.setContent%28html_bd1e4df876e34f27bac84154dfbde81f%29%3B%0A%20%20%20%20%20%20%20%20%20%20%20%20%0A%0A%20%20%20%20%20%20%20%20%20%20%20%20marker_c3021911e58b442eb20200ee1458f6a6.bindPopup%28popup_f22e51cb484d44edbff14765852f6d68%29%0A%20%20%20%20%20%20%20%20%20%20%20%20%3B%0A%0A%20%20%20%20%20%20%20%20%20%20%20%20%0A%20%20%20%20%20%20%20%20%0A%20%20%20%20%0A%20%20%20%20%20%20%20%20var%20marker_b4b3d94c41634b889045ef5ba9ee7454%20%3D%20L.marker%28%0A%20%20%20%20%20%20%20%20%20%20%20%20%5B-33.934490999999994%2C%20151.179691%5D%2C%0A%20%20%20%20%20%20%20%20%20%20%20%20%7B%0A%20%20%20%20%20%20%20%20%20%20%20%20%20%20%20%20icon%3A%20new%20L.Icon.Default%28%29%2C%0A%20%20%20%20%20%20%20%20%20%20%20%20%20%20%20%20%7D%0A%20%20%20%20%20%20%20%20%20%20%20%20%29.addTo%28map_d522c8c3fe6c4ab6b59b088ed0cd4ba4%29%3B%0A%20%20%20%20%20%20%20%20%0A%20%20%20%20%0A%20%20%20%20%20%20%20%20%20%20%20%20var%20popup_28827ae56c8a4148a1fbd41c3f712680%20%3D%20L.popup%28%7BmaxWidth%3A%20%27100%25%27%0A%20%20%20%20%20%20%20%20%20%20%20%20%0A%20%20%20%20%20%20%20%20%20%20%20%20%7D%29%3B%0A%0A%20%20%20%20%20%20%20%20%20%20%20%20%0A%20%20%20%20%20%20%20%20%20%20%20%20%20%20%20%20var%20html_ecfa2c2b548645ec9743e8f3a2179297%20%3D%20%24%28%60%3Cdiv%20id%3D%22html_ecfa2c2b548645ec9743e8f3a2179297%22%20style%3D%22width%3A%20100.0%25%3B%20height%3A%20100.0%25%3B%22%3EGroup%3AIslamic%20State%20of%20Iraq%20and%20the%20Levant%20%28ISIL%29%3Cbr%3ECountry%3AAustralia%3C/div%3E%60%29%5B0%5D%3B%0A%20%20%20%20%20%20%20%20%20%20%20%20%20%20%20%20popup_28827ae56c8a4148a1fbd41c3f712680.setContent%28html_ecfa2c2b548645ec9743e8f3a2179297%29%3B%0A%20%20%20%20%20%20%20%20%20%20%20%20%0A%0A%20%20%20%20%20%20%20%20%20%20%20%20marker_b4b3d94c41634b889045ef5ba9ee7454.bindPopup%28popup_28827ae56c8a4148a1fbd41c3f712680%29%0A%20%20%20%20%20%20%20%20%20%20%20%20%3B%0A%0A%20%20%20%20%20%20%20%20%20%20%20%20%0A%20%20%20%20%20%20%20%20%0A%3C/script%3E onload=\"this.contentDocument.open();this.contentDocument.write(    decodeURIComponent(this.getAttribute('data-html')));this.contentDocument.close();\" allowfullscreen webkitallowfullscreen mozallowfullscreen></iframe></div></div>"
            ],
            "text/plain": [
              "<folium.folium.Map at 0x7f4f296e7ad0>"
            ]
          },
          "metadata": {},
          "execution_count": 40
        }
      ]
    },
    {
      "cell_type": "code",
      "metadata": {
        "id": "4ZCz2L8WYou9"
      },
      "source": [
        ""
      ],
      "execution_count": null,
      "outputs": []
    }
  ]
}